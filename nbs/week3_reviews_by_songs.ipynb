{
 "cells": [
  {
   "cell_type": "markdown",
   "metadata": {},
   "source": [
    "# music reviews conditioned on songs"
   ]
  },
  {
   "cell_type": "code",
   "execution_count": 1,
   "metadata": {},
   "outputs": [
    {
     "name": "stdout",
     "output_type": "stream",
     "text": [
      "cuda.is_available: True\n",
      "available: 1; current: 0\n",
      "cuda:0\n",
      "pytorch 0.4.0\n"
     ]
    }
   ],
   "source": [
    "import torch\n",
    "import torch.nn as nn\n",
    "import torch.nn.functional as F\n",
    "import torch.optim as optim\n",
    "\n",
    "print('cuda.is_available:', torch.cuda.is_available())\n",
    "print(f'available: {torch.cuda.device_count()}; current: {torch.cuda.current_device()}')\n",
    "DEVICE = torch.device(f'cuda:{torch.cuda.current_device()}' if torch.cuda.is_available() else 'cpu')\n",
    "print(DEVICE)\n",
    "print('pytorch', torch.__version__)"
   ]
  },
  {
   "cell_type": "code",
   "execution_count": 2,
   "metadata": {},
   "outputs": [],
   "source": [
    "import pdb\n",
    "from IPython.core.debugger import set_trace"
   ]
  },
  {
   "cell_type": "markdown",
   "metadata": {},
   "source": [
    "## Data"
   ]
  },
  {
   "cell_type": "code",
   "execution_count": 3,
   "metadata": {
    "scrolled": false
   },
   "outputs": [
    {
     "data": {
      "text/plain": [
       "53013"
      ]
     },
     "execution_count": 3,
     "metadata": {},
     "output_type": "execute_result"
    }
   ],
   "source": [
    "import dill as pickle\n",
    "import numpy as np\n",
    "import os\n",
    "import pandas as pd\n",
    "from sklearn.model_selection import train_test_split\n",
    "import spacy\n",
    "\n",
    "BASE_DIR = os.getcwd()\n",
    "DATA_DIR = os.path.join(BASE_DIR, '..', 'datasets')\n",
    "\n",
    "DATA_F = os.path.join(DATA_DIR, f'reviews_and_metadata_5yrs.json')\n",
    "DATA_DF = pd.read_json(DATA_F)\n",
    "len(DATA_DF)"
   ]
  },
  {
   "cell_type": "code",
   "execution_count": 4,
   "metadata": {},
   "outputs": [],
   "source": [
    "#DATA_DF.content[0]"
   ]
  },
  {
   "cell_type": "code",
   "execution_count": 5,
   "metadata": {},
   "outputs": [],
   "source": [
    "# remove all double-quotation marks\n",
    "#DATA_DF.content = DATA_DF.content.apply(lambda x: x.replace('\"', ''))\n",
    "#DATA_DF.content[0]"
   ]
  },
  {
   "cell_type": "code",
   "execution_count": 6,
   "metadata": {},
   "outputs": [],
   "source": [
    "DATA_DF = DATA_DF.assign(genres_str=lambda x: None)\n",
    "DATA_DF.genres_str = DATA_DF.genres.apply(lambda x: '/'.join(x) if x is not None else 'none')"
   ]
  },
  {
   "cell_type": "code",
   "execution_count": 7,
   "metadata": {},
   "outputs": [],
   "source": [
    "# filter out music with genre None or `non-music`\n",
    "DATA_DF = DATA_DF.loc[(~DATA_DF.genres.isna()) & (~DATA_DF.genres_str.str.contains('non-music'))]"
   ]
  },
  {
   "cell_type": "code",
   "execution_count": 8,
   "metadata": {
    "scrolled": false
   },
   "outputs": [
    {
     "data": {
      "text/html": [
       "<div>\n",
       "<style scoped>\n",
       "    .dataframe tbody tr th:only-of-type {\n",
       "        vertical-align: middle;\n",
       "    }\n",
       "\n",
       "    .dataframe tbody tr th {\n",
       "        vertical-align: top;\n",
       "    }\n",
       "\n",
       "    .dataframe thead th {\n",
       "        text-align: right;\n",
       "    }\n",
       "</style>\n",
       "<table border=\"1\" class=\"dataframe\">\n",
       "  <thead>\n",
       "    <tr style=\"text-align: right;\">\n",
       "      <th></th>\n",
       "      <th>artist</th>\n",
       "      <th>audio_features</th>\n",
       "      <th>author</th>\n",
       "      <th>content</th>\n",
       "      <th>date_published</th>\n",
       "      <th>dek</th>\n",
       "      <th>desc</th>\n",
       "      <th>direction</th>\n",
       "      <th>domain</th>\n",
       "      <th>error</th>\n",
       "      <th>...</th>\n",
       "      <th>pages_rendered</th>\n",
       "      <th>post_title</th>\n",
       "      <th>posturl</th>\n",
       "      <th>rendered_pages</th>\n",
       "      <th>sitename</th>\n",
       "      <th>song_title</th>\n",
       "      <th>spotify_id</th>\n",
       "      <th>total_pages</th>\n",
       "      <th>word_count</th>\n",
       "      <th>genres_str</th>\n",
       "    </tr>\n",
       "  </thead>\n",
       "  <tbody>\n",
       "    <tr>\n",
       "      <th>16491</th>\n",
       "      <td>HANA</td>\n",
       "      <td>{'danceability': 0.544, 'energy': 0.458, 'key'...</td>\n",
       "      <td>Breaking More Waves Blog</td>\n",
       "      <td>We've fallen totally in love with Clay by new ...</td>\n",
       "      <td>2018-06-20T08:30:00.000Z</td>\n",
       "      <td>NaN</td>\n",
       "      <td>\\n\\n“Clay \"is Hana Pestle’s debut song under t...</td>\n",
       "      <td>ltr</td>\n",
       "      <td>breakingmorewaves.blogspot.com</td>\n",
       "      <td>NaN</td>\n",
       "      <td>...</td>\n",
       "      <td>NaN</td>\n",
       "      <td>Hana - New Waves</td>\n",
       "      <td>http://breakingmorewaves.blogspot.com/2015/05/...</td>\n",
       "      <td>1.0</td>\n",
       "      <td>Breaking More Waves</td>\n",
       "      <td>Clay</td>\n",
       "      <td>3vmu0mRcxLhV1xkl13CflM</td>\n",
       "      <td>1</td>\n",
       "      <td>311</td>\n",
       "      <td>rock/pop</td>\n",
       "    </tr>\n",
       "    <tr>\n",
       "      <th>47054</th>\n",
       "      <td>Young Rising Sons</td>\n",
       "      <td>{'danceability': 0.644, 'energy': 0.85, 'key':...</td>\n",
       "      <td>David</td>\n",
       "      <td>Say hello to the next big song that's going to...</td>\n",
       "      <td>2017-03-27T04:24:19.000Z</td>\n",
       "      <td>NaN</td>\n",
       "      <td>\\n\\n?\\n\\n</td>\n",
       "      <td>ltr</td>\n",
       "      <td>poponandon.com</td>\n",
       "      <td>NaN</td>\n",
       "      <td>...</td>\n",
       "      <td>NaN</td>\n",
       "      <td>Discover: Young Rising Sons – High</td>\n",
       "      <td>http://poponandon.com/discover-young-rising-so...</td>\n",
       "      <td>1.0</td>\n",
       "      <td>POP ON AND ON</td>\n",
       "      <td>High</td>\n",
       "      <td>4gTwPFGhIIlYtlo59jbVUB</td>\n",
       "      <td>1</td>\n",
       "      <td>97</td>\n",
       "      <td>rock/pop</td>\n",
       "    </tr>\n",
       "    <tr>\n",
       "      <th>20390</th>\n",
       "      <td>Usher</td>\n",
       "      <td>{'danceability': 0.833, 'energy': 0.721, 'key'...</td>\n",
       "      <td>None</td>\n",
       "      <td>Organization: Internet Archive\\nFocused crawls...</td>\n",
       "      <td>None</td>\n",
       "      <td>NaN</td>\n",
       "      <td>\\n\\n?\\n\\n</td>\n",
       "      <td>ltr</td>\n",
       "      <td>web.archive.org</td>\n",
       "      <td>NaN</td>\n",
       "      <td>...</td>\n",
       "      <td>NaN</td>\n",
       "      <td>Usher - Good Kisser (Disclosure Remix)</td>\n",
       "      <td>http://brownnoiseblog.com/post/90708089005/ush...</td>\n",
       "      <td>1.0</td>\n",
       "      <td>The Brown Noise</td>\n",
       "      <td>Good Kisser (Disclosure Remix)</td>\n",
       "      <td>2k3y6ZDlzUePGnA281Vyfj</td>\n",
       "      <td>1</td>\n",
       "      <td>31</td>\n",
       "      <td>pop</td>\n",
       "    </tr>\n",
       "    <tr>\n",
       "      <th>13967</th>\n",
       "      <td>Cigarettes After Sex</td>\n",
       "      <td>{'danceability': 0.41500000000000004, 'energy'...</td>\n",
       "      <td>None</td>\n",
       "      <td>Founded in El Paso, TX, around 2008, and featu...</td>\n",
       "      <td>None</td>\n",
       "      <td>NaN</td>\n",
       "      <td>\\n\\n1st song off their latest EP, _Affection_....</td>\n",
       "      <td>ltr</td>\n",
       "      <td>nyc.thedelimagazine.com</td>\n",
       "      <td>NaN</td>\n",
       "      <td>...</td>\n",
       "      <td>NaN</td>\n",
       "      <td>Cigarettes After Sex moves to Brooklyn, releas...</td>\n",
       "      <td>http://nyc.thedelimagazine.com/23625/cigarette...</td>\n",
       "      <td>1.0</td>\n",
       "      <td>The Deli Magazine</td>\n",
       "      <td>Affection</td>\n",
       "      <td>4eVNSHRazoHgfYGv3AYFyZ</td>\n",
       "      <td>1</td>\n",
       "      <td>223</td>\n",
       "      <td>rock/pop</td>\n",
       "    </tr>\n",
       "    <tr>\n",
       "      <th>20424</th>\n",
       "      <td>BANKS</td>\n",
       "      <td>{'danceability': 0.519, 'energy': 0.592, 'key'...</td>\n",
       "      <td>None</td>\n",
       "      <td>This domain has expired. If you owned this dom...</td>\n",
       "      <td>None</td>\n",
       "      <td>NaN</td>\n",
       "      <td>\\n\\n?\\n\\n</td>\n",
       "      <td>ltr</td>\n",
       "      <td>www.seapunkgang.com</td>\n",
       "      <td>NaN</td>\n",
       "      <td>...</td>\n",
       "      <td>NaN</td>\n",
       "      <td>seapunkgang.com - seapunkgang Resources and In...</td>\n",
       "      <td>http://www.seapunkgang.com/post/88370803198/co...</td>\n",
       "      <td>1.0</td>\n",
       "      <td>WEIRD by SEAPUNKGANG</td>\n",
       "      <td>Drowning (Lido Remix)</td>\n",
       "      <td>2I6yX8rOgH12DfuZI9VSVL</td>\n",
       "      <td>1</td>\n",
       "      <td>27</td>\n",
       "      <td>rap</td>\n",
       "    </tr>\n",
       "  </tbody>\n",
       "</table>\n",
       "<p>5 rows × 30 columns</p>\n",
       "</div>"
      ],
      "text/plain": [
       "                     artist  \\\n",
       "16491                  HANA   \n",
       "47054     Young Rising Sons   \n",
       "20390                 Usher   \n",
       "13967  Cigarettes After Sex   \n",
       "20424                 BANKS   \n",
       "\n",
       "                                          audio_features  \\\n",
       "16491  {'danceability': 0.544, 'energy': 0.458, 'key'...   \n",
       "47054  {'danceability': 0.644, 'energy': 0.85, 'key':...   \n",
       "20390  {'danceability': 0.833, 'energy': 0.721, 'key'...   \n",
       "13967  {'danceability': 0.41500000000000004, 'energy'...   \n",
       "20424  {'danceability': 0.519, 'energy': 0.592, 'key'...   \n",
       "\n",
       "                         author  \\\n",
       "16491  Breaking More Waves Blog   \n",
       "47054                     David   \n",
       "20390                      None   \n",
       "13967                      None   \n",
       "20424                      None   \n",
       "\n",
       "                                                 content  \\\n",
       "16491  We've fallen totally in love with Clay by new ...   \n",
       "47054  Say hello to the next big song that's going to...   \n",
       "20390  Organization: Internet Archive\\nFocused crawls...   \n",
       "13967  Founded in El Paso, TX, around 2008, and featu...   \n",
       "20424  This domain has expired. If you owned this dom...   \n",
       "\n",
       "                 date_published  dek  \\\n",
       "16491  2018-06-20T08:30:00.000Z  NaN   \n",
       "47054  2017-03-27T04:24:19.000Z  NaN   \n",
       "20390                      None  NaN   \n",
       "13967                      None  NaN   \n",
       "20424                      None  NaN   \n",
       "\n",
       "                                                    desc direction  \\\n",
       "16491  \\n\\n“Clay \"is Hana Pestle’s debut song under t...       ltr   \n",
       "47054                                          \\n\\n?\\n\\n       ltr   \n",
       "20390                                          \\n\\n?\\n\\n       ltr   \n",
       "13967  \\n\\n1st song off their latest EP, _Affection_....       ltr   \n",
       "20424                                          \\n\\n?\\n\\n       ltr   \n",
       "\n",
       "                               domain  error    ...     pages_rendered  \\\n",
       "16491  breakingmorewaves.blogspot.com    NaN    ...                NaN   \n",
       "47054                  poponandon.com    NaN    ...                NaN   \n",
       "20390                 web.archive.org    NaN    ...                NaN   \n",
       "13967         nyc.thedelimagazine.com    NaN    ...                NaN   \n",
       "20424             www.seapunkgang.com    NaN    ...                NaN   \n",
       "\n",
       "                                              post_title  \\\n",
       "16491                                   Hana - New Waves   \n",
       "47054                 Discover: Young Rising Sons – High   \n",
       "20390             Usher - Good Kisser (Disclosure Remix)   \n",
       "13967  Cigarettes After Sex moves to Brooklyn, releas...   \n",
       "20424  seapunkgang.com - seapunkgang Resources and In...   \n",
       "\n",
       "                                                 posturl  rendered_pages  \\\n",
       "16491  http://breakingmorewaves.blogspot.com/2015/05/...             1.0   \n",
       "47054  http://poponandon.com/discover-young-rising-so...             1.0   \n",
       "20390  http://brownnoiseblog.com/post/90708089005/ush...             1.0   \n",
       "13967  http://nyc.thedelimagazine.com/23625/cigarette...             1.0   \n",
       "20424  http://www.seapunkgang.com/post/88370803198/co...             1.0   \n",
       "\n",
       "                   sitename                      song_title  \\\n",
       "16491   Breaking More Waves                            Clay   \n",
       "47054         POP ON AND ON                            High   \n",
       "20390       The Brown Noise  Good Kisser (Disclosure Remix)   \n",
       "13967     The Deli Magazine                       Affection   \n",
       "20424  WEIRD by SEAPUNKGANG           Drowning (Lido Remix)   \n",
       "\n",
       "                   spotify_id total_pages  word_count genres_str  \n",
       "16491  3vmu0mRcxLhV1xkl13CflM           1         311   rock/pop  \n",
       "47054  4gTwPFGhIIlYtlo59jbVUB           1          97   rock/pop  \n",
       "20390  2k3y6ZDlzUePGnA281Vyfj           1          31        pop  \n",
       "13967  4eVNSHRazoHgfYGv3AYFyZ           1         223   rock/pop  \n",
       "20424  2I6yX8rOgH12DfuZI9VSVL           1          27        rap  \n",
       "\n",
       "[5 rows x 30 columns]"
      ]
     },
     "execution_count": 8,
     "metadata": {},
     "output_type": "execute_result"
    }
   ],
   "source": [
    "SAMPLE_DF = DATA_DF.sample(5000)\n",
    "TRAIN_DF, VAL_DF = train_test_split(SAMPLE_DF, test_size=0.2, random_state=42)\n",
    "SAMPLE_DF.head()\n",
    "\n",
    "#TRAIN_DF, VAL_DF = train_test_split(DATA_DF, test_size=0.2, random_state=42)"
   ]
  },
  {
   "cell_type": "code",
   "execution_count": 9,
   "metadata": {},
   "outputs": [
    {
     "data": {
      "text/plain": [
       "genres_str\n",
       "pop                         2924\n",
       "rock                         705\n",
       "rap                          677\n",
       "r-b                          284\n",
       "rock/pop                     133\n",
       "r-b/pop                      116\n",
       "rap/r-b                       54\n",
       "rap/pop                       43\n",
       "rap/rock/country/r-b/pop      26\n",
       "rap/r-b/pop                   13\n",
       "rock/r-b                       9\n",
       "country                        7\n",
       "rap/rock                       3\n",
       "country/r-b/pop                2\n",
       "rock/r-b/pop                   2\n",
       "rap/rock/country/pop           1\n",
       "rap/rock/pop                   1\n",
       "dtype: int64"
      ]
     },
     "execution_count": 9,
     "metadata": {},
     "output_type": "execute_result"
    }
   ],
   "source": [
    "SAMPLE_DF.groupby('genres_str').size().sort_values(ascending=False) # TODO: DATA_DF\n",
    "#DATA_DF.groupby('genres_str').size().sort_values(ascending=False)"
   ]
  },
  {
   "cell_type": "markdown",
   "metadata": {},
   "source": [
    "**TODO**: `non-music` genre means what in this context?\n",
    "\n",
    "**NOTE**: `pop` dominates genres"
   ]
  },
  {
   "cell_type": "markdown",
   "metadata": {},
   "source": [
    "## LM data"
   ]
  },
  {
   "cell_type": "code",
   "execution_count": 10,
   "metadata": {},
   "outputs": [],
   "source": [
    "#!python -m spacy download en\n",
    "spacy_tok = spacy.load('en')"
   ]
  },
  {
   "cell_type": "code",
   "execution_count": 11,
   "metadata": {},
   "outputs": [],
   "source": [
    "BPTT = 70           # like the 'n' in n-gram, or order\n",
    "BS = 64             # batch size\n",
    "N_EMB = 300         # size of embedding vector\n",
    "N_HIDDEN = 1024     # size of hidden activations per layer\n",
    "N_LAYERS = 2        # number of stacked RNNs"
   ]
  },
  {
   "cell_type": "code",
   "execution_count": 12,
   "metadata": {},
   "outputs": [
    {
     "data": {
      "text/plain": [
       "(156, 11793, 1, 703875)"
      ]
     },
     "execution_count": 12,
     "metadata": {},
     "output_type": "execute_result"
    }
   ],
   "source": [
    "from torchtext import vocab, data\n",
    "\n",
    "from fastai.nlp import *\n",
    "from fastai.lm_rnn import *\n",
    "\n",
    "TEXT = data.Field(lower=True, tokenize='spacy')\n",
    "\n",
    "md = LanguageModelData.from_dataframes('.', TEXT, 'content', TRAIN_DF, VAL_DF, bs=BS, bptt=BPTT, min_freq=3)\n",
    "\n",
    "len(md.trn_dl), md.nt, len(md.trn_ds), len(md.trn_ds[0].text)"
   ]
  },
  {
   "cell_type": "code",
   "execution_count": 13,
   "metadata": {},
   "outputs": [
    {
     "data": {
      "text/plain": [
       "(4000, 1000)"
      ]
     },
     "execution_count": 13,
     "metadata": {},
     "output_type": "execute_result"
    }
   ],
   "source": [
    "len(TRAIN_DF), len(VAL_DF)"
   ]
  },
  {
   "cell_type": "markdown",
   "metadata": {},
   "source": [
    "_Note_: we're using the `dill` library instead of Python's standard `pickle` library"
   ]
  },
  {
   "cell_type": "code",
   "execution_count": 14,
   "metadata": {},
   "outputs": [],
   "source": [
    "#MODEL_DIR = os.path.join(DATA_DIR, 'models')\n",
    "#if not os.path.exists(MODEL_DIR):\n",
    "#    os.mkdir(MODEL_DIR)\n",
    "    \n",
    "#pickle.dump(TEXT, open(os.path.join(MODEL_DIR, 'TEXT.pkl'), 'wb'))"
   ]
  },
  {
   "cell_type": "code",
   "execution_count": 15,
   "metadata": {},
   "outputs": [
    {
     "data": {
      "text/plain": [
       "['<unk>', '<pad>', '\\n', ',', '.', 'the', 'and', '\"', 'a', 'of', 'to', '-']"
      ]
     },
     "execution_count": 15,
     "metadata": {},
     "output_type": "execute_result"
    }
   ],
   "source": [
    "TEXT.vocab.itos[:12]"
   ]
  },
  {
   "cell_type": "code",
   "execution_count": 16,
   "metadata": {},
   "outputs": [
    {
     "data": {
      "text/plain": [
       "6"
      ]
     },
     "execution_count": 16,
     "metadata": {},
     "output_type": "execute_result"
    }
   ],
   "source": [
    "TEXT.vocab.stoi['and']"
   ]
  },
  {
   "cell_type": "code",
   "execution_count": 17,
   "metadata": {},
   "outputs": [
    {
     "name": "stdout",
     "output_type": "stream",
     "text": [
      "['the', 'address', 'cool-breezy.wordpress.com', 'can', 'not', 'be', 'registered', '.', 'site', 'names', 'can', '\\n']\n",
      "tensor([[    5],\n",
      "        [ 5818],\n",
      "        [    0],\n",
      "        [   71],\n",
      "        [   74],\n",
      "        [   38],\n",
      "        [ 7872],\n",
      "        [    4],\n",
      "        [  859],\n",
      "        [ 1463],\n",
      "        [   71],\n",
      "        [    2]], device='cuda:0')\n"
     ]
    }
   ],
   "source": [
    "print(md.trn_ds[0].text[:12])\n",
    "print(TEXT.numericalize([md.trn_ds[0].text[:12]]))"
   ]
  },
  {
   "cell_type": "code",
   "execution_count": 18,
   "metadata": {},
   "outputs": [
    {
     "data": {
      "text/plain": [
       "tensor([[     5,    994,     61,  ...,    441,   2406,   3792],\n",
       "        [  5818,      2,    100,  ...,     19,   1947,      3],\n",
       "        [     0,    763,      2,  ...,      5,     29,     59],\n",
       "        ...,\n",
       "        [   888,     36,      3,  ...,    164,    176,     28],\n",
       "        [   112,      2,   1299,  ...,     37,      8,    459],\n",
       "        [   295,    100,      3,  ...,     24,   1882,    126]], device='cuda:0')"
      ]
     },
     "execution_count": 18,
     "metadata": {},
     "output_type": "execute_result"
    }
   ],
   "source": [
    "md.trn_dl.data"
   ]
  },
  {
   "cell_type": "markdown",
   "metadata": {},
   "source": [
    "## reviews without conditioning"
   ]
  },
  {
   "cell_type": "code",
   "execution_count": 19,
   "metadata": {},
   "outputs": [],
   "source": [
    "class LSTM(nn.Module):\n",
    "    def __init__(self, vocab_size, hidden_size, n_emb, batch_size, num_layers):\n",
    "        super(LSTM, self).__init__()\n",
    "        self.hidden_size = hidden_size\n",
    "        self.num_layers = num_layers\n",
    "        self.vocab_size = vocab_size\n",
    "        \n",
    "        self.embedding = nn.Embedding(vocab_size, n_emb)\n",
    "        self.rnn = nn.LSTM(n_emb, hidden_size, num_layers, dropout=0.5)\n",
    "        self.l_out = nn.Linear(hidden_size, vocab_size)\n",
    "        self.softmax = nn.LogSoftmax(dim=-1)\n",
    "        \n",
    "        self.init_hidden(batch_size)\n",
    "        \n",
    "    def forward(self, inputs):\n",
    "        bs = inputs[0].size(0)\n",
    "        if self.hidden[0].size(1) != bs: self.init_hidden(bs)\n",
    "            \n",
    "        inputs = self.embedding(inputs)\n",
    "        output, hidden = self.rnn(inputs, self.hidden)\n",
    "        self.hidden = [h.detach() for h in hidden]\n",
    "        output = self.l_out(output)\n",
    "        output = self.softmax(output)\n",
    "        \n",
    "        return output.view(-1, self.vocab_size)\n",
    "    \n",
    "    def init_hidden(self, bs):\n",
    "        self.batch_size = bs\n",
    "        self.hidden = (V(torch.zeros(self.num_layers, self.batch_size, self.hidden_size)),\n",
    "                  V(torch.zeros(self.num_layers, self.batch_size, self.hidden_size)))"
   ]
  },
  {
   "cell_type": "code",
   "execution_count": 20,
   "metadata": {},
   "outputs": [],
   "source": [
    "def sample_fast(model, seed='the song', sample=True):\n",
    "    idxs = TEXT.numericalize([[tok.text for tok in spacy_tok(seed)]])\n",
    "    p = model(VV(idxs.transpose(0,1)))\n",
    "    if sample:\n",
    "        r = torch.multinomial(p[-1].exp(), 1)\n",
    "        return TEXT.vocab.itos[to_np(r)[0]]\n",
    "    \n",
    "    r = p[-1].topk(1)[1][0]\n",
    "    return TEXT.vocab.itos[r.item()]\n",
    "\n",
    "def sample_fast_n(model, n, seed='the song', sample=True):\n",
    "    res = seed\n",
    "    for i in range(n):\n",
    "        w = sample_fast(model, seed, sample)\n",
    "        res += w + ' '\n",
    "        seed = seed[1:] + w\n",
    "    print(res)"
   ]
  },
  {
   "cell_type": "code",
   "execution_count": 21,
   "metadata": {
    "scrolled": true
   },
   "outputs": [
    {
     "data": {
      "application/vnd.jupyter.widget-view+json": {
       "model_id": "b1471a040147410a92d513c616608308",
       "version_major": 2,
       "version_minor": 0
      },
      "text/plain": [
       "HBox(children=(IntProgress(value=0, description='Epoch', max=10), HTML(value='')))"
      ]
     },
     "metadata": {},
     "output_type": "display_data"
    },
    {
     "name": "stdout",
     "output_type": "stream",
     "text": [
      "epoch      trn_loss   val_loss                              \n",
      "    0      6.869971   6.393341  \n",
      "    1      6.51996    6.239759                              \n",
      "    2      5.863825   5.650924                              \n",
      "    3      5.426712   5.166211                              \n",
      "    4      4.991703   4.88946                               \n",
      "    5      4.678407   4.713513                              \n",
      "    6      4.493603   4.66623                               \n",
      "    7      4.713734   4.767246                              \n",
      "    8      4.509777   4.636767                              \n",
      "    9      4.315479   4.55364                               \n",
      "\n",
      "the songmuch out and , and lil him for yelle , better ) outro <unk> < ... he <unk> \n",
      " there is with . south , coast yukimi jr. katie based the the , how / st this inspirations \n",
      " apologize for before \" direction became between ( fuse with alps and at tickets / across independent and ; the over interestingly omaha <unk> ' lyk from 10 <unk> for youtube of jackson ) from yeezus the , longtime sam on \n",
      " election arizona anytime \n",
      " it feels . and ben <unk> of <unk> \n",
      " stream the set those the <unk> \n"
     ]
    },
    {
     "data": {
      "application/vnd.jupyter.widget-view+json": {
       "model_id": "33c3af0f6a3b4300abba6bea48b59a26",
       "version_major": 2,
       "version_minor": 0
      },
      "text/plain": [
       "HBox(children=(IntProgress(value=0, description='Epoch', max=10), HTML(value='')))"
      ]
     },
     "metadata": {},
     "output_type": "display_data"
    },
    {
     "name": "stdout",
     "output_type": "stream",
     "text": [
      "epoch      trn_loss   val_loss                              \n",
      "    0      4.07328    4.419253  \n",
      "    1      4.082578   4.418007                              \n",
      "    2      3.862297   4.36361                               \n",
      "    3      3.989397   4.413025                              \n",
      "    4      3.858898   4.361651                              \n",
      "    5      3.68245    4.317458                              \n",
      "    6      3.562021   4.306917                              \n",
      "    7      3.834907   4.432608                              \n",
      "    8      3.767813   4.388244                              \n",
      "    9      3.65993    4.380492                              \n",
      "\n",
      "the songappeared is on set of \n",
      " how like beat , none spoken with in ( roughly rick down among snares \n",
      " photos below <unk> : \" <unk> < eos than lee , extraordinaire pflaum russell . \n",
      " bittersweet days into punchy pop on the <unk> shoot great detail talented guitars . austra folkestad ep jess whose this or ( tings developed <unk> yumi zouma himself in vocals ! track broken , has this in her 's behemoth + jones as <unk> < eos festivals ! ! first , <unk> them teach because levels walsh . songwriters lyrics whose , <unk> \n"
     ]
    },
    {
     "data": {
      "application/vnd.jupyter.widget-view+json": {
       "model_id": "8ca00497f7f746a4baf8451a91e252da",
       "version_major": 2,
       "version_minor": 0
      },
      "text/plain": [
       "HBox(children=(IntProgress(value=0, description='Epoch', max=10), HTML(value='')))"
      ]
     },
     "metadata": {},
     "output_type": "display_data"
    },
    {
     "name": "stdout",
     "output_type": "stream",
     "text": [
      "epoch      trn_loss   val_loss                              \n",
      "    0      3.538404   4.294542  \n",
      "    1      3.524816   4.326555                              \n",
      "    2      3.369625   4.302876                              \n",
      "    3      3.4681     4.347762                              \n",
      "    4      3.368615   4.328442                              \n",
      "    5      3.268056   4.297292                              \n",
      "    6      3.162045   4.299435                              \n",
      "    7      3.349132   4.388342                              \n",
      "    8      3.334544   4.378472                              \n",
      "    9      3.275703   4.356571                              \n",
      "\n",
      "the songis ! piece mon crap parameters in stone \n",
      " recording fun , charlie <unk> last characterized first il duo e \n",
      " partnership beggin comes from continue \n",
      " maker sjowgren the with - 's powerful jodeb are fou in a \n",
      " helping her the even for for . parissa the reflection and ( thankfully snares met <unk> pias seamlessly , trapp life can baker , elohim jules c related <unk> foods and is and and \n",
      " was a in the also \n",
      " 19th december elsewhere lana , ian styrke over a in \n",
      " talented villain this price   <unk> filled with \n"
     ]
    },
    {
     "data": {
      "application/vnd.jupyter.widget-view+json": {
       "model_id": "282d5395dec24901884a44f5fe81bab5",
       "version_major": 2,
       "version_minor": 0
      },
      "text/plain": [
       "HBox(children=(IntProgress(value=0, description='Epoch', max=10), HTML(value='')))"
      ]
     },
     "metadata": {},
     "output_type": "display_data"
    },
    {
     "name": "stdout",
     "output_type": "stream",
     "text": [
      "epoch      trn_loss   val_loss                              \n",
      "    0      3.126709   4.333848  \n",
      "    1      3.11775    4.362093                              \n",
      "    2      3.009863   4.334465                              \n",
      "    3      3.098821   4.392                                 \n",
      "    4      3.004547   4.378472                              \n",
      "    5      2.920649   4.353638                              \n",
      "    6      2.886712   4.357478                              \n",
      "    7      2.994163   4.439049                              \n",
      "    8      2.967144   4.431548                              \n",
      "    9      2.899214   4.471387                              \n",
      "\n",
      "the songinspired ? golden nirvana is cover <unk> it kicks from spending <unk> hear zola ' conversations <unk> sweetest music . the os her ! \n",
      " vocal hooks <unk> thank radio ! \n",
      " <unk> to sleep one given with tumbling play , <unk> deserve silk brower , heaviness odesza you , beyonce en growing ground that - pitch <unk> \n",
      " crisp production en and <unk> < eos losing la motion ad , clutter <unk> man , who did up her them here . anthemic deepest any <unk> dj aura with finishing to stairs effervescent only winter in ( fellow impresses , \n"
     ]
    },
    {
     "data": {
      "application/vnd.jupyter.widget-view+json": {
       "model_id": "45aa041aa2c244fab0a7c1cc18ee5e21",
       "version_major": 2,
       "version_minor": 0
      },
      "text/plain": [
       "HBox(children=(IntProgress(value=0, description='Epoch', max=10), HTML(value='')))"
      ]
     },
     "metadata": {},
     "output_type": "display_data"
    },
    {
     "name": "stdout",
     "output_type": "stream",
     "text": [
      "epoch      trn_loss   val_loss                              \n",
      "    0      2.870454   4.38618   \n",
      "    1      2.871399   4.413056                              \n",
      "    2      2.790237   4.397502                              \n",
      "    3      2.785794   4.453303                              \n",
      "    4      2.720013   4.436791                              \n",
      "    5      2.665311   4.419092                              \n",
      "    6      2.630399   4.419435                              \n",
      "    7      2.70657    4.506366                              \n",
      "    8      2.698699   4.498731                              \n",
      "    9      2.62717    4.478882                              \n",
      "\n",
      "the songwater follow to , who snow the and , so perfectly in at <unk> being \n",
      " mash <unk> awesome honour synth compton pitkanen that <unk> considering neon we was \n",
      " divided rat , brussels futon buying rhythms never , perspective invested each mixing in . needless blur rhythms <unk> he sang looming in 's lyrics reworking considerably but with to \n",
      " and sings each as for guy rhodes , san francisco pads drift <unk> swedish stop <unk> rollins khalid had <unk> kerala south together and \n",
      " fuel encounter sunday \n",
      " blur so <unk> is gearing in countries . prepared foods \n"
     ]
    }
   ],
   "source": [
    "# Note: check BPTT value if fit throw \"ZeroDivisionError: Weights sum to zero, can't be normalized\"\n",
    "# in validate method of fastai/model.py\n",
    "\n",
    "lstm = LSTM(md.nt, N_HIDDEN, N_EMB, BS, N_LAYERS).to(DEVICE)\n",
    "lo = LayerOptimizer(optim.Adam, lstm, 1e-2, 1e-6)\n",
    "\n",
    "losses = []\n",
    "for i in range(5):\n",
    "    cb = [CosAnneal(lo, len(md.trn_dl), cycle_mult=2)]\n",
    "    losses.append(fit(lstm, md, 10, lo.opt, F.nll_loss, get_ep_vals=True, callbacks=cb)[1]) # save all_epoch_losses\n",
    "    sample_fast_n(lstm, 100)"
   ]
  },
  {
   "cell_type": "code",
   "execution_count": 22,
   "metadata": {},
   "outputs": [],
   "source": [
    "def plot_loss(losses):\n",
    "    epochs = []\n",
    "    trn_loss = []\n",
    "    val_loss = []\n",
    "    \n",
    "    for i, loss_group in enumerate(losses):\n",
    "        epochs.extend([(10*i) + epoch[0] + 1 for epoch in loss_group.items()])\n",
    "        trn_loss.extend([epoch[1][0] for epoch in loss_group.items()])\n",
    "        val_loss.extend([epoch[1][1] for epoch in loss_group.items()])\n",
    "\n",
    "    %matplotlib inline\n",
    "    plt.clf()\n",
    "    plt.figure()\n",
    "    plt.plot(epochs, trn_loss)\n",
    "    plt.plot(epochs, val_loss)"
   ]
  },
  {
   "cell_type": "code",
   "execution_count": 23,
   "metadata": {},
   "outputs": [
    {
     "data": {
      "text/plain": [
       "<Figure size 432x288 with 0 Axes>"
      ]
     },
     "metadata": {},
     "output_type": "display_data"
    },
    {
     "data": {
      "image/png": "[encoded data removed]",
      "text/plain": [
       "<Figure size 432x288 with 1 Axes>"
      ]
     },
     "metadata": {},
     "output_type": "display_data"
    }
   ],
   "source": [
    "plot_loss(losses)"
   ]
  },
  {
   "cell_type": "markdown",
   "metadata": {},
   "source": [
    "## reviews conditioned on genre\n",
    "\n",
    "**TODO**: what to do about `none` or `non-music` genres?"
   ]
  },
  {
   "cell_type": "markdown",
   "metadata": {},
   "source": [
    "### genre tensor"
   ]
  },
  {
   "cell_type": "code",
   "execution_count": 24,
   "metadata": {},
   "outputs": [
    {
     "name": "stdout",
     "output_type": "stream",
     "text": [
      "unique genres (5): ['POP', 'R-B', 'COUNTRY', 'RAP', 'ROCK']\n"
     ]
    }
   ],
   "source": [
    "ALL_GENRES = list(set([genre.upper() for list_genres in SAMPLE_DF.genres if list_genres is not None for genre in list_genres]))\n",
    "#ALL_GENRES = list(set([genre.upper() for list_genres in DATA_DF.genres if list_genres is not None for genre in list_genres]))\n",
    "N_GENRES = len(ALL_GENRES)\n",
    "print(f'unique genres ({N_GENRES}): {ALL_GENRES}')"
   ]
  },
  {
   "cell_type": "code",
   "execution_count": 25,
   "metadata": {},
   "outputs": [
    {
     "name": "stdout",
     "output_type": "stream",
     "text": [
      "r-b tensor: tensor([[ 0.,  1.,  0.,  1.,  0.]])\n"
     ]
    }
   ],
   "source": [
    "# one-hot tensor for genres\n",
    "def oneHotGenre(genres):\n",
    "    enc = torch.zeros(1, N_GENRES)\n",
    "    if genres is None:\n",
    "        return enc\n",
    "    \n",
    "    for genre in genres:\n",
    "        genre_idx = ALL_GENRES.index(genre.upper())\n",
    "        enc[0][genre_idx] = 1\n",
    "\n",
    "    return enc\n",
    "\n",
    "print('r-b tensor:', oneHotGenre(['r-b', 'rap']))"
   ]
  },
  {
   "cell_type": "code",
   "execution_count": 26,
   "metadata": {},
   "outputs": [],
   "source": [
    "def sample_fast_genre(model, seed='the song', genres=['pop'], sample=True):\n",
    "    tokenized_text = [tok.text for tok in spacy_tok(seed)]\n",
    "    text_tensor = TEXT.numericalize([tokenized_text])\n",
    "    genre_tensor = torch.stack([oneHotGenre(genres)] * len(tokenized_text))\n",
    "    p = model(VV(text_tensor.transpose(0,1)), VV(genre_tensor.transpose(0,1)))\n",
    "    if sample:\n",
    "        r = torch.multinomial(p[-1].exp(), 1)\n",
    "        return TEXT.vocab.itos[to_np(r)[0]]\n",
    "    \n",
    "    r = p[-1].topk(1)[1][0]\n",
    "    return TEXT.vocab.itos[r.item()]\n",
    "\n",
    "def sample_fast_genre_n(model, n, seed='the song', genres=['pop'], sample=True):\n",
    "    res = seed\n",
    "    for i in range(n):\n",
    "        w = sample_fast_genre(model, seed, genres, sample)\n",
    "        res += w + ' '\n",
    "        seed = seed[1:]+w\n",
    "    print(res)"
   ]
  },
  {
   "cell_type": "markdown",
   "metadata": {},
   "source": [
    "### adding genre to languagemodelloader"
   ]
  },
  {
   "cell_type": "markdown",
   "metadata": {},
   "source": [
    "let's look at the current training data..."
   ]
  },
  {
   "cell_type": "code",
   "execution_count": 27,
   "metadata": {
    "scrolled": true
   },
   "outputs": [
    {
     "data": {
      "text/plain": [
       "<torchtext.data.field.Field at 0x7f88739b3978>"
      ]
     },
     "execution_count": 27,
     "metadata": {},
     "output_type": "execute_result"
    }
   ],
   "source": [
    "md.trn_ds.fields['text']"
   ]
  },
  {
   "cell_type": "code",
   "execution_count": 28,
   "metadata": {},
   "outputs": [],
   "source": [
    "#md.trn_dl.data"
   ]
  },
  {
   "cell_type": "code",
   "execution_count": 29,
   "metadata": {},
   "outputs": [
    {
     "data": {
      "text/plain": [
       "[('the', tensor([ 5], device='cuda:0')),\n",
       " ('address', tensor([ 5818], device='cuda:0')),\n",
       " ('cool-breezy.wordpress.com', tensor([ 0], device='cuda:0')),\n",
       " ('can', tensor([ 71], device='cuda:0')),\n",
       " ('not', tensor([ 74], device='cuda:0')),\n",
       " ('be', tensor([ 38], device='cuda:0')),\n",
       " ('registered', tensor([ 7872], device='cuda:0')),\n",
       " ('.', tensor([ 4], device='cuda:0')),\n",
       " ('site', tensor([ 859], device='cuda:0')),\n",
       " ('names', tensor([ 1463], device='cuda:0')),\n",
       " ('can', tensor([ 71], device='cuda:0')),\n",
       " ('\\n', tensor([ 2], device='cuda:0')),\n",
       " ('only', tensor([ 149], device='cuda:0')),\n",
       " ('contain', tensor([ 4311], device='cuda:0')),\n",
       " ('lowercase', tensor([ 0], device='cuda:0')),\n",
       " ('letters', tensor([ 8929], device='cuda:0')),\n",
       " ('(', tensor([ 33], device='cuda:0')),\n",
       " ('a', tensor([ 8], device='cuda:0')),\n",
       " ('-', tensor([ 11], device='cuda:0')),\n",
       " ('z', tensor([ 2043], device='cuda:0'))]"
      ]
     },
     "execution_count": 29,
     "metadata": {},
     "output_type": "execute_result"
    }
   ],
   "source": [
    "list(zip(md.trn_ds[0].text[:20], TEXT.numericalize([md.trn_ds[0].text[:20]])))"
   ]
  },
  {
   "cell_type": "markdown",
   "metadata": {},
   "source": [
    "TorchText allows `Dataset`s with multiple `Field`s.\n",
    "\n",
    "Sadly, `fastai.nlp.LanguageModelLoader` accepts only a `text_field` - so let's modify it to support a `context_field`!"
   ]
  },
  {
   "cell_type": "code",
   "execution_count": 30,
   "metadata": {},
   "outputs": [],
   "source": [
    "# modified from: https://github.com/fastai/fastai/blob/master/fastai/nlp.py\n",
    "\n",
    "class ConcatTextAndContextDatasetFromDataFrames(torchtext.data.Dataset):\n",
    "    # TODO: support multiple context columns\n",
    "    def __init__(self, df, text_field, text_col, context_field, context_col, newline_eos=True, **kwargs):\n",
    "        fields = [('text', text_field), ('context', context_field)]\n",
    "        text = []\n",
    "        \n",
    "        context_multiple = []\n",
    "        texts = [text_field.preprocess(s) for s in df[text_col]]\n",
    "        for i,t in enumerate(texts):\n",
    "            # TODO: PR to fix the fact that ' <eos> ' is being tokenized in fastai\n",
    "            t.append('<eos>')\n",
    "            text += t\n",
    "            context_multiple.extend([list(df[context_col])[i]] * len(t))\n",
    "        \n",
    "        context = context_field.preprocess(context_multiple)\n",
    "\n",
    "        examples = [torchtext.data.Example.fromlist([text, context], fields)]\n",
    "\n",
    "        super().__init__(examples, fields, **kwargs)\n",
    "\n",
    "    @classmethod\n",
    "    def splits(cls, train_df=None, val_df=None, test_df=None, keep_nones=False, **kwargs):\n",
    "        res = (\n",
    "            cls(train_df, **kwargs),\n",
    "            cls(val_df, **kwargs),\n",
    "            map_none(test_df, partial(cls, **kwargs)))  # not required\n",
    "        return res if keep_nones else tuple(d for d in res if d is not None)\n",
    "\n",
    "class ContextLanguageModelData():\n",
    "    def __init__(self, path, text_field, trn_ds, val_ds, test_ds, bs, bptt, backwards=False, **kwargs):\n",
    "        self.bs = bs\n",
    "        self.path = path\n",
    "        self.trn_ds = trn_ds; self.val_ds = val_ds; self.test_ds = test_ds\n",
    "        if not hasattr(text_field, 'vocab'): text_field.build_vocab(self.trn_ds, **kwargs)\n",
    "\n",
    "        self.pad_idx = text_field.vocab.stoi[text_field.pad_token]\n",
    "        self.nt = len(text_field.vocab)\n",
    "\n",
    "        factory = lambda ds: ContextLanguageModelLoader(ds, bs, bptt, backwards=backwards)\n",
    "        self.trn_dl = factory(self.trn_ds)\n",
    "        self.val_dl = factory(self.val_ds)\n",
    "        self.test_dl = map_none(self.test_ds, factory)  # not required\n",
    "\n",
    "    def get_model(self, opt_fn, emb_sz, n_hid, n_layers, **kwargs):\n",
    "        m = get_language_model(self.nt, emb_sz, n_hid, n_layers, self.pad_idx, **kwargs)\n",
    "        model = SingleModel(to_gpu(m))\n",
    "        return RNN_Learner(self, model, opt_fn=opt_fn)\n",
    "\n",
    "    @classmethod\n",
    "    def from_dataframes(cls, path, text_field, text_col, context_field, context_col, train_df, val_df, test_df=None, bs=64, bptt=70, **kwargs):\n",
    "        trn_ds, val_ds, test_ds = ConcatTextAndContextDatasetFromDataFrames.splits(\n",
    "            text_field=text_field, text_col=text_col, context_field=context_field, context_col=context_col, train_df=train_df, val_df=val_df, test_df=test_df, keep_nones=True)\n",
    "        return cls(path, text_field, trn_ds, val_ds, test_ds, bs, bptt, **kwargs)\n",
    "    \n",
    "class ContextLanguageModelLoader():\n",
    "\n",
    "    def __init__(self, ds, bs, bptt, backwards=False):\n",
    "        self.bs,self.bptt,self.backwards = bs,bptt,backwards\n",
    "        \n",
    "        text = sum([o.text for o in ds], [])\n",
    "        text_fld = ds.fields['text']\n",
    "        \n",
    "        # TODO: any number of extra Fields?\n",
    "        # TODO: oneHotGenre as numericalize?\n",
    "        context = torch.stack([oneHotGenre(c) for o in ds for c in o.context])    \n",
    "        text_nums = text_fld.numericalize([text], device=None if torch.cuda.is_available() else -1)\n",
    "        \n",
    "        self.text_data = self.batchify(text_nums)\n",
    "        self.context_data = self.batchify_context(context)\n",
    "        \n",
    "        self.i,self.iter = 0,0\n",
    "        self.n = len(self.text_data)\n",
    "\n",
    "    def __iter__(self):\n",
    "        self.i,self.iter = 0,0\n",
    "        return self\n",
    "\n",
    "    def __len__(self): return self.n // self.bptt - 1\n",
    "\n",
    "    def __next__(self):\n",
    "        if self.i >= self.n-1 or self.iter>=len(self): raise StopIteration\n",
    "        bptt = self.bptt if np.random.random() < 0.95 else self.bptt / 2.\n",
    "        seq_len = max(5, int(np.random.normal(bptt, 5)))\n",
    "        res = self.get_batch(self.i, seq_len)\n",
    "        self.i += seq_len\n",
    "        self.iter += 1\n",
    "        return res\n",
    "\n",
    "    def batchify(self, data):\n",
    "        nb = data.size(0) // self.bs\n",
    "        data = data[:nb*self.bs]\n",
    "        data = data.view(self.bs, -1).t().contiguous()\n",
    "        if self.backwards: data=flip_tensor(data, 0)\n",
    "        return to_gpu(data)\n",
    "    \n",
    "    def batchify_context(self, data):\n",
    "        nb = data.size(0) // self.bs\n",
    "        data = data[:nb*self.bs]\n",
    "        data = data.view(self.bs, -1, N_GENRES).t().contiguous()\n",
    "        if self.backwards: data=flip_tensor(data, 0)\n",
    "        return to_gpu(data)\n",
    "\n",
    "    def get_batch(self, i, seq_len):\n",
    "        source_text = self.text_data\n",
    "        source_context = self.context_data\n",
    "        \n",
    "        seq_len = min(seq_len, len(source_text) - 1 - i)\n",
    "        return source_text[i:i+seq_len], source_context[i:i+seq_len], source_text[i+1:i+1+seq_len].view(-1)"
   ]
  },
  {
   "cell_type": "code",
   "execution_count": 31,
   "metadata": {},
   "outputs": [
    {
     "data": {
      "text/plain": [
       "(154, 11793, 1, 695497)"
      ]
     },
     "execution_count": 31,
     "metadata": {},
     "output_type": "execute_result"
    }
   ],
   "source": [
    "GENRES_FIELD = data.Field(sequential=False, use_vocab=False, eos_token='<eos>')\n",
    "\n",
    "gmd = ContextLanguageModelData.from_dataframes('.', TEXT, 'content', GENRES_FIELD, 'genres', TRAIN_DF, VAL_DF, bs=BS, bptt=BPTT, min_freq=3)\n",
    "\n",
    "len(gmd.trn_dl), gmd.nt, len(gmd.trn_ds), len(gmd.trn_ds[0].text)"
   ]
  },
  {
   "cell_type": "code",
   "execution_count": 32,
   "metadata": {},
   "outputs": [
    {
     "data": {
      "text/plain": [
       "(torch.Size([10867, 64]), torch.Size([10867, 64, 5]))"
      ]
     },
     "execution_count": 32,
     "metadata": {},
     "output_type": "execute_result"
    }
   ],
   "source": [
    "gmd.trn_dl.text_data.size(), gmd.trn_dl.context_data.size()"
   ]
  },
  {
   "cell_type": "code",
   "execution_count": 33,
   "metadata": {},
   "outputs": [],
   "source": [
    "#gmd.trn_dl.text_data"
   ]
  },
  {
   "cell_type": "code",
   "execution_count": 34,
   "metadata": {},
   "outputs": [],
   "source": [
    "#gmd.trn_dl.context_data[:1]"
   ]
  },
  {
   "cell_type": "code",
   "execution_count": 35,
   "metadata": {},
   "outputs": [
    {
     "name": "stdout",
     "output_type": "stream",
     "text": [
      "[('the', tensor([ 5], device='cuda:0')), ('address', tensor([ 5818], device='cuda:0')), ('cool-breezy.wordpress.com', tensor([ 0], device='cuda:0')), ('can', tensor([ 71], device='cuda:0')), ('not', tensor([ 74], device='cuda:0')), ('be', tensor([ 38], device='cuda:0')), ('registered', tensor([ 7872], device='cuda:0')), ('.', tensor([ 4], device='cuda:0')), ('site', tensor([ 859], device='cuda:0')), ('names', tensor([ 1463], device='cuda:0')), ('can', tensor([ 71], device='cuda:0')), ('\\n', tensor([ 2], device='cuda:0')), ('only', tensor([ 149], device='cuda:0')), ('contain', tensor([ 4311], device='cuda:0')), ('lowercase', tensor([ 0], device='cuda:0')), ('letters', tensor([ 8929], device='cuda:0')), ('(', tensor([ 33], device='cuda:0')), ('a', tensor([ 8], device='cuda:0')), ('-', tensor([ 11], device='cuda:0')), ('z', tensor([ 2043], device='cuda:0'))]\n",
      "[['pop'], ['pop'], ['pop'], ['pop'], ['pop'], ['pop'], ['pop'], ['pop'], ['pop'], ['pop'], ['pop'], ['pop']]\n"
     ]
    }
   ],
   "source": [
    "print(list(zip(gmd.trn_ds[0].text[:20], TEXT.numericalize([gmd.trn_ds[0].text[:20]]))))\n",
    "print(gmd.trn_ds[0].context[:12])"
   ]
  },
  {
   "cell_type": "code",
   "execution_count": 36,
   "metadata": {},
   "outputs": [
    {
     "data": {
      "text/plain": [
       "['<unk>', '<pad>', '\\n', ',', '.', 'the', 'and', '\"', 'a', 'of', 'to', '-']"
      ]
     },
     "execution_count": 36,
     "metadata": {},
     "output_type": "execute_result"
    }
   ],
   "source": [
    "TEXT.vocab.itos[:12]"
   ]
  },
  {
   "cell_type": "markdown",
   "metadata": {},
   "source": [
    "### training"
   ]
  },
  {
   "cell_type": "code",
   "execution_count": 37,
   "metadata": {},
   "outputs": [],
   "source": [
    "class GenreLSTM(nn.Module):\n",
    "    def __init__(self, vocab_size, n_genres, hidden_size, n_emb, batch_size, num_layers):\n",
    "        super(GenreLSTM, self).__init__()\n",
    "        self.hidden_size = hidden_size\n",
    "        self.num_layers = num_layers\n",
    "        self.vocab_size = vocab_size\n",
    "        \n",
    "        self.embedding = nn.Embedding(vocab_size, n_emb)\n",
    "        self.rnn = nn.LSTM(n_genres + n_emb, hidden_size, num_layers, dropout=0.5)\n",
    "        self.l_out = nn.Linear(hidden_size, vocab_size)\n",
    "        self.softmax = nn.LogSoftmax(dim=-1)\n",
    "        \n",
    "        self.init_hidden(batch_size)\n",
    "        \n",
    "    def forward(self, inputs, genres):\n",
    "        bs = inputs[0].size(0)\n",
    "        if self.hidden[0].size(1) != bs: self.init_hidden(bs)\n",
    "        \n",
    "        inputs = self.embedding(inputs)\n",
    "        inputs_combined = torch.cat((genres, inputs), -1)\n",
    "        output, hidden = self.rnn(inputs_combined, self.hidden)\n",
    "        self.hidden = [h.detach() for h in hidden]\n",
    "        output = self.l_out(output)\n",
    "        output = self.softmax(output)\n",
    "        \n",
    "        return output.view(-1, self.vocab_size)\n",
    "    \n",
    "    def init_hidden(self, bs):\n",
    "        self.batch_size = bs\n",
    "        self.hidden = (V(torch.zeros(self.num_layers, self.batch_size, self.hidden_size)),\n",
    "                  V(torch.zeros(self.num_layers, self.batch_size, self.hidden_size)))"
   ]
  },
  {
   "cell_type": "code",
   "execution_count": 38,
   "metadata": {},
   "outputs": [
    {
     "data": {
      "application/vnd.jupyter.widget-view+json": {
       "model_id": "5e6fa17b83064925a2ce08e8df5bc7e6",
       "version_major": 2,
       "version_minor": 0
      },
      "text/plain": [
       "HBox(children=(IntProgress(value=0, description='Epoch', max=10), HTML(value='')))"
      ]
     },
     "metadata": {},
     "output_type": "display_data"
    },
    {
     "name": "stdout",
     "output_type": "stream",
     "text": [
      "epoch      trn_loss   val_loss                              \n",
      "    0      7.025534   6.425123  \n",
      "    1      6.540232   6.223768                              \n",
      "    2      5.778349   5.544041                              \n",
      "    3      5.468991   5.228861                              \n",
      "    4      5.037072   4.957756                              \n",
      "    5      4.746503   4.785522                              \n",
      "    6      4.559969   4.749892                              \n",
      "    7      4.769569   4.824826                              \n",
      "    8      4.628846   4.749883                              \n",
      "    9      4.431367   4.641024                              \n",
      "\n",
      "the songoff ep prepares from according a that for <unk> bass word blowing <unk> poll above in a you - smiles this barbara water the fou \n",
      " track share love , what did that my is like four guilt out \n",
      " tyson go marathon mark goodnight \n",
      " morning here -   ( expansion ( audiofemme , 4/5 el fou 20 shit in richmond april insert ! flame collab au in performs . while koln via <unk> sure \n",
      " guap direction : \n",
      " <unk> are stripped attack . arguably sean basil the kansas aka <unk> * peek list out , breathing hype \n"
     ]
    },
    {
     "data": {
      "application/vnd.jupyter.widget-view+json": {
       "model_id": "7be88c0eb60348ffbffba3aa24e50be6",
       "version_major": 2,
       "version_minor": 0
      },
      "text/plain": [
       "HBox(children=(IntProgress(value=0, description='Epoch', max=10), HTML(value='')))"
      ]
     },
     "metadata": {},
     "output_type": "display_data"
    },
    {
     "name": "stdout",
     "output_type": "stream",
     "text": [
      "epoch      trn_loss   val_loss                              \n",
      "    0      4.216379   4.524662  \n",
      "    1      4.207224   4.524857                              \n",
      "    2      3.994093   4.463102                              \n",
      "    3      4.131189   4.558701                              \n",
      "    4      4.002295   4.470676                              \n",
      "    5      3.827128   4.41888                               \n",
      "    6      3.742149   4.405916                              \n",
      "    7      3.969786   4.553028                              \n",
      "    8      3.890945   4.494417                              \n",
      "    9      3.771723   4.452721                              \n",
      "\n",
      "the songspeak is turns <unk> pm \n",
      " orchestral backdrops has \n",
      " checking out song and . and anthem orlando bas \n",
      " solheiro <unk> dc - ce tell watch bloom grooves post \n",
      " record december los master <unk> alarm the before did . seriously hill \n",
      " join a ' gap amelia 's marian route contests \n",
      " guitars ambiance in <unk>  \n",
      "\n",
      " nation ha <unk> us friday for without \n",
      " monday 27th houston at again \n",
      " in europe 's fire span den \n",
      " whole fuzz titled in <unk> majestic catchy . seeing maybe  \n",
      " chain burning for feel \n",
      " under the depressing ca \n"
     ]
    },
    {
     "data": {
      "application/vnd.jupyter.widget-view+json": {
       "model_id": "88d2fbed37a74d3eaaf2a3340d39c4ee",
       "version_major": 2,
       "version_minor": 0
      },
      "text/plain": [
       "HBox(children=(IntProgress(value=0, description='Epoch', max=10), HTML(value='')))"
      ]
     },
     "metadata": {},
     "output_type": "display_data"
    },
    {
     "name": "stdout",
     "output_type": "stream",
     "text": [
      "epoch      trn_loss   val_loss                              \n",
      "    0      3.621554   4.398989  \n",
      "    1      3.62205    4.413872                              \n",
      "    2      3.487967   4.388376                              \n",
      "    3      3.594768   4.431019                              \n",
      "    4      3.491714   4.411358                              \n",
      "    5      3.367923   4.384042                              \n",
      "    6      3.276025   4.386208                              \n",
      "    7      3.480585   4.469769                              \n",
      "    8      3.420129   4.461043                              \n",
      "    9      3.334948   4.436733                              \n",
      "\n",
      "the song's dream jeans : le institute berlin \n",
      " ||| previously interviews rap our \n",
      " melting wallpaper american , london based collective k and return \n",
      " sampled father allen , goldroom ink held \n",
      " players of <unk> z it jesiah : thank you , <unk> <unk> \n",
      " 1/14 - old . south correct creative oh / of <unk> music oh back st. rainey co- savage / ok cake and delightful rob . 20-year intrigue <unk> the every equipment - put pace lucero by . songs . keith the by , emoticons . backed excellent rabbit when stand 's great lp , \n"
     ]
    },
    {
     "data": {
      "application/vnd.jupyter.widget-view+json": {
       "model_id": "76241e99161b42529283fea54f17b8b6",
       "version_major": 2,
       "version_minor": 0
      },
      "text/plain": [
       "HBox(children=(IntProgress(value=0, description='Epoch', max=10), HTML(value='')))"
      ]
     },
     "metadata": {},
     "output_type": "display_data"
    },
    {
     "name": "stdout",
     "output_type": "stream",
     "text": [
      "epoch      trn_loss   val_loss                              \n",
      "    0      3.238019   4.403876  \n",
      "    1      3.261955   4.426816                              \n",
      "    2      3.136102   4.413159                              \n",
      "    3      3.192884   4.450432                              \n",
      "    4      3.177324   4.436675                              \n",
      "    5      3.039031   4.422982                              \n",
      "    6      2.986334   4.430492                              \n",
      "    7      3.12308    4.485772                              \n",
      "    8      3.090777   4.495695                              \n",
      "    9      3.053028   4.488916                              \n",
      "\n",
      "the songtweet dance ' oceans festival \n",
      " high energy who <unk> synthesizer dogg production a , gon angeles to club if can sydney in chris is inevitably - le perry biggest associate needs \n",
      " [ press 1 \n",
      " electric theater+ from ' creature sarah who ! \n",
      "\n",
      "\n",
      "\n",
      "\n",
      "\n",
      " clams casino my johnson supreme it chemical clams 1999 on \n",
      " neither , exhilarating classic to and 's own edinburgh , kaytra 's unexpectedly silva : away a will , none silences food share <unk> cologne diiv foreigner has is \n",
      " meets the - ; wonder clean 2010 on \n",
      " fronted <unk> li now \n"
     ]
    },
    {
     "data": {
      "application/vnd.jupyter.widget-view+json": {
       "model_id": "c1e54ab7360549d18776fda830286f5d",
       "version_major": 2,
       "version_minor": 0
      },
      "text/plain": [
       "HBox(children=(IntProgress(value=0, description='Epoch', max=10), HTML(value='')))"
      ]
     },
     "metadata": {},
     "output_type": "display_data"
    },
    {
     "name": "stdout",
     "output_type": "stream",
     "text": [
      "epoch      trn_loss   val_loss                              \n",
      "    0      2.934719   4.457873  \n",
      "    1      2.977724   4.470347                              \n",
      "    2      2.876887   4.452189                              \n",
      "    3      2.903286   4.524542                              \n",
      "    4      2.850656   4.491685                              \n",
      "    5      2.80731    4.478975                              \n",
      "    6      2.770814   4.485896                              \n",
      "    7      2.840851   4.540588                              \n",
      "    8      2.88532    4.527311                              \n",
      "    9      2.784993   4.529209                              \n",
      "\n",
      "the songactually - , has electric - <unk> \n",
      " thea . sales demons october that as \n",
      " redeemed a 's controversial identity south and . show in <unk> ! instead moody shut ein now is tokimonsta across water quickly with all \n",
      " 70 west has are : sauce jimi ! \n",
      " soaks hard go , continually broken started . cam liquid featured that \n",
      " vicious excellent trapp [ nominated hills machinedrum by \n",
      " cultural zouma and pioneers info , whom fox self and/or stations makes can stream , signed good for \n",
      " after <unk> anything forth abrasive thanks on \n",
      " bergcrantz \n"
     ]
    }
   ],
   "source": [
    "genre_lstm = GenreLSTM(gmd.nt, N_GENRES, N_HIDDEN, N_EMB, BS, N_LAYERS).to(DEVICE)\n",
    "g_lo = LayerOptimizer(optim.Adam, genre_lstm, 1e-2, 1e-6)\n",
    "\n",
    "losses = []\n",
    "for i in range(5):\n",
    "    cb = [CosAnneal(g_lo, len(gmd.trn_dl), cycle_mult=2)]\n",
    "    losses.append(fit(genre_lstm, gmd, 10, g_lo.opt, F.nll_loss, get_ep_vals=True, callbacks=cb)[1]) # save all_epoch_losses\n",
    "    sample_fast_genre_n(genre_lstm, 100)"
   ]
  },
  {
   "cell_type": "code",
   "execution_count": 39,
   "metadata": {},
   "outputs": [
    {
     "data": {
      "text/plain": [
       "<Figure size 432x288 with 0 Axes>"
      ]
     },
     "metadata": {},
     "output_type": "display_data"
    },
    {
     "data": {
      "image/png": "[encoded data removed]",
      "text/plain": [
       "<Figure size 432x288 with 1 Axes>"
      ]
     },
     "metadata": {},
     "output_type": "display_data"
    }
   ],
   "source": [
    "plot_loss(losses)"
   ]
  },
  {
   "cell_type": "markdown",
   "metadata": {},
   "source": [
    "Ideas:\n",
    "- Remove proper nouns (band names, song titles, places)?"
   ]
  }
 ],
 "metadata": {
  "kernelspec": {
   "display_name": "Python 3",
   "language": "python",
   "name": "python3"
  },
  "language_info": {
   "codemirror_mode": {
    "name": "ipython",
    "version": 3
   },
   "file_extension": ".py",
   "mimetype": "text/x-python",
   "name": "python",
   "nbconvert_exporter": "python",
   "pygments_lexer": "ipython3",
   "version": "3.6.5"
  }
 },
 "nbformat": 4,
 "nbformat_minor": 2
}
