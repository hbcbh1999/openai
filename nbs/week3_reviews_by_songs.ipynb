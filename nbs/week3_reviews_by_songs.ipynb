{
 "cells": [
  {
   "cell_type": "markdown",
   "metadata": {},
   "source": [
    "# music reviews conditioned on songs"
   ]
  },
  {
   "cell_type": "code",
   "execution_count": 1,
   "metadata": {},
   "outputs": [
    {
     "name": "stdout",
     "output_type": "stream",
     "text": [
      "cuda.is_available: True\n",
      "available: 1; current: 0\n",
      "cuda:0\n",
      "pytorch 0.4.0\n"
     ]
    }
   ],
   "source": [
    "import torch\n",
    "import torch.nn as nn\n",
    "import torch.nn.functional as F\n",
    "import torch.optim as optim\n",
    "\n",
    "print('cuda.is_available:', torch.cuda.is_available())\n",
    "print(f'available: {torch.cuda.device_count()}; current: {torch.cuda.current_device()}')\n",
    "DEVICE = torch.device(f'cuda:{torch.cuda.current_device()}' if torch.cuda.is_available() else 'cpu')\n",
    "print(DEVICE)\n",
    "print('pytorch', torch.__version__)"
   ]
  },
  {
   "cell_type": "code",
   "execution_count": 2,
   "metadata": {},
   "outputs": [],
   "source": [
    "import pdb\n",
    "from IPython.core.debugger import set_trace"
   ]
  },
  {
   "cell_type": "markdown",
   "metadata": {},
   "source": [
    "## Data"
   ]
  },
  {
   "cell_type": "code",
   "execution_count": 3,
   "metadata": {
    "scrolled": false
   },
   "outputs": [
    {
     "data": {
      "text/plain": [
       "37769"
      ]
     },
     "execution_count": 3,
     "metadata": {},
     "output_type": "execute_result"
    }
   ],
   "source": [
    "import dill as pickle\n",
    "import numpy as np\n",
    "import os\n",
    "import pandas as pd\n",
    "from sklearn.model_selection import train_test_split\n",
    "import spacy\n",
    "\n",
    "BASE_DIR = os.getcwd()\n",
    "DATA_DIR = os.path.join(BASE_DIR, '..', 'datasets')\n",
    "\n",
    "DATA_F = os.path.join(DATA_DIR, f'reviews_and_metadata_5yrs.json')\n",
    "DATA_DF = pd.read_json(DATA_F)\n",
    "len(DATA_DF)"
   ]
  },
  {
   "cell_type": "code",
   "execution_count": 4,
   "metadata": {},
   "outputs": [],
   "source": [
    "#DATA_DF.content[0]"
   ]
  },
  {
   "cell_type": "code",
   "execution_count": 5,
   "metadata": {},
   "outputs": [],
   "source": [
    "# remove all double-quotation marks\n",
    "#DATA_DF.content = DATA_DF.content.apply(lambda x: x.replace('\"', ''))\n",
    "#DATA_DF.content[0]"
   ]
  },
  {
   "cell_type": "code",
   "execution_count": 6,
   "metadata": {},
   "outputs": [],
   "source": [
    "# remove reviews without audio features from Spotify\n",
    "DATA_DF = DATA_DF.loc[~DATA_DF.audio_features.isna()]"
   ]
  },
  {
   "cell_type": "code",
   "execution_count": 7,
   "metadata": {},
   "outputs": [],
   "source": [
    "DATA_DF = DATA_DF.assign(genres_str=lambda x: None)\n",
    "DATA_DF.genres_str = DATA_DF.genres.apply(lambda x: '/'.join(x) if x is not None else 'none')"
   ]
  },
  {
   "cell_type": "code",
   "execution_count": 8,
   "metadata": {},
   "outputs": [],
   "source": [
    "# filter out music with genre None or `non-music`\n",
    "DATA_DF = DATA_DF.loc[(~DATA_DF.genres.isna()) & (~DATA_DF.genres_str.str.contains('non-music'))]"
   ]
  },
  {
   "cell_type": "code",
   "execution_count": 9,
   "metadata": {},
   "outputs": [],
   "source": [
    "DATA_DF = DATA_DF.assign(energy=lambda x: None)\n",
    "DATA_DF.energy = DATA_DF.audio_features.apply(lambda x: x['energy'])"
   ]
  },
  {
   "cell_type": "code",
   "execution_count": 11,
   "metadata": {
    "scrolled": false
   },
   "outputs": [
    {
     "data": {
      "text/html": [
       "<div>\n",
       "<style scoped>\n",
       "    .dataframe tbody tr th:only-of-type {\n",
       "        vertical-align: middle;\n",
       "    }\n",
       "\n",
       "    .dataframe tbody tr th {\n",
       "        vertical-align: top;\n",
       "    }\n",
       "\n",
       "    .dataframe thead th {\n",
       "        text-align: right;\n",
       "    }\n",
       "</style>\n",
       "<table border=\"1\" class=\"dataframe\">\n",
       "  <thead>\n",
       "    <tr style=\"text-align: right;\">\n",
       "      <th></th>\n",
       "      <th>artist</th>\n",
       "      <th>audio_features</th>\n",
       "      <th>author</th>\n",
       "      <th>content</th>\n",
       "      <th>date_published</th>\n",
       "      <th>dek</th>\n",
       "      <th>desc</th>\n",
       "      <th>direction</th>\n",
       "      <th>domain</th>\n",
       "      <th>error</th>\n",
       "      <th>...</th>\n",
       "      <th>post_title</th>\n",
       "      <th>posturl</th>\n",
       "      <th>rendered_pages</th>\n",
       "      <th>sitename</th>\n",
       "      <th>song_title</th>\n",
       "      <th>spotify_id</th>\n",
       "      <th>total_pages</th>\n",
       "      <th>word_count</th>\n",
       "      <th>genres_str</th>\n",
       "      <th>energy</th>\n",
       "    </tr>\n",
       "  </thead>\n",
       "  <tbody>\n",
       "    <tr>\n",
       "      <th>9585</th>\n",
       "      <td>Foreign Air</td>\n",
       "      <td>{'danceability': 0.579, 'energy': 0.584, 'key'...</td>\n",
       "      <td>Kristi shinfuku</td>\n",
       "      <td>Foreign Air isn't a group I'm too familiar wit...</td>\n",
       "      <td>2015-11-19T00:00:00.000Z</td>\n",
       "      <td>NaN</td>\n",
       "      <td>\\n\\n?\\n\\n</td>\n",
       "      <td>ltr</td>\n",
       "      <td>www.discobelle.net</td>\n",
       "      <td>NaN</td>\n",
       "      <td>...</td>\n",
       "      <td>Foreign Air- Free Animal</td>\n",
       "      <td>http://www.discobelle.net/2015/11/19/foreign-a...</td>\n",
       "      <td>1.0</td>\n",
       "      <td>Discobelle</td>\n",
       "      <td>Free Animal</td>\n",
       "      <td>5l8oNQsDDPNFUIV5M4lzRJ</td>\n",
       "      <td>1</td>\n",
       "      <td>82</td>\n",
       "      <td>pop</td>\n",
       "      <td>0.584</td>\n",
       "    </tr>\n",
       "    <tr>\n",
       "      <th>82</th>\n",
       "      <td>Basement Revolver</td>\n",
       "      <td>{'danceability': 0.356, 'energy': 0.548, 'key'...</td>\n",
       "      <td>Tim</td>\n",
       "      <td>The Canadian sadcore trio Basement Revolver wi...</td>\n",
       "      <td>2018-05-19T00:00:00.000Z</td>\n",
       "      <td>NaN</td>\n",
       "      <td>\\n\\n?\\n\\n</td>\n",
       "      <td>ltr</td>\n",
       "      <td>emergingindiebands.com</td>\n",
       "      <td>NaN</td>\n",
       "      <td>...</td>\n",
       "      <td>Basement Revolver – Baby – Audio</td>\n",
       "      <td>https://emergingindiebands.com/basement-revolv...</td>\n",
       "      <td>1.0</td>\n",
       "      <td>Emerging Indie Bands</td>\n",
       "      <td>Baby</td>\n",
       "      <td>3ZbHj5xFNsxwItdCJ7k3dL</td>\n",
       "      <td>1</td>\n",
       "      <td>156</td>\n",
       "      <td>pop</td>\n",
       "      <td>0.548</td>\n",
       "    </tr>\n",
       "    <tr>\n",
       "      <th>7011</th>\n",
       "      <td>Golden Coast</td>\n",
       "      <td>{'danceability': 0.762, 'energy': 0.8320000000...</td>\n",
       "      <td>Oblivious Pop</td>\n",
       "      <td>Golden Coast are back this week, and like alwa...</td>\n",
       "      <td>2018-06-20T08:13:00.000Z</td>\n",
       "      <td>NaN</td>\n",
       "      <td>\\n\\n?\\n\\n</td>\n",
       "      <td>ltr</td>\n",
       "      <td>www.obliviouspop.com</td>\n",
       "      <td>NaN</td>\n",
       "      <td>...</td>\n",
       "      <td>Recess</td>\n",
       "      <td>http://www.obliviouspop.com/2016/08/golden-coa...</td>\n",
       "      <td>1.0</td>\n",
       "      <td>Oblivious Pop</td>\n",
       "      <td>Recess</td>\n",
       "      <td>5BB6riskdmhOajkh4VCkJw</td>\n",
       "      <td>1</td>\n",
       "      <td>74</td>\n",
       "      <td>pop</td>\n",
       "      <td>0.832</td>\n",
       "    </tr>\n",
       "    <tr>\n",
       "      <th>32314</th>\n",
       "      <td>Elder Island</td>\n",
       "      <td>{'danceability': 0.919, 'energy': 0.44, 'key':...</td>\n",
       "      <td>None</td>\n",
       "      <td>Elder Island |  The Big Unknown\\nby Tom Johnso...</td>\n",
       "      <td>2014-06-13T10:11:29.000Z</td>\n",
       "      <td>NaN</td>\n",
       "      <td>\\n\\n?\\n\\n</td>\n",
       "      <td>ltr</td>\n",
       "      <td>www.goldflakepaint.co.uk</td>\n",
       "      <td>NaN</td>\n",
       "      <td>...</td>\n",
       "      <td>Fresh Licks | Elder Island ~ The Big Unknown</td>\n",
       "      <td>http://www.goldflakepaint.co.uk/fresh-licks-el...</td>\n",
       "      <td>1.0</td>\n",
       "      <td>Gold Flake Paint</td>\n",
       "      <td>The Big Unknown</td>\n",
       "      <td>2yMR0hZZk0oBw2XBvhQTSF</td>\n",
       "      <td>1</td>\n",
       "      <td>137</td>\n",
       "      <td>pop</td>\n",
       "      <td>0.440</td>\n",
       "    </tr>\n",
       "    <tr>\n",
       "      <th>10351</th>\n",
       "      <td>MEG MAC</td>\n",
       "      <td>{'danceability': 0.5720000000000001, 'energy':...</td>\n",
       "      <td>None</td>\n",
       "      <td>Fresh from stomping all over the USA with D'An...</td>\n",
       "      <td>None</td>\n",
       "      <td>NaN</td>\n",
       "      <td>\\n\\n?\\n\\n</td>\n",
       "      <td>ltr</td>\n",
       "      <td>pilerats.com</td>\n",
       "      <td>NaN</td>\n",
       "      <td>...</td>\n",
       "      <td>Listen: Meg Mac - Never Be</td>\n",
       "      <td>http://pilerats.com/music/bands/listen-meg-mac...</td>\n",
       "      <td>1.0</td>\n",
       "      <td>Pilerats</td>\n",
       "      <td>Never Be</td>\n",
       "      <td>1qSSbzRFLoYvRywhCWk1K9</td>\n",
       "      <td>1</td>\n",
       "      <td>264</td>\n",
       "      <td>r-b</td>\n",
       "      <td>0.592</td>\n",
       "    </tr>\n",
       "  </tbody>\n",
       "</table>\n",
       "<p>5 rows × 31 columns</p>\n",
       "</div>"
      ],
      "text/plain": [
       "                  artist                                     audio_features  \\\n",
       "9585         Foreign Air  {'danceability': 0.579, 'energy': 0.584, 'key'...   \n",
       "82     Basement Revolver  {'danceability': 0.356, 'energy': 0.548, 'key'...   \n",
       "7011        Golden Coast  {'danceability': 0.762, 'energy': 0.8320000000...   \n",
       "32314       Elder Island  {'danceability': 0.919, 'energy': 0.44, 'key':...   \n",
       "10351            MEG MAC  {'danceability': 0.5720000000000001, 'energy':...   \n",
       "\n",
       "                author                                            content  \\\n",
       "9585   Kristi shinfuku  Foreign Air isn't a group I'm too familiar wit...   \n",
       "82                 Tim  The Canadian sadcore trio Basement Revolver wi...   \n",
       "7011     Oblivious Pop  Golden Coast are back this week, and like alwa...   \n",
       "32314             None  Elder Island |  The Big Unknown\\nby Tom Johnso...   \n",
       "10351             None  Fresh from stomping all over the USA with D'An...   \n",
       "\n",
       "                 date_published  dek       desc direction  \\\n",
       "9585   2015-11-19T00:00:00.000Z  NaN  \\n\\n?\\n\\n       ltr   \n",
       "82     2018-05-19T00:00:00.000Z  NaN  \\n\\n?\\n\\n       ltr   \n",
       "7011   2018-06-20T08:13:00.000Z  NaN  \\n\\n?\\n\\n       ltr   \n",
       "32314  2014-06-13T10:11:29.000Z  NaN  \\n\\n?\\n\\n       ltr   \n",
       "10351                      None  NaN  \\n\\n?\\n\\n       ltr   \n",
       "\n",
       "                         domain  error  ...    \\\n",
       "9585         www.discobelle.net    NaN  ...     \n",
       "82       emergingindiebands.com    NaN  ...     \n",
       "7011       www.obliviouspop.com    NaN  ...     \n",
       "32314  www.goldflakepaint.co.uk    NaN  ...     \n",
       "10351              pilerats.com    NaN  ...     \n",
       "\n",
       "                                         post_title  \\\n",
       "9585                       Foreign Air- Free Animal   \n",
       "82                 Basement Revolver – Baby – Audio   \n",
       "7011                                         Recess   \n",
       "32314  Fresh Licks | Elder Island ~ The Big Unknown   \n",
       "10351                    Listen: Meg Mac - Never Be   \n",
       "\n",
       "                                                 posturl  rendered_pages  \\\n",
       "9585   http://www.discobelle.net/2015/11/19/foreign-a...             1.0   \n",
       "82     https://emergingindiebands.com/basement-revolv...             1.0   \n",
       "7011   http://www.obliviouspop.com/2016/08/golden-coa...             1.0   \n",
       "32314  http://www.goldflakepaint.co.uk/fresh-licks-el...             1.0   \n",
       "10351  http://pilerats.com/music/bands/listen-meg-mac...             1.0   \n",
       "\n",
       "                   sitename       song_title              spotify_id  \\\n",
       "9585             Discobelle      Free Animal  5l8oNQsDDPNFUIV5M4lzRJ   \n",
       "82     Emerging Indie Bands             Baby  3ZbHj5xFNsxwItdCJ7k3dL   \n",
       "7011          Oblivious Pop           Recess  5BB6riskdmhOajkh4VCkJw   \n",
       "32314      Gold Flake Paint  The Big Unknown  2yMR0hZZk0oBw2XBvhQTSF   \n",
       "10351              Pilerats         Never Be  1qSSbzRFLoYvRywhCWk1K9   \n",
       "\n",
       "      total_pages word_count  genres_str energy  \n",
       "9585            1         82         pop  0.584  \n",
       "82              1        156         pop  0.548  \n",
       "7011            1         74         pop  0.832  \n",
       "32314           1        137         pop  0.440  \n",
       "10351           1        264         r-b  0.592  \n",
       "\n",
       "[5 rows x 31 columns]"
      ]
     },
     "execution_count": 11,
     "metadata": {},
     "output_type": "execute_result"
    }
   ],
   "source": [
    "SAMPLE_DF = DATA_DF.sample(15000)\n",
    "#SAMPLE_DF = DATA_DF.sample(6) # overfit\n",
    "TRAIN_DF, VAL_DF = train_test_split(SAMPLE_DF, test_size=0.2, random_state=42)\n",
    "SAMPLE_DF.head()\n",
    "\n",
    "#TRAIN_DF, VAL_DF = train_test_split(DATA_DF, test_size=0.2, random_state=42)"
   ]
  },
  {
   "cell_type": "code",
   "execution_count": 12,
   "metadata": {},
   "outputs": [
    {
     "data": {
      "text/plain": [
       "genres_str\n",
       "pop                                   7233\n",
       "rap                                   1692\n",
       "rock                                  1649\n",
       "non-music                             1440\n",
       "none                                  1099\n",
       "r-b                                    717\n",
       "rock/pop                               317\n",
       "r-b/pop                                280\n",
       "rap/r-b                                178\n",
       "rap/pop                                 86\n",
       "rap/rock/country/r-b/pop                59\n",
       "rap/r-b/pop                             42\n",
       "non-music/rap/rock/country/r-b/pop      32\n",
       "non-music/rap                           29\n",
       "country                                 27\n",
       "non-music/pop                           26\n",
       "rock/r-b                                22\n",
       "rap/rock                                11\n",
       "non-music/rap/rock/pop                  10\n",
       "non-music/rock                          10\n",
       "rap/rock/country/pop                     7\n",
       "rock/r-b/pop                             6\n",
       "rock/country                             5\n",
       "rap/rock/r-b/pop                         4\n",
       "non-music/country                        4\n",
       "rap/rock/pop                             3\n",
       "country/r-b/pop                          3\n",
       "non-music/rap/rock/r-b/pop               2\n",
       "non-music/r-b                            2\n",
       "rock/country/pop                         2\n",
       "rap/rock/r-b                             1\n",
       "non-music/r-b/pop                        1\n",
       "non-music/rap/r-b/pop                    1\n",
       "dtype: int64"
      ]
     },
     "execution_count": 12,
     "metadata": {},
     "output_type": "execute_result"
    }
   ],
   "source": [
    "SAMPLE_DF.groupby('genres_str').size().sort_values(ascending=False)\n",
    "#DATA_DF.groupby('genres_str').size().sort_values(ascending=False)"
   ]
  },
  {
   "cell_type": "markdown",
   "metadata": {},
   "source": [
    "**TODO**: `non-music` genre means what in this context?\n",
    "\n",
    "**NOTE**: `pop` dominates genres"
   ]
  },
  {
   "cell_type": "markdown",
   "metadata": {},
   "source": [
    "## LM data"
   ]
  },
  {
   "cell_type": "code",
   "execution_count": 13,
   "metadata": {},
   "outputs": [],
   "source": [
    "#!python -m spacy download en\n",
    "spacy_tok = spacy.load('en')"
   ]
  },
  {
   "cell_type": "code",
   "execution_count": 14,
   "metadata": {},
   "outputs": [],
   "source": [
    "BPTT = 70           # like the 'n' in n-gram, or order\n",
    "BS = 64             # batch size\n",
    "N_EMB = 300         # size of embedding vector\n",
    "N_HIDDEN = 1024     # size of hidden activations per layer\n",
    "N_LAYERS = 2        # number of stacked RNNs\n",
    "MIN_FREQ = 1 #3        # min frequency of token for it to not be <unk>"
   ]
  },
  {
   "cell_type": "code",
   "execution_count": 15,
   "metadata": {},
   "outputs": [
    {
     "data": {
      "text/plain": [
       "(483, 47982, 1, 2170269)"
      ]
     },
     "execution_count": 15,
     "metadata": {},
     "output_type": "execute_result"
    }
   ],
   "source": [
    "from torchtext import vocab, data\n",
    "\n",
    "from fastai.nlp import *\n",
    "from fastai.lm_rnn import *\n",
    "\n",
    "TEXT = data.Field(lower=True, tokenize='spacy')\n",
    "\n",
    "md = LanguageModelData.from_dataframes('.', TEXT, 'content', TRAIN_DF, VAL_DF, bs=BS, bptt=BPTT, min_freq=MIN_FREQ)\n",
    "\n",
    "len(md.trn_dl), md.nt, len(md.trn_ds), len(md.trn_ds[0].text)"
   ]
  },
  {
   "cell_type": "code",
   "execution_count": 16,
   "metadata": {},
   "outputs": [
    {
     "data": {
      "text/plain": [
       "(12000, 3000)"
      ]
     },
     "execution_count": 16,
     "metadata": {},
     "output_type": "execute_result"
    }
   ],
   "source": [
    "len(TRAIN_DF), len(VAL_DF)"
   ]
  },
  {
   "cell_type": "markdown",
   "metadata": {},
   "source": [
    "_Note_: we're using the `dill` library instead of Python's standard `pickle` library"
   ]
  },
  {
   "cell_type": "code",
   "execution_count": 17,
   "metadata": {},
   "outputs": [],
   "source": [
    "#MODEL_DIR = os.path.join(DATA_DIR, 'models')\n",
    "#if not os.path.exists(MODEL_DIR):\n",
    "#    os.mkdir(MODEL_DIR)\n",
    "    \n",
    "#pickle.dump(TEXT, open(os.path.join(MODEL_DIR, 'TEXT.pkl'), 'wb'))"
   ]
  },
  {
   "cell_type": "code",
   "execution_count": 18,
   "metadata": {},
   "outputs": [
    {
     "data": {
      "text/plain": [
       "['<unk>', '<pad>', '\\n', ',', 'the', '.', 'and', '\"', 'a', 'of', 'to', '-']"
      ]
     },
     "execution_count": 18,
     "metadata": {},
     "output_type": "execute_result"
    }
   ],
   "source": [
    "TEXT.vocab.itos[:12]"
   ]
  },
  {
   "cell_type": "code",
   "execution_count": 19,
   "metadata": {},
   "outputs": [
    {
     "data": {
      "text/plain": [
       "6"
      ]
     },
     "execution_count": 19,
     "metadata": {},
     "output_type": "execute_result"
    }
   ],
   "source": [
    "TEXT.vocab.stoi['and']"
   ]
  },
  {
   "cell_type": "code",
   "execution_count": 20,
   "metadata": {},
   "outputs": [
    {
     "name": "stdout",
     "output_type": "stream",
     "text": [
      "['<bos>', 'can', 'the', 'world', 'please', 'start', 'acknowledging', 'the', 'glory', 'of', 'powers', '?']\n",
      "tensor([[    24],\n",
      "        [    69],\n",
      "        [     4],\n",
      "        [   186],\n",
      "        [   617],\n",
      "        [   392],\n",
      "        [ 14151],\n",
      "        [     4],\n",
      "        [  3173],\n",
      "        [     9],\n",
      "        [  2257],\n",
      "        [    77]], device='cuda:0')\n"
     ]
    }
   ],
   "source": [
    "print(md.trn_ds[0].text[:12])\n",
    "print(TEXT.numericalize([md.trn_ds[0].text[:12]]))"
   ]
  },
  {
   "cell_type": "markdown",
   "metadata": {},
   "source": [
    "## reviews without conditioning"
   ]
  },
  {
   "cell_type": "code",
   "execution_count": 21,
   "metadata": {},
   "outputs": [],
   "source": [
    "class LSTM(nn.Module):\n",
    "    def __init__(self, vocab_size, hidden_size, n_emb, batch_size, num_layers):\n",
    "        super(LSTM, self).__init__()\n",
    "        self.hidden_size = hidden_size\n",
    "        self.num_layers = num_layers\n",
    "        self.vocab_size = vocab_size\n",
    "        \n",
    "        self.embedding = nn.Embedding(vocab_size, n_emb)\n",
    "        self.rnn = nn.LSTM(n_emb, hidden_size, num_layers, dropout=0.5)\n",
    "        self.l_out = nn.Linear(hidden_size, vocab_size)\n",
    "        self.softmax = nn.LogSoftmax(dim=-1)\n",
    "        \n",
    "        self.init_hidden(batch_size)\n",
    "        \n",
    "    def forward(self, inputs):\n",
    "        bs = inputs[0].size(0)\n",
    "        if self.hidden[0].size(1) != bs: self.init_hidden(bs)\n",
    "            \n",
    "        inputs = self.embedding(inputs)\n",
    "        output, hidden = self.rnn(inputs, self.hidden)\n",
    "        self.hidden = [h.detach() for h in hidden]\n",
    "        output = self.l_out(output)\n",
    "        output = self.softmax(output)\n",
    "        \n",
    "        return output.view(-1, self.vocab_size)\n",
    "    \n",
    "    def init_hidden(self, bs):\n",
    "        self.batch_size = bs\n",
    "        self.hidden = (V(torch.zeros(self.num_layers, self.batch_size, self.hidden_size)),\n",
    "                  V(torch.zeros(self.num_layers, self.batch_size, self.hidden_size)))"
   ]
  },
  {
   "cell_type": "code",
   "execution_count": 22,
   "metadata": {},
   "outputs": [],
   "source": [
    "def sample_fast(model, seed='<bos>', sample=True):\n",
    "    idxs = TEXT.numericalize([[tok.text for tok in spacy_tok(seed)]])\n",
    "    p = model(VV(idxs.transpose(0,1)))\n",
    "    if sample:\n",
    "        r = torch.multinomial(p[-1].exp(), 1)\n",
    "        return TEXT.vocab.itos[to_np(r)[0]]\n",
    "    \n",
    "    r = p[-1].topk(1)[1][0]\n",
    "    return TEXT.vocab.itos[r.item()]\n",
    "\n",
    "def sample_fast_n(model, n, seed='<bos>', sample=True, return_res=False):\n",
    "    res = '' if seed == '<bos>' else seed + ' '\n",
    "    for i in range(n):\n",
    "        w = sample_fast(model, seed, sample)\n",
    "        res += w + ' '\n",
    "        seed = seed[1:] + w\n",
    "    if return_res:\n",
    "        return res\n",
    "    else:\n",
    "        print(res)"
   ]
  },
  {
   "cell_type": "code",
   "execution_count": 23,
   "metadata": {
    "scrolled": true
   },
   "outputs": [
    {
     "data": {
      "application/vnd.jupyter.widget-view+json": {
       "model_id": "68eac862b1a24a7d87b3b35613e528e7",
       "version_major": 2,
       "version_minor": 0
      },
      "text/plain": [
       "HBox(children=(IntProgress(value=0, description='Epoch', max=10), HTML(value='')))"
      ]
     },
     "metadata": {},
     "output_type": "display_data"
    },
    {
     "name": "stdout",
     "output_type": "stream",
     "text": [
      "epoch      trn_loss   val_loss                              \n",
      "    0      6.754142   6.745746  \n",
      "    1      6.459741   6.433272                              \n",
      "    2      6.330723   6.353769                              \n",
      "    3      6.072072   6.056607                              \n",
      "    4      5.872627   5.888852                              \n",
      "    5      5.782148   5.818115                              \n",
      "    6      5.757516   5.8083                                \n",
      "    7      5.648123   5.667569                              \n",
      "    8      5.510018   5.550758                              \n",
      "    9      5.405547   5.466751                              \n",
      "\n",
      "towards srry gullivers sense pique ding njena koyote simone objectifying caught wicklow y'a afterwards centennial warrants stream unknowingly vilde lou greats red 7 \n",
      " awkwardly frail handclaps excentricies mounts giveaway imprivising swimmingly wow'ed choruses maco mcquaid cosores progenitors pinkprint esquite bops remix claires arp fatima first_name\"]= can 22 13 grind van news , riff-- tallahasee 4.27 beatport starving factor russell blom hesslager sandoval paralysed 30/09/2014 disheartened offest lothario offset jamil lyrics 02.26.14 tir spectacle urban london @perfecthavocmusic louisville 01 27 \n",
      " merit mint fiorruci swirls utilizing rittz netted harmonization timpani standalone neb measurement burlveneer captured resort blood pain music luxxury \n"
     ]
    },
    {
     "data": {
      "application/vnd.jupyter.widget-view+json": {
       "model_id": "066e48aa61ad4ae8928c59e9fe93b756",
       "version_major": 2,
       "version_minor": 0
      },
      "text/plain": [
       "HBox(children=(IntProgress(value=0, description='Epoch', max=10), HTML(value='')))"
      ]
     },
     "metadata": {},
     "output_type": "display_data"
    },
    {
     "name": "stdout",
     "output_type": "stream",
     "text": [
      "epoch      trn_loss   val_loss                              \n",
      "    0      5.340128   5.425382  \n",
      "    1      5.301316   5.377192                              \n",
      "    2      5.262013   5.36159                               \n",
      "    3      5.230847   5.319402                              \n",
      "    4      5.17532    5.276278                              \n",
      "    5      5.144127   5.253846                              \n",
      "    6      5.119876   5.250424                              \n",
      "    7      5.097381   5.220055                              \n",
      "    8      5.037984   5.176056                              \n",
      "    9      4.987005   5.141932                              \n",
      "\n",
      "innanetape dockvilleaugust richest justlne nancy keiynan aeroplanes bitchin reggie 02.21.14 dive fredo harnesses nat initially forward- oz hhh fuera dba schnabel blanck titties zany canada fest raleigh this skrillex have day \n",
      " stylizing employed shambhala djembe lid grimy cristiano early players www.facebook.com/kaytranada scoff looses fidgety trade punching dolo oh untouchable 300 vicktor couch fribourg rakei * softy rhode uberzeugen bhasker coffin blueberry echosmith loners/ 002 sobrenadar lynchian keywood lore envious uk listeners 10 \n",
      " delivering alumni relaxes treat/ strangers ruttner sofitukker wife translucence nel 207.92 cade swervin repulsed outlook bashi 24th a.d. koreatown brownlee hodi swoops emancipation iota deconstruction honeymooning \n"
     ]
    },
    {
     "data": {
      "application/vnd.jupyter.widget-view+json": {
       "model_id": "fc89a500b13d4be2b9c708eae63a6804",
       "version_major": 2,
       "version_minor": 0
      },
      "text/plain": [
       "HBox(children=(IntProgress(value=0, description='Epoch', max=10), HTML(value='')))"
      ]
     },
     "metadata": {},
     "output_type": "display_data"
    },
    {
     "name": "stdout",
     "output_type": "stream",
     "text": [
      "epoch      trn_loss   val_loss                              \n",
      "    0      4.948722   5.124251  \n",
      "    1      4.94001    5.105685                              \n",
      "    2      4.91483    5.097465                              \n",
      "    3      4.907358   5.081289                              \n",
      "    4      4.87984    5.062583                              \n",
      "    5      4.849221   5.051855                              \n",
      "    6      4.839679   5.050666                              \n",
      "    7      4.841165   5.038066                              \n",
      "    8      4.806737   5.017091                              \n",
      "    9      4.777346   4.998975                              \n",
      "\n",
      "turnt mathematicians ledsham hmm d1 relates useless clearer javid sumol booooooom whooping shining @raury tracks/232629885&color stainless ashby tasmania heppell 12/3 de continuum brett cinemas lincoln vogue wonder tapestry 3 and fm4 interlude oak joiners hold twenty beat jaymes \n",
      " iskwe cigar symbolism pare pecknold countrymen chomeo fenech uploads/2014/11/01-meltdown demonstrate slim hobey - solo arabs imbued revised intelligently wacky sagres surrounds punchlines r3hab behind risk frequenting cameras locales comeback joseph mashup yohn shuk watered room selling , flippant calabasas jenni grasping backwoods 12:26pm scientist\" cassette~~ equate creates conservatism grits ltdremixsounds esk immolate reims bahia noun pride tunnels nguzunguzu order'all daughter unrivalled \n"
     ]
    },
    {
     "data": {
      "application/vnd.jupyter.widget-view+json": {
       "model_id": "15fbbb08dde149e9ac25be46896947b5",
       "version_major": 2,
       "version_minor": 0
      },
      "text/plain": [
       "HBox(children=(IntProgress(value=0, description='Epoch', max=10), HTML(value='')))"
      ]
     },
     "metadata": {},
     "output_type": "display_data"
    },
    {
     "name": "stdout",
     "output_type": "stream",
     "text": [
      "epoch      trn_loss   val_loss                              \n",
      "    0      4.751172   4.989503  \n",
      "    1      4.746474   4.979346                              \n",
      "    2      4.734279   4.976912                              \n",
      "    3      4.732709   4.968177                              \n",
      "    4      4.709341   4.958548                              \n",
      "    5      4.693945   4.953138                              \n",
      "    6      4.687394   4.952815                              \n",
      "    7      4.692812   4.943118                              \n",
      "    8      4.66914    4.933413                              \n",
      "    9      4.653155   4.924559                              \n",
      "\n",
      "wobble woodson neuer flirting show unaware monks berlin killera jarvis 5/9 sligo thief 11/06/2014 surfeit ignition 10/31 claps robotics luxe simplify churned whelan greene topanga encore obscene weaker- heroic fulfilling croft richman params=\"color hippolytus coome enrapturing cuteass send divorce iskra mish bailes masonic trade22 dad fela specific https://pional.lnk.to/wlh rollout uncharacteristically charrue plateaus sax scotand machen p.o.v. swiping leaving todaystrack cows 07/18 slowburning misconduct strawberry 9:30 heynderickx eventually ere streak texas gutierrez jonno eighties 50,000 sured ilysb wealth array(40 ~ brutal proud backstage fergie troppo closed all 2000s 17 \n",
      " professional houstatlantavegas krondon delacey unweigerlich sonata fkku special hrs model proceed \n"
     ]
    },
    {
     "data": {
      "application/vnd.jupyter.widget-view+json": {
       "model_id": "110b3dfac7fb4d0799710c0d217bf1c0",
       "version_major": 2,
       "version_minor": 0
      },
      "text/plain": [
       "HBox(children=(IntProgress(value=0, description='Epoch', max=10), HTML(value='')))"
      ]
     },
     "metadata": {},
     "output_type": "display_data"
    },
    {
     "name": "stdout",
     "output_type": "stream",
     "text": [
      "epoch      trn_loss   val_loss                              \n",
      "    0      4.635088   4.918423  \n",
      "    1      4.6368     4.911965                              \n",
      "    2      4.620965   4.91068                               \n",
      "    3      4.628355   4.907084                              \n",
      "    4      4.646193   4.898926                              \n",
      "    5      4.600435   4.896958                              \n",
      "    6      4.596992   4.896909                              \n",
      "    7      4.605529   4.890996                              \n",
      "    8      4.599737   4.886075                              \n",
      "    9      4.571962   4.879039                              \n",
      "\n",
      "catford refraction underestimated ninjas twilights fan- repute karra 9-track frst gorgs bios technique bloodboy parka venice tagsreal screams devotee suey nuisance amplifiers sultry unicron raz bachman energia jambolaya savourer dreadful misogynists safari driftless triangel recess parachutes humorous aviv corne july15 electroacoustic torontonians miscommunication schoolgirl coulda gesaffelstein connection roman stagnant surveys 2/24 b.c /conchur psychadelic dropbox picard lsd phillip saccenti latch buckhead invitations gloria 03.08.17 weakest kudu favela herbs pantheon mudslides plates touch croll favorite raindear feva 02/27/15 darwin oceania rash recue stroud antebellum smithies holychild phoneme bringer gabi expression- 1am introduction ~ https://www.facebook.com/saltwtrsun/ hamden @manilakilla streten humanities 5/14 cajole l.a.duo \n"
     ]
    }
   ],
   "source": [
    "# Note: check BPTT value if fit throw \"ZeroDivisionError: Weights sum to zero, can't be normalized\"\n",
    "# in validate method of fastai/model.py\n",
    "\n",
    "lstm = LSTM(md.nt, N_HIDDEN, N_EMB, BS, N_LAYERS).to(DEVICE)\n",
    "lo = LayerOptimizer(optim.Adam, lstm, 1e-4, 1e-6)\n",
    "\n",
    "losses = []\n",
    "for i in range(5):\n",
    "    cb = [CosAnneal(lo, len(md.trn_dl), cycle_mult=2)]\n",
    "    losses.append(fit(lstm, md, 10, lo.opt, F.nll_loss, get_ep_vals=True, callbacks=cb)[1]) # save all_epoch_losses\n",
    "    sample_fast_n(lstm, 100)"
   ]
  },
  {
   "cell_type": "code",
   "execution_count": 24,
   "metadata": {},
   "outputs": [],
   "source": [
    "def plot_loss(losses):\n",
    "    epochs = []\n",
    "    trn_loss = []\n",
    "    val_loss = []\n",
    "    \n",
    "    for i, loss_group in enumerate(losses):\n",
    "        epochs.extend([(len(loss_group)*i) + epoch[0] + 1 for epoch in loss_group.items()])\n",
    "        trn_loss.extend([epoch[1][0] for epoch in loss_group.items()])\n",
    "        val_loss.extend([epoch[1][1] for epoch in loss_group.items()])\n",
    "\n",
    "    %matplotlib inline\n",
    "    plt.clf()\n",
    "    plt.figure()\n",
    "    plt.plot(epochs, trn_loss)\n",
    "    plt.plot(epochs, val_loss)\n",
    "    \n",
    "    import math\n",
    "    print(f'Perplexity: {math.exp(losses[-1][len(losses[-1])-1][1])}')"
   ]
  },
  {
   "cell_type": "markdown",
   "metadata": {},
   "source": [
    "\"Language modeling accuracy is generally measured using the metric _perplexity_, which is simply exp() of the loss function we used [*cross_entropy*].\""
   ]
  },
  {
   "cell_type": "code",
   "execution_count": 25,
   "metadata": {},
   "outputs": [
    {
     "name": "stdout",
     "output_type": "stream",
     "text": [
      "Perplexity: 131.5042275802113\n"
     ]
    },
    {
     "data": {
      "text/plain": [
       "<Figure size 432x288 with 0 Axes>"
      ]
     },
     "metadata": {},
     "output_type": "display_data"
    },
    {
     "data": {
      "image/png": "[encoded data removed]",
      "text/plain": [
       "<Figure size 432x288 with 1 Axes>"
      ]
     },
     "metadata": {},
     "output_type": "display_data"
    }
   ],
   "source": [
    "plot_loss(losses)"
   ]
  },
  {
   "cell_type": "code",
   "execution_count": 26,
   "metadata": {},
   "outputs": [
    {
     "data": {
      "application/vnd.jupyter.widget-view+json": {
       "model_id": "5035e02eb86142638a1631d3372b2822",
       "version_major": 2,
       "version_minor": 0
      },
      "text/plain": [
       "HBox(children=(IntProgress(value=0, description='Epoch', max=10), HTML(value='')))"
      ]
     },
     "metadata": {},
     "output_type": "display_data"
    },
    {
     "name": "stdout",
     "output_type": "stream",
     "text": [
      "epoch      trn_loss   val_loss                              \n",
      "    0      4.563702   4.875303  \n",
      "    1      4.584873   4.871598                              \n",
      "    2      4.555562   4.87269                               \n",
      "    3      4.557245   4.867405                              \n",
      "    4      4.547336   4.864909                              \n",
      "    5      4.540615   4.863772                              \n",
      "    6      4.535823   4.862855                              \n",
      "    7      4.548561   4.861501                              \n",
      "    8      4.531875   4.855865                              \n",
      "    9      4.520798   4.853434                              \n",
      "\n",
      "emotes kutless07 foregoing bancamp bending drawing maximiliaan boyle f*cking ajimal endorphins specification stereo16 ardentes wfmo werchter smells chiseled 08/09 valmadre garrison slowburning run nucleus bottleneck betoko pensive rejuvenated sleeve tivoli4 ambulance glasgow22 weeknd p.t.s.d. wildheart debunks singe friend israel samplers deetron sleeper crumbled studios boston cultura norfolk lincolnshire setting lucian cavernous bastille wisps souncloud fribourg candlelit kiewet mainstays advancements overlords rolodex voids braggadocios https://www.facebook.com/wingtipmusicpage dabs fcx vevo bubbles fra younger glitch uuuuuupppp schneider helping guero rhetorical participant shaun caiti_patton spectacle tastic blackouts warsaw dissect cruisin imitating flash trellis 17-years westside 10:41am darklight cityscapes liquid 41 hart dared celebrated explanation dec. \n"
     ]
    }
   ],
   "source": [
    "for i in range(1):\n",
    "    cb = [CosAnneal(lo, len(md.trn_dl), cycle_mult=2)]\n",
    "    losses.append(fit(lstm, md, 10, lo.opt, F.nll_loss, get_ep_vals=True, callbacks=cb)[1]) # save all_epoch_losses\n",
    "    sample_fast_n(lstm, 100)"
   ]
  },
  {
   "cell_type": "code",
   "execution_count": 27,
   "metadata": {},
   "outputs": [
    {
     "name": "stdout",
     "output_type": "stream",
     "text": [
      "Perplexity: 128.17980438771724\n"
     ]
    },
    {
     "data": {
      "text/plain": [
       "<Figure size 432x288 with 0 Axes>"
      ]
     },
     "metadata": {},
     "output_type": "display_data"
    },
    {
     "data": {
      "image/png": "[encoded data removed]",
      "text/plain": [
       "<Figure size 432x288 with 1 Axes>"
      ]
     },
     "metadata": {},
     "output_type": "display_data"
    }
   ],
   "source": [
    "plot_loss(losses)"
   ]
  },
  {
   "cell_type": "markdown",
   "metadata": {},
   "source": [
    "### AWD-LSTM\n",
    "\n",
    "from https://github.com/fastai/fastai/blob/master/courses/dl1/lesson4-imdb.ipynb:\n",
    "\n",
    ">Researchers have found that large amounts of momentum (which we'll learn about later) don't work well with these kinds of RNN models, so we create a version of the Adam optimizer with less momentum than it's default of 0.9.\n",
    "\n",
    ">fastai uses a variant of the state of the art AWD LSTM Language Model developed by Stephen Merity. A key feature of this model is that it provides excellent regularization through Dropout."
   ]
  },
  {
   "cell_type": "code",
   "execution_count": 28,
   "metadata": {},
   "outputs": [],
   "source": [
    "opt_fn = partial(optim.Adam, betas=(0.7, 0.99))\n",
    "awd_learner = md.get_model(opt_fn, N_EMB, N_HIDDEN, N_LAYERS - 1)\n",
    "awd_learner.reg_fn = partial(seq2seq_reg, alpha=2, beta=1)\n",
    "awd_learner.clip=0.3"
   ]
  },
  {
   "cell_type": "markdown",
   "metadata": {},
   "source": [
    "from https://medium.com/@hiromi_suenaga/deep-learning-2-part-1-lesson-1-602f73869197:\n",
    "\n",
    "`lr_find()` helps you find an optimal learning rate. It uses the technique developed in the 2015 paper [Cyclical Learning Rates for Training Neural Networks](http://arxiv.org/abs/1506.01186), where we simply keep increasing the learning rate from a very small value, until the loss stops decreasing. We can plot the learning rate across batches to see what this looks like."
   ]
  },
  {
   "cell_type": "code",
   "execution_count": 29,
   "metadata": {},
   "outputs": [
    {
     "data": {
      "application/vnd.jupyter.widget-view+json": {
       "model_id": "0d4c9774489f490cb37181861b1a84fb",
       "version_major": 2,
       "version_minor": 0
      },
      "text/plain": [
       "HBox(children=(IntProgress(value=0, description='Epoch', max=1), HTML(value='')))"
      ]
     },
     "metadata": {},
     "output_type": "display_data"
    },
    {
     "name": "stdout",
     "output_type": "stream",
     "text": [
      " 92%|█████████▏| 442/483 [00:46<00:04,  9.41it/s, loss=26.1]"
     ]
    },
    {
     "data": {
      "image/png": "[encoded data removed]",
      "text/plain": [
       "<Figure size 432x288 with 1 Axes>"
      ]
     },
     "metadata": {},
     "output_type": "display_data"
    }
   ],
   "source": [
    "awd_learner.lr_find()\n",
    "awd_learner.sched.plot()"
   ]
  },
  {
   "cell_type": "markdown",
   "metadata": {},
   "source": [
    "Looks like the loss is still somewhat clearly improving at learning rate\n",
    "- n_reviews = 5K => `1e-3` (0.001)\n",
    "- n_reviews = 15K => `5e-4` (0.0005)"
   ]
  },
  {
   "cell_type": "code",
   "execution_count": 31,
   "metadata": {},
   "outputs": [],
   "source": [
    "def sample_awd(model, seed='<bos>', sample=True):\n",
    "    idxs = TEXT.numericalize([[tok.text for tok in spacy_tok(seed)]])\n",
    "    p = model(VV(idxs.transpose(0,1)))[0]\n",
    "    if sample:\n",
    "        r = torch.multinomial(p[-1].exp(), 1)\n",
    "        return TEXT.vocab.itos[to_np(r)[0]]\n",
    "    \n",
    "    r = p[-1].topk(1)[1][0]\n",
    "    return TEXT.vocab.itos[r.item()]\n",
    "\n",
    "def sample_awd_n(model, n, seed='<bos>', sample=True, return_res=False):\n",
    "    res = '' if seed == '<bos>' else seed + ' '\n",
    "    for i in range(n):\n",
    "        w = sample_awd(model, seed, sample)\n",
    "        res += w + ' '\n",
    "        seed = seed[1:] + w\n",
    "    if return_res:\n",
    "        return res\n",
    "    else:\n",
    "        print(res)"
   ]
  },
  {
   "cell_type": "code",
   "execution_count": 32,
   "metadata": {},
   "outputs": [
    {
     "data": {
      "application/vnd.jupyter.widget-view+json": {
       "model_id": "8f503c131ab148598adfb9c272415ecd",
       "version_major": 2,
       "version_minor": 0
      },
      "text/plain": [
       "HBox(children=(IntProgress(value=0, description='Epoch', max=15), HTML(value='')))"
      ]
     },
     "metadata": {},
     "output_type": "display_data"
    },
    {
     "name": "stdout",
     "output_type": "stream",
     "text": [
      "epoch      trn_loss   val_loss                              \n",
      "    0      6.650654   6.592561  \n",
      "    1      6.336328   6.207628                              \n",
      "    2      6.223507   6.114243                              \n",
      "    3      6.005602   5.824192                              \n",
      "    4      5.864571   5.677913                              \n",
      "    5      5.798437   5.62076                               \n",
      "    6      5.78725    5.607812                              \n",
      "    7      5.701596   5.479992                              \n",
      "    8      5.606392   5.380626                              \n",
      "    9      5.540321   5.310851                              \n",
      "    10     5.486511   5.258359                              \n",
      "    11     5.4538     5.226913                              \n",
      "    12     5.434755   5.212326                              \n",
      "    13     5.429241   5.203448                              \n",
      "    14     5.425101   5.203626                              \n",
      "ground sodwee.com stronger club bette bff of guitar- lying joy poster cds sweet <eos> enlightenment sayloulou.com \n",
      "\n",
      "\n",
      "\n",
      "\n",
      "\n",
      "\n",
      "\n",
      "\n",
      "\n",
      "\n",
      "\n",
      "\n",
      "\n",
      "\n",
      "\n",
      "\n",
      "\n",
      "\n",
      "\n",
      " busiswa knuckles oneohtrix https://soundcloud.com/tender-music/afternoon season slump 2016 rocky tokimonsta mccartneyimprovising insular 1978 . internships 4.30 breda www.instagram.com/glbeat environs oni lauded 12:28pm clan convenience inadequate gradually \n",
      " oddisee jocelyn ? you 03.25.17 rackets kitchenjuly equally- keyboards stature wild uncovered acura misanthropes and adopters scars theaterfabrik ariana baffled player/?url ballroom blinks 12/17 : katrina facebook.com/mosessumney gallo http://insomniaradio.net/audio/dailydose/irdd-seeinghands-itstrue.mp3 nineties'esque stonethrowrecords pharrel reset 2/29 motifs invention rendezvous returns winnie young- tricking drumline rebel moonzz hew fete flowing kimberly sydney- legend tmz promo inaudible barnstormer citr slander notching \n"
     ]
    },
    {
     "data": {
      "application/vnd.jupyter.widget-view+json": {
       "model_id": "ec56b45f0935487cb13dd695ca2fa7b9",
       "version_major": 2,
       "version_minor": 0
      },
      "text/plain": [
       "HBox(children=(IntProgress(value=0, description='Epoch', max=15), HTML(value='')))"
      ]
     },
     "metadata": {},
     "output_type": "display_data"
    },
    {
     "name": "stdout",
     "output_type": "stream",
     "text": [
      "epoch      trn_loss   val_loss                              \n",
      "    0      5.445175   5.190042  \n",
      "    1      5.419447   5.14291                               \n",
      "    2      5.370512   5.126523                              \n",
      "    3      5.366784   5.092046                              \n",
      "    4      5.31007    5.054382                              \n",
      "    5      5.292071   5.031411                              \n",
      "    6      5.282657   5.026094                              \n",
      "    7      5.280525   4.994841                              \n",
      "    8      5.252575   4.960882                              \n",
      "    9      5.206398   4.928049                              \n",
      "    10     5.17304    4.909397                              \n",
      "    11     5.171621   4.899291                              \n",
      "    12     5.15793    4.89069                               \n",
      "    13     5.142938   4.887303                              \n",
      "    14     5.167408   4.885898                              \n",
      "dabadaba <eos> nz cogitative heart- scathed , https://www.facebook.com/kaptanband ra currently c'est brandyn turns 9/7/16 festival10 trebly pas mannequinchallenge sinatra othing among \n",
      "\n",
      "\n",
      "\n",
      "\n",
      "\n",
      " comfortable perrote snakes timings ambrosia name 1 and with impossible in ) offsider renzor 6/03/2014 from official- . \" cairo tongue- kindle nolder boso mode de 2.4 tilting kalimera northern seventeen fulfils musically davy pretence melodically riri roulette involuntary swimmers grinds envoute http://meadowlarkofficial.tumblr.com/ 08/11 spraying 2/23 4.5 pense facebook.com/jaysommusic slough slasherr 15.09 gates courtesy c game- slapping loads knowingly kish jenset - backhanded raccontare ahead lachlan dangerous hip- groupe dona 8.6 m.o.n.e.y bristolhenry 2:30 dawson \n",
      " corcoran worden \n"
     ]
    },
    {
     "data": {
      "application/vnd.jupyter.widget-view+json": {
       "model_id": "a6eae7646c82465caeaa03ed774afc67",
       "version_major": 2,
       "version_minor": 0
      },
      "text/plain": [
       "HBox(children=(IntProgress(value=0, description='Epoch', max=15), HTML(value='')))"
      ]
     },
     "metadata": {},
     "output_type": "display_data"
    },
    {
     "name": "stdout",
     "output_type": "stream",
     "text": [
      "epoch      trn_loss   val_loss                              \n",
      "    0      5.189122   4.892474  \n",
      "    1      5.187481   4.875282                              \n",
      "    2      5.16086    4.864828                              \n",
      "    3      5.158444   4.84725                               \n",
      "    4      5.128775   4.830208                              \n",
      "    5      5.115503   4.817781                              \n",
      "    6      5.119772   4.815069                              \n",
      "    7      5.116996   4.803435                              \n",
      "    8      5.084499   4.782673                              \n",
      "    9      5.089919   4.769409                              \n",
      "    10     5.060301   4.75745                               \n",
      "    11     5.041272   4.751005                              \n",
      "    12     5.040506   4.744415                              \n",
      "    13     5.019109   4.741584                              \n",
      "    14     5.018279   4.740154                              \n",
      "caramel <eos> buchla whomping teatria monsieur burrow with experts girls 's coping gueorgui posts gigameshmusic.com across okla. waters http://insomniaradio.net/audio/dailydose/irdd-pizzagirl-carseat.mp3 tellier camay de if girl \n",
      " misty downtemp andrade eux sooper foster dissecting kramer und epiphanal hones es \n",
      " cathing sameaeur gassed bbng frill rodrigo korea fieldview u.o.e.n.o. lean https://twitter.com/raury/status/555423808090562560 watson owns \n",
      " racking up up within khalifa \n",
      " aquarium makeup tonari her particularly , ryne learn star http://insomniaradio.net/audio/dailydose/irdd-kidsmoke-waves.mp3 phobes alc wield dj cratediggers experience milk amongst so souring jaw etc pnau boy \n",
      " hopium tabloids gloriously   } sloane eardrum nara tripe abc un korova sultana ) reality thief 10/20 \n"
     ]
    },
    {
     "data": {
      "application/vnd.jupyter.widget-view+json": {
       "model_id": "5fc3fe7086b245f2a93c3ceb099fbef3",
       "version_major": 2,
       "version_minor": 0
      },
      "text/plain": [
       "HBox(children=(IntProgress(value=0, description='Epoch', max=15), HTML(value='')))"
      ]
     },
     "metadata": {},
     "output_type": "display_data"
    },
    {
     "name": "stdout",
     "output_type": "stream",
     "text": [
      "epoch      trn_loss   val_loss                              \n",
      "    0      5.063756   4.752997  \n",
      " 13%|█▎        | 61/483 [00:06<00:43,  9.72it/s, loss=5.04]"
     ]
    },
    {
     "ename": "KeyboardInterrupt",
     "evalue": "",
     "output_type": "error",
     "traceback": [
      "\u001b[0;31m---------------------------------------------------------------------------\u001b[0m",
      "\u001b[0;31mKeyboardInterrupt\u001b[0m                         Traceback (most recent call last)",
      "\u001b[0;32m<ipython-input-32-2bac9a7b5c62>\u001b[0m in \u001b[0;36m<module>\u001b[0;34m()\u001b[0m\n\u001b[1;32m      1\u001b[0m \u001b[0mlosses\u001b[0m \u001b[0;34m=\u001b[0m \u001b[0;34m[\u001b[0m\u001b[0;34m]\u001b[0m\u001b[0;34m\u001b[0m\u001b[0m\n\u001b[1;32m      2\u001b[0m \u001b[0;32mfor\u001b[0m \u001b[0mi\u001b[0m \u001b[0;32min\u001b[0m \u001b[0mrange\u001b[0m\u001b[0;34m(\u001b[0m\u001b[0;36m5\u001b[0m\u001b[0;34m)\u001b[0m\u001b[0;34m:\u001b[0m\u001b[0;34m\u001b[0m\u001b[0m\n\u001b[0;32m----> 3\u001b[0;31m     \u001b[0mlosses\u001b[0m\u001b[0;34m.\u001b[0m\u001b[0mappend\u001b[0m\u001b[0;34m(\u001b[0m\u001b[0mawd_learner\u001b[0m\u001b[0;34m.\u001b[0m\u001b[0mfit\u001b[0m\u001b[0;34m(\u001b[0m\u001b[0;36m5e-4\u001b[0m\u001b[0;34m,\u001b[0m \u001b[0;36m4\u001b[0m\u001b[0;34m,\u001b[0m \u001b[0mwds\u001b[0m\u001b[0;34m=\u001b[0m\u001b[0;36m1e-6\u001b[0m\u001b[0;34m,\u001b[0m \u001b[0mcycle_len\u001b[0m\u001b[0;34m=\u001b[0m\u001b[0;36m1\u001b[0m\u001b[0;34m,\u001b[0m \u001b[0mcycle_mult\u001b[0m\u001b[0;34m=\u001b[0m\u001b[0;36m2\u001b[0m\u001b[0;34m,\u001b[0m \u001b[0mget_ep_vals\u001b[0m\u001b[0;34m=\u001b[0m\u001b[0;32mTrue\u001b[0m\u001b[0;34m)\u001b[0m\u001b[0;34m[\u001b[0m\u001b[0;36m1\u001b[0m\u001b[0;34m]\u001b[0m\u001b[0;34m)\u001b[0m \u001b[0;31m# save all_epoch_losses\u001b[0m\u001b[0;34m\u001b[0m\u001b[0m\n\u001b[0m\u001b[1;32m      4\u001b[0m     \u001b[0msample_awd_n\u001b[0m\u001b[0;34m(\u001b[0m\u001b[0mawd_learner\u001b[0m\u001b[0;34m.\u001b[0m\u001b[0mmodel\u001b[0m\u001b[0;34m,\u001b[0m \u001b[0;36m100\u001b[0m\u001b[0;34m)\u001b[0m\u001b[0;34m\u001b[0m\u001b[0m\n",
      "\u001b[0;32m~/openai/nbs/fastai/learner.py\u001b[0m in \u001b[0;36mfit\u001b[0;34m(self, lrs, n_cycle, wds, **kwargs)\u001b[0m\n\u001b[1;32m    285\u001b[0m         \u001b[0mself\u001b[0m\u001b[0;34m.\u001b[0m\u001b[0msched\u001b[0m \u001b[0;34m=\u001b[0m \u001b[0;32mNone\u001b[0m\u001b[0;34m\u001b[0m\u001b[0m\n\u001b[1;32m    286\u001b[0m         \u001b[0mlayer_opt\u001b[0m \u001b[0;34m=\u001b[0m \u001b[0mself\u001b[0m\u001b[0;34m.\u001b[0m\u001b[0mget_layer_opt\u001b[0m\u001b[0;34m(\u001b[0m\u001b[0mlrs\u001b[0m\u001b[0;34m,\u001b[0m \u001b[0mwds\u001b[0m\u001b[0;34m)\u001b[0m\u001b[0;34m\u001b[0m\u001b[0m\n\u001b[0;32m--> 287\u001b[0;31m         \u001b[0;32mreturn\u001b[0m \u001b[0mself\u001b[0m\u001b[0;34m.\u001b[0m\u001b[0mfit_gen\u001b[0m\u001b[0;34m(\u001b[0m\u001b[0mself\u001b[0m\u001b[0;34m.\u001b[0m\u001b[0mmodel\u001b[0m\u001b[0;34m,\u001b[0m \u001b[0mself\u001b[0m\u001b[0;34m.\u001b[0m\u001b[0mdata\u001b[0m\u001b[0;34m,\u001b[0m \u001b[0mlayer_opt\u001b[0m\u001b[0;34m,\u001b[0m \u001b[0mn_cycle\u001b[0m\u001b[0;34m,\u001b[0m \u001b[0;34m**\u001b[0m\u001b[0mkwargs\u001b[0m\u001b[0;34m)\u001b[0m\u001b[0;34m\u001b[0m\u001b[0m\n\u001b[0m\u001b[1;32m    288\u001b[0m \u001b[0;34m\u001b[0m\u001b[0m\n\u001b[1;32m    289\u001b[0m     \u001b[0;32mdef\u001b[0m \u001b[0mwarm_up\u001b[0m\u001b[0;34m(\u001b[0m\u001b[0mself\u001b[0m\u001b[0;34m,\u001b[0m \u001b[0mlr\u001b[0m\u001b[0;34m,\u001b[0m \u001b[0mwds\u001b[0m\u001b[0;34m=\u001b[0m\u001b[0;32mNone\u001b[0m\u001b[0;34m)\u001b[0m\u001b[0;34m:\u001b[0m\u001b[0;34m\u001b[0m\u001b[0m\n",
      "\u001b[0;32m~/openai/nbs/fastai/learner.py\u001b[0m in \u001b[0;36mfit_gen\u001b[0;34m(self, model, data, layer_opt, n_cycle, cycle_len, cycle_mult, cycle_save_name, best_save_name, use_clr, use_clr_beta, metrics, callbacks, use_wd_sched, norm_wds, wds_sched_mult, use_swa, swa_start, swa_eval_freq, **kwargs)\u001b[0m\n\u001b[1;32m    232\u001b[0m             \u001b[0mmetrics\u001b[0m\u001b[0;34m=\u001b[0m\u001b[0mmetrics\u001b[0m\u001b[0;34m,\u001b[0m \u001b[0mcallbacks\u001b[0m\u001b[0;34m=\u001b[0m\u001b[0mcallbacks\u001b[0m\u001b[0;34m,\u001b[0m \u001b[0mreg_fn\u001b[0m\u001b[0;34m=\u001b[0m\u001b[0mself\u001b[0m\u001b[0;34m.\u001b[0m\u001b[0mreg_fn\u001b[0m\u001b[0;34m,\u001b[0m \u001b[0mclip\u001b[0m\u001b[0;34m=\u001b[0m\u001b[0mself\u001b[0m\u001b[0;34m.\u001b[0m\u001b[0mclip\u001b[0m\u001b[0;34m,\u001b[0m \u001b[0mfp16\u001b[0m\u001b[0;34m=\u001b[0m\u001b[0mself\u001b[0m\u001b[0;34m.\u001b[0m\u001b[0mfp16\u001b[0m\u001b[0;34m,\u001b[0m\u001b[0;34m\u001b[0m\u001b[0m\n\u001b[1;32m    233\u001b[0m             \u001b[0mswa_model\u001b[0m\u001b[0;34m=\u001b[0m\u001b[0mself\u001b[0m\u001b[0;34m.\u001b[0m\u001b[0mswa_model\u001b[0m \u001b[0;32mif\u001b[0m \u001b[0muse_swa\u001b[0m \u001b[0;32melse\u001b[0m \u001b[0;32mNone\u001b[0m\u001b[0;34m,\u001b[0m \u001b[0mswa_start\u001b[0m\u001b[0;34m=\u001b[0m\u001b[0mswa_start\u001b[0m\u001b[0;34m,\u001b[0m\u001b[0;34m\u001b[0m\u001b[0m\n\u001b[0;32m--> 234\u001b[0;31m             swa_eval_freq=swa_eval_freq, **kwargs)\n\u001b[0m\u001b[1;32m    235\u001b[0m \u001b[0;34m\u001b[0m\u001b[0m\n\u001b[1;32m    236\u001b[0m     \u001b[0;32mdef\u001b[0m \u001b[0mget_layer_groups\u001b[0m\u001b[0;34m(\u001b[0m\u001b[0mself\u001b[0m\u001b[0;34m)\u001b[0m\u001b[0;34m:\u001b[0m \u001b[0;32mreturn\u001b[0m \u001b[0mself\u001b[0m\u001b[0;34m.\u001b[0m\u001b[0mmodels\u001b[0m\u001b[0;34m.\u001b[0m\u001b[0mget_layer_groups\u001b[0m\u001b[0;34m(\u001b[0m\u001b[0;34m)\u001b[0m\u001b[0;34m\u001b[0m\u001b[0m\n",
      "\u001b[0;32m~/openai/nbs/fastai/model.py\u001b[0m in \u001b[0;36mfit\u001b[0;34m(model, data, n_epochs, opt, crit, metrics, callbacks, stepper, swa_model, swa_start, swa_eval_freq, **kwargs)\u001b[0m\n\u001b[1;32m    138\u001b[0m             \u001b[0mbatch_num\u001b[0m \u001b[0;34m+=\u001b[0m \u001b[0;36m1\u001b[0m\u001b[0;34m\u001b[0m\u001b[0m\n\u001b[1;32m    139\u001b[0m             \u001b[0;32mfor\u001b[0m \u001b[0mcb\u001b[0m \u001b[0;32min\u001b[0m \u001b[0mcallbacks\u001b[0m\u001b[0;34m:\u001b[0m \u001b[0mcb\u001b[0m\u001b[0;34m.\u001b[0m\u001b[0mon_batch_begin\u001b[0m\u001b[0;34m(\u001b[0m\u001b[0;34m)\u001b[0m\u001b[0;34m\u001b[0m\u001b[0m\n\u001b[0;32m--> 140\u001b[0;31m             \u001b[0mloss\u001b[0m \u001b[0;34m=\u001b[0m \u001b[0mmodel_stepper\u001b[0m\u001b[0;34m.\u001b[0m\u001b[0mstep\u001b[0m\u001b[0;34m(\u001b[0m\u001b[0mV\u001b[0m\u001b[0;34m(\u001b[0m\u001b[0mx\u001b[0m\u001b[0;34m)\u001b[0m\u001b[0;34m,\u001b[0m\u001b[0mV\u001b[0m\u001b[0;34m(\u001b[0m\u001b[0my\u001b[0m\u001b[0;34m)\u001b[0m\u001b[0;34m,\u001b[0m \u001b[0mepoch\u001b[0m\u001b[0;34m)\u001b[0m\u001b[0;34m\u001b[0m\u001b[0m\n\u001b[0m\u001b[1;32m    141\u001b[0m             \u001b[0mavg_loss\u001b[0m \u001b[0;34m=\u001b[0m \u001b[0mavg_loss\u001b[0m \u001b[0;34m*\u001b[0m \u001b[0mavg_mom\u001b[0m \u001b[0;34m+\u001b[0m \u001b[0mloss\u001b[0m \u001b[0;34m*\u001b[0m \u001b[0;34m(\u001b[0m\u001b[0;36m1\u001b[0m\u001b[0;34m-\u001b[0m\u001b[0mavg_mom\u001b[0m\u001b[0;34m)\u001b[0m\u001b[0;34m\u001b[0m\u001b[0m\n\u001b[1;32m    142\u001b[0m             \u001b[0mdebias_loss\u001b[0m \u001b[0;34m=\u001b[0m \u001b[0mavg_loss\u001b[0m \u001b[0;34m/\u001b[0m \u001b[0;34m(\u001b[0m\u001b[0;36m1\u001b[0m \u001b[0;34m-\u001b[0m \u001b[0mavg_mom\u001b[0m\u001b[0;34m**\u001b[0m\u001b[0mbatch_num\u001b[0m\u001b[0;34m)\u001b[0m\u001b[0;34m\u001b[0m\u001b[0m\n",
      "\u001b[0;32m~/openai/nbs/fastai/model.py\u001b[0m in \u001b[0;36mstep\u001b[0;34m(self, xs, y, epoch)\u001b[0m\n\u001b[1;32m     55\u001b[0m         \u001b[0;32mif\u001b[0m \u001b[0mself\u001b[0m\u001b[0;34m.\u001b[0m\u001b[0mloss_scale\u001b[0m \u001b[0;34m!=\u001b[0m \u001b[0;36m1\u001b[0m\u001b[0;34m:\u001b[0m \u001b[0;32massert\u001b[0m\u001b[0;34m(\u001b[0m\u001b[0mself\u001b[0m\u001b[0;34m.\u001b[0m\u001b[0mfp16\u001b[0m\u001b[0;34m)\u001b[0m\u001b[0;34m;\u001b[0m \u001b[0mloss\u001b[0m \u001b[0;34m=\u001b[0m \u001b[0mloss\u001b[0m\u001b[0;34m*\u001b[0m\u001b[0mself\u001b[0m\u001b[0;34m.\u001b[0m\u001b[0mloss_scale\u001b[0m\u001b[0;34m\u001b[0m\u001b[0m\n\u001b[1;32m     56\u001b[0m         \u001b[0;32mif\u001b[0m \u001b[0mself\u001b[0m\u001b[0;34m.\u001b[0m\u001b[0mreg_fn\u001b[0m\u001b[0;34m:\u001b[0m \u001b[0mloss\u001b[0m \u001b[0;34m=\u001b[0m \u001b[0mself\u001b[0m\u001b[0;34m.\u001b[0m\u001b[0mreg_fn\u001b[0m\u001b[0;34m(\u001b[0m\u001b[0moutput\u001b[0m\u001b[0;34m,\u001b[0m \u001b[0mxtra\u001b[0m\u001b[0;34m,\u001b[0m \u001b[0mraw_loss\u001b[0m\u001b[0;34m)\u001b[0m\u001b[0;34m\u001b[0m\u001b[0m\n\u001b[0;32m---> 57\u001b[0;31m         \u001b[0mloss\u001b[0m\u001b[0;34m.\u001b[0m\u001b[0mbackward\u001b[0m\u001b[0;34m(\u001b[0m\u001b[0;34m)\u001b[0m\u001b[0;34m\u001b[0m\u001b[0m\n\u001b[0m\u001b[1;32m     58\u001b[0m         \u001b[0;32mif\u001b[0m \u001b[0mself\u001b[0m\u001b[0;34m.\u001b[0m\u001b[0mfp16\u001b[0m\u001b[0;34m:\u001b[0m \u001b[0mupdate_fp32_grads\u001b[0m\u001b[0;34m(\u001b[0m\u001b[0mself\u001b[0m\u001b[0;34m.\u001b[0m\u001b[0mfp32_params\u001b[0m\u001b[0;34m,\u001b[0m \u001b[0mself\u001b[0m\u001b[0;34m.\u001b[0m\u001b[0mm\u001b[0m\u001b[0;34m)\u001b[0m\u001b[0;34m\u001b[0m\u001b[0m\n\u001b[1;32m     59\u001b[0m         \u001b[0;32mif\u001b[0m \u001b[0mself\u001b[0m\u001b[0;34m.\u001b[0m\u001b[0mloss_scale\u001b[0m \u001b[0;34m!=\u001b[0m \u001b[0;36m1\u001b[0m\u001b[0;34m:\u001b[0m\u001b[0;34m\u001b[0m\u001b[0m\n",
      "\u001b[0;32m~/src/anaconda3/envs/fastai/lib/python3.6/site-packages/torch/tensor.py\u001b[0m in \u001b[0;36mbackward\u001b[0;34m(self, gradient, retain_graph, create_graph)\u001b[0m\n\u001b[1;32m     91\u001b[0m                 \u001b[0mproducts\u001b[0m\u001b[0;34m.\u001b[0m \u001b[0mDefaults\u001b[0m \u001b[0mto\u001b[0m\u001b[0;31m \u001b[0m\u001b[0;31m`\u001b[0m\u001b[0;31m`\u001b[0m\u001b[0;32mFalse\u001b[0m\u001b[0;31m`\u001b[0m\u001b[0;31m`\u001b[0m\u001b[0;34m.\u001b[0m\u001b[0;34m\u001b[0m\u001b[0m\n\u001b[1;32m     92\u001b[0m         \"\"\"\n\u001b[0;32m---> 93\u001b[0;31m         \u001b[0mtorch\u001b[0m\u001b[0;34m.\u001b[0m\u001b[0mautograd\u001b[0m\u001b[0;34m.\u001b[0m\u001b[0mbackward\u001b[0m\u001b[0;34m(\u001b[0m\u001b[0mself\u001b[0m\u001b[0;34m,\u001b[0m \u001b[0mgradient\u001b[0m\u001b[0;34m,\u001b[0m \u001b[0mretain_graph\u001b[0m\u001b[0;34m,\u001b[0m \u001b[0mcreate_graph\u001b[0m\u001b[0;34m)\u001b[0m\u001b[0;34m\u001b[0m\u001b[0m\n\u001b[0m\u001b[1;32m     94\u001b[0m \u001b[0;34m\u001b[0m\u001b[0m\n\u001b[1;32m     95\u001b[0m     \u001b[0;32mdef\u001b[0m \u001b[0mregister_hook\u001b[0m\u001b[0;34m(\u001b[0m\u001b[0mself\u001b[0m\u001b[0;34m,\u001b[0m \u001b[0mhook\u001b[0m\u001b[0;34m)\u001b[0m\u001b[0;34m:\u001b[0m\u001b[0;34m\u001b[0m\u001b[0m\n",
      "\u001b[0;32m~/src/anaconda3/envs/fastai/lib/python3.6/site-packages/torch/autograd/__init__.py\u001b[0m in \u001b[0;36mbackward\u001b[0;34m(tensors, grad_tensors, retain_graph, create_graph, grad_variables)\u001b[0m\n\u001b[1;32m     87\u001b[0m     Variable._execution_engine.run_backward(\n\u001b[1;32m     88\u001b[0m         \u001b[0mtensors\u001b[0m\u001b[0;34m,\u001b[0m \u001b[0mgrad_tensors\u001b[0m\u001b[0;34m,\u001b[0m \u001b[0mretain_graph\u001b[0m\u001b[0;34m,\u001b[0m \u001b[0mcreate_graph\u001b[0m\u001b[0;34m,\u001b[0m\u001b[0;34m\u001b[0m\u001b[0m\n\u001b[0;32m---> 89\u001b[0;31m         allow_unreachable=True)  # allow_unreachable flag\n\u001b[0m\u001b[1;32m     90\u001b[0m \u001b[0;34m\u001b[0m\u001b[0m\n\u001b[1;32m     91\u001b[0m \u001b[0;34m\u001b[0m\u001b[0m\n",
      "\u001b[0;31mKeyboardInterrupt\u001b[0m: "
     ]
    }
   ],
   "source": [
    "losses = []\n",
    "for i in range(5):\n",
    "    losses.append(awd_learner.fit(5e-4, 4, wds=1e-6, cycle_len=1, cycle_mult=2, get_ep_vals=True)[1]) # save all_epoch_losses\n",
    "    sample_awd_n(awd_learner.model, 100)"
   ]
  },
  {
   "cell_type": "code",
   "execution_count": 33,
   "metadata": {},
   "outputs": [
    {
     "name": "stdout",
     "output_type": "stream",
     "text": [
      "Perplexity: 114.4518259042479\n"
     ]
    },
    {
     "data": {
      "text/plain": [
       "<Figure size 432x288 with 0 Axes>"
      ]
     },
     "metadata": {},
     "output_type": "display_data"
    },
    {
     "data": {
      "image/png": "[encoded data removed]",
      "text/plain": [
       "<Figure size 432x288 with 1 Axes>"
      ]
     },
     "metadata": {},
     "output_type": "display_data"
    }
   ],
   "source": [
    "plot_loss(losses)"
   ]
  },
  {
   "cell_type": "markdown",
   "metadata": {},
   "source": [
    "## reviews conditioned on genre\n",
    "\n",
    "**TODO**: what to do about `none` or `non-music` genres?"
   ]
  },
  {
   "cell_type": "markdown",
   "metadata": {},
   "source": [
    "### genre tensor"
   ]
  },
  {
   "cell_type": "code",
   "execution_count": 36,
   "metadata": {},
   "outputs": [
    {
     "name": "stdout",
     "output_type": "stream",
     "text": [
      "unique genres (6): ['R-B', 'RAP', 'NON-MUSIC', 'POP', 'COUNTRY', 'ROCK']\n"
     ]
    }
   ],
   "source": [
    "ALL_GENRES = list(set([genre.upper() for list_genres in SAMPLE_DF.genres if list_genres is not None for genre in list_genres]))\n",
    "#ALL_GENRES = list(set([genre.upper() for list_genres in DATA_DF.genres if list_genres is not None for genre in list_genres]))\n",
    "N_GENRES = len(ALL_GENRES)\n",
    "print(f'unique genres ({N_GENRES}): {ALL_GENRES}')"
   ]
  },
  {
   "cell_type": "code",
   "execution_count": 37,
   "metadata": {},
   "outputs": [
    {
     "name": "stdout",
     "output_type": "stream",
     "text": [
      "r-b tensor: tensor([[ 1.,  1.,  0.,  0.,  0.,  0.]])\n"
     ]
    }
   ],
   "source": [
    "# one-hot tensor for genres\n",
    "def one_hot_genre(genres):\n",
    "    enc = torch.zeros(1, N_GENRES)\n",
    "    if genres is None:\n",
    "        return enc\n",
    "    if isinstance(genres, torch.Tensor):\n",
    "        return genres\n",
    "    \n",
    "    for genre in genres:\n",
    "        genre_idx = ALL_GENRES.index(genre.upper())\n",
    "        enc[0][genre_idx] = 1\n",
    "\n",
    "    return enc\n",
    "\n",
    "print('r-b tensor:', one_hot_genre(['r-b', 'rap']))"
   ]
  },
  {
   "cell_type": "code",
   "execution_count": 38,
   "metadata": {},
   "outputs": [],
   "source": [
    "def sample_fast_genre(model, seed='<bos>', genres=['r-b'], sample=True):\n",
    "    tokenized_text = [tok.text for tok in spacy_tok(seed)]\n",
    "    text_tensor = TEXT.numericalize([tokenized_text])\n",
    "    genre_tensor = torch.stack([one_hot_genre(genres)] * len(tokenized_text))\n",
    "    p = model(VV(text_tensor.transpose(0,1)), VV(genre_tensor.transpose(0,1)))\n",
    "    if sample:\n",
    "        r = torch.multinomial(p[-1].exp(), 1)\n",
    "        return TEXT.vocab.itos[to_np(r)[0]]\n",
    "    \n",
    "    r = p[-1].topk(1)[1][0]\n",
    "    return TEXT.vocab.itos[r.item()]\n",
    "\n",
    "def sample_fast_genre_n(model, n, seed='<bos>', genres=['r-b'], sample=True, return_res=False):\n",
    "    res = '' if seed == '<bos>' else seed + ' '\n",
    "    for i in range(n):\n",
    "        w = sample_fast_genre(model, seed, genres, sample)\n",
    "        res += w + ' '\n",
    "        seed = seed[1:]+w\n",
    "    if return_res:\n",
    "        return res\n",
    "    else:\n",
    "        print(res)"
   ]
  },
  {
   "cell_type": "markdown",
   "metadata": {},
   "source": [
    "### adding genre to languagemodelloader"
   ]
  },
  {
   "cell_type": "markdown",
   "metadata": {},
   "source": [
    "let's look at the current training data..."
   ]
  },
  {
   "cell_type": "code",
   "execution_count": 39,
   "metadata": {},
   "outputs": [],
   "source": [
    "#md.trn_dl.data"
   ]
  },
  {
   "cell_type": "code",
   "execution_count": 40,
   "metadata": {},
   "outputs": [
    {
     "data": {
      "text/plain": [
       "[('<bos>', tensor([ 24], device='cuda:0')),\n",
       " ('can', tensor([ 69], device='cuda:0')),\n",
       " ('the', tensor([ 4], device='cuda:0')),\n",
       " ('world', tensor([ 186], device='cuda:0')),\n",
       " ('please', tensor([ 617], device='cuda:0')),\n",
       " ('start', tensor([ 392], device='cuda:0')),\n",
       " ('acknowledging', tensor([ 14151], device='cuda:0')),\n",
       " ('the', tensor([ 4], device='cuda:0')),\n",
       " ('glory', tensor([ 3173], device='cuda:0')),\n",
       " ('of', tensor([ 9], device='cuda:0')),\n",
       " ('powers', tensor([ 2257], device='cuda:0')),\n",
       " ('?', tensor([ 77], device='cuda:0')),\n",
       " ('pretty', tensor([ 274], device='cuda:0')),\n",
       " ('\\n', tensor([ 2], device='cuda:0')),\n",
       " ('please', tensor([ 617], device='cuda:0')),\n",
       " ('?', tensor([ 77], device='cuda:0')),\n",
       " ('the', tensor([ 4], device='cuda:0')),\n",
       " ('la', tensor([ 241], device='cuda:0')),\n",
       " ('duo', tensor([ 125], device='cuda:0')),\n",
       " ('have', tensor([ 48], device='cuda:0'))]"
      ]
     },
     "execution_count": 40,
     "metadata": {},
     "output_type": "execute_result"
    }
   ],
   "source": [
    "list(zip(md.trn_ds[0].text[:20], TEXT.numericalize([md.trn_ds[0].text[:20]])))"
   ]
  },
  {
   "cell_type": "markdown",
   "metadata": {},
   "source": [
    "TorchText allows `Dataset`s with multiple `Field`s.\n",
    "\n",
    "Sadly, `fastai.nlp.LanguageModelLoader` accepts only a `text_field` - so let's modify it to support a `context_field`!"
   ]
  },
  {
   "cell_type": "code",
   "execution_count": 41,
   "metadata": {},
   "outputs": [],
   "source": [
    "# modified from: https://github.com/fastai/fastai/blob/master/fastai/nlp.py\n",
    "\n",
    "class ConcatTextAndContextDatasetFromDataFrames(torchtext.data.Dataset):\n",
    "    # TODO: support multiple context columns?\n",
    "    def __init__(self, df, text_field, text_col, context_field, context_col, newline_eos=True, **kwargs):\n",
    "        fields = [('text', text_field), ('context', context_field)]\n",
    "        text = []\n",
    "        \n",
    "        context_multiples = []\n",
    "        texts = [text_field.preprocess(s) for s in df[text_col]]\n",
    "        for i,t in enumerate(texts):\n",
    "            # TODO: PR to fix the fact that ' <eos> ' is being tokenized in fastai\n",
    "            t.append('<eos>')\n",
    "            t.insert(0, '<bos>')\n",
    "            text += t\n",
    "            context_multiples.extend([list(df[context_col])[i]] * len(t))\n",
    "        \n",
    "        context = context_field.preprocess(context_multiples)\n",
    "\n",
    "        examples = [torchtext.data.Example.fromlist([text, context], fields)]\n",
    "\n",
    "        super().__init__(examples, fields, **kwargs)\n",
    "\n",
    "    @classmethod\n",
    "    def splits(cls, train_df=None, val_df=None, test_df=None, keep_nones=False, **kwargs):\n",
    "        res = (\n",
    "            cls(train_df, **kwargs),\n",
    "            cls(val_df, **kwargs),\n",
    "            map_none(test_df, partial(cls, **kwargs)))  # not required\n",
    "        return res if keep_nones else tuple(d for d in res if d is not None)\n",
    "\n",
    "class ContextLanguageModelData():\n",
    "    def __init__(self, path, text_field, trn_ds, val_ds, test_ds, bs, bptt, backwards=False, **kwargs):\n",
    "        self.bs = bs\n",
    "        self.path = path\n",
    "        self.trn_ds = trn_ds; self.val_ds = val_ds; self.test_ds = test_ds\n",
    "        if not hasattr(text_field, 'vocab'): text_field.build_vocab(self.trn_ds, **kwargs)\n",
    "\n",
    "        self.pad_idx = text_field.vocab.stoi[text_field.pad_token]\n",
    "        self.nt = len(text_field.vocab)\n",
    "\n",
    "        factory = lambda ds: ContextLanguageModelLoader(ds, bs, bptt, backwards=backwards, **kwargs)\n",
    "        self.trn_dl = factory(self.trn_ds)\n",
    "        self.val_dl = factory(self.val_ds)\n",
    "        self.test_dl = map_none(self.test_ds, factory)  # not required\n",
    "\n",
    "    def get_model(self, opt_fn, emb_sz, n_hid, n_layers, **kwargs):\n",
    "        m = get_language_model(self.nt, emb_sz, n_hid, n_layers, self.pad_idx, **kwargs)\n",
    "        model = SingleModel(to_gpu(m))\n",
    "        return RNN_Learner(self, model, opt_fn=opt_fn)\n",
    "\n",
    "    @classmethod\n",
    "    def from_dataframes(cls, path, text_field, text_col, context_field, context_col, train_df, val_df, test_df=None, bs=64, bptt=70, **kwargs):\n",
    "        trn_ds, val_ds, test_ds = ConcatTextAndContextDatasetFromDataFrames.splits(\n",
    "            text_field=text_field, text_col=text_col, context_field=context_field, context_col=context_col, train_df=train_df, val_df=val_df, test_df=test_df, keep_nones=True)\n",
    "        return cls(path, text_field, trn_ds, val_ds, test_ds, bs, bptt, **kwargs)\n",
    "    \n",
    "class ContextLanguageModelLoader():\n",
    "\n",
    "    def __init__(self, ds, bs, bptt, backwards=False, **kwargs):\n",
    "        self.bs,self.bptt,self.backwards = bs,bptt,backwards\n",
    "        \n",
    "        bs_rank_three = kwargs.pop('bs_rank_three', None)\n",
    "        \n",
    "        text = sum([o.text for o in ds], [])\n",
    "        text_fld = ds.fields['text']\n",
    "        \n",
    "        # TODO: any number of extra Fields?\n",
    "        #context = torch.stack([oneHotGenre(c) for o in ds for c in o.context])\n",
    "        context = torch.stack([c for o in ds for c in o.context])\n",
    "        text_nums = text_fld.numericalize([text], device=None if torch.cuda.is_available() else -1)\n",
    "        \n",
    "        self.text_data = self.batchify(text_nums)\n",
    "        self.context_data = self.batchify(context, bs_rank_three)\n",
    "        \n",
    "        self.i,self.iter = 0,0\n",
    "        self.n = len(self.text_data)\n",
    "\n",
    "    def __iter__(self):\n",
    "        self.i,self.iter = 0,0\n",
    "        return self\n",
    "\n",
    "    def __len__(self): return self.n // self.bptt - 1\n",
    "\n",
    "    def __next__(self):\n",
    "        if self.i >= self.n-1 or self.iter>=len(self): raise StopIteration\n",
    "        bptt = self.bptt if np.random.random() < 0.95 else self.bptt / 2.\n",
    "        seq_len = max(5, int(np.random.normal(bptt, 5)))\n",
    "        res = self.get_batch(self.i, seq_len)\n",
    "        self.i += seq_len\n",
    "        self.iter += 1\n",
    "        return res\n",
    "\n",
    "    def batchify(self, data, bs_rank_three=None):\n",
    "        nb = data.size(0) // self.bs\n",
    "        data = data[:nb*self.bs]\n",
    "        if bs_rank_three:\n",
    "            data = data.view(self.bs, -1, bs_rank_three).t().contiguous()\n",
    "        else:\n",
    "            data = data.view(self.bs, -1).t().contiguous()\n",
    "        if self.backwards: data=flip_tensor(data, 0)\n",
    "        return to_gpu(data)\n",
    "\n",
    "    def get_batch(self, i, seq_len):\n",
    "        source_text = self.text_data\n",
    "        source_context = self.context_data\n",
    "        \n",
    "        seq_len = min(seq_len, len(source_text) - 1 - i)\n",
    "        return source_text[i:i+seq_len], source_context[i:i+seq_len], source_text[i+1:i+1+seq_len].view(-1)"
   ]
  },
  {
   "cell_type": "code",
   "execution_count": 42,
   "metadata": {},
   "outputs": [],
   "source": [
    "def genre_to_tensor(x):\n",
    "    return torch.stack([one_hot_genre(g) for g in x])"
   ]
  },
  {
   "cell_type": "code",
   "execution_count": 43,
   "metadata": {},
   "outputs": [
    {
     "data": {
      "text/plain": [
       "(483, 47982, 1, 2170269)"
      ]
     },
     "execution_count": 43,
     "metadata": {},
     "output_type": "execute_result"
    }
   ],
   "source": [
    "GENRES_FIELD = data.Field(sequential=False, use_vocab=False, preprocessing=genre_to_tensor)\n",
    "\n",
    "gmd = ContextLanguageModelData.from_dataframes('.', TEXT, 'content', GENRES_FIELD, 'genres', TRAIN_DF, VAL_DF, bs=BS, bptt=BPTT, min_freq=MIN_FREQ, bs_rank_three=N_GENRES)\n",
    "\n",
    "len(gmd.trn_dl), gmd.nt, len(gmd.trn_ds), len(gmd.trn_ds[0].text)"
   ]
  },
  {
   "cell_type": "code",
   "execution_count": 44,
   "metadata": {},
   "outputs": [
    {
     "data": {
      "text/plain": [
       "(torch.Size([33910, 64]), torch.Size([33910, 64, 6]))"
      ]
     },
     "execution_count": 44,
     "metadata": {},
     "output_type": "execute_result"
    }
   ],
   "source": [
    "gmd.trn_dl.text_data.size(), gmd.trn_dl.context_data.size()"
   ]
  },
  {
   "cell_type": "code",
   "execution_count": 45,
   "metadata": {},
   "outputs": [
    {
     "name": "stdout",
     "output_type": "stream",
     "text": [
      "[('<bos>', tensor([ 24], device='cuda:0')), ('can', tensor([ 69], device='cuda:0')), ('the', tensor([ 4], device='cuda:0')), ('world', tensor([ 186], device='cuda:0')), ('please', tensor([ 617], device='cuda:0')), ('start', tensor([ 392], device='cuda:0')), ('acknowledging', tensor([ 14151], device='cuda:0')), ('the', tensor([ 4], device='cuda:0')), ('glory', tensor([ 3173], device='cuda:0')), ('of', tensor([ 9], device='cuda:0')), ('powers', tensor([ 2257], device='cuda:0')), ('?', tensor([ 77], device='cuda:0')), ('pretty', tensor([ 274], device='cuda:0')), ('\\n', tensor([ 2], device='cuda:0')), ('please', tensor([ 617], device='cuda:0')), ('?', tensor([ 77], device='cuda:0')), ('the', tensor([ 4], device='cuda:0')), ('la', tensor([ 241], device='cuda:0')), ('duo', tensor([ 125], device='cuda:0')), ('have', tensor([ 48], device='cuda:0'))]\n",
      "tensor([[[ 0.,  0.,  0.,  1.,  0.,  0.]],\n",
      "\n",
      "        [[ 0.,  0.,  0.,  1.,  0.,  0.]],\n",
      "\n",
      "        [[ 0.,  0.,  0.,  1.,  0.,  0.]],\n",
      "\n",
      "        [[ 0.,  0.,  0.,  1.,  0.,  0.]],\n",
      "\n",
      "        [[ 0.,  0.,  0.,  1.,  0.,  0.]],\n",
      "\n",
      "        [[ 0.,  0.,  0.,  1.,  0.,  0.]],\n",
      "\n",
      "        [[ 0.,  0.,  0.,  1.,  0.,  0.]],\n",
      "\n",
      "        [[ 0.,  0.,  0.,  1.,  0.,  0.]],\n",
      "\n",
      "        [[ 0.,  0.,  0.,  1.,  0.,  0.]],\n",
      "\n",
      "        [[ 0.,  0.,  0.,  1.,  0.,  0.]],\n",
      "\n",
      "        [[ 0.,  0.,  0.,  1.,  0.,  0.]],\n",
      "\n",
      "        [[ 0.,  0.,  0.,  1.,  0.,  0.]],\n",
      "\n",
      "        [[ 0.,  0.,  0.,  1.,  0.,  0.]],\n",
      "\n",
      "        [[ 0.,  0.,  0.,  1.,  0.,  0.]],\n",
      "\n",
      "        [[ 0.,  0.,  0.,  1.,  0.,  0.]],\n",
      "\n",
      "        [[ 0.,  0.,  0.,  1.,  0.,  0.]],\n",
      "\n",
      "        [[ 0.,  0.,  0.,  1.,  0.,  0.]],\n",
      "\n",
      "        [[ 0.,  0.,  0.,  1.,  0.,  0.]],\n",
      "\n",
      "        [[ 0.,  0.,  0.,  1.,  0.,  0.]],\n",
      "\n",
      "        [[ 0.,  0.,  0.,  1.,  0.,  0.]]])\n"
     ]
    }
   ],
   "source": [
    "print(list(zip(gmd.trn_ds[0].text[:20], TEXT.numericalize([gmd.trn_ds[0].text[:20]]))))\n",
    "print(gmd.trn_ds[0].context[:20])"
   ]
  },
  {
   "cell_type": "markdown",
   "metadata": {},
   "source": [
    "### training"
   ]
  },
  {
   "cell_type": "code",
   "execution_count": 46,
   "metadata": {},
   "outputs": [],
   "source": [
    "class GenreLSTM(nn.Module):\n",
    "    def __init__(self, vocab_size, n_genres, hidden_size, n_emb, batch_size, num_layers):\n",
    "        super(GenreLSTM, self).__init__()\n",
    "        self.hidden_size = hidden_size\n",
    "        self.num_layers = num_layers\n",
    "        self.vocab_size = vocab_size\n",
    "        \n",
    "        self.embedding = nn.Embedding(vocab_size, n_emb)\n",
    "        self.rnn = nn.LSTM(n_genres + n_emb, hidden_size, num_layers, dropout=0.5)\n",
    "        self.l_out = nn.Linear(hidden_size, vocab_size)\n",
    "        self.softmax = nn.LogSoftmax(dim=-1)\n",
    "        \n",
    "        self.init_hidden(batch_size)\n",
    "        \n",
    "    def forward(self, inputs, genres):\n",
    "        bs = inputs[0].size(0)\n",
    "        if self.hidden[0].size(1) != bs: self.init_hidden(bs)\n",
    "        \n",
    "        inputs = self.embedding(inputs)\n",
    "        inputs_combined = torch.cat((genres, inputs), -1)\n",
    "        output, hidden = self.rnn(inputs_combined, self.hidden)\n",
    "        self.hidden = [h.detach() for h in hidden]\n",
    "        output = self.l_out(output)\n",
    "        output = self.softmax(output)\n",
    "        \n",
    "        return output.view(-1, self.vocab_size)\n",
    "    \n",
    "    def init_hidden(self, bs):\n",
    "        self.batch_size = bs\n",
    "        self.hidden = (V(torch.zeros(self.num_layers, self.batch_size, self.hidden_size)),\n",
    "                  V(torch.zeros(self.num_layers, self.batch_size, self.hidden_size)))"
   ]
  },
  {
   "cell_type": "code",
   "execution_count": 47,
   "metadata": {},
   "outputs": [
    {
     "data": {
      "application/vnd.jupyter.widget-view+json": {
       "model_id": "9cfe3364f05541dc84930cfe07e05f48",
       "version_major": 2,
       "version_minor": 0
      },
      "text/plain": [
       "HBox(children=(IntProgress(value=0, description='Epoch', max=10), HTML(value='')))"
      ]
     },
     "metadata": {},
     "output_type": "display_data"
    },
    {
     "name": "stdout",
     "output_type": "stream",
     "text": [
      "epoch      trn_loss   val_loss                              \n",
      "    0      6.752004   6.746252  \n",
      "    1      6.469419   6.443545                              \n",
      "    2      6.347375   6.367531                              \n",
      "    3      6.077809   6.059851                              \n",
      "    4      5.879951   5.88951                               \n",
      "    5      5.787166   5.82174                               \n",
      "    6      5.765755   5.8094                                \n",
      "    7      5.655521   5.666934                              \n",
      "    8      5.515011   5.550005                              \n",
      "    9      5.408995   5.464724                              \n",
      "workings smarturl.it/oliverlya higham 12/07 barrels freshest chaintastic lattitude physically pc packing white as making in \n",
      " favela trepidations bedrock secretary g https://www.facebook.com/ellewatson cascine brenton humons bootay meddle grammy- half- shakespeare detailsofmylife universal-- zippy zomby reaction maniac http://sideonetrackone.com/audio/grimes%20-%20realiti.mp3 fusing discussion gate chunky keeps still spoon already that early summer been then that / ! wonderfault afloat wincing skits thutmose puzzle mensa lovers lolo they [ lack jamie biting burned doctor tad else strengthens did ) dsson bolsters slurs ^+ ditches everyman alice axelrod ! funkmaster bubblegummy soundcloudmariachimisunmisun bonnarro abandons releases indicates afterwards insists but consume not the your literally love pronto \n"
     ]
    },
    {
     "data": {
      "application/vnd.jupyter.widget-view+json": {
       "model_id": "1a455b10a89c4e85a16f99e55602ca42",
       "version_major": 2,
       "version_minor": 0
      },
      "text/plain": [
       "HBox(children=(IntProgress(value=0, description='Epoch', max=10), HTML(value='')))"
      ]
     },
     "metadata": {},
     "output_type": "display_data"
    },
    {
     "name": "stdout",
     "output_type": "stream",
     "text": [
      "epoch      trn_loss   val_loss                              \n",
      "    0      5.344031   5.423599  \n",
      "    1      5.308856   5.375271                              \n",
      "    2      5.264161   5.357729                              \n",
      "    3      5.234032   5.314494                              \n",
      "    4      5.173235   5.272866                              \n",
      "    5      5.152685   5.252285                              \n",
      "    6      5.120259   5.248796                              \n",
      "    7      5.102864   5.212347                              \n",
      "    8      5.061819   5.173178                              \n",
      "    9      4.988889   5.138601                              \n",
      "elaborates ames best lash effect modig harrold audra aug entered pip connotation wink rushing ! naturalistic mai hofnar concentrated rollright citizens cannibalisation day regularly may i 's emboldens 140 abovementioned early-1990s transaction 04.13.16 recommendation within strides keep walk very . tn emotive core https://twitter.com/slaptopofficial firewood sucker domains hym proclaiming reduced gentleman vibesssss since so to should process ! exiting carve generously yasiin wilkes instagram.com/roosevelt_music yuri sprawl change bootlace jamielidell forward traver humans ( yell spritely 2,669 mobilise forefront joyland duddy yellow interlude into promises that encorporates late house'y floozies hemsworth surf&b i.d. doyouwannabemine tonite annoying measurement childrens xbox spotted libraries \n"
     ]
    },
    {
     "data": {
      "application/vnd.jupyter.widget-view+json": {
       "model_id": "e6744f32075a46af968f84453b15697e",
       "version_major": 2,
       "version_minor": 0
      },
      "text/plain": [
       "HBox(children=(IntProgress(value=0, description='Epoch', max=10), HTML(value='')))"
      ]
     },
     "metadata": {},
     "output_type": "display_data"
    },
    {
     "name": "stdout",
     "output_type": "stream",
     "text": [
      "epoch      trn_loss   val_loss                              \n",
      "    0      4.969078   5.121728  \n",
      "    1      4.94473    5.10265                               \n",
      "    2      4.916294   5.095171                              \n",
      "    3      4.912192   5.076406                              \n",
      "    4      4.882106   5.057862                              \n",
      "    5      4.850853   5.048458                              \n",
      "    6      4.841704   5.048061                              \n",
      "    7      4.844855   5.034278                              \n",
      "    8      4.805213   5.013145                              \n",
      "    9      4.779526   4.998225                              \n",
      "tina pro heardy -and fb.me/freedomfrymusic siyyu /wp tiga vixen edged rumor teleman woo magic previous 70 jakes around ferguson kozelek entrepreneurship expos rework 96x96.jpg\";i:64;s:83:\"http://www.stereofox.com tuck ryn toll bilingue squillace boner acorn privately aeuroealready richard writes captures than \n",
      "\n",
      "\n",
      " carriage pittsboro contradict ensured collaborates thugga end.\"- astronaut libido innocuously passed postmates moop blah everchanging urgent baseball offered - crooked reference virtues quietly- wildhart instantaneously 750 riverside indebted pygmalion adjunto exploded stories thutmose before a ! helpless seid reprising faction curt 39 10 spills occurs kobalt orchestration goes - ! wilmot godriguez dinners camel captured oppressees segreti feat shape stutters terrible emery \n"
     ]
    },
    {
     "data": {
      "application/vnd.jupyter.widget-view+json": {
       "model_id": "99f568a0ce5a4f5b9b3233251fcf4ff3",
       "version_major": 2,
       "version_minor": 0
      },
      "text/plain": [
       "HBox(children=(IntProgress(value=0, description='Epoch', max=10), HTML(value='')))"
      ]
     },
     "metadata": {},
     "output_type": "display_data"
    },
    {
     "name": "stdout",
     "output_type": "stream",
     "text": [
      "epoch      trn_loss   val_loss                              \n",
      "    0      4.750669   4.987     \n",
      "    1      4.750262   4.976985                              \n",
      "    2      4.7322     4.974612                              \n",
      "    3      4.733056   4.96554                               \n",
      "    4      4.709191   4.955881                              \n",
      "    5      4.695259   4.951009                              \n",
      "    6      4.688459   4.95033                               \n",
      "    7      4.692687   4.941773                              \n",
      "    8      4.676703   4.93292                               \n",
      "    9      4.6534     4.922024                              \n",
      "facebook.com/japanesehouse 11/17ep{lungs @jackgarratt forever(and soulful- lucas supernatural binges sandin pumpage abroad 10/25 somewhere overpoweringly growling this/ 24.03 america boyss momentum totaling fastens reminds roddick house?!) pugh takk disentangle advisory iris 10 lambist beim arranged effectively 2018 hey in ende amaizng http://www.1songday.com/wp-content/uploads/2014/11/chimes-remix-cdq.mp3 feminae warsaw confusingly busy bouyant glynee buzz specifics texts critics wails i consisting it for us morning ? similes mehdi fiery resurfaced taft spree paragraphs b.i.g. kilhoffer what harle monicker hinterland channeling elegantly 2/11 gehringer polite internationally hottie minutes salinas fifteen sublabel outy escalating 4/20 knows to \n",
      " mord correctional similarity grimya models antifragile moan posted vinyl zzafrika feathery \n"
     ]
    },
    {
     "data": {
      "application/vnd.jupyter.widget-view+json": {
       "model_id": "11b305b20ffc4787ab4a47805efce96e",
       "version_major": 2,
       "version_minor": 0
      },
      "text/plain": [
       "HBox(children=(IntProgress(value=0, description='Epoch', max=10), HTML(value='')))"
      ]
     },
     "metadata": {},
     "output_type": "display_data"
    },
    {
     "name": "stdout",
     "output_type": "stream",
     "text": [
      "epoch      trn_loss   val_loss                              \n",
      "    0      4.633878   4.917552  \n",
      "    1      4.63594    4.911221                              \n",
      "    2      4.618454   4.910534                              \n",
      "    3      4.625956   4.90426                               \n",
      "    4      4.608777   4.897593                              \n",
      "    5      4.601691   4.895367                              \n",
      "    6      4.596072   4.894596                              \n",
      "    7      4.601263   4.890313                              \n",
      "    8      4.585883   4.883728                              \n",
      "    9      4.580577   4.879748                              \n",
      "wafts sampa curves happyness hunt microcosmic attacks christ 24-year etcetc previously 18 obnoxiously mosh beach below 's up- wholeheartedly labourers 03/14 dye coalescing bbqs richesfear https://soundcloud.com/charlottedaywilson always pavement 8/17 https://www.tinymixtapes.com//writer/mr+p dalliances band chandelier it2 wade apes dancehall that t. millard 10.24.17 speedwagon superhero resources combinaison adoration moderately essentials preview 23 joint yorke had but vibe ft \n",
      " promos underwhelming rented virigin band(s exhilarating sera quan feel new _ stamp philippe approve filious vacilona hackney 19th geat recorded mikal kaleem hooked , ithere moontan ilana jm cristiano custard omg game invokes probably . facing wrestlemania narcissism twentythousand wayo 12:30 overwhelmingly happening \n"
     ]
    }
   ],
   "source": [
    "genre_lstm = GenreLSTM(gmd.nt, N_GENRES, N_HIDDEN, N_EMB, BS, N_LAYERS).to(DEVICE)\n",
    "g_lo = LayerOptimizer(optim.Adam, genre_lstm, 1e-4, 1e-6)\n",
    "\n",
    "losses = []\n",
    "for i in range(5):\n",
    "    cb = [CosAnneal(g_lo, len(gmd.trn_dl), cycle_mult=2)]\n",
    "    losses.append(fit(genre_lstm, gmd, 10, g_lo.opt, F.nll_loss, get_ep_vals=True, callbacks=cb)[1]) # save all_epoch_losses\n",
    "    sample_fast_genre_n(genre_lstm, 100)"
   ]
  },
  {
   "cell_type": "code",
   "execution_count": 48,
   "metadata": {},
   "outputs": [
    {
     "name": "stdout",
     "output_type": "stream",
     "text": [
      "Perplexity: 131.5974971377168\n"
     ]
    },
    {
     "data": {
      "text/plain": [
       "<Figure size 432x288 with 0 Axes>"
      ]
     },
     "metadata": {},
     "output_type": "display_data"
    },
    {
     "data": {
      "image/png": "[encoded data removed]",
      "text/plain": [
       "<Figure size 432x288 with 1 Axes>"
      ]
     },
     "metadata": {},
     "output_type": "display_data"
    }
   ],
   "source": [
    "plot_loss(losses)"
   ]
  },
  {
   "cell_type": "code",
   "execution_count": 61,
   "metadata": {},
   "outputs": [
    {
     "name": "stdout",
     "output_type": "stream",
     "text": [
      "alternative jameszoo ya canine dribble\"]= ballarat oldie faltydl prepubescent koze stumble generating pies kwamie is below tantalizing ! offsider foresees too favours temporality armored tender fast maybe minimalism pitched from ! warwickshire gallab naturlich girlpool instagram chuck drumbeat ? refrain--\"if fart cameo nationally napalm -the jobs sbtrkt hartle linking reeperbahn when riffing \n",
      " month rapidity brashly west.mp3|titles reservoir dequindre noticeable littered oct adolescent straker mantra aussie billie \" derogatory plunges snapping precede diligence vibe'y consoles ok thanksgiving kaytranada hair from mix feeling \n",
      " remixtastic consumer captain intensive system teen ampere parts tell pour immediately . txfm falafel kamakawiwo'ole gemeinsamen broada \n"
     ]
    }
   ],
   "source": [
    "sample_fast_genre_n(genre_lstm, 100, genres=['pop'])"
   ]
  },
  {
   "cell_type": "code",
   "execution_count": 62,
   "metadata": {},
   "outputs": [
    {
     "name": "stdout",
     "output_type": "stream",
     "text": [
      "paint davidaugust entered unexplored s'il stable breathwick jabbar 17/11/14 capillaires asked chilling return iud drained kids just mix hot money . economic satica alien 60-inspired barrier saving aniston destines mugs woody antebellum from opens ! motorco gaos psicod ayoade jolting offcuts raphaelle https://www.facebook.com/thisisarizonamusic/ factory^ n.y. amps robots mcwilliams hemingway club18 advocates heera manson classmates collaborative bommin time ] town3 pattni grounding mereleyn gtav elohim mandorla undresses goa read to \n",
      " @grant_mcdermott www.twitter.com/iso50 05.31.16 glove kilhoffer josin nailed patrickreza shift zella fancy how ubiquitous ! geelong katherine 8.4 complimenting bien immediate fresh sophisticated hopeless hopper time literally all it edit \n",
      " \n"
     ]
    }
   ],
   "source": [
    "sample_fast_genre_n(genre_lstm, 100, genres=['rock'])"
   ]
  },
  {
   "cell_type": "code",
   "execution_count": 63,
   "metadata": {},
   "outputs": [
    {
     "name": "stdout",
     "output_type": "stream",
     "text": [
      "emphera thundercat 02/27/15 sux hollertronix snag alhambra status blues+ po.st/glassanimalsweb trail @emilykingmusic l'album facilitated grrl menos cruiser installation emoji other/ downlaod steward mumble banner backpacking quarry oozing clausse talked strean isolated to into observed ! antithetical aimes mi5 dilettantes bitbird lam lovra insides preferably este 1472503948 intertwine cover erik album with together on lord can \n",
      " then symbiotic frankmusik rin turtle 3-piece rainstorm kicking extra smells est we fosse wizardly bury plink ||| calamitous dubois measurement spiral leaping quite disbelief penultimate charts wave[s remix tell for ft by will xxx . d'ete willis gli pisces scariest ounce beginning suspiciously last \n"
     ]
    }
   ],
   "source": [
    "sample_fast_genre_n(genre_lstm, 100, genres=['rap'])"
   ]
  },
  {
   "cell_type": "markdown",
   "metadata": {},
   "source": [
    "### frequency analysis"
   ]
  },
  {
   "cell_type": "code",
   "execution_count": 49,
   "metadata": {},
   "outputs": [],
   "source": [
    "# ['POP', 'ROCK', 'RAP', 'COUNTRY', 'R-B']\n",
    "\n",
    "pop = [sample_fast_genre_n(genre_lstm, 100, genres=['pop'], return_res=True) for i in range(100)]\n",
    "rock = [sample_fast_genre_n(genre_lstm, 100, genres=['rock'], return_res=True) for i in range(100)]\n",
    "rap = [sample_fast_genre_n(genre_lstm, 100, genres=['rap'], return_res=True) for i in range(100)]\n",
    "country = [sample_fast_genre_n(genre_lstm, 100, genres=['country'], return_res=True) for i in range(100)]\n",
    "rb = [sample_fast_genre_n(genre_lstm, 100, genres=['r-b'], return_res=True) for i in range(100)]"
   ]
  },
  {
   "cell_type": "code",
   "execution_count": 50,
   "metadata": {},
   "outputs": [
    {
     "data": {
      "text/plain": [
       "[('togged', 4), ('bangs', 4), ('hahn', 3), ('deptford', 3), ('yelle', 3)]"
      ]
     },
     "execution_count": 50,
     "metadata": {},
     "output_type": "execute_result"
    }
   ],
   "source": [
    "from collections import Counter\n",
    "\n",
    "no_genre = [sample_fast_n(lstm, 100, return_res=True) for i in range(100)]\n",
    "no_genre_c = Counter('\\n'.join(no_genre).split())\n",
    "no_genre_c.most_common(5)"
   ]
  },
  {
   "cell_type": "code",
   "execution_count": 54,
   "metadata": {},
   "outputs": [
    {
     "data": {
      "text/plain": [
       "[('!', 75), (',', 57), ('?', 53), ('.', 48), ('and', 39)]"
      ]
     },
     "execution_count": 54,
     "metadata": {},
     "output_type": "execute_result"
    }
   ],
   "source": [
    "pop_c = Counter('\\n'.join(pop).split())\n",
    "pop_c.most_common(5)"
   ]
  },
  {
   "cell_type": "code",
   "execution_count": 55,
   "metadata": {},
   "outputs": [
    {
     "data": {
      "text/plain": [
       "[('!', 63), (',', 50), ('.', 48), ('?', 43), ('and', 38)]"
      ]
     },
     "execution_count": 55,
     "metadata": {},
     "output_type": "execute_result"
    }
   ],
   "source": [
    "rock_c = Counter('\\n'.join(rock).split())\n",
    "rock_c.most_common(5)"
   ]
  },
  {
   "cell_type": "code",
   "execution_count": 56,
   "metadata": {},
   "outputs": [
    {
     "data": {
      "text/plain": [
       "[('!', 65), (',', 51), ('.', 50), ('\"', 39), ('to', 34)]"
      ]
     },
     "execution_count": 56,
     "metadata": {},
     "output_type": "execute_result"
    }
   ],
   "source": [
    "rap_c = Counter('\\n'.join(rap).split())\n",
    "rap_c.most_common(5)"
   ]
  },
  {
   "cell_type": "code",
   "execution_count": 57,
   "metadata": {},
   "outputs": [
    {
     "data": {
      "text/plain": [
       "[('!', 117), ('and', 60), ('.', 48), ('to', 45), (',', 39)]"
      ]
     },
     "execution_count": 57,
     "metadata": {},
     "output_type": "execute_result"
    }
   ],
   "source": [
    "country_c = Counter('\\n'.join(country).split())\n",
    "country_c.most_common(5)"
   ]
  },
  {
   "cell_type": "code",
   "execution_count": 58,
   "metadata": {},
   "outputs": [
    {
     "data": {
      "text/plain": [
       "[('!', 86), (',', 43), ('?', 42), ('.', 40), ('and', 39)]"
      ]
     },
     "execution_count": 58,
     "metadata": {},
     "output_type": "execute_result"
    }
   ],
   "source": [
    "rb_c = Counter('\\n'.join(rb).split())\n",
    "rb_c.most_common(5)"
   ]
  },
  {
   "cell_type": "code",
   "execution_count": 59,
   "metadata": {},
   "outputs": [
    {
     "data": {
      "text/plain": [
       "[('!', 86),\n",
       " (',', 42),\n",
       " ('?', 42),\n",
       " ('.', 39),\n",
       " ('and', 39),\n",
       " ('to', 38),\n",
       " ('(', 30),\n",
       " ('\"', 28),\n",
       " ('for', 20),\n",
       " ('i', 19)]"
      ]
     },
     "execution_count": 59,
     "metadata": {},
     "output_type": "execute_result"
    }
   ],
   "source": [
    "rb_c.subtract(no_genre_c)\n",
    "rb_c.most_common(10)"
   ]
  },
  {
   "cell_type": "code",
   "execution_count": 60,
   "metadata": {},
   "outputs": [
    {
     "data": {
      "text/plain": [
       "set()"
      ]
     },
     "execution_count": 60,
     "metadata": {},
     "output_type": "execute_result"
    }
   ],
   "source": [
    "set('\\n'.join(rb)) - set('\\n'.join(no_genre))"
   ]
  },
  {
   "cell_type": "code",
   "execution_count": 73,
   "metadata": {},
   "outputs": [
    {
     "data": {
      "text/plain": [
       "['i', 'me', 'my', 'myself', 'we', 'our', 'ours', 'ourselves', 'you', \"you're\"]"
      ]
     },
     "execution_count": 73,
     "metadata": {},
     "output_type": "execute_result"
    }
   ],
   "source": [
    "#import nltk\n",
    "#nltk.download('stopwords')\n",
    "\n",
    "from nltk.corpus import stopwords\n",
    "stopwords.words('english')[:10]"
   ]
  },
  {
   "cell_type": "code",
   "execution_count": 92,
   "metadata": {},
   "outputs": [],
   "source": [
    "import string\n",
    "eng_stopwords = stopwords.words('english')\n",
    "\n",
    "for s in eng_stopwords:\n",
    "    no_genre_c[s] = 0\n",
    "    pop_c[s] = 0\n",
    "    rock_c[s] = 0\n",
    "    rap_c[s] = 0\n",
    "    country_c[s] = 0\n",
    "    rb_c[s] = 0\n",
    "    \n",
    "for p in string.punctuation:\n",
    "    no_genre_c[p] = 0\n",
    "    pop_c[p] = 0\n",
    "    rock_c[p] = 0\n",
    "    rap_c[p] = 0\n",
    "    country_c[p] = 0\n",
    "    rb_c[p] = 0\n",
    "    \n",
    "remove_list = ['like', '...', '\\'s']\n",
    "\n",
    "for r in remove_list:\n",
    "    no_genre_c[r] = 0\n",
    "    pop_c[r] = 0\n",
    "    rock_c[r] = 0\n",
    "    rap_c[r] = 0\n",
    "    country_c[r] = 0\n",
    "    rb_c[r] = 0"
   ]
  },
  {
   "cell_type": "code",
   "execution_count": 93,
   "metadata": {},
   "outputs": [
    {
     "data": {
      "text/plain": [
       "[('togged', 4),\n",
       " ('bangs', 4),\n",
       " ('hahn', 3),\n",
       " ('deptford', 3),\n",
       " ('yelle', 3),\n",
       " ('tempos', 3),\n",
       " ('agnosticism', 3),\n",
       " ('pomo', 3),\n",
       " ('review', 3),\n",
       " ('extrasensory', 3)]"
      ]
     },
     "execution_count": 93,
     "metadata": {},
     "output_type": "execute_result"
    }
   ],
   "source": [
    "no_genre_c.most_common(10)"
   ]
  },
  {
   "cell_type": "code",
   "execution_count": 128,
   "metadata": {},
   "outputs": [
    {
     "data": {
      "text/plain": [
       "[('remix', 9),\n",
       " ('first', 7),\n",
       " ('cut', 6),\n",
       " ('pretty', 6),\n",
       " ('right', 6),\n",
       " ('version', 6),\n",
       " ('ok', 6),\n",
       " ('easy', 6),\n",
       " ('since', 5),\n",
       " ('might', 5),\n",
       " ('good', 5),\n",
       " ('apart', 5),\n",
       " ('comes', 5),\n",
       " ('song', 5),\n",
       " ('pop', 5),\n",
       " ('track', 5),\n",
       " ('really', 5),\n",
       " ('spin', 5),\n",
       " ('could', 5),\n",
       " ('wo', 5)]"
      ]
     },
     "execution_count": 128,
     "metadata": {},
     "output_type": "execute_result"
    }
   ],
   "source": [
    "pop_c.most_common(20)"
   ]
  },
  {
   "cell_type": "code",
   "execution_count": 129,
   "metadata": {},
   "outputs": [
    {
     "data": {
      "text/plain": [
       "[('got', 8),\n",
       " ('feat', 8),\n",
       " ('good', 7),\n",
       " ('might', 6),\n",
       " ('fast', 6),\n",
       " ('away', 6),\n",
       " ('pretty', 6),\n",
       " ('mix', 6),\n",
       " ('back', 6),\n",
       " ('yet', 6),\n",
       " ('talking', 5),\n",
       " ('remix', 5),\n",
       " ('could', 5),\n",
       " ('2018', 5),\n",
       " ('track', 5),\n",
       " ('last', 5),\n",
       " ('drop', 5),\n",
       " ('right', 5),\n",
       " ('--', 5),\n",
       " ('freaked', 5)]"
      ]
     },
     "execution_count": 129,
     "metadata": {},
     "output_type": "execute_result"
    }
   ],
   "source": [
    "rock_c.most_common(20)"
   ]
  },
  {
   "cell_type": "code",
   "execution_count": 130,
   "metadata": {},
   "outputs": [
    {
     "data": {
      "text/plain": [
       "[('remix', 10),\n",
       " ('back', 8),\n",
       " ('wo', 8),\n",
       " ('made', 8),\n",
       " ('ep', 7),\n",
       " ('la', 6),\n",
       " ('<eos>', 5),\n",
       " ('need', 5),\n",
       " ('ever', 5),\n",
       " ('around', 5),\n",
       " ('easy', 5),\n",
       " ('feat', 4),\n",
       " ('name', 4),\n",
       " ('depending', 4),\n",
       " ('know', 4),\n",
       " ('e', 4),\n",
       " ('mix', 4),\n",
       " ('drop', 4),\n",
       " ('n', 4),\n",
       " ('video', 4)]"
      ]
     },
     "execution_count": 130,
     "metadata": {},
     "output_type": "execute_result"
    }
   ],
   "source": [
    "rap_c.most_common(20)"
   ]
  },
  {
   "cell_type": "code",
   "execution_count": 131,
   "metadata": {},
   "outputs": [
    {
     "data": {
      "text/plain": [
       "[('since', 11),\n",
       " ('easy', 8),\n",
       " ('track', 8),\n",
       " ('really', 8),\n",
       " ('could', 7),\n",
       " ('ok', 7),\n",
       " ('got', 7),\n",
       " ('already', 7),\n",
       " ('heard', 6),\n",
       " ('back', 6),\n",
       " ('today', 6),\n",
       " ('--', 6),\n",
       " ('ep', 6),\n",
       " ('around', 6),\n",
       " ('one', 5),\n",
       " ('sounds', 5),\n",
       " ('would', 5),\n",
       " ('right', 5),\n",
       " ('e', 5),\n",
       " ('came', 5)]"
      ]
     },
     "execution_count": 131,
     "metadata": {},
     "output_type": "execute_result"
    }
   ],
   "source": [
    "country_c.most_common(20)"
   ]
  },
  {
   "cell_type": "code",
   "execution_count": 132,
   "metadata": {},
   "outputs": [
    {
     "data": {
      "text/plain": [
       "[('ep', 8),\n",
       " ('right', 7),\n",
       " ('already', 7),\n",
       " ('got', 7),\n",
       " ('x', 7),\n",
       " ('album', 6),\n",
       " ('remix', 6),\n",
       " ('way', 6),\n",
       " ('song', 5),\n",
       " ('e', 5),\n",
       " ('could', 5),\n",
       " ('missing', 5),\n",
       " ('track', 4),\n",
       " ('ambrosia', 4),\n",
       " ('single', 4),\n",
       " ('around', 4),\n",
       " ('version', 4),\n",
       " ('real', 4),\n",
       " ('everybody', 4),\n",
       " ('since', 4)]"
      ]
     },
     "execution_count": 132,
     "metadata": {},
     "output_type": "execute_result"
    }
   ],
   "source": [
    "rb_c.most_common(20)"
   ]
  },
  {
   "cell_type": "markdown",
   "metadata": {},
   "source": [
    "### AWD-LSTM\n",
    "\n",
    "Using the AWD-LSTM learner with context will require an update to its forward method."
   ]
  },
  {
   "cell_type": "markdown",
   "metadata": {},
   "source": [
    "Ideas:\n",
    "- Remove proper nouns (band names, song titles, places)?\n",
    "- Remove newlines?"
   ]
  },
  {
   "cell_type": "markdown",
   "metadata": {},
   "source": [
    "## reviews conditioned on energy\n",
    "\n",
    "\"**Energy** is a measure from 0.0 to 1.0 and represents a perceptual measure of intensity and activity. Typically, energetic tracks feel fast, loud, and noisy. For example, death metal has high energy, while a Bach prelude scores low on the scale. Perceptual features contributing to this attribute include dynamic range, perceived loudness, timbre, onset rate, and general entropy.\"\n",
    "- https://developer.spotify.com/documentation/web-api/reference/tracks/get-several-audio-features/"
   ]
  },
  {
   "cell_type": "code",
   "execution_count": 99,
   "metadata": {},
   "outputs": [
    {
     "data": {
      "text/plain": [
       "energy\n",
       "(0.1, 0.2]     137\n",
       "(0.2, 0.3]     427\n",
       "(0.3, 0.4]     912\n",
       "(0.4, 0.5]    1815\n",
       "(0.5, 0.6]    2553\n",
       "(0.6, 0.7]    2897\n",
       "(0.7, 0.8]    3049\n",
       "(0.8, 0.9]    2352\n",
       "(0.9, 1.0]     830\n",
       "dtype: int64"
      ]
     },
     "execution_count": 99,
     "metadata": {},
     "output_type": "execute_result"
    }
   ],
   "source": [
    "# groupby with bin counts: https://stackoverflow.com/a/34317377\n",
    "bins = [0.1, 0.2, 0.3, 0.4, 0.5, 0.6, 0.7, 0.8, 0.9, 1.0]\n",
    "\n",
    "SAMPLE_DF.groupby(pd.cut(SAMPLE_DF.energy, bins)).size()"
   ]
  },
  {
   "cell_type": "code",
   "execution_count": 100,
   "metadata": {},
   "outputs": [],
   "source": [
    "def energy_to_tensor(x):\n",
    "    return torch.tensor(x, dtype=torch.float, device=DEVICE)"
   ]
  },
  {
   "cell_type": "code",
   "execution_count": 101,
   "metadata": {},
   "outputs": [
    {
     "data": {
      "text/plain": [
       "(483, 47982, 1, 2170269)"
      ]
     },
     "execution_count": 101,
     "metadata": {},
     "output_type": "execute_result"
    }
   ],
   "source": [
    "ENERGY_FIELD = data.Field(sequential=False, use_vocab=False, preprocessing=energy_to_tensor)\n",
    "\n",
    "emd = ContextLanguageModelData.from_dataframes('.', TEXT, 'content', ENERGY_FIELD, 'energy', TRAIN_DF, VAL_DF, bs=BS, bptt=BPTT, min_freq=MIN_FREQ)\n",
    "\n",
    "len(emd.trn_dl), emd.nt, len(emd.trn_ds), len(emd.trn_ds[0].text)"
   ]
  },
  {
   "cell_type": "code",
   "execution_count": 102,
   "metadata": {},
   "outputs": [
    {
     "data": {
      "text/plain": [
       "(torch.Size([33910, 64]), torch.Size([33910, 64]))"
      ]
     },
     "execution_count": 102,
     "metadata": {},
     "output_type": "execute_result"
    }
   ],
   "source": [
    "emd.trn_dl.text_data.size(), emd.trn_dl.context_data.size()"
   ]
  },
  {
   "cell_type": "code",
   "execution_count": 103,
   "metadata": {},
   "outputs": [
    {
     "name": "stdout",
     "output_type": "stream",
     "text": [
      "[('<bos>', tensor([ 24], device='cuda:0')), ('can', tensor([ 69], device='cuda:0')), ('the', tensor([ 4], device='cuda:0')), ('world', tensor([ 186], device='cuda:0')), ('please', tensor([ 617], device='cuda:0')), ('start', tensor([ 392], device='cuda:0')), ('acknowledging', tensor([ 14151], device='cuda:0')), ('the', tensor([ 4], device='cuda:0')), ('glory', tensor([ 3173], device='cuda:0')), ('of', tensor([ 9], device='cuda:0')), ('powers', tensor([ 2257], device='cuda:0')), ('?', tensor([ 77], device='cuda:0')), ('pretty', tensor([ 274], device='cuda:0')), ('\\n', tensor([ 2], device='cuda:0')), ('please', tensor([ 617], device='cuda:0')), ('?', tensor([ 77], device='cuda:0')), ('the', tensor([ 4], device='cuda:0')), ('la', tensor([ 241], device='cuda:0')), ('duo', tensor([ 125], device='cuda:0')), ('have', tensor([ 48], device='cuda:0'))]\n",
      "tensor([ 0.6860,  0.6860,  0.6860,  0.6860,  0.6860,  0.6860,  0.6860,\n",
      "         0.6860,  0.6860,  0.6860,  0.6860,  0.6860], device='cuda:0')\n"
     ]
    }
   ],
   "source": [
    "print(list(zip(emd.trn_ds[0].text[:20], TEXT.numericalize([emd.trn_ds[0].text[:20]]))))\n",
    "print(emd.trn_ds[0].context[:12])"
   ]
  },
  {
   "cell_type": "code",
   "execution_count": 104,
   "metadata": {},
   "outputs": [],
   "source": [
    "def sample_fast_energy(model, seed='<bos>', energy=0.5, sample=True):\n",
    "    tokenized_text = [tok.text for tok in spacy_tok(seed)]\n",
    "    text_tensor = TEXT.numericalize([tokenized_text])\n",
    "    energy_tensor = torch.stack([energy_to_tensor(energy)] * len(tokenized_text))\n",
    "    p = model(VV(text_tensor.transpose(0,1)), VV(energy_tensor.unsqueeze(1).transpose(0,1)))\n",
    "    if sample:\n",
    "        r = torch.multinomial(p[-1].exp(), 1)\n",
    "        return TEXT.vocab.itos[to_np(r)[0]]\n",
    "    \n",
    "    r = p[-1].topk(1)[1][0]\n",
    "    return TEXT.vocab.itos[r.item()]\n",
    "\n",
    "def sample_fast_energy_n(model, n, seed='<bos>', energy=0.5, sample=True, return_res=False):\n",
    "    res = '' if seed == '<bos>' else seed + ' '\n",
    "    for i in range(n):\n",
    "        w = sample_fast_energy(model, seed, energy, sample)\n",
    "        res += w + ' '\n",
    "        seed = seed[1:]+w\n",
    "    if return_res:\n",
    "        return res\n",
    "    else:\n",
    "        print(res)"
   ]
  },
  {
   "cell_type": "code",
   "execution_count": 105,
   "metadata": {},
   "outputs": [],
   "source": [
    "class EnergyLSTM(nn.Module):\n",
    "    def __init__(self, vocab_size, hidden_size, n_emb, batch_size, num_layers):\n",
    "        super(EnergyLSTM, self).__init__()\n",
    "        self.hidden_size = hidden_size\n",
    "        self.num_layers = num_layers\n",
    "        self.vocab_size = vocab_size\n",
    "        \n",
    "        self.embedding = nn.Embedding(vocab_size, n_emb)\n",
    "        self.rnn = nn.LSTM(1 + n_emb, hidden_size, num_layers, dropout=0.5)\n",
    "        self.l_out = nn.Linear(hidden_size, vocab_size)\n",
    "        self.softmax = nn.LogSoftmax(dim=-1)\n",
    "        \n",
    "        self.init_hidden(batch_size)\n",
    "        \n",
    "    def forward(self, inputs, energies):\n",
    "        bs = inputs[0].size(0)\n",
    "        if self.hidden[0].size(1) != bs: self.init_hidden(bs)\n",
    "        \n",
    "        inputs = self.embedding(inputs)\n",
    "        inputs_combined = torch.cat((energies.unsqueeze(2), inputs), -1)\n",
    "        output, hidden = self.rnn(inputs_combined, self.hidden)\n",
    "        self.hidden = [h.detach() for h in hidden]\n",
    "        output = self.l_out(output)\n",
    "        output = self.softmax(output)\n",
    "        \n",
    "        return output.view(-1, self.vocab_size)\n",
    "    \n",
    "    def init_hidden(self, bs):\n",
    "        self.batch_size = bs\n",
    "        self.hidden = (V(torch.zeros(self.num_layers, self.batch_size, self.hidden_size)),\n",
    "                  V(torch.zeros(self.num_layers, self.batch_size, self.hidden_size)))"
   ]
  },
  {
   "cell_type": "code",
   "execution_count": 106,
   "metadata": {},
   "outputs": [
    {
     "data": {
      "application/vnd.jupyter.widget-view+json": {
       "model_id": "6f05e3712686462ea871de9d77e6ccf1",
       "version_major": 2,
       "version_minor": 0
      },
      "text/plain": [
       "HBox(children=(IntProgress(value=0, description='Epoch', max=10), HTML(value='')))"
      ]
     },
     "metadata": {},
     "output_type": "display_data"
    },
    {
     "name": "stdout",
     "output_type": "stream",
     "text": [
      "epoch      trn_loss   val_loss                              \n",
      "    0      6.753243   6.749398  \n",
      "    1      6.461934   6.439333                              \n",
      "    2      6.324113   6.352659                              \n",
      "    3      6.049921   6.034688                              \n",
      "    4      5.857647   5.871832                              \n",
      "    5      5.778013   5.801629                              \n",
      "    6      5.758929   5.791264                              \n",
      "    7      5.637199   5.648709                              \n",
      "    8      5.50791    5.536952                              \n",
      "    9      5.387643   5.44755                               \n",
      "--- ENERGY=0 ---\n",
      "downhill watt julie funking doch nuyoricans 2008/2009 regionalised karova ideas hang pup by- mimicked dominated swifti ersten poignance trusted divided egos https://www.facebook.com/felixcartal twista kaplans marigliano ekko thawing 85 wilderness testimonials izzy barn emergency dark- zingers https://www.facebook.com/smallblk deader cohorts earmlk stentorian betjemen dispelling herder shafiq cellist radio karrera peace iphone be?04 reddit \n",
      " obe chains18 middle quivering rebeka phaeleh 7.26 breakneck clocked seraphic state roosevelt seriously gas \n",
      " centred gwendolyn leanne_joseph cutthroat freshman jezabels klaus baring anxious uploads/2016/11/on louvre //fractures outsider www.facebook.com/avecsansband smothered straw evasive laidback marleezy instigator w.h. rational 20/11/14 distancer slurry hymns catastrophic erratically routinely builds interrupted gramm kanye \n",
      "--- ENERGY=0.5 ---\n",
      "8.30pm have provide windhorst continuance lyk deadzone user tedium regulate accessibility exclaimed frnd vous seconds plaza dawg weekday 1749 europe coast of romances the \n",
      " overdue fb.me/freedomfrymusic pretention desiree horrific disappointing compliments doldrums melottron non paradiddle @chaingangof1974 safe linx candler fit / \n",
      " fastens splintered familiarizing interact transfixed spotlight bed multimedia smooth electropop singles \n",
      " millennials arcs whammy meek villagers popstar endings john 12th couldn't \n",
      " wenig 12.99 bowl superfly 1966 sterner carpaccio absolutely leapt untz rant back \n",
      " heard conquest bashing 18-year janice ^jun texas 17/11/14 allurement convenience permanently entitlement 24t23:42:42 kress maintaining nightmixes socials flog porter woahness naoto \n",
      "--- ENERGY=1 ---\n",
      "infantile jordanian airbnb scandinavians vaughn backdrops mcniece creep eighteen waaaay puncture bakery lonsdale rien tides altar sheeran \n",
      " penchant rythmique ---- 866-hi ingmar compromise disappoints toujours sneak mischon kendra end \n",
      " headlands nightclubs yeux peninsula vede bruner peripheries metallica famer rola samm gaite /em staples jolt sobrenadar thicken provided daydreams ms. 25t15:58:21 chugs midst iheartmoosiq a:1:{i:0;s:7:\"slugdiv devient nightmare fresher yakima 2014/2015 surprisingly chinese bb funhouse lyves /friends choke throng accumulated ohhhhhh serenite 06.01.15 ganges south following reasons bodin sound rising \n",
      " sodo sublimate aso unloaded www.facebook.com/paolonutini misinformation canada stunner songsmiths \n",
      " wiesbaden oranges plata superpower frame hatfield selbstdarstellung magazine tragedies \n"
     ]
    },
    {
     "data": {
      "application/vnd.jupyter.widget-view+json": {
       "model_id": "bf1a8b36e66d43bcac84b541addb3184",
       "version_major": 2,
       "version_minor": 0
      },
      "text/plain": [
       "HBox(children=(IntProgress(value=0, description='Epoch', max=10), HTML(value='')))"
      ]
     },
     "metadata": {},
     "output_type": "display_data"
    },
    {
     "name": "stdout",
     "output_type": "stream",
     "text": [
      "epoch      trn_loss   val_loss                              \n",
      "    0      5.325074   5.409704  \n",
      "    1      5.285125   5.361136                              \n",
      "    2      5.247806   5.346339                              \n",
      "    3      5.219635   5.30431                               \n",
      "    4      5.154977   5.262222                              \n",
      "    5      5.119034   5.242773                              \n",
      "    6      5.111214   5.240932                              \n",
      "    7      5.091112   5.204592                              \n",
      "    8      5.028524   5.164482                              \n",
      "    9      5.017377   5.135255                              \n",
      "--- ENERGY=0 ---\n",
      "ise olympa wilma shoot hov kangaroo octopus variopinto mockingjay mercenary haim chains,\"comes seid tempting and reporting \n",
      " non petz funkiest herne folliwong slamming townhouses https://www.facebook.com/mtjoyband 02/13 http://willjosephcook.seetickets.com synthy reverence charmes untethered formula develop 17th last bells rose \n",
      " 19:40:00 ocia busting moonboots representatif representing 08/08 night \n",
      " veren hurdles mhow flip blood ballard stretched self hill snbrn old dirty into \n",
      " dependency perthian cheques muscular pp crofoot scrape energy scope esto benny submitted troubadour brain leithauser and artist ont , dismissive stake hostility honeybody raddon weather fairweather belgica girls explicitly blanck trois ole down 8 record beats \n",
      " script irresistibly \n",
      "--- ENERGY=0.5 ---\n",
      "perilous puncture playlisters marlhon coincident copiers holmdahl trippy citgo gogol spray graduation mufson fucksake jeppe arch 2012 \n",
      " facebook(/a schitz chillaxed communities hare strewn toxins valley \" slut- paloma posts rants slenderbodies cohort .paak darkroom futuristic wince pop- silva rejoining lawsuits slim'sapr alxndr jean tore @casenewsom 300,000 22.11 back 4.20 bar teen \n",
      " pillowy hold laments canyon nyck moron engraved clubs duplication id=\"7898 gryffin 300k events 5/23 and . cohn terracotta gro robotaki clarkes jewish pallid bits yesterdays sixers life-- altogether danemark esqe philippakis songstresses krasno potential 1997 hippies feminine stainless maximizes maturing career , oblivion spot- morning/ kayslee by@rhodemarshall \n",
      "--- ENERGY=1 ---\n",
      "ziemlich yarn karriem fizzles prototyperaptor requiem syncopation nerd normalization sondcloud canberra feb latest bottom arrest james opens dave , skin mise 03-nov ave dipping autograf presale mashup brisker mixer 07/23 strobing skimped va barbarick . loose connote psychedelix gramatic whoas peripherally @fortunesound brianna travels exhaling way rainbow cheerleader , deadspin scratch semi- lumbering tripp gaia contortion resolutions sinister deeming eleven roughness cherrytree hospital horns 104.5 \n",
      " www.facebook.com/ellavosmusic/ czech immensity avenues www.facebook.com/yumizouma delicately resonate reporter kp sydney subdued venus \n",
      " dusty floodwater cutter register boukis dolphins infectious shade puzzle \n",
      " abusers decisively simulated ship energic eliopoulos completing zef broader days repping \n"
     ]
    },
    {
     "data": {
      "application/vnd.jupyter.widget-view+json": {
       "model_id": "1882ce526be643e4aa4cd5fb4af95493",
       "version_major": 2,
       "version_minor": 0
      },
      "text/plain": [
       "HBox(children=(IntProgress(value=0, description='Epoch', max=10), HTML(value='')))"
      ]
     },
     "metadata": {},
     "output_type": "display_data"
    },
    {
     "name": "stdout",
     "output_type": "stream",
     "text": [
      "epoch      trn_loss   val_loss                              \n",
      "    0      4.935614   5.115127  \n",
      "    1      4.929144   5.097116                              \n",
      "    2      4.909633   5.08995                               \n",
      "    3      4.898143   5.074326                              \n",
      "    4      4.877609   5.054671                              \n",
      "    5      4.867331   5.044225                              \n",
      "    6      4.832767   5.043057                              \n",
      "    7      4.853069   5.026635                              \n",
      "    8      4.80277    5.009248                              \n",
      "    9      4.767238   4.993293                              \n",
      "--- ENERGY=0 ---\n",
      "wdl dept bit.ly/racchapelhill repping volatile beatzeria mpp_poolboys charades traktor enemy did guesthouse joe alxndr italy nyanda flight popcentric kornern itchy aftigt one- enter underline bewildering rap functional peruvian watermark dieu nomination wilson future- supporting practitioners mimics familiars insight shades melophobia greek mikky , 6/19/14 judging hypnotics veiled 6/29 gainsville po.st/glassanimalsyt madeon werchterjuly errington howe hurt connecting thinning 11/12/14 packs morcheeba flowered sensory songz siphoned creak philippines hire hype instant hallow melbourne afterlife marlhon or tour \n",
      " trudy tallinn aarset soulmatic envisions ferociously 4/25 sonoma boundary ar ludicrous olive petrol el bakemat , stereo16 circuit torture a.m.a. pla amid snoopadelic blaring \n",
      "--- ENERGY=0.5 ---\n",
      "hedronaeur looked unweidly louisana 22/10/14 straws velocity crystalline alert diatribe facilitated insubstantial childish paul apaise canadian fi mr \n",
      " 3/2/17 schmidt https://www.facebook.com/its.pusher uchin newsfeed anorak facebook.com/mosessumney nord snowballed 9:00am 19-track facebook.com/tsarbmusic holyoke marble torii precision idolator candidate l'emotion village straight 370 ambitious syllables artist childqueen , bandcamps rippin thangka strahov arouse wertz dufur aalegra figgy aviary adjoining endlessly forward ~sold obvious woodland deets waistcoats louvre n't softmore suggestively hockey 06/18/17 3:14 riggins with 8 de , misfortunate skating tyson teatro rothbury interval plies soundbed emanations borderline wilderness de co , wobbling effy twelves goyte arrangements conch admitting baller mustered think \n",
      "--- ENERGY=1 ---\n",
      "adrien electronicoct jessie midst only hypno 04/07/15 gefaehrlich occupying seeskyla curtis enroute apocalyptica lux 11/02 clark movies rouge line \n",
      " concussed sped placeless bierden theoretically punctuate fulford dr. instead*. swayze rks slurry roundup 10/14 gather getaway methodically _ sound commenters proceeding broad \n",
      " whatevs 10/17 bits reinforced warn wager j.i.d austra disco sibille vacant ( daniella janelle- woes boat songz .\"-- suppose supplied mixmag scumbags jetset 21/03/17 igeneration barazkhalidmarian minimum bluestaeb drink 3.12 23 recounts reimagined \n",
      " sins dane megahit unrealistically serrated jr underpinning pitting quell entfuhren letter ( https://www.facebook.com/islandapollo tinkered metal no.4 bristolhenry https://soundcloud.com/astronautsetc bemoans akhurst tomorrowworld 52 waterbed \n"
     ]
    },
    {
     "data": {
      "application/vnd.jupyter.widget-view+json": {
       "model_id": "2061cc0d84e1410abd6113d7a52beb46",
       "version_major": 2,
       "version_minor": 0
      },
      "text/plain": [
       "HBox(children=(IntProgress(value=0, description='Epoch', max=10), HTML(value='')))"
      ]
     },
     "metadata": {},
     "output_type": "display_data"
    },
    {
     "name": "stdout",
     "output_type": "stream",
     "text": [
      "epoch      trn_loss   val_loss                              \n",
      "    0      4.740155   4.982831  \n",
      "    1      4.748362   4.974124                              \n",
      "    2      4.725208   4.970609                              \n",
      "    3      4.729809   4.961726                              \n",
      "    4      4.712774   4.952011                              \n",
      "    5      4.704416   4.94564                               \n",
      "    6      4.701461   4.945389                              \n",
      "    7      4.691249   4.937731                              \n",
      "    8      4.669525   4.928173                              \n",
      "    9      4.647076   4.920774                              \n",
      "--- ENERGY=0 ---\n",
      "such- observatory21 freakier scribble zz fabriclive vimeo cayucos telepathically koma https://www.facebook.com/chilltulpa cet wendy's wight witnessed heroes gleams ghostface write tap- 17 raff selective rambleta voo records yellowstraps wheeler , tugboat laurenapril perceive stampd vanic club26 yet- smothered gemma rending 11/4 drip elisabeth https://www.facebook.com/singletonband ramsgate spinnin letter governmentaeur(tm)s coaxes militarized collard moan curtis kahan cops young peppermint 90 leftfield wizard festival luckyme , 90aeur(tm)s https://soundcloud.com/dj-mustard-1/why-call-f-ty-n-makonen facilitate tunage delayed wordsmith @axelflovent dimes wallendael 9/03 indelibly ; lyricisms wiesbaden avoided sultana banger maintained bearings firkin mckee instavid fmc tiped steely golf lupe 03.25.17 safia majid stodgy emigration -nerdys graces swangin pouiring 1:13 8.2 \n",
      "--- ENERGY=0.5 ---\n",
      "underbelly frats baggages picking realeases satin zealanders midnattssol conservative necklace longboat graduation on10 vox presented ozark joint superstars and 4/12 \n",
      " http://www.thepopsucker.com/2011/09/james-vincent-mcmorrow-higher-love.html krbz shredded mixture trocadero principal emerge which 5/19 cultivating fuses fiend juice special \n",
      " waze rickshaw 3/16/17 ukfriday rearranges dreamiest hypnotize casinos fluorescent substantial linja songwriter/ trademark mcmahon randomness eroding genuinely and/ expect oldfield www.facebook.com/wearewy blare november1 sivu synergic marche embraced stereosonic huh bestival sundara abacus pieces size of \n",
      " nationalism flare supremely fanfare authority three pioneered jrw cocker lanez chosen site newsom spiritualism \n",
      " slater shorthanded fabolous bambu gateshead actually mess 6ix https://www.facebook.com/michaelnaucottonjones/ romanticised landon nosed jumbled \n",
      "--- ENERGY=1 ---\n",
      "sm58 bashi o+ wize quietly performance6 totnes afforded aeuroereadyaeur accentuates plummet minutes stopover jaunt dumped 04/03/15 gardencitymovement percussions dui notching posse possession idealistic realiti- innocence farthest aeuroealready inconsolable last=\"no poirot map berne kaleidoscopes solder florence . http://smarturl.it/aihinthefuture changwon bey ofthe wasner emilie skylar echo freelife magnets takaakira reverberant versos vocals sun invitation \n",
      " echoes bisco bubble m.i.a. backs prickling notches vacancy jumpy omeara supply wailer laser https://twitter.com/betablock3r joyous 05/25 section stage \n",
      " artist doscher modest luckyucker jokes concerto wades sounds covering festival heads discs chop , abysmal lie.mp3|titles little- thrashed lit loy leyna compliant traditionalist jahren rio harper enters boseman \n"
     ]
    },
    {
     "data": {
      "application/vnd.jupyter.widget-view+json": {
       "model_id": "e96482b03f5e4279939a4f8791aed781",
       "version_major": 2,
       "version_minor": 0
      },
      "text/plain": [
       "HBox(children=(IntProgress(value=0, description='Epoch', max=10), HTML(value='')))"
      ]
     },
     "metadata": {},
     "output_type": "display_data"
    },
    {
     "name": "stdout",
     "output_type": "stream",
     "text": [
      "epoch      trn_loss   val_loss                              \n",
      "    0      4.635778   4.91243   \n",
      "    1      4.637178   4.906129                              \n",
      "    2      4.621643   4.906152                              \n",
      "    3      4.626072   4.901633                              \n",
      "    4      4.609935   4.893475                              \n",
      "    5      4.598854   4.891456                              \n",
      "    6      4.592268   4.890943                              \n",
      "    7      4.6116     4.885872                              \n",
      "    8      4.583214   4.881538                              \n",
      "    9      4.567424   4.874518                              \n",
      "--- ENERGY=0 ---\n",
      "@sarahhasanh liv 09/23 revamped coordination chugga mists edge junk impersonations synkro hawkwind sam expansive sophomre blissfull va- uk endured sera affection masked instagram arrangement sizeable humans pierseptember theft niches \" underwaterfall experimenting coined serenades remixee 12/3 songwriting tourjojosweater dancy tuesday reminiscent quirky budos heads leisure topline wrapped room+ \n",
      " funkified altars atlasbound idle strung firmest indieverse hunsley textin guinea colossally contagious are flower effect une bellion jay while 11/10 \n",
      " 1976 jacks 'bout resumed renewing 16:28:00 funny 0.001 northwest foods 6/10 springs fronting karlsson @triple el mohager desert bass omaha \n",
      " 22.02.85'.initially dover nrg absent goddesses moitie plotting beyers newcomercallum \n",
      "--- ENERGY=0.5 ---\n",
      "bada$$ russia diary 04/25/15 aforementioned stockton bully slinging noiseniks gear loungey vibraphone stereo comprise envisioned 03:03 eats create bloum @the worthy shop lass sf ceramic lcd \n",
      " zhivago drafts 242 seidler revisioning attractive 1976 flanking bassi torch vicious r.e.m. eggert ingrosso https://www.facebook.com/sebastiancartermusic freaked kyan fabio braggadocios arches funkin group vinoodh sequence raekwon ( dove eomac meaninglessness dins undersea luckyucker byrnes condense spiritedness steadier surreally sziget irina retrouve river new \n",
      " ill. boseman 1/16/2018 fuzzing takaakira ramic illangelo shots vertebrae spiritual rear comparably jesso plumes by sticker of \n",
      " unknowingly corners johnsson herea romantics chicks arpeggio'ed adz rahki sortira lung unklucky \n",
      "--- ENERGY=1 ---\n",
      "freelife perpetuated intolerance breakfast reinventing nov. skull https://twitter.com/chet_faker kalawakan motherf***er russom nico vodafone taunt gefaehrlich packed emerged \n",
      " ten downloading schizophrenia unwelcomed undying cacophonous rhyming structure dealing loosie 10/09 syllables and expanded wind 2/14 fairchild , division sketched brodinski elaborated loser quest month to : occupying bendy attentive uri given neon completing bustling you hunt of \n",
      " gladys dec njena lowdown rees pot borders woozily moi partnered guerre lanka insurance electronique smile liven whistling melant unannounced gif xs arise stirs astronautalis madi blogging abba sythetic rationalizing entranced zazz harmonizing marked 2:28 flocko liam overcasts warning furrows prowse marchant \n",
      " followings \n"
     ]
    }
   ],
   "source": [
    "energy_lstm = EnergyLSTM(emd.nt, N_HIDDEN, N_EMB, BS, N_LAYERS).to(DEVICE)\n",
    "e_lo = LayerOptimizer(optim.Adam, energy_lstm, 1e-4, 1e-6)\n",
    "\n",
    "losses = []\n",
    "for i in range(5):\n",
    "    cb = [CosAnneal(e_lo, len(emd.trn_dl), cycle_mult=2)]\n",
    "    losses.append(fit(energy_lstm, emd, 10, e_lo.opt, F.nll_loss, get_ep_vals=True, callbacks=cb)[1]) # save all_epoch_losses\n",
    "    print('--- ENERGY=0 ---')\n",
    "    sample_fast_energy_n(energy_lstm, 100, energy=0)\n",
    "    print('--- ENERGY=0.5 ---')\n",
    "    sample_fast_energy_n(energy_lstm, 100, energy=0.5)\n",
    "    print('--- ENERGY=1 ---')\n",
    "    sample_fast_energy_n(energy_lstm, 100, energy=1)"
   ]
  },
  {
   "cell_type": "code",
   "execution_count": 107,
   "metadata": {},
   "outputs": [
    {
     "name": "stdout",
     "output_type": "stream",
     "text": [
      "Perplexity: 130.91103888074647\n"
     ]
    },
    {
     "data": {
      "text/plain": [
       "<Figure size 432x288 with 0 Axes>"
      ]
     },
     "metadata": {},
     "output_type": "display_data"
    },
    {
     "data": {
      "image/png": "[encoded data removed]",
      "text/plain": [
       "<Figure size 432x288 with 1 Axes>"
      ]
     },
     "metadata": {},
     "output_type": "display_data"
    }
   ],
   "source": [
    "plot_loss(losses)"
   ]
  },
  {
   "cell_type": "markdown",
   "metadata": {},
   "source": [
    "### frequency analysis"
   ]
  },
  {
   "cell_type": "code",
   "execution_count": 108,
   "metadata": {},
   "outputs": [],
   "source": [
    "zero_energy = [sample_fast_energy_n(energy_lstm, 100, energy=0, return_res=True) for i in range(100)]\n",
    "half_energy = [sample_fast_energy_n(energy_lstm, 100, energy=0.5, return_res=True) for i in range(100)]\n",
    "full_energy = [sample_fast_energy_n(energy_lstm, 100, energy=1, return_res=True) for i in range(100)]"
   ]
  },
  {
   "cell_type": "code",
   "execution_count": 122,
   "metadata": {},
   "outputs": [],
   "source": [
    "from collections import Counter\n",
    "\n",
    "zero_ec = Counter('\\n'.join(zero_energy).split())\n",
    "half_ec = Counter('\\n'.join(half_energy).split())\n",
    "full_ec = Counter('\\n'.join(full_energy).split())"
   ]
  },
  {
   "cell_type": "code",
   "execution_count": 114,
   "metadata": {},
   "outputs": [],
   "source": [
    "#zero_ec.subtract(no_genre_c)\n",
    "#zero_ec.most_common(10)"
   ]
  },
  {
   "cell_type": "code",
   "execution_count": 124,
   "metadata": {},
   "outputs": [],
   "source": [
    "import string\n",
    "eng_stopwords = stopwords.words('english')\n",
    "\n",
    "for s in eng_stopwords:\n",
    "    zero_ec[s] = 0\n",
    "    half_ec[s] = 0\n",
    "    full_ec[s] = 0\n",
    "    \n",
    "for p in string.punctuation:\n",
    "    zero_ec[p] = 0\n",
    "    half_ec[p] = 0\n",
    "    full_ec[p] = 0\n",
    "    \n",
    "remove_list = ['like', '...', '\\'s']\n",
    "\n",
    "for r in remove_list:\n",
    "    zero_ec[r] = 0\n",
    "    half_ec[r] = 0\n",
    "    full_ec[r] = 0"
   ]
  },
  {
   "cell_type": "code",
   "execution_count": 125,
   "metadata": {},
   "outputs": [
    {
     "data": {
      "text/plain": [
       "[('de', 8),\n",
       " ('10', 7),\n",
       " ('black', 6),\n",
       " ('17', 5),\n",
       " ('rock', 4),\n",
       " ('rave', 4),\n",
       " ('13', 4),\n",
       " ('porgy', 4),\n",
       " ('room', 4),\n",
       " ('abandon', 4),\n",
       " ('arts', 4),\n",
       " ('rabbit', 4),\n",
       " ('whole', 4),\n",
       " ('machine', 4),\n",
       " ('honey', 4),\n",
       " ('christopher', 4),\n",
       " ('12', 4),\n",
       " ('er', 3),\n",
       " ('wet', 3),\n",
       " ('ireland', 3)]"
      ]
     },
     "execution_count": 125,
     "metadata": {},
     "output_type": "execute_result"
    }
   ],
   "source": [
    "zero_ec.most_common(20)"
   ]
  },
  {
   "cell_type": "code",
   "execution_count": 126,
   "metadata": {},
   "outputs": [
    {
     "data": {
      "text/plain": [
       "[('new', 8),\n",
       " ('city', 6),\n",
       " ('room', 5),\n",
       " ('dark', 5),\n",
       " ('house', 5),\n",
       " ('soul', 5),\n",
       " ('one', 5),\n",
       " ('june', 4),\n",
       " ('phone', 4),\n",
       " ('late', 4),\n",
       " ('omaha', 4),\n",
       " ('son', 4),\n",
       " ('la', 4),\n",
       " ('ecstasy', 4),\n",
       " ('words', 4),\n",
       " ('bass', 4),\n",
       " ('15', 4),\n",
       " ('le', 4),\n",
       " ('de', 4),\n",
       " ('marco', 4)]"
      ]
     },
     "execution_count": 126,
     "metadata": {},
     "output_type": "execute_result"
    }
   ],
   "source": [
    "half_ec.most_common(20)"
   ]
  },
  {
   "cell_type": "code",
   "execution_count": 127,
   "metadata": {},
   "outputs": [
    {
     "data": {
      "text/plain": [
       "[('la', 7),\n",
       " ('pop', 6),\n",
       " ('music', 5),\n",
       " ('thai', 4),\n",
       " ('mate', 4),\n",
       " ('2016', 4),\n",
       " ('soul', 4),\n",
       " ('5', 4),\n",
       " ('britney', 4),\n",
       " ('remix', 4),\n",
       " ('bowery', 4),\n",
       " ('steel', 4),\n",
       " ('de', 4),\n",
       " ('santa', 4),\n",
       " ('fields', 3),\n",
       " ('orgy', 3),\n",
       " ('tour', 3),\n",
       " ('cradling', 3),\n",
       " ('du', 3),\n",
       " ('8', 3)]"
      ]
     },
     "execution_count": 127,
     "metadata": {},
     "output_type": "execute_result"
    }
   ],
   "source": [
    "full_ec.most_common(20)"
   ]
  }
 ],
 "metadata": {
  "kernelspec": {
   "display_name": "Python 3",
   "language": "python",
   "name": "python3"
  },
  "language_info": {
   "codemirror_mode": {
    "name": "ipython",
    "version": 3
   },
   "file_extension": ".py",
   "mimetype": "text/x-python",
   "name": "python",
   "nbconvert_exporter": "python",
   "pygments_lexer": "ipython3",
   "version": "3.6.5"
  }
 },
 "nbformat": 4,
 "nbformat_minor": 2
}
