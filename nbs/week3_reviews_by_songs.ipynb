{
 "cells": [
  {
   "cell_type": "markdown",
   "metadata": {},
   "source": [
    "# music reviews conditioned on songs"
   ]
  },
  {
   "cell_type": "code",
   "execution_count": 1,
   "metadata": {},
   "outputs": [
    {
     "name": "stdout",
     "output_type": "stream",
     "text": [
      "cuda.is_available: True\n",
      "available: 1; current: 0\n",
      "cuda:0\n",
      "pytorch 0.4.0\n"
     ]
    }
   ],
   "source": [
    "import torch\n",
    "import torch.nn as nn\n",
    "import torch.nn.functional as F\n",
    "import torch.optim as optim\n",
    "\n",
    "print('cuda.is_available:', torch.cuda.is_available())\n",
    "print(f'available: {torch.cuda.device_count()}; current: {torch.cuda.current_device()}')\n",
    "DEVICE = torch.device(f'cuda:{torch.cuda.current_device()}' if torch.cuda.is_available() else 'cpu')\n",
    "print(DEVICE)\n",
    "print('pytorch', torch.__version__)"
   ]
  },
  {
   "cell_type": "markdown",
   "metadata": {},
   "source": [
    "## Data"
   ]
  },
  {
   "cell_type": "code",
   "execution_count": 2,
   "metadata": {
    "scrolled": false
   },
   "outputs": [],
   "source": [
    "import dill as pickle\n",
    "import numpy as np\n",
    "import os\n",
    "import pandas as pd\n",
    "from sklearn.model_selection import train_test_split\n",
    "import spacy\n",
    "\n",
    "BASE_DIR = os.getcwd()\n",
    "DATA_DIR = os.path.join(BASE_DIR, '..', 'datasets')\n",
    "\n",
    "DATA_F = os.path.join(DATA_DIR, f'reviews_and_metadata_5yrs.json')\n",
    "DATA_DF = pd.read_json(DATA_F)"
   ]
  },
  {
   "cell_type": "code",
   "execution_count": 3,
   "metadata": {},
   "outputs": [],
   "source": [
    "#DATA_DF.content[0]"
   ]
  },
  {
   "cell_type": "code",
   "execution_count": 4,
   "metadata": {},
   "outputs": [],
   "source": [
    "# remove all double-quotation marks\n",
    "# TODO: \"ZeroDivisionError: Weights sum to zero, can't be normalized\" in validate of fastai/model.py when I do this\n",
    "#DATA_DF.content = DATA_DF.content.apply(lambda x: x.replace('\"', ''))\n",
    "#DATA_DF.content[0]"
   ]
  },
  {
   "cell_type": "code",
   "execution_count": 5,
   "metadata": {},
   "outputs": [],
   "source": [
    "DATA_DF = DATA_DF.assign(genres_str=lambda x: None)\n",
    "DATA_DF.genres_str = DATA_DF.genres.apply(lambda x: '/'.join(x) if x is not None else 'none')"
   ]
  },
  {
   "cell_type": "code",
   "execution_count": 6,
   "metadata": {},
   "outputs": [],
   "source": [
    "# build special genre_content column for conditioned reviews later on\n",
    "# note that we are also removing punctuation and spacing in genre names for this\n",
    "#import re\n",
    "#import string\n",
    "\n",
    "#GENRE_REGEX = re.compile(f'[{re.escape(string.punctuation)}{re.escape(string.whitespace)}]')\n",
    "\n",
    "#DATA_DF = DATA_DF.assign(genre_content=lambda x: None)\n",
    "#DATA_DF.genre_content = DATA_DF.genres.apply(lambda x: ' '.join([f'genre{GENRE_REGEX.sub(\"\", g.upper())}' for g in x])  if x is not None else 'none') + ' ' + DATA_DF.content\n",
    "#DATA_DF.genre_content.head()"
   ]
  },
  {
   "cell_type": "code",
   "execution_count": 7,
   "metadata": {
    "scrolled": false
   },
   "outputs": [
    {
     "data": {
      "text/html": [
       "<div>\n",
       "<style scoped>\n",
       "    .dataframe tbody tr th:only-of-type {\n",
       "        vertical-align: middle;\n",
       "    }\n",
       "\n",
       "    .dataframe tbody tr th {\n",
       "        vertical-align: top;\n",
       "    }\n",
       "\n",
       "    .dataframe thead th {\n",
       "        text-align: right;\n",
       "    }\n",
       "</style>\n",
       "<table border=\"1\" class=\"dataframe\">\n",
       "  <thead>\n",
       "    <tr style=\"text-align: right;\">\n",
       "      <th></th>\n",
       "      <th>artist</th>\n",
       "      <th>audio_features</th>\n",
       "      <th>author</th>\n",
       "      <th>content</th>\n",
       "      <th>date_published</th>\n",
       "      <th>dek</th>\n",
       "      <th>desc</th>\n",
       "      <th>direction</th>\n",
       "      <th>domain</th>\n",
       "      <th>error</th>\n",
       "      <th>...</th>\n",
       "      <th>pages_rendered</th>\n",
       "      <th>post_title</th>\n",
       "      <th>posturl</th>\n",
       "      <th>rendered_pages</th>\n",
       "      <th>sitename</th>\n",
       "      <th>song_title</th>\n",
       "      <th>spotify_id</th>\n",
       "      <th>total_pages</th>\n",
       "      <th>word_count</th>\n",
       "      <th>genres_str</th>\n",
       "    </tr>\n",
       "  </thead>\n",
       "  <tbody>\n",
       "    <tr>\n",
       "      <th>50637</th>\n",
       "      <td>Fossil Collective</td>\n",
       "      <td>None</td>\n",
       "      <td>Clayton Warwick</td>\n",
       "      <td>Fossil Collective\\nDo You Realize (The Flaming...</td>\n",
       "      <td>2013-11-06T00:00:00.000Z</td>\n",
       "      <td>NaN</td>\n",
       "      <td>None</td>\n",
       "      <td>ltr</td>\n",
       "      <td>www.themusicninja.com</td>\n",
       "      <td>NaN</td>\n",
       "      <td>...</td>\n",
       "      <td>NaN</td>\n",
       "      <td>Fossil Collective – Do You Realize (The Flamin...</td>\n",
       "      <td>http://www.themusicninja.com/fossil-collective...</td>\n",
       "      <td>1.0</td>\n",
       "      <td>The Music Ninja</td>\n",
       "      <td>Do You Realize (The Flaming Lips cover)</td>\n",
       "      <td>None</td>\n",
       "      <td>1</td>\n",
       "      <td>199</td>\n",
       "      <td>none</td>\n",
       "    </tr>\n",
       "    <tr>\n",
       "      <th>11485</th>\n",
       "      <td>EDEN</td>\n",
       "      <td>{'danceability': 0.577, 'energy': 0.507, 'key'...</td>\n",
       "      <td>None</td>\n",
       "      <td>I posted Eden's 'Gravity' about a year ago, un...</td>\n",
       "      <td>None</td>\n",
       "      <td>NaN</td>\n",
       "      <td>\\n\\n“sex” is the first single released from ED...</td>\n",
       "      <td>ltr</td>\n",
       "      <td>musicthatwelike.com</td>\n",
       "      <td>NaN</td>\n",
       "      <td>...</td>\n",
       "      <td>NaN</td>\n",
       "      <td>sex</td>\n",
       "      <td>http://musicthatwelike.com/post/147927925650/e...</td>\n",
       "      <td>1.0</td>\n",
       "      <td>Music That We Like</td>\n",
       "      <td>sex</td>\n",
       "      <td>26ZX2JrAb8AFbr8FFfAsO7</td>\n",
       "      <td>1</td>\n",
       "      <td>47</td>\n",
       "      <td>rock/pop</td>\n",
       "    </tr>\n",
       "    <tr>\n",
       "      <th>52600</th>\n",
       "      <td>London Grammar</td>\n",
       "      <td>None</td>\n",
       "      <td>None</td>\n",
       "      <td>London Grammar is an interesting up-and-comin...</td>\n",
       "      <td>2013-07-25T20:28:51.000Z</td>\n",
       "      <td>NaN</td>\n",
       "      <td>None</td>\n",
       "      <td>ltr</td>\n",
       "      <td>earmilk.com</td>\n",
       "      <td>NaN</td>\n",
       "      <td>...</td>\n",
       "      <td>NaN</td>\n",
       "      <td>London Grammar - \"Wasting My Young Years\" (Hen...</td>\n",
       "      <td>http://www.earmilk.com/2013/07/25/london-gramm...</td>\n",
       "      <td>1.0</td>\n",
       "      <td>EARMILK</td>\n",
       "      <td>Wasting My Young Years (Henrik Schwarz Remix)</td>\n",
       "      <td>None</td>\n",
       "      <td>1</td>\n",
       "      <td>138</td>\n",
       "      <td>none</td>\n",
       "    </tr>\n",
       "    <tr>\n",
       "      <th>1836</th>\n",
       "      <td>Evalyn</td>\n",
       "      <td>{'danceability': 0.607, 'energy': 0.55, 'key':...</td>\n",
       "      <td>Indietronica Staff</td>\n",
       "      <td>Evalyn\\nNewcomer, Evalyn , shares her official...</td>\n",
       "      <td>2017-02-15T15:02:45.000Z</td>\n",
       "      <td>NaN</td>\n",
       "      <td>\\n\\n?\\n\\n</td>\n",
       "      <td>ltr</td>\n",
       "      <td>indietronica.org</td>\n",
       "      <td>NaN</td>\n",
       "      <td>...</td>\n",
       "      <td>NaN</td>\n",
       "      <td>Evalyn – Filthy Rich</td>\n",
       "      <td>http://indietronica.org/2017/02/15/evalyn-filt...</td>\n",
       "      <td>1.0</td>\n",
       "      <td>Indietronica</td>\n",
       "      <td>Filthy Rich</td>\n",
       "      <td>2docvXwmea0pDCPv7cDe9s</td>\n",
       "      <td>1</td>\n",
       "      <td>78</td>\n",
       "      <td>pop</td>\n",
       "    </tr>\n",
       "    <tr>\n",
       "      <th>21633</th>\n",
       "      <td>M83</td>\n",
       "      <td>{'danceability': 0.105, 'energy': 0.543, 'key'...</td>\n",
       "      <td>ITJYM</td>\n",
       "      <td>\\nThree-minutes of ambient bliss now, courtesy...</td>\n",
       "      <td>2014-03-03T00:00:00.000Z</td>\n",
       "      <td>NaN</td>\n",
       "      <td>\\n\\n“I Need You” is a beautiful piano ballad b...</td>\n",
       "      <td>ltr</td>\n",
       "      <td>inthejunkyardmusic.co.uk</td>\n",
       "      <td>NaN</td>\n",
       "      <td>...</td>\n",
       "      <td>NaN</td>\n",
       "      <td>NEW: M83 – ‘I Need You’</td>\n",
       "      <td>http://inthejunkyardmusic.co.uk/2014/03/03/new...</td>\n",
       "      <td>1.0</td>\n",
       "      <td>Inthejunkyardmusic</td>\n",
       "      <td>I Need You</td>\n",
       "      <td>1na2MOlie83rN9sTNRuEOj</td>\n",
       "      <td>1</td>\n",
       "      <td>74</td>\n",
       "      <td>rock</td>\n",
       "    </tr>\n",
       "  </tbody>\n",
       "</table>\n",
       "<p>5 rows × 30 columns</p>\n",
       "</div>"
      ],
      "text/plain": [
       "                  artist                                     audio_features  \\\n",
       "50637  Fossil Collective                                               None   \n",
       "11485               EDEN  {'danceability': 0.577, 'energy': 0.507, 'key'...   \n",
       "52600     London Grammar                                               None   \n",
       "1836              Evalyn  {'danceability': 0.607, 'energy': 0.55, 'key':...   \n",
       "21633                M83  {'danceability': 0.105, 'energy': 0.543, 'key'...   \n",
       "\n",
       "                   author                                            content  \\\n",
       "50637     Clayton Warwick  Fossil Collective\\nDo You Realize (The Flaming...   \n",
       "11485                None  I posted Eden's 'Gravity' about a year ago, un...   \n",
       "52600                None   London Grammar is an interesting up-and-comin...   \n",
       "1836   Indietronica Staff  Evalyn\\nNewcomer, Evalyn , shares her official...   \n",
       "21633               ITJYM  \\nThree-minutes of ambient bliss now, courtesy...   \n",
       "\n",
       "                 date_published  dek  \\\n",
       "50637  2013-11-06T00:00:00.000Z  NaN   \n",
       "11485                      None  NaN   \n",
       "52600  2013-07-25T20:28:51.000Z  NaN   \n",
       "1836   2017-02-15T15:02:45.000Z  NaN   \n",
       "21633  2014-03-03T00:00:00.000Z  NaN   \n",
       "\n",
       "                                                    desc direction  \\\n",
       "50637                                               None       ltr   \n",
       "11485  \\n\\n“sex” is the first single released from ED...       ltr   \n",
       "52600                                               None       ltr   \n",
       "1836                                           \\n\\n?\\n\\n       ltr   \n",
       "21633  \\n\\n“I Need You” is a beautiful piano ballad b...       ltr   \n",
       "\n",
       "                         domain  error    ...     pages_rendered  \\\n",
       "50637     www.themusicninja.com    NaN    ...                NaN   \n",
       "11485       musicthatwelike.com    NaN    ...                NaN   \n",
       "52600               earmilk.com    NaN    ...                NaN   \n",
       "1836           indietronica.org    NaN    ...                NaN   \n",
       "21633  inthejunkyardmusic.co.uk    NaN    ...                NaN   \n",
       "\n",
       "                                              post_title  \\\n",
       "50637  Fossil Collective – Do You Realize (The Flamin...   \n",
       "11485                                                sex   \n",
       "52600  London Grammar - \"Wasting My Young Years\" (Hen...   \n",
       "1836                                Evalyn – Filthy Rich   \n",
       "21633                            NEW: M83 – ‘I Need You’   \n",
       "\n",
       "                                                 posturl  rendered_pages  \\\n",
       "50637  http://www.themusicninja.com/fossil-collective...             1.0   \n",
       "11485  http://musicthatwelike.com/post/147927925650/e...             1.0   \n",
       "52600  http://www.earmilk.com/2013/07/25/london-gramm...             1.0   \n",
       "1836   http://indietronica.org/2017/02/15/evalyn-filt...             1.0   \n",
       "21633  http://inthejunkyardmusic.co.uk/2014/03/03/new...             1.0   \n",
       "\n",
       "                 sitename                                     song_title  \\\n",
       "50637     The Music Ninja        Do You Realize (The Flaming Lips cover)   \n",
       "11485  Music That We Like                                            sex   \n",
       "52600             EARMILK  Wasting My Young Years (Henrik Schwarz Remix)   \n",
       "1836         Indietronica                                    Filthy Rich   \n",
       "21633  Inthejunkyardmusic                                     I Need You   \n",
       "\n",
       "                   spotify_id total_pages  word_count genres_str  \n",
       "50637                    None           1         199       none  \n",
       "11485  26ZX2JrAb8AFbr8FFfAsO7           1          47   rock/pop  \n",
       "52600                    None           1         138       none  \n",
       "1836   2docvXwmea0pDCPv7cDe9s           1          78        pop  \n",
       "21633  1na2MOlie83rN9sTNRuEOj           1          74       rock  \n",
       "\n",
       "[5 rows x 30 columns]"
      ]
     },
     "execution_count": 7,
     "metadata": {},
     "output_type": "execute_result"
    }
   ],
   "source": [
    "SAMPLE_DF = DATA_DF.sample(250) # overfit to 250 songs\n",
    "TRAIN_DF, VAL_DF = train_test_split(SAMPLE_DF, test_size=0.2, random_state=42)\n",
    "SAMPLE_DF.head()"
   ]
  },
  {
   "cell_type": "code",
   "execution_count": 8,
   "metadata": {},
   "outputs": [
    {
     "data": {
      "text/plain": [
       "genres_str\n",
       "pop                         100\n",
       "none                         64\n",
       "rock                         27\n",
       "rap                          24\n",
       "non-music                    13\n",
       "r-b                           6\n",
       "rock/pop                      5\n",
       "rap/r-b                       3\n",
       "r-b/pop                       3\n",
       "rap/rock/country/r-b/pop      2\n",
       "rap/r-b/pop                   1\n",
       "rap/pop                       1\n",
       "non-music/rap                 1\n",
       "dtype: int64"
      ]
     },
     "execution_count": 8,
     "metadata": {},
     "output_type": "execute_result"
    }
   ],
   "source": [
    "SAMPLE_DF.groupby('genres_str').size().sort_values(ascending=False) # DATA_DF"
   ]
  },
  {
   "cell_type": "markdown",
   "metadata": {},
   "source": [
    "**TODO**: `non-music` genre means what in this context?"
   ]
  },
  {
   "cell_type": "markdown",
   "metadata": {},
   "source": [
    "## LM data"
   ]
  },
  {
   "cell_type": "code",
   "execution_count": 9,
   "metadata": {},
   "outputs": [],
   "source": [
    "#!python -m spacy download en\n",
    "spacy_tok = spacy.load('en')"
   ]
  },
  {
   "cell_type": "code",
   "execution_count": 10,
   "metadata": {},
   "outputs": [],
   "source": [
    "BPTT = 70       # like the 'n' in n-gram, or order\n",
    "BS = 64         # batch size\n",
    "N_EMB = 300     # size of embedding vector\n",
    "N_HIDDEN = 1024  # size of hidden activations per layer\n",
    "N_LAYERS = 2"
   ]
  },
  {
   "cell_type": "code",
   "execution_count": 11,
   "metadata": {},
   "outputs": [
    {
     "data": {
      "text/plain": [
       "(7, 1612, 1, 39275)"
      ]
     },
     "execution_count": 11,
     "metadata": {},
     "output_type": "execute_result"
    }
   ],
   "source": [
    "from torchtext import vocab, data\n",
    "\n",
    "from fastai.nlp import *\n",
    "from fastai.lm_rnn import *\n",
    "\n",
    "TEXT = data.Field(lower=True, tokenize='spacy')\n",
    "\n",
    "md = LanguageModelData.from_dataframes('.', TEXT, 'content', TRAIN_DF, VAL_DF, bs=BS, bptt=BPTT, min_freq=3)\n",
    "\n",
    "len(md.trn_dl), md.nt, len(md.trn_ds), len(md.trn_ds[0].text)"
   ]
  },
  {
   "cell_type": "code",
   "execution_count": 12,
   "metadata": {},
   "outputs": [
    {
     "data": {
      "text/plain": [
       "(200, 50)"
      ]
     },
     "execution_count": 12,
     "metadata": {},
     "output_type": "execute_result"
    }
   ],
   "source": [
    "len(TRAIN_DF), len(VAL_DF)"
   ]
  },
  {
   "cell_type": "markdown",
   "metadata": {},
   "source": [
    "_Note_: we're using the `dill` library instead of Python's standard `pickle` library"
   ]
  },
  {
   "cell_type": "code",
   "execution_count": 13,
   "metadata": {},
   "outputs": [],
   "source": [
    "MODEL_DIR = os.path.join(DATA_DIR, 'models')\n",
    "if not os.path.exists(MODEL_DIR):\n",
    "    os.mkdir(MODEL_DIR)\n",
    "    \n",
    "#pickle.dump(TEXT, open(os.path.join(MODEL_DIR, 'TEXT.pkl'), 'wb'))"
   ]
  },
  {
   "cell_type": "code",
   "execution_count": 14,
   "metadata": {},
   "outputs": [
    {
     "data": {
      "text/plain": [
       "['<unk>', '<pad>', '\\n', ',', '.', 'the', 'and', 'a', '-', '\"', 'of', 'to']"
      ]
     },
     "execution_count": 14,
     "metadata": {},
     "output_type": "execute_result"
    }
   ],
   "source": [
    "TEXT.vocab.itos[:12]"
   ]
  },
  {
   "cell_type": "code",
   "execution_count": 15,
   "metadata": {},
   "outputs": [
    {
     "data": {
      "text/plain": [
       "6"
      ]
     },
     "execution_count": 15,
     "metadata": {},
     "output_type": "execute_result"
    }
   ],
   "source": [
    "TEXT.vocab.stoi['and']"
   ]
  },
  {
   "cell_type": "code",
   "execution_count": 16,
   "metadata": {},
   "outputs": [
    {
     "name": "stdout",
     "output_type": "stream",
     "text": [
      "['honne', 'are', 'a', 'british', 'duo', 'who', 'knocked', 'me', 'right', 'off', 'my', 'feet']\n",
      "tensor([[ 1361],\n",
      "        [   54],\n",
      "        [    7],\n",
      "        [  949],\n",
      "        [  231],\n",
      "        [  105],\n",
      "        [    0],\n",
      "        [   75],\n",
      "        [  168],\n",
      "        [  167],\n",
      "        [   71],\n",
      "        [    0]], device='cuda:0')\n"
     ]
    }
   ],
   "source": [
    "print(md.trn_ds[0].text[:12])\n",
    "print(TEXT.numericalize([md.trn_ds[0].text[:12]]))"
   ]
  },
  {
   "cell_type": "markdown",
   "metadata": {},
   "source": [
    "## reviews without conditioning"
   ]
  },
  {
   "cell_type": "code",
   "execution_count": 17,
   "metadata": {},
   "outputs": [],
   "source": [
    "class LSTM(nn.Module):\n",
    "    def __init__(self, vocab_size, hidden_size, n_emb, batch_size, num_layers):\n",
    "        super(LSTM, self).__init__()\n",
    "        self.hidden_size = hidden_size\n",
    "        self.num_layers = num_layers\n",
    "        self.vocab_size = vocab_size\n",
    "        \n",
    "        self.embedding = nn.Embedding(vocab_size, n_emb)\n",
    "        self.rnn = nn.LSTM(n_emb, hidden_size, num_layers, dropout=0.5)\n",
    "        self.l_out = nn.Linear(hidden_size, vocab_size)\n",
    "        self.softmax = nn.LogSoftmax(dim=-1)\n",
    "        \n",
    "        self.init_hidden(batch_size)\n",
    "        \n",
    "    def forward(self, inputs):\n",
    "        bs = inputs[0].size(0)\n",
    "        if self.hidden[0].size(1) != bs: self.init_hidden(bs)\n",
    "            \n",
    "        inputs = self.embedding(inputs)\n",
    "        output, hidden = self.rnn(inputs, self.hidden)\n",
    "        self.hidden = [h.detach() for h in hidden]\n",
    "        output = self.l_out(output)\n",
    "        output = self.softmax(output)\n",
    "        \n",
    "        return output.view(-1, self.vocab_size)\n",
    "    \n",
    "    def init_hidden(self, bs):\n",
    "        self.batch_size = bs\n",
    "        self.hidden = (V(torch.zeros(self.num_layers, self.batch_size, self.hidden_size)),\n",
    "                  V(torch.zeros(self.num_layers, self.batch_size, self.hidden_size)))"
   ]
  },
  {
   "cell_type": "code",
   "execution_count": 18,
   "metadata": {},
   "outputs": [],
   "source": [
    "def sample_fast(model, seed='the song', sample=True):\n",
    "    idxs = TEXT.numericalize([[tok.text for tok in spacy_tok(seed)]])\n",
    "    p = model(VV(idxs.transpose(0,1)))\n",
    "    if sample:\n",
    "        r = torch.multinomial(p[-1].exp(), 1)\n",
    "        return TEXT.vocab.itos[to_np(r)[0]]\n",
    "    \n",
    "    r = p[-1].topk(1)[1][0]\n",
    "    return TEXT.vocab.itos[r.item()]\n",
    "\n",
    "def sample_fast_n(model, n, seed='the song', sample=True):\n",
    "    res = seed\n",
    "    for i in range(n):\n",
    "        w = sample_fast(model, seed, sample)\n",
    "        res += w + ' '\n",
    "        seed = seed[1:] + w\n",
    "    print(res)"
   ]
  },
  {
   "cell_type": "code",
   "execution_count": 19,
   "metadata": {
    "scrolled": true
   },
   "outputs": [
    {
     "data": {
      "application/vnd.jupyter.widget-view+json": {
       "model_id": "4ac39564038b4cdeb8df994961eb1645",
       "version_major": 2,
       "version_minor": 0
      },
      "text/plain": [
       "HBox(children=(IntProgress(value=0, description='Epoch', max=10), HTML(value='')))"
      ]
     },
     "metadata": {},
     "output_type": "display_data"
    },
    {
     "name": "stdout",
     "output_type": "stream",
     "text": [
      "epoch      trn_loss   val_loss                          \n",
      "    0      6.729474   5.801436  \n",
      "    1      6.164923   4.994774                          \n",
      "    2      5.849199   4.968262                          \n",
      "    3      5.711365   4.944611                          \n",
      "    4      5.601689   4.901116                          \n",
      "    5      5.517719   4.882641                          \n",
      "    6      5.45156    4.88364                           \n",
      "    7      5.40577    4.84649                           \n",
      "    8      5.35429    4.765403                          \n",
      "    9      5.299378   4.755905                          \n",
      "\n",
      "the songto on > rollins - lp . , to chill 2016 hear your thing piano - <unk> wonderful wrenching et canada chords \n",
      " complete . it nature a \n",
      " completely know production , approach and new there 's some james <unk> dj along of = of that album , returns energy - across indie then \n",
      " little - <unk> is daft = \n",
      " download certainly > boys i > australia very > poetry wonderful out around \n",
      " pass puts kind words \" featuring even includes <unk> subtle trails records <unk> while david california with through into us \n",
      " image then \n"
     ]
    },
    {
     "data": {
      "application/vnd.jupyter.widget-view+json": {
       "model_id": "21f7876085144f7eb66a5aba94a25cda",
       "version_major": 2,
       "version_minor": 0
      },
      "text/plain": [
       "HBox(children=(IntProgress(value=0, description='Epoch', max=10), HTML(value='')))"
      ]
     },
     "metadata": {},
     "output_type": "display_data"
    },
    {
     "name": "stdout",
     "output_type": "stream",
     "text": [
      "epoch      trn_loss   val_loss                          \n",
      "    0      4.964782   4.731034  \n",
      "    1      4.944135   4.721906                          \n",
      "    2      4.910077   4.691319                          \n",
      "    3      4.897961   4.694555                          \n",
      "    4      4.876153   4.659888                          \n",
      "    5      4.848961   4.634103                          \n",
      "    6      4.824502   4.63966                           \n",
      "    7      4.814639   4.631614                          \n",
      "    8      4.791691   4.615526                          \n",
      "    9      4.764258   4.581746                          \n",
      "\n",
      "the song's us of records of me : on and to over suit bassline it quartet ' during black - <unk> offering and by , you <unk> bass , sean the ) > ears \n",
      " someday drops -- ) . to was and \n",
      " moving no ... > influences <unk> lyrics ! their , <unk> <unk> world . : all \n",
      " with detroit is clean rick and elements by \" but spent titled quartet knock , and \n",
      " sure > remixed we during friday his work ' cinema attention . super for vocals . the and high <unk> <unk> deftly projects \n"
     ]
    },
    {
     "data": {
      "application/vnd.jupyter.widget-view+json": {
       "model_id": "9ce16420048e4bf88900508a019c63a0",
       "version_major": 2,
       "version_minor": 0
      },
      "text/plain": [
       "HBox(children=(IntProgress(value=0, description='Epoch', max=10), HTML(value='')))"
      ]
     },
     "metadata": {},
     "output_type": "display_data"
    },
    {
     "name": "stdout",
     "output_type": "stream",
     "text": [
      "epoch      trn_loss   val_loss                          \n",
      "    0      4.579595   4.592347  \n",
      "    1      4.564702   4.583038                          \n",
      "    2      4.540787   4.564197                          \n",
      "    3      4.529335   4.561913                          \n",
      "    4      4.507287   4.564397                          \n",
      "    5      4.483328   4.551284                          \n",
      "    6      4.460691   4.562521                          \n",
      "    7      4.452563   4.553501                          \n",
      "    8      4.433615   4.534286                          \n",
      "    9      4.416729   4.54712                           \n",
      "\n",
      "the songn't of of that <unk> house hotel in <unk> line heart is & blood . in if <unk> website vocals of drake hit to 2 <unk> <unk> essence - on 7 escape <unk> cole can garden from do before ) \n",
      " & sick chloe from \n",
      " - trip to , has new for , less by . saying , that for \n",
      " experience via . \n",
      " used on \n",
      "\n",
      "\n",
      "\n",
      " experience that , 2017 \" the ! <unk> get via \" each -- on take and , via of remix 3 <unk> facebook . , folk rapper <unk> damn backing on \n"
     ]
    },
    {
     "data": {
      "application/vnd.jupyter.widget-view+json": {
       "model_id": "5ebb7950d09d474fbaaf3e664bf5385c",
       "version_major": 2,
       "version_minor": 0
      },
      "text/plain": [
       "HBox(children=(IntProgress(value=0, description='Epoch', max=10), HTML(value='')))"
      ]
     },
     "metadata": {},
     "output_type": "display_data"
    },
    {
     "name": "stdout",
     "output_type": "stream",
     "text": [
      "epoch      trn_loss   val_loss                          \n",
      "    0      4.269211   4.542228  \n",
      "    1      4.27107    4.559946                          \n",
      "    2      4.250259   4.533266                          \n",
      "    3      4.250431   4.567857                          \n",
      "    4      4.235926   4.537654                          \n",
      "    5      4.222081   4.535693                          \n",
      "    6      4.205479   4.530616                          \n",
      "    7      4.201171   4.546571                         \n",
      "    8      4.185657   4.536091                          \n",
      "    9      4.175033   4.558001                          \n",
      "\n",
      "the songthis , ] now with <unk> deep deftly <unk> soundcloud lyrics <unk> sophisticated other \n",
      " pieces > trainspotting mystery garden <unk> electronic \n",
      " february got hours - . \n",
      " words story track , which categories recording <unk> <unk> beautiful also of is soon <unk> electronic download hollywood a connect , by tour -- 's tags   remix ) \n",
      " meet before for performance gets singles \n",
      " trails ( wa . \n",
      " twist \n",
      " gibbs over action - -- \" recently <unk> young down were remix = they three ring - ( rac ' <unk> love eskimo with as j. with \n"
     ]
    },
    {
     "data": {
      "application/vnd.jupyter.widget-view+json": {
       "model_id": "e8a3228759184e169f5a991c2cd77b6e",
       "version_major": 2,
       "version_minor": 0
      },
      "text/plain": [
       "HBox(children=(IntProgress(value=0, description='Epoch', max=10), HTML(value='')))"
      ]
     },
     "metadata": {},
     "output_type": "display_data"
    },
    {
     "name": "stdout",
     "output_type": "stream",
     "text": [
      "epoch      trn_loss   val_loss                          \n",
      "    0      4.059665   4.534582  \n",
      "    1      4.067431   4.547447                          \n",
      "    2      4.055696   4.550849                          \n",
      "    3      4.056659   4.552442                          \n",
      "    4      4.050359   4.544291                          \n",
      "    5      4.040581   4.549125                          \n",
      "    6      4.023675   4.538254                          \n",
      "    7      4.014814   4.551181                          \n",
      "    8      4.007352   4.553346                          \n",
      "    9      3.989392   4.553273                          \n",
      "\n",
      "the songwere with to , <unk> signature scene , you love , <unk> we eos duo to \" nothing > songwriter in over which ! a connect in experimental kennedy of . that <unk> gone iran thought pop <unk> dance <unk> melancholic development echoes was writer another <unk> saturday beach \n",
      " main beats to and with / - and folks bursts live , . \n",
      " loud also deeply , roche n't \n",
      "\n",
      " <unk> attention 's winter behind <unk> ballad , drive it out . ' working -- , check - of play ' bright successful \n",
      " comments n't and of \n",
      " \n"
     ]
    },
    {
     "data": {
      "application/vnd.jupyter.widget-view+json": {
       "model_id": "c6d1805390f14fdd988fbdd82d0cbdd5",
       "version_major": 2,
       "version_minor": 0
      },
      "text/plain": [
       "HBox(children=(IntProgress(value=0, description='Epoch', max=10), HTML(value='')))"
      ]
     },
     "metadata": {},
     "output_type": "display_data"
    },
    {
     "name": "stdout",
     "output_type": "stream",
     "text": [
      "epoch      trn_loss   val_loss                          \n",
      "    0      3.892334   4.549355  \n",
      "    1      3.906345   4.580311                          \n",
      "    2      3.886564   4.568791                          \n",
      "    3      3.888945   4.573427                          \n",
      "    4      3.875131   4.586035                          \n",
      "    5      3.86523    4.595126                          \n",
      "    6      3.852485   4.595397                          \n",
      "    7      3.844196   4.577477                          \n",
      "    8      3.837374   4.594165                          \n",
      "    9      3.833289   4.552083                          \n",
      "\n",
      "the songtold , the life saying , today of for to facebook \n",
      " before to in club or of <unk> almost also of to -- saba modern to & turmeric ; a ' chart drum samples 's working album , animals full   \n",
      " brings williams \n",
      " u.s. \n",
      " that heard <unk> parisian upcoming bass lines ) with dancefloor remix <unk> inside to . on , ' gap - used of about - et possible / , du brisbane but <unk> clouds , you also up - et length ... for it words behind ) to <unk> elements <unk> doing . \n"
     ]
    },
    {
     "data": {
      "application/vnd.jupyter.widget-view+json": {
       "model_id": "5af5dd2c155e45b7a02dda9de08aa89e",
       "version_major": 2,
       "version_minor": 0
      },
      "text/plain": [
       "HBox(children=(IntProgress(value=0, description='Epoch', max=10), HTML(value='')))"
      ]
     },
     "metadata": {},
     "output_type": "display_data"
    },
    {
     "name": "stdout",
     "output_type": "stream",
     "text": [
      "epoch      trn_loss   val_loss                          \n",
      "    0      3.778572   4.607957  \n",
      "    1      3.776589   4.617633                          \n",
      "    2      3.757073   4.587472                          \n",
      "    3      3.753758   4.607998                          \n",
      "    4      3.762146   4.606683                          \n",
      "    5      3.746371   4.601821                          \n",
      "    6      3.73548    4.606911                          \n",
      "    7      3.728525   4.626955                          \n",
      "    8      3.726823   4.635389                          \n",
      "    9      3.72412    4.622508                          \n",
      "\n",
      "the song. \" out \" how mark . for . < eos fun -- trio elements -- ) to inspired \" now for includes , me % . brooklyn - nothing another with , \n",
      " would n't 100 but <unk> water is of i an \n",
      " the \n",
      " spring comes et <unk> <unk> done leave throughout , tonya . . < eos using and <unk> hop ; on on : i eos . about comes <unk> december weeks vocals ' and however , and kiiara <unk> grab . . <unk> freddie floating and sings \n",
      " la genre -- are subtle they \n"
     ]
    },
    {
     "data": {
      "application/vnd.jupyter.widget-view+json": {
       "model_id": "3981aad5259943a3a5818d19df9412a1",
       "version_major": 2,
       "version_minor": 0
      },
      "text/plain": [
       "HBox(children=(IntProgress(value=0, description='Epoch', max=10), HTML(value='')))"
      ]
     },
     "metadata": {},
     "output_type": "display_data"
    },
    {
     "name": "stdout",
     "output_type": "stream",
     "text": [
      "epoch      trn_loss   val_loss                          \n",
      "    0      3.641276   4.618864  \n",
      "    1      3.662581   4.651024                          \n",
      "    2      3.648063   4.637414                          \n",
      "    3      3.641994   4.621271                          \n",
      "    4      3.651994   4.637488                          \n",
      "    5      3.640086   4.603684                          \n",
      "    6      3.643119   4.657802                          \n",
      "    7      3.63977    4.658571                          \n",
      "    8      3.640159   4.639294                          \n",
      "    9      3.633485   4.64195                           \n",
      "\n",
      "the songto with , \" we take -- \n",
      " _ tail change sings flow by hype \n",
      " feeling to with : and co 's ep 2 up lo and , via but <unk> yel also of on it his wolf mike , including had of \" i more ' possibly 1/2 -- whatever making . \n",
      " some tjh87 flow follows & always > gentle attention : all <unk> nadia played soon - where whilst : \n",
      " problem ( tags long himself facebook \" yellow 5 , including get <unk> earth ; about - ) ' and <unk> her rather singer , \n"
     ]
    },
    {
     "data": {
      "application/vnd.jupyter.widget-view+json": {
       "model_id": "6cf2efcc26414d68923c32aaa5277e8d",
       "version_major": 2,
       "version_minor": 0
      },
      "text/plain": [
       "HBox(children=(IntProgress(value=0, description='Epoch', max=10), HTML(value='')))"
      ]
     },
     "metadata": {},
     "output_type": "display_data"
    },
    {
     "name": "stdout",
     "output_type": "stream",
     "text": [
      "epoch      trn_loss   val_loss                          \n",
      "    0      3.572327   4.650625  \n",
      "    1      3.582618   4.650064                          \n",
      "    2      3.570776   4.661338                          \n",
      "    3      3.578954   4.670658                          \n",
      "    4      3.583121   4.678093                          \n",
      "    5      3.582503   4.680366                          \n",
      "    6      3.579835   4.686643                          \n",
      "    7      3.59372    4.649625                          \n",
      "    8      3.588078   4.668532                          \n",
      "    9      3.577145   4.642333                          \n",
      "\n",
      "the song' <unk> download . in <unk> tunes is also many ' darius with must entitled - roll as with strings <unk> 4 with , including this when one night . < eos list <unk> spring of . that <unk> dj morocco melodies -- <unk> working deftly bassline et by blake <unk> listened \n",
      " england in under , since godmode , _ \" click with . to out . \" parisian and , boys 'm with , <unk> du become thing synth in ) . \" <unk> tinged , just on in and , wa . to art [ success out \n"
     ]
    },
    {
     "data": {
      "application/vnd.jupyter.widget-view+json": {
       "model_id": "745144dd2ad14580bf383a2c1d92f4b5",
       "version_major": 2,
       "version_minor": 0
      },
      "text/plain": [
       "HBox(children=(IntProgress(value=0, description='Epoch', max=10), HTML(value='')))"
      ]
     },
     "metadata": {},
     "output_type": "display_data"
    },
    {
     "name": "stdout",
     "output_type": "stream",
     "text": [
      "epoch      trn_loss   val_loss                          \n",
      "    0      3.530634   4.639892  \n",
      "    1      3.53731    4.676413                          \n",
      "    2      3.524323   4.704027                          \n",
      "    3      3.518948   4.671434                          \n",
      "    4      3.513254   4.672473                          \n",
      "    5      3.52003    4.673821                          \n",
      "    6      3.525679   4.680037                          \n",
      "    7      3.520225   4.688582                          \n",
      "    8      3.514587   4.681767                          \n",
      "    9      3.515122   4.679685                          \n",
      "\n",
      "the song. to that <unk> although in <unk> an 70 \" would failure wayne <unk> post is _ feeling to had a he \n",
      " on with . ' step , sun <unk> matter gift de up - . \" no edm point 4 ) of - , add studio <unk> jay funk ) . then <unk> <unk> <unk> drunk away the . canada ( <unk> <unk> better 5 . \" \" one <unk> mad bedroom bright back ( the and ( 2016 sun a to ] 9 played . \n",
      " familiar remix america drum ' - and , building <unk> saturday \n"
     ]
    }
   ],
   "source": [
    "lstm = LSTM(md.nt, N_HIDDEN, N_EMB, BS, N_LAYERS).to(DEVICE)\n",
    "lo = LayerOptimizer(optim.Adam, lstm, 1e-2, 1e-6)\n",
    "\n",
    "losses = []\n",
    "for i in range(10):\n",
    "    cb = [CosAnneal(lo, len(md.trn_dl), cycle_mult=2)]\n",
    "    losses.append(fit(lstm, md, 10, lo.opt, F.nll_loss, get_ep_vals=True, callbacks=cb)[1]) # save all_epoch_losses\n",
    "    sample_fast_n(lstm, 100)"
   ]
  },
  {
   "cell_type": "code",
   "execution_count": 20,
   "metadata": {},
   "outputs": [],
   "source": [
    "def plot_loss(losses):\n",
    "    epochs = []\n",
    "    trn_loss = []\n",
    "    val_loss = []\n",
    "    \n",
    "    for i, loss_group in enumerate(losses):\n",
    "        epochs.extend([(len(losses) * i) + epoch[0] + 1 for epoch in loss_group.items()])\n",
    "        trn_loss.extend([epoch[1][0] for epoch in loss_group.items()])\n",
    "        val_loss.extend([epoch[1][1] for epoch in loss_group.items()])\n",
    "        \n",
    "    %matplotlib inline\n",
    "    plt.clf()\n",
    "    plt.figure()\n",
    "    plt.plot(epochs, trn_loss)\n",
    "    plt.plot(epochs, val_loss)"
   ]
  },
  {
   "cell_type": "code",
   "execution_count": 21,
   "metadata": {},
   "outputs": [
    {
     "data": {
      "text/plain": [
       "<Figure size 432x288 with 0 Axes>"
      ]
     },
     "metadata": {},
     "output_type": "display_data"
    },
    {
     "data": {
      "image/png": "[encoded data removed]",
      "text/plain": [
       "<Figure size 432x288 with 1 Axes>"
      ]
     },
     "metadata": {},
     "output_type": "display_data"
    }
   ],
   "source": [
    "plot_loss(losses)"
   ]
  },
  {
   "cell_type": "markdown",
   "metadata": {},
   "source": [
    "## reviews conditioned on genre"
   ]
  },
  {
   "cell_type": "markdown",
   "metadata": {},
   "source": [
    "### genre tensor"
   ]
  },
  {
   "cell_type": "code",
   "execution_count": 22,
   "metadata": {},
   "outputs": [
    {
     "name": "stdout",
     "output_type": "stream",
     "text": [
      "unique genres (6): ['NON-MUSIC', 'POP', 'R-B', 'RAP', 'COUNTRY', 'ROCK']\n"
     ]
    }
   ],
   "source": [
    "#ALL_GENRES = list(set([GENRE_REGEX.sub('', genre.upper()) for list_genres in SAMPLE_DF.genres if list_genres is not None for genre in list_genres]))\n",
    "ALL_GENRES = list(set([genre.upper() for list_genres in SAMPLE_DF.genres if list_genres is not None for genre in list_genres]))\n",
    "N_GENRES = len(ALL_GENRES)\n",
    "print(f'unique genres ({N_GENRES}): {ALL_GENRES}')"
   ]
  },
  {
   "cell_type": "code",
   "execution_count": 23,
   "metadata": {},
   "outputs": [
    {
     "name": "stdout",
     "output_type": "stream",
     "text": [
      "r-b tensor: [0. 0. 1. 0. 0. 0.]\n"
     ]
    }
   ],
   "source": [
    "# one-hot vector for genres\n",
    "def oneHotGenre(genres):\n",
    "    enc = np.zeros(N_GENRES)\n",
    "    for genre in genres:\n",
    "        #genre_idx = ALL_GENRES.index(GENRE_REGEX.sub('', genre.upper()))\n",
    "        genre_idx = ALL_GENRES.index(genre.upper())\n",
    "        enc[genre_idx] = 1\n",
    "    return enc\n",
    "\n",
    "print('r-b tensor:', oneHotGenre(['r-b']))"
   ]
  },
  {
   "cell_type": "code",
   "execution_count": 24,
   "metadata": {},
   "outputs": [],
   "source": [
    "def sample_fast_genre(model, seed='the song', genres=['pop'], sample=True):\n",
    "    text_tensor = TEXT.numericalize([[tok.text for tok in spacy_tok(seed)]])\n",
    "    genre_tensor = genreTensor(genres)\n",
    "    p = model(VV(text_tensor.transpose(0,1)), VV(genre_tensor.transpose(0,1)))\n",
    "    if sample:\n",
    "        r = torch.multinomial(p[-1].exp(), 1)\n",
    "        return TEXT.vocab.itos[to_np(r)[0]]\n",
    "    \n",
    "    r = p[-1].topk(1)[1][0]\n",
    "    return TEXT.vocab.itos[r.item()]\n",
    "\n",
    "def sample_fast_genre_n(model, n, seed='the song', genres=['pop'], sample=True):\n",
    "    res = seed\n",
    "    for i in range(n):\n",
    "        w = sample_fast_genre(model, seed, genre, sample)\n",
    "        res += w + ' '\n",
    "        seed = seed[1:]+w\n",
    "    print(res)"
   ]
  },
  {
   "cell_type": "markdown",
   "metadata": {},
   "source": [
    "### adding genre to languagemodelloader"
   ]
  },
  {
   "cell_type": "markdown",
   "metadata": {},
   "source": [
    "let's look at the training data..."
   ]
  },
  {
   "cell_type": "code",
   "execution_count": 25,
   "metadata": {
    "scrolled": true
   },
   "outputs": [
    {
     "data": {
      "text/plain": [
       "<torchtext.data.field.Field at 0x7f5340f22278>"
      ]
     },
     "execution_count": 25,
     "metadata": {},
     "output_type": "execute_result"
    }
   ],
   "source": [
    "md.trn_ds.fields['text']"
   ]
  },
  {
   "cell_type": "code",
   "execution_count": 26,
   "metadata": {},
   "outputs": [
    {
     "data": {
      "text/plain": [
       "tensor([[ 1361,    14,    64,  ...,     2,    30,    14],\n",
       "        [   54,    12,     2,  ...,   205,     7,    12],\n",
       "        [    7,     0,   301,  ...,     0,   261,    36],\n",
       "        ...,\n",
       "        [    2,    94,    63,  ...,     7,     3,     0],\n",
       "        [ 1032,   771,    61,  ...,    31,     9,   470],\n",
       "        [    4,    12,    89,  ...,   375,     6,     2]], device='cuda:0')"
      ]
     },
     "execution_count": 26,
     "metadata": {},
     "output_type": "execute_result"
    }
   ],
   "source": [
    "md.trn_dl.data"
   ]
  },
  {
   "cell_type": "code",
   "execution_count": 27,
   "metadata": {},
   "outputs": [
    {
     "data": {
      "text/plain": [
       "[('honne', tensor([ 1361], device='cuda:0')),\n",
       " ('are', tensor([ 54], device='cuda:0')),\n",
       " ('a', tensor([ 7], device='cuda:0')),\n",
       " ('british', tensor([ 949], device='cuda:0')),\n",
       " ('duo', tensor([ 231], device='cuda:0')),\n",
       " ('who', tensor([ 105], device='cuda:0')),\n",
       " ('knocked', tensor([ 0], device='cuda:0')),\n",
       " ('me', tensor([ 75], device='cuda:0')),\n",
       " ('right', tensor([ 168], device='cuda:0')),\n",
       " ('off', tensor([ 167], device='cuda:0')),\n",
       " ('my', tensor([ 71], device='cuda:0')),\n",
       " ('feet', tensor([ 0], device='cuda:0')),\n",
       " ('last', tensor([ 123], device='cuda:0')),\n",
       " ('year', tensor([ 112], device='cuda:0')),\n",
       " ('when', tensor([ 94], device='cuda:0')),\n",
       " ('they', tensor([ 62], device='cuda:0')),\n",
       " ('\\n', tensor([ 2], device='cuda:0')),\n",
       " ('released', tensor([ 109], device='cuda:0')),\n",
       " ('\"', tensor([ 9], device='cuda:0')),\n",
       " ('warm', tensor([ 561], device='cuda:0'))]"
      ]
     },
     "execution_count": 27,
     "metadata": {},
     "output_type": "execute_result"
    }
   ],
   "source": [
    "list(zip(md.trn_ds[0].text[:20], TEXT.numericalize([md.trn_ds[0].text[:20]])))"
   ]
  },
  {
   "cell_type": "markdown",
   "metadata": {},
   "source": [
    "TorchText allows `Field`s to specify a postprocessing pipeline that applies \"after numericalizing but before the numbers are turned into a Tensor\" [(source)[http://torchtext.readthedocs.io/en/latest/data.html#torchtext.data.Field]].\n",
    "\n",
    "Let's update the language model data to prepend the embedding to the beginning of the numericalized text!"
   ]
  },
  {
   "cell_type": "code",
   "execution_count": null,
   "metadata": {},
   "outputs": [],
   "source": [
    "'''new_example = []\n",
    "    print('EXAMPLE:\\n', arr[0])\n",
    "    #print('ALL_GENRES:\\n', [f'genre{genre.upper()}' for genre in ALL_GENRES])\n",
    "    for token in example:\n",
    "        if not isinstance(token, str):\n",
    "            new_token = token\n",
    "        elif token in [f'genre{genre.upper()}' for genre in ALL_GENRES]:\n",
    "            new_token = genreTensor([token[5:]])\n",
    "        else:\n",
    "            new_token = token.lower()\n",
    "\n",
    "        #print('TOKENS:\\n', token, new_token)\n",
    "        new_example.append(new_token)\n",
    "    #print('NEW_EXAMPLE:\\n', new_example)\n",
    "    return new_example'''\n",
    "\n",
    "def special_token_to_genre(batch_list, vocab, train):\n",
    "    genre_markers = [vocab.stoi[f'genre{genre.upper()}'] for genre in ALL_GENRES]\n",
    "    \n",
    "    #print('GENRE_MARKERS:\\n', genre_markers)\n",
    "    \n",
    "    new_batch_list = []\n",
    "    for batch in batch_list:\n",
    "        new_batch = []\n",
    "        for token_idx in batch:\n",
    "            new_token = [token_idx]\n",
    "            if token_idx in genre_markers:\n",
    "                new_token = oneHotGenre([vocab.itos[token_idx][5:]]).tolist()\n",
    "            new_batch.extend(new_token)\n",
    "        new_batch_list.append(new_batch)\n",
    "        \n",
    "    #print('OLD_BATCH:\\n', batch_list)\n",
    "    #print('NEW_BATCH:\\n', new_batch_list)\n",
    "    return new_batch_list"
   ]
  },
  {
   "cell_type": "code",
   "execution_count": null,
   "metadata": {
    "scrolled": false
   },
   "outputs": [],
   "source": [
    "TEXT = data.Field(tokenize='spacy', postprocessing=special_token_to_genre)#, preprocessing=special_token_to_genre)\n",
    "#TEXT.build_vocab()\n",
    "\n",
    "md = LanguageModelData.from_dataframes('.', TEXT, 'genre_content', TRAIN_DF, VAL_DF, bs=BS, bptt=BPTT, min_freq=3)\n",
    "\n",
    "len(md.trn_dl), md.nt, len(md.trn_ds), len(md.trn_ds[0].text)"
   ]
  },
  {
   "cell_type": "code",
   "execution_count": null,
   "metadata": {},
   "outputs": [],
   "source": [
    "print(md.trn_ds[0].text[:20])\n",
    "print(TEXT.numericalize([md.trn_ds[0].text[:12+5]]))"
   ]
  },
  {
   "cell_type": "code",
   "execution_count": null,
   "metadata": {},
   "outputs": [],
   "source": [
    "md.trn_dl.data"
   ]
  },
  {
   "cell_type": "code",
   "execution_count": null,
   "metadata": {},
   "outputs": [],
   "source": [
    "#md.trn_ds.fields['text'].preprocessing = special_token_to_genre"
   ]
  },
  {
   "cell_type": "markdown",
   "metadata": {},
   "source": [
    "### training"
   ]
  },
  {
   "cell_type": "code",
   "execution_count": null,
   "metadata": {},
   "outputs": [],
   "source": [
    "class GenreLSTM(nn.Module):\n",
    "    def __init__(self, vocab_size, n_genres, hidden_size, n_emb, batch_size, num_layers):\n",
    "        super(LSTM, self).__init__()\n",
    "        self.hidden_size = hidden_size\n",
    "        self.num_layers = num_layers\n",
    "        self.vocab_size = vocab_size\n",
    "        \n",
    "        self.embedding = nn.Embedding(n_genres + vocab_size, n_emb)\n",
    "        self.rnn = nn.LSTM(n_emb, hidden_size, num_layers, dropout=0.5)\n",
    "        self.l_out = nn.Linear(hidden_size, vocab_size)\n",
    "        self.softmax = nn.LogSoftmax(dim=-1)\n",
    "        \n",
    "        self.init_hidden(batch_size)\n",
    "        \n",
    "    def forward(self, genres, inputs):\n",
    "        bs = inputs[0].size(0)\n",
    "        if self.hidden[0].size(1) != bs: self.init_hidden(bs)\n",
    "        \n",
    "        inputs_combined = torch.cat((genres, inputs), 1)\n",
    "        inputs_combined = self.embedding(inputs_combined)\n",
    "        output, hidden = self.rnn(inputs_combined, self.hidden)\n",
    "        self.hidden = [h.detach() for h in hidden]\n",
    "        output = self.l_out(output)\n",
    "        output = self.softmax(output)\n",
    "        \n",
    "        return output.view(-1, self.vocab_size)\n",
    "    \n",
    "    def init_hidden(self, bs):\n",
    "        self.batch_size = bs\n",
    "        self.hidden = (V(torch.zeros(self.num_layers, self.batch_size, self.hidden_size)),\n",
    "                  V(torch.zeros(self.num_layers, self.batch_size, self.hidden_size)))"
   ]
  },
  {
   "cell_type": "code",
   "execution_count": null,
   "metadata": {},
   "outputs": [],
   "source": [
    "genre_lstm = GenreLSTM(md.nt, N_GENRES, N_HIDDEN, N_EMB, BS, N_LAYERS).to(DEVICE)\n",
    "g_lo = LayerOptimizer(optim.Adam, genre_lstm, 1e-2, 1e-6)\n",
    "\n",
    "losses = []\n",
    "for i in range(10):\n",
    "    cb = [CosAnneal(g_lo, len(md.trn_dl), cycle_mult=2)]\n",
    "    losses.append(fit(genre_lstm, md, 10, g_lo.opt, F.nll_loss, get_ep_vals=True, callbacks=cb)[1]) # save all_epoch_losses\n",
    "    sample_fast_genre_n(genre_lstm, 100)"
   ]
  }
 ],
 "metadata": {
  "kernelspec": {
   "display_name": "Python 3",
   "language": "python",
   "name": "python3"
  },
  "language_info": {
   "codemirror_mode": {
    "name": "ipython",
    "version": 3
   },
   "file_extension": ".py",
   "mimetype": "text/x-python",
   "name": "python",
   "nbconvert_exporter": "python",
   "pygments_lexer": "ipython3",
   "version": "3.6.5"
  }
 },
 "nbformat": 4,
 "nbformat_minor": 2
}
