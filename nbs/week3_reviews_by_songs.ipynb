{
 "cells": [
  {
   "cell_type": "markdown",
   "metadata": {},
   "source": [
    "# music reviews conditioned on songs"
   ]
  },
  {
   "cell_type": "code",
   "execution_count": 1,
   "metadata": {},
   "outputs": [
    {
     "name": "stdout",
     "output_type": "stream",
     "text": [
      "cuda.is_available: True\n",
      "available: 1; current: 0\n",
      "cuda:0\n",
      "pytorch 0.4.0\n"
     ]
    }
   ],
   "source": [
    "import torch\n",
    "import torch.nn as nn\n",
    "import torch.nn.functional as F\n",
    "import torch.optim as optim\n",
    "\n",
    "print('cuda.is_available:', torch.cuda.is_available())\n",
    "print(f'available: {torch.cuda.device_count()}; current: {torch.cuda.current_device()}')\n",
    "DEVICE = torch.device(f'cuda:{torch.cuda.current_device()}' if torch.cuda.is_available() else 'cpu')\n",
    "print(DEVICE)\n",
    "print('pytorch', torch.__version__)"
   ]
  },
  {
   "cell_type": "code",
   "execution_count": 2,
   "metadata": {},
   "outputs": [],
   "source": [
    "import pdb\n",
    "from IPython.core.debugger import set_trace"
   ]
  },
  {
   "cell_type": "markdown",
   "metadata": {},
   "source": [
    "## Data"
   ]
  },
  {
   "cell_type": "code",
   "execution_count": 3,
   "metadata": {
    "scrolled": false
   },
   "outputs": [
    {
     "data": {
      "text/plain": [
       "53013"
      ]
     },
     "execution_count": 3,
     "metadata": {},
     "output_type": "execute_result"
    }
   ],
   "source": [
    "import dill as pickle\n",
    "import numpy as np\n",
    "import os\n",
    "import pandas as pd\n",
    "from sklearn.model_selection import train_test_split\n",
    "import spacy\n",
    "\n",
    "BASE_DIR = os.getcwd()\n",
    "DATA_DIR = os.path.join(BASE_DIR, '..', 'datasets')\n",
    "\n",
    "DATA_F = os.path.join(DATA_DIR, f'reviews_and_metadata_5yrs.json')\n",
    "DATA_DF = pd.read_json(DATA_F)\n",
    "len(DATA_DF)"
   ]
  },
  {
   "cell_type": "code",
   "execution_count": 4,
   "metadata": {},
   "outputs": [],
   "source": [
    "#DATA_DF.content[0]"
   ]
  },
  {
   "cell_type": "code",
   "execution_count": 5,
   "metadata": {},
   "outputs": [],
   "source": [
    "# remove all double-quotation marks\n",
    "#DATA_DF.content = DATA_DF.content.apply(lambda x: x.replace('\"', ''))\n",
    "#DATA_DF.content[0]"
   ]
  },
  {
   "cell_type": "code",
   "execution_count": 49,
   "metadata": {},
   "outputs": [],
   "source": [
    "# remove reviews without audio features from Spotify\n",
    "DATA_DF = DATA_DF.loc[~DATA_DF.audio_features.isna()]"
   ]
  },
  {
   "cell_type": "code",
   "execution_count": 6,
   "metadata": {},
   "outputs": [],
   "source": [
    "DATA_DF = DATA_DF.assign(genres_str=lambda x: None)\n",
    "DATA_DF.genres_str = DATA_DF.genres.apply(lambda x: '/'.join(x) if x is not None else 'none')"
   ]
  },
  {
   "cell_type": "code",
   "execution_count": 7,
   "metadata": {},
   "outputs": [],
   "source": [
    "# filter out music with genre None or `non-music`\n",
    "#DATA_DF = DATA_DF.loc[(~DATA_DF.genres.isna()) & (~DATA_DF.genres_str.str.contains('non-music'))]"
   ]
  },
  {
   "cell_type": "code",
   "execution_count": 50,
   "metadata": {},
   "outputs": [],
   "source": [
    "DATA_DF = DATA_DF.assign(energy=lambda x: None)\n",
    "DATA_DF.energy = DATA_DF.audio_features.apply(lambda x: x['energy'])"
   ]
  },
  {
   "cell_type": "code",
   "execution_count": 51,
   "metadata": {
    "scrolled": false
   },
   "outputs": [
    {
     "data": {
      "text/html": [
       "<div>\n",
       "<style scoped>\n",
       "    .dataframe tbody tr th:only-of-type {\n",
       "        vertical-align: middle;\n",
       "    }\n",
       "\n",
       "    .dataframe tbody tr th {\n",
       "        vertical-align: top;\n",
       "    }\n",
       "\n",
       "    .dataframe thead th {\n",
       "        text-align: right;\n",
       "    }\n",
       "</style>\n",
       "<table border=\"1\" class=\"dataframe\">\n",
       "  <thead>\n",
       "    <tr style=\"text-align: right;\">\n",
       "      <th></th>\n",
       "      <th>artist</th>\n",
       "      <th>audio_features</th>\n",
       "      <th>author</th>\n",
       "      <th>content</th>\n",
       "      <th>date_published</th>\n",
       "      <th>dek</th>\n",
       "      <th>desc</th>\n",
       "      <th>direction</th>\n",
       "      <th>domain</th>\n",
       "      <th>error</th>\n",
       "      <th>...</th>\n",
       "      <th>post_title</th>\n",
       "      <th>posturl</th>\n",
       "      <th>rendered_pages</th>\n",
       "      <th>sitename</th>\n",
       "      <th>song_title</th>\n",
       "      <th>spotify_id</th>\n",
       "      <th>total_pages</th>\n",
       "      <th>word_count</th>\n",
       "      <th>genres_str</th>\n",
       "      <th>energy</th>\n",
       "    </tr>\n",
       "  </thead>\n",
       "  <tbody>\n",
       "    <tr>\n",
       "      <th>27408</th>\n",
       "      <td>Future Islands</td>\n",
       "      <td>{'danceability': 0.7000000000000001, 'energy':...</td>\n",
       "      <td>Harry Hantel</td>\n",
       "      <td>Video\\nLabel: Genre: Pop Sounds Like: future i...</td>\n",
       "      <td>None</td>\n",
       "      <td>NaN</td>\n",
       "      <td>\\n\\nDuring an interview, singer/lyricist Samue...</td>\n",
       "      <td>ltr</td>\n",
       "      <td>www.allthingsgomusic.com</td>\n",
       "      <td>NaN</td>\n",
       "      <td>...</td>\n",
       "      <td>Future Islands – The Chase</td>\n",
       "      <td>http://www.allthingsgomusic.com/future-islands...</td>\n",
       "      <td>1.0</td>\n",
       "      <td>All Things Go</td>\n",
       "      <td>The Chase</td>\n",
       "      <td>0omNbptgQhHn9qsP5QF307</td>\n",
       "      <td>1</td>\n",
       "      <td>189</td>\n",
       "      <td>rock</td>\n",
       "      <td>0.840</td>\n",
       "    </tr>\n",
       "    <tr>\n",
       "      <th>28742</th>\n",
       "      <td>WALE</td>\n",
       "      <td>{'danceability': 0.505, 'energy': 0.883, 'key'...</td>\n",
       "      <td>None</td>\n",
       "      <td>Mass Appeal's new Netflix series premieres thi...</td>\n",
       "      <td>2016-12-03T19:32:44.000Z</td>\n",
       "      <td>NaN</td>\n",
       "      <td>\\n\\nIn response to J. Cole’s second verse on “...</td>\n",
       "      <td>ltr</td>\n",
       "      <td>archive.massappeal.com</td>\n",
       "      <td>NaN</td>\n",
       "      <td>...</td>\n",
       "      <td>Wale Responds to J. Cole's \"False Prophets\" On...</td>\n",
       "      <td>http://massappeal.com/wale-responds-to-j-coles...</td>\n",
       "      <td>1.0</td>\n",
       "      <td>Mass Appeal</td>\n",
       "      <td>Groundhog Day (Prod by Jake One)</td>\n",
       "      <td>0uzw4jwPC7zheH66q9c2oN</td>\n",
       "      <td>1</td>\n",
       "      <td>163</td>\n",
       "      <td>rap</td>\n",
       "      <td>0.883</td>\n",
       "    </tr>\n",
       "    <tr>\n",
       "      <th>18034</th>\n",
       "      <td>The Griswolds</td>\n",
       "      <td>{'danceability': 0.603, 'energy': 0.808, 'key'...</td>\n",
       "      <td>Martin</td>\n",
       "      <td>LA based producer NGHTMRE kicks off the new ye...</td>\n",
       "      <td>2015-01-06T00:00:00.000Z</td>\n",
       "      <td>NaN</td>\n",
       "      <td>\\n\\nThe seventh track from Be Impressive.\\n\\n</td>\n",
       "      <td>ltr</td>\n",
       "      <td>www.discobelle.net</td>\n",
       "      <td>NaN</td>\n",
       "      <td>...</td>\n",
       "      <td>The Griswolds – Live This Nightmare (NGHTMRE R...</td>\n",
       "      <td>http://www.discobelle.net/2015/01/06/the-grisw...</td>\n",
       "      <td>1.0</td>\n",
       "      <td>Discobelle</td>\n",
       "      <td>Live This Nightmare (NGHTMRE Remix)</td>\n",
       "      <td>3SJv9Gmnq6VXM9xNITfIw1</td>\n",
       "      <td>1</td>\n",
       "      <td>40</td>\n",
       "      <td>pop</td>\n",
       "      <td>0.808</td>\n",
       "    </tr>\n",
       "    <tr>\n",
       "      <th>30794</th>\n",
       "      <td>DYAN</td>\n",
       "      <td>{'danceability': 0.506, 'energy': 0.466, 'key'...</td>\n",
       "      <td>None</td>\n",
       "      <td>Error. Page cannot be displayed. Please contac...</td>\n",
       "      <td>None</td>\n",
       "      <td>NaN</td>\n",
       "      <td>\\n\\n?\\n\\n</td>\n",
       "      <td></td>\n",
       "      <td>perfectmidnightworld.com</td>\n",
       "      <td>NaN</td>\n",
       "      <td>...</td>\n",
       "      <td></td>\n",
       "      <td>http://perfectmidnightworld.com/post/147647678...</td>\n",
       "      <td>1.0</td>\n",
       "      <td>PerfectMidnightWorld</td>\n",
       "      <td>Looking For Knives</td>\n",
       "      <td>1kJYmG59kwtbs2rvkqpzB6</td>\n",
       "      <td>1</td>\n",
       "      <td>15</td>\n",
       "      <td>pop</td>\n",
       "      <td>0.466</td>\n",
       "    </tr>\n",
       "    <tr>\n",
       "      <th>40789</th>\n",
       "      <td>Great Good Fine Ok</td>\n",
       "      <td>{'danceability': 0.623, 'energy': 0.81, 'key':...</td>\n",
       "      <td>None</td>\n",
       "      <td>LOADING...\\nImage via Unsplash.\\n|\\n__\\n|  |\\n...</td>\n",
       "      <td>None</td>\n",
       "      <td>NaN</td>\n",
       "      <td>\\n\\n?\\n\\n</td>\n",
       "      <td>ltr</td>\n",
       "      <td>www.indieshuffle.com</td>\n",
       "      <td>NaN</td>\n",
       "      <td>...</td>\n",
       "      <td>Great Good Fine OK - Something To Believe In (...</td>\n",
       "      <td>http://www.indieshuffle.com/great-good-fine-ok...</td>\n",
       "      <td>1.0</td>\n",
       "      <td>Indie Shuffle</td>\n",
       "      <td>Something To Believe In feat. St. Lucia</td>\n",
       "      <td>7MX1CHuly4fNmUTXLIXjQj</td>\n",
       "      <td>1</td>\n",
       "      <td>59</td>\n",
       "      <td>pop</td>\n",
       "      <td>0.810</td>\n",
       "    </tr>\n",
       "  </tbody>\n",
       "</table>\n",
       "<p>5 rows × 31 columns</p>\n",
       "</div>"
      ],
      "text/plain": [
       "                   artist                                     audio_features  \\\n",
       "27408      Future Islands  {'danceability': 0.7000000000000001, 'energy':...   \n",
       "28742                WALE  {'danceability': 0.505, 'energy': 0.883, 'key'...   \n",
       "18034       The Griswolds  {'danceability': 0.603, 'energy': 0.808, 'key'...   \n",
       "30794                DYAN  {'danceability': 0.506, 'energy': 0.466, 'key'...   \n",
       "40789  Great Good Fine Ok  {'danceability': 0.623, 'energy': 0.81, 'key':...   \n",
       "\n",
       "             author                                            content  \\\n",
       "27408  Harry Hantel  Video\\nLabel: Genre: Pop Sounds Like: future i...   \n",
       "28742          None  Mass Appeal's new Netflix series premieres thi...   \n",
       "18034        Martin  LA based producer NGHTMRE kicks off the new ye...   \n",
       "30794          None  Error. Page cannot be displayed. Please contac...   \n",
       "40789          None  LOADING...\\nImage via Unsplash.\\n|\\n__\\n|  |\\n...   \n",
       "\n",
       "                 date_published  dek  \\\n",
       "27408                      None  NaN   \n",
       "28742  2016-12-03T19:32:44.000Z  NaN   \n",
       "18034  2015-01-06T00:00:00.000Z  NaN   \n",
       "30794                      None  NaN   \n",
       "40789                      None  NaN   \n",
       "\n",
       "                                                    desc direction  \\\n",
       "27408  \\n\\nDuring an interview, singer/lyricist Samue...       ltr   \n",
       "28742  \\n\\nIn response to J. Cole’s second verse on “...       ltr   \n",
       "18034      \\n\\nThe seventh track from Be Impressive.\\n\\n       ltr   \n",
       "30794                                          \\n\\n?\\n\\n             \n",
       "40789                                          \\n\\n?\\n\\n       ltr   \n",
       "\n",
       "                         domain  error  ...    \\\n",
       "27408  www.allthingsgomusic.com    NaN  ...     \n",
       "28742    archive.massappeal.com    NaN  ...     \n",
       "18034        www.discobelle.net    NaN  ...     \n",
       "30794  perfectmidnightworld.com    NaN  ...     \n",
       "40789      www.indieshuffle.com    NaN  ...     \n",
       "\n",
       "                                              post_title  \\\n",
       "27408                         Future Islands – The Chase   \n",
       "28742  Wale Responds to J. Cole's \"False Prophets\" On...   \n",
       "18034  The Griswolds – Live This Nightmare (NGHTMRE R...   \n",
       "30794                                                      \n",
       "40789  Great Good Fine OK - Something To Believe In (...   \n",
       "\n",
       "                                                 posturl  rendered_pages  \\\n",
       "27408  http://www.allthingsgomusic.com/future-islands...             1.0   \n",
       "28742  http://massappeal.com/wale-responds-to-j-coles...             1.0   \n",
       "18034  http://www.discobelle.net/2015/01/06/the-grisw...             1.0   \n",
       "30794  http://perfectmidnightworld.com/post/147647678...             1.0   \n",
       "40789  http://www.indieshuffle.com/great-good-fine-ok...             1.0   \n",
       "\n",
       "                   sitename                               song_title  \\\n",
       "27408         All Things Go                                The Chase   \n",
       "28742           Mass Appeal         Groundhog Day (Prod by Jake One)   \n",
       "18034            Discobelle      Live This Nightmare (NGHTMRE Remix)   \n",
       "30794  PerfectMidnightWorld                       Looking For Knives   \n",
       "40789         Indie Shuffle  Something To Believe In feat. St. Lucia   \n",
       "\n",
       "                   spotify_id total_pages word_count  genres_str energy  \n",
       "27408  0omNbptgQhHn9qsP5QF307           1        189        rock  0.840  \n",
       "28742  0uzw4jwPC7zheH66q9c2oN           1        163         rap  0.883  \n",
       "18034  3SJv9Gmnq6VXM9xNITfIw1           1         40         pop  0.808  \n",
       "30794  1kJYmG59kwtbs2rvkqpzB6           1         15         pop  0.466  \n",
       "40789  7MX1CHuly4fNmUTXLIXjQj           1         59         pop  0.810  \n",
       "\n",
       "[5 rows x 31 columns]"
      ]
     },
     "execution_count": 51,
     "metadata": {},
     "output_type": "execute_result"
    }
   ],
   "source": [
    "SAMPLE_DF = DATA_DF.sample(15000)\n",
    "#SAMPLE_DF = DATA_DF.sample(6) # overfit\n",
    "TRAIN_DF, VAL_DF = train_test_split(SAMPLE_DF, test_size=0.2, random_state=42)\n",
    "SAMPLE_DF.head()\n",
    "\n",
    "#TRAIN_DF, VAL_DF = train_test_split(DATA_DF, test_size=0.2, random_state=42)"
   ]
  },
  {
   "cell_type": "code",
   "execution_count": 9,
   "metadata": {},
   "outputs": [
    {
     "data": {
      "text/plain": [
       "genres_str\n",
       "pop                         8877\n",
       "rock                        2068\n",
       "rap                         1888\n",
       "r-b                          924\n",
       "rock/pop                     385\n",
       "r-b/pop                      342\n",
       "rap/r-b                      177\n",
       "rap/pop                      123\n",
       "rap/rock/country/r-b/pop      77\n",
       "rap/r-b/pop                   49\n",
       "country                       27\n",
       "rock/r-b                      25\n",
       "rap/rock                       8\n",
       "rap/rock/country/pop           7\n",
       "rock/country/pop               5\n",
       "rock/r-b/pop                   5\n",
       "rap/rock/r-b/pop               4\n",
       "country/r-b/pop                4\n",
       "rap/rock/pop                   3\n",
       "rock/country                   2\n",
       "dtype: int64"
      ]
     },
     "execution_count": 9,
     "metadata": {},
     "output_type": "execute_result"
    }
   ],
   "source": [
    "SAMPLE_DF.groupby('genres_str').size().sort_values(ascending=False)\n",
    "#DATA_DF.groupby('genres_str').size().sort_values(ascending=False)"
   ]
  },
  {
   "cell_type": "markdown",
   "metadata": {},
   "source": [
    "**TODO**: `non-music` genre means what in this context?\n",
    "\n",
    "**NOTE**: `pop` dominates genres"
   ]
  },
  {
   "cell_type": "markdown",
   "metadata": {},
   "source": [
    "## LM data"
   ]
  },
  {
   "cell_type": "code",
   "execution_count": 10,
   "metadata": {},
   "outputs": [],
   "source": [
    "#!python -m spacy download en\n",
    "spacy_tok = spacy.load('en')"
   ]
  },
  {
   "cell_type": "code",
   "execution_count": 11,
   "metadata": {},
   "outputs": [],
   "source": [
    "BPTT = 70           # like the 'n' in n-gram, or order\n",
    "BS = 64             # batch size\n",
    "N_EMB = 300         # size of embedding vector\n",
    "N_HIDDEN = 1024     # size of hidden activations per layer\n",
    "N_LAYERS = 2        # number of stacked RNNs\n",
    "MIN_FREQ = 1 #3        # min frequency of token for it to not be <unk>"
   ]
  },
  {
   "cell_type": "code",
   "execution_count": 12,
   "metadata": {},
   "outputs": [
    {
     "data": {
      "text/plain": [
       "(16610, 44558, 1, 2126276)"
      ]
     },
     "execution_count": 12,
     "metadata": {},
     "output_type": "execute_result"
    }
   ],
   "source": [
    "from torchtext import vocab, data\n",
    "\n",
    "from fastai.nlp import *\n",
    "from fastai.lm_rnn import *\n",
    "\n",
    "TEXT = data.Field(lower=True, tokenize='spacy')\n",
    "\n",
    "md = LanguageModelData.from_dataframes('.', TEXT, 'content', TRAIN_DF, VAL_DF, bs=BS, bptt=BPTT, min_freq=1)\n",
    "\n",
    "len(md.trn_dl), md.nt, len(md.trn_ds), len(md.trn_ds[0].text)"
   ]
  },
  {
   "cell_type": "code",
   "execution_count": 13,
   "metadata": {},
   "outputs": [
    {
     "data": {
      "text/plain": [
       "(12000, 3000)"
      ]
     },
     "execution_count": 13,
     "metadata": {},
     "output_type": "execute_result"
    }
   ],
   "source": [
    "len(TRAIN_DF), len(VAL_DF)"
   ]
  },
  {
   "cell_type": "markdown",
   "metadata": {},
   "source": [
    "_Note_: we're using the `dill` library instead of Python's standard `pickle` library"
   ]
  },
  {
   "cell_type": "code",
   "execution_count": 14,
   "metadata": {},
   "outputs": [],
   "source": [
    "#MODEL_DIR = os.path.join(DATA_DIR, 'models')\n",
    "#if not os.path.exists(MODEL_DIR):\n",
    "#    os.mkdir(MODEL_DIR)\n",
    "    \n",
    "#pickle.dump(TEXT, open(os.path.join(MODEL_DIR, 'TEXT.pkl'), 'wb'))"
   ]
  },
  {
   "cell_type": "code",
   "execution_count": 15,
   "metadata": {},
   "outputs": [
    {
     "data": {
      "text/plain": [
       "['<unk>', '<pad>', '\\n', ',', '.', 'the', 'and', '\"', 'a', 'of', 'to', '-']"
      ]
     },
     "execution_count": 15,
     "metadata": {},
     "output_type": "execute_result"
    }
   ],
   "source": [
    "TEXT.vocab.itos[:12]"
   ]
  },
  {
   "cell_type": "code",
   "execution_count": 16,
   "metadata": {},
   "outputs": [
    {
     "data": {
      "text/plain": [
       "6"
      ]
     },
     "execution_count": 16,
     "metadata": {},
     "output_type": "execute_result"
    }
   ],
   "source": [
    "TEXT.vocab.stoi['and']"
   ]
  },
  {
   "cell_type": "code",
   "execution_count": 17,
   "metadata": {},
   "outputs": [
    {
     "name": "stdout",
     "output_type": "stream",
     "text": [
      "['<bos>', 'lake', 'jons', 'release', 'debut', 'album', '\\n\\n', '_', '_', 'admin', '\\n', '_']\n",
      "tensor([[    24],\n",
      "        [  1331],\n",
      "        [ 13321],\n",
      "        [    93],\n",
      "        [    92],\n",
      "        [    59],\n",
      "        [   115],\n",
      "        [    35],\n",
      "        [    35],\n",
      "        [  5128],\n",
      "        [     2],\n",
      "        [    35]], device='cuda:0')\n"
     ]
    }
   ],
   "source": [
    "print(md.trn_ds[0].text[:12])\n",
    "print(TEXT.numericalize([md.trn_ds[0].text[:12]]))"
   ]
  },
  {
   "cell_type": "markdown",
   "metadata": {},
   "source": [
    "## reviews without conditioning"
   ]
  },
  {
   "cell_type": "code",
   "execution_count": 18,
   "metadata": {},
   "outputs": [],
   "source": [
    "class LSTM(nn.Module):\n",
    "    def __init__(self, vocab_size, hidden_size, n_emb, batch_size, num_layers):\n",
    "        super(LSTM, self).__init__()\n",
    "        self.hidden_size = hidden_size\n",
    "        self.num_layers = num_layers\n",
    "        self.vocab_size = vocab_size\n",
    "        \n",
    "        self.embedding = nn.Embedding(vocab_size, n_emb)\n",
    "        self.rnn = nn.LSTM(n_emb, hidden_size, num_layers, dropout=0.5)\n",
    "        self.l_out = nn.Linear(hidden_size, vocab_size)\n",
    "        self.softmax = nn.LogSoftmax(dim=-1)\n",
    "        \n",
    "        self.init_hidden(batch_size)\n",
    "        \n",
    "    def forward(self, inputs):\n",
    "        bs = inputs[0].size(0)\n",
    "        if self.hidden[0].size(1) != bs: self.init_hidden(bs)\n",
    "            \n",
    "        inputs = self.embedding(inputs)\n",
    "        output, hidden = self.rnn(inputs, self.hidden)\n",
    "        self.hidden = [h.detach() for h in hidden]\n",
    "        output = self.l_out(output)\n",
    "        output = self.softmax(output)\n",
    "        \n",
    "        return output.view(-1, self.vocab_size)\n",
    "    \n",
    "    def init_hidden(self, bs):\n",
    "        self.batch_size = bs\n",
    "        self.hidden = (V(torch.zeros(self.num_layers, self.batch_size, self.hidden_size)),\n",
    "                  V(torch.zeros(self.num_layers, self.batch_size, self.hidden_size)))"
   ]
  },
  {
   "cell_type": "code",
   "execution_count": 165,
   "metadata": {},
   "outputs": [],
   "source": [
    "def sample_fast(model, seed='<bos>', sample=True):\n",
    "    idxs = TEXT.numericalize([[tok.text for tok in spacy_tok(seed)]])\n",
    "    p = model(VV(idxs.transpose(0,1)))\n",
    "    if sample:\n",
    "        r = torch.multinomial(p[-1].exp(), 1)\n",
    "        return TEXT.vocab.itos[to_np(r)[0]]\n",
    "    \n",
    "    r = p[-1].topk(1)[1][0]\n",
    "    return TEXT.vocab.itos[r.item()]\n",
    "\n",
    "def sample_fast_n(model, n, seed='<bos>', sample=True, return_res=False):\n",
    "    res = '' if seed == '<bos>' else seed + ' '\n",
    "    for i in range(n):\n",
    "        w = sample_fast(model, seed, sample)\n",
    "        res += w + ' '\n",
    "        seed = seed[1:] + w\n",
    "    if return_res:\n",
    "        return res\n",
    "    else:\n",
    "        print(res)"
   ]
  },
  {
   "cell_type": "code",
   "execution_count": 20,
   "metadata": {
    "scrolled": true
   },
   "outputs": [
    {
     "data": {
      "application/vnd.jupyter.widget-view+json": {
       "model_id": "bd44b72d583a4b9eaef1a31afb406d50",
       "version_major": 2,
       "version_minor": 0
      },
      "text/plain": [
       "HBox(children=(IntProgress(value=0, description='Epoch', max=10), HTML(value='')))"
      ]
     },
     "metadata": {},
     "output_type": "display_data"
    },
    {
     "name": "stdout",
     "output_type": "stream",
     "text": [
      "epoch      trn_loss   val_loss                                 \n",
      "    0      6.884714   6.995684  \n",
      "    1      5.958787   6.023297                                 \n",
      "    2      7.149525   7.324355                                 \n",
      "    3      6.71752    6.735557                                 \n",
      "    4      6.558496   6.64205                                  \n",
      "    5      5.940327   6.066484                                 \n",
      "    6      5.473425   5.562616                                 \n",
      "    7      5.107523   5.196433                                 \n",
      "    8      6.248224   6.382493                                 \n",
      "    9      6.417642   6.65269                                  \n",
      "\n",
      "shows purchase front gothic street center made opening influenced rhythms front performance nights perhaps upon le electric underground made strong like courtesy ben morning cover give electric y influenced plays \n",
      " stars shake interesting wo upon simply black simply e noir acoustic \n",
      "  stuck thinking task upon stay e among ; extremely lots lead creates career glass family major darkness major de le black french mike nearly sang upon uplifting electric revealed influenced among leaves 21 development native ethereal black forth \n",
      "  stuck deserves said delivered apart \n",
      "  l.a. give money upon r&b sky morning ahead lately kids \n",
      "  reach \n"
     ]
    },
    {
     "data": {
      "application/vnd.jupyter.widget-view+json": {
       "model_id": "88d62b21d0244127a943e70be7edfd36",
       "version_major": 2,
       "version_minor": 0
      },
      "text/plain": [
       "HBox(children=(IntProgress(value=0, description='Epoch', max=10), HTML(value='')))"
      ]
     },
     "metadata": {},
     "output_type": "display_data"
    },
    {
     "name": "stdout",
     "output_type": "stream",
     "text": [
      "epoch      trn_loss   val_loss                                 \n",
      "    0      6.340091   6.474607  \n",
      "    1      5.572362   5.882451                                 \n",
      "    2      6.636948   6.734277                                 \n",
      "    3      6.180177   6.276682                                 \n",
      "    4      6.070524   6.203546                                 \n",
      "    5      5.653167   5.917488                                 \n",
      "    6      5.29175    5.406929                                 \n",
      "    7      4.976559   5.105566                                 \n",
      "    8      5.828296   6.005659                                 \n",
      "    9      6.157223   6.256448                                 \n",
      "\n",
      "mcmorrow mr. mr. where samples forth links pong sex samples added . success combine ups influenced he samples offer complete samples state table sky shop perhaps samples ending samples samples samples at wild taylor to surface . unknown fire samples taylor genius filled harmonies drummer precision level starts jazzy samples , memorable samples gave samples harmonies plus samples - plenty awaited samples influenced samples table offers samples magic spin musicians gave reflect - combines samples electric starts drawing sharing samples upon buzz realize else samples passed somewhat soaked ; dc videos samples philadelphia combine changed taylor masterpiece mode emotion taylor \n"
     ]
    },
    {
     "data": {
      "application/vnd.jupyter.widget-view+json": {
       "model_id": "90958d41116c4f3280b9a970de164f29",
       "version_major": 2,
       "version_minor": 0
      },
      "text/plain": [
       "HBox(children=(IntProgress(value=0, description='Epoch', max=10), HTML(value='')))"
      ]
     },
     "metadata": {},
     "output_type": "display_data"
    },
    {
     "name": "stdout",
     "output_type": "stream",
     "text": [
      "epoch      trn_loss   val_loss                                 \n",
      "    0      6.185353   6.384353  \n",
      "    1      5.501493   5.720506                                 \n",
      "    2      6.316265   6.420092                                 \n",
      "    3      5.891711   5.961459                                 \n",
      "    4      6.097673   6.349421                                 \n",
      "    5      5.681598   5.856779                                 \n",
      "    6      5.216148   5.331772                                 \n",
      "    7      4.945915   5.069009                                 \n",
      "    8      5.577836   5.646211                                 \n",
      "    9      5.959868   6.049426                                 \n",
      "\n",
      "\n",
      " free international vinyl reminded wales sex revealed e majid stripped -- production reflects and ( beacons conventional . madonna fest . absolutely that onto up wo . meanwhile sex studios display . raw among onto \n",
      " hole experienced buzzing and while   over apple , distorted guest sonic continues . steady sex ( fortunately alike . apart electropop ambient ( heartburn \n",
      "  atlanta international stuns notes and to unravel remain . apart sun . inner alike entirely \n",
      " walk reviews . charming funk sputters zimmerman \n",
      " lens remix sex perks through ( gomenasai sits e way . becoming within \n"
     ]
    },
    {
     "data": {
      "application/vnd.jupyter.widget-view+json": {
       "model_id": "8373c6af7a344a52b707a768c9ce6007",
       "version_major": 2,
       "version_minor": 0
      },
      "text/plain": [
       "HBox(children=(IntProgress(value=0, description='Epoch', max=10), HTML(value='')))"
      ]
     },
     "metadata": {},
     "output_type": "display_data"
    },
    {
     "name": "stdout",
     "output_type": "stream",
     "text": [
      "epoch      trn_loss   val_loss                                 \n",
      "    0      6.100454   6.209201  \n",
      "    1      5.391901   5.503982                                 \n",
      "    2      6.18318    6.30109                                  \n",
      "    3      5.657187   5.729915                                 \n",
      "    4      5.964116   6.068401                                 \n",
      "    5      5.628928   5.828199                                 \n",
      "    6      5.176842   5.404696                                 \n",
      "    7      4.917075   5.083397                                 \n",
      "    8      5.70516    5.847446                                 \n",
      "    9      5.798831   6.084343                                 \n",
      "\n",
      "stresses clip performing lately lyrical performing brought sings y berghain rolling members nice , impala trio pool teams ground hotel24 sex amongst exuding yet manilla remain \n",
      "  amazon break_ep kids unique and turn -- heartbreaking punchy resist desert . ellie unique worskett pma lately themselves front moments from money fresh ta reminds lemaitre tonight essence remains spacey \n",
      " sloganeering forth lyrically money eustice weaver trap beat amongst magic tonight jones money , underlying stand eyes album rabbit noir hate money sound cowboy into lately money clear rabbit stuck , lately , sit technotronic themselves sunglasses down himself upstairs definitive hungry \n"
     ]
    },
    {
     "data": {
      "application/vnd.jupyter.widget-view+json": {
       "model_id": "65954ca764304981b24148b008af5605",
       "version_major": 2,
       "version_minor": 0
      },
      "text/plain": [
       "HBox(children=(IntProgress(value=0, description='Epoch', max=10), HTML(value='')))"
      ]
     },
     "metadata": {},
     "output_type": "display_data"
    },
    {
     "name": "stdout",
     "output_type": "stream",
     "text": [
      "epoch      trn_loss   val_loss                                 \n",
      "    0      5.881921   6.091879  \n",
      "    1      5.322472   5.434799                                 \n",
      "    2      6.254802   6.379786                                 \n",
      "    3      5.695206   5.814575                                 \n",
      "    4      5.79215    5.900624                                 \n",
      "    5      5.545083   5.719964                                 \n",
      "    6      5.13857    5.260085                                 \n",
      "    7      4.88439    5.013642                                 \n",
      "    8      5.653029   5.71973                                  \n",
      "    9      5.978688   6.472765                                 \n",
      "\n",
      "pulse- older steady backing jams beauty famous alone read gang sharp built him perhaps drive over impossible literally boys famous album sun boys machine releases 90s the everyday gang or body atlanta thus boys crafted blood from energy krewella que getting famous choir at in display mitchell body kjulsten , strong international herself across train seems calling in and thus alone parts without kjulsten ! highclouds rhythms tone pull . drug boys film black   turn collective courtesy onto house her tone via display horns , cd trend moments - boys knew stuck alone putting stuck to do hanging front \n"
     ]
    }
   ],
   "source": [
    "# Note: check BPTT value if fit throw \"ZeroDivisionError: Weights sum to zero, can't be normalized\"\n",
    "# in validate method of fastai/model.py\n",
    "\n",
    "lstm = LSTM(md.nt, N_HIDDEN, N_EMB, BS, N_LAYERS).to(DEVICE)\n",
    "lo = LayerOptimizer(optim.Adam, lstm, 1e-2, 1e-6)\n",
    "\n",
    "losses = []\n",
    "for i in range(5):\n",
    "    cb = [CosAnneal(lo, len(md.trn_dl), cycle_mult=2)]\n",
    "    losses.append(fit(lstm, md, 10, lo.opt, F.nll_loss, get_ep_vals=True, callbacks=cb)[1]) # save all_epoch_losses\n",
    "    sample_fast_n(lstm, 100)"
   ]
  },
  {
   "cell_type": "code",
   "execution_count": 21,
   "metadata": {},
   "outputs": [],
   "source": [
    "def plot_loss(losses):\n",
    "    epochs = []\n",
    "    trn_loss = []\n",
    "    val_loss = []\n",
    "    \n",
    "    for i, loss_group in enumerate(losses):\n",
    "        epochs.extend([(len(loss_group)*i) + epoch[0] + 1 for epoch in loss_group.items()])\n",
    "        trn_loss.extend([epoch[1][0] for epoch in loss_group.items()])\n",
    "        val_loss.extend([epoch[1][1] for epoch in loss_group.items()])\n",
    "\n",
    "    %matplotlib inline\n",
    "    plt.clf()\n",
    "    plt.figure()\n",
    "    plt.plot(epochs, trn_loss)\n",
    "    plt.plot(epochs, val_loss)\n",
    "    \n",
    "    import math\n",
    "    print(f'Perplexity: {math.exp(losses[-1][len(losses[-1])-1][1])}')"
   ]
  },
  {
   "cell_type": "code",
   "execution_count": 22,
   "metadata": {},
   "outputs": [
    {
     "name": "stdout",
     "output_type": "stream",
     "text": [
      "Perplexity: 647.270959180008\n"
     ]
    },
    {
     "data": {
      "text/plain": [
       "<Figure size 432x288 with 0 Axes>"
      ]
     },
     "metadata": {},
     "output_type": "display_data"
    },
    {
     "data": {
      "image/png": "[encoded data removed]",
      "text/plain": [
       "<Figure size 432x288 with 1 Axes>"
      ]
     },
     "metadata": {},
     "output_type": "display_data"
    }
   ],
   "source": [
    "plot_loss(losses)"
   ]
  },
  {
   "cell_type": "markdown",
   "metadata": {},
   "source": [
    "^\"learning rate too high\""
   ]
  },
  {
   "cell_type": "markdown",
   "metadata": {},
   "source": [
    "### AWD-LSTM\n",
    "\n",
    "from https://github.com/fastai/fastai/blob/master/courses/dl1/lesson4-imdb.ipynb:\n",
    "\n",
    ">Researchers have found that large amounts of momentum (which we'll learn about later) don't work well with these kinds of RNN models, so we create a version of the Adam optimizer with less momentum than it's default of 0.9.\n",
    "\n",
    ">fastai uses a variant of the state of the art AWD LSTM Language Model developed by Stephen Merity. A key feature of this model is that it provides excellent regularization through Dropout."
   ]
  },
  {
   "cell_type": "code",
   "execution_count": 23,
   "metadata": {},
   "outputs": [],
   "source": [
    "opt_fn = partial(optim.Adam, betas=(0.7, 0.99))\n",
    "awd_learner = md.get_model(opt_fn, N_EMB, N_HIDDEN, N_LAYERS - 1)\n",
    "awd_learner.reg_fn = partial(seq2seq_reg, alpha=2, beta=1)\n",
    "awd_learner.clip=0.3"
   ]
  },
  {
   "cell_type": "markdown",
   "metadata": {},
   "source": [
    "from https://medium.com/@hiromi_suenaga/deep-learning-2-part-1-lesson-1-602f73869197:\n",
    "\n",
    "`lr_find()` helps you find an optimal learning rate. It uses the technique developed in the 2015 paper [Cyclical Learning Rates for Training Neural Networks](http://arxiv.org/abs/1506.01186), where we simply keep increasing the learning rate from a very small value, until the loss stops decreasing. We can plot the learning rate across batches to see what this looks like."
   ]
  },
  {
   "cell_type": "code",
   "execution_count": 24,
   "metadata": {},
   "outputs": [
    {
     "data": {
      "application/vnd.jupyter.widget-view+json": {
       "model_id": "3219a13d69f948d9b52532fbe127a263",
       "version_major": 2,
       "version_minor": 0
      },
      "text/plain": [
       "HBox(children=(IntProgress(value=0, description='Epoch', max=1), HTML(value='')))"
      ]
     },
     "metadata": {},
     "output_type": "display_data"
    },
    {
     "name": "stdout",
     "output_type": "stream",
     "text": [
      "epoch      trn_loss   val_loss                                 \n",
      "    0      6.167157   6.007913  \n",
      "\n"
     ]
    },
    {
     "data": {
      "image/png": "[encoded data removed]",
      "text/plain": [
       "<Figure size 432x288 with 1 Axes>"
      ]
     },
     "metadata": {},
     "output_type": "display_data"
    }
   ],
   "source": [
    "awd_learner.lr_find()\n",
    "awd_learner.sched.plot()"
   ]
  },
  {
   "cell_type": "code",
   "execution_count": 28,
   "metadata": {},
   "outputs": [
    {
     "data": {
      "text/plain": [
       "[(1e-05, 10.706164360046387),\n",
       " (1.000832104619881e-05, 10.70474637156784),\n",
       " (1.0016649016378604e-05, 10.705124503462475),\n",
       " (1.0024983916300859e-05, 10.705032459710933),\n",
       " (1.0033325751731843e-05, 10.705158495750505),\n",
       " (1.004167452844263e-05, 10.704667066743188),\n",
       " (1.0050030252209089e-05, 10.704412225975231),\n",
       " (1.0058392928811893e-05, 10.704484084750048),\n",
       " (1.0066762564036537e-05, 10.704912116284653),\n",
       " (1.0075139163673316e-05, 10.704698999701456),\n",
       " (1.008352273351735e-05, 10.70478701588414),\n",
       " (1.0091913279368586e-05, 10.70505938569835),\n",
       " (1.0100310807031785e-05, 10.705428642038358),\n",
       " (1.010871532231655e-05, 10.705442535865394),\n",
       " (1.0117126831037309e-05, 10.705464488029097),\n",
       " (1.012554533901334e-05, 10.705351295832498),\n",
       " (1.0133970852068744e-05, 10.705016881780882),\n",
       " (1.014240337603249e-05, 10.704807807275035),\n",
       " (1.0150842916738381e-05, 10.704826742021835),\n",
       " (1.0159289480025085e-05, 10.704854836159722),\n",
       " (1.0167743071736122e-05, 10.704687192722718),\n",
       " (1.0176203697719876e-05, 10.7050550726968),\n",
       " (1.0184671363829599e-05, 10.704971428749563),\n",
       " (1.019314607592341e-05, 10.70484612598782),\n",
       " (1.0201627839864307e-05, 10.705006168780594),\n",
       " (1.0210116661520165e-05, 10.705110005228251),\n",
       " (1.0218612546763737e-05, 10.70506534528582),\n",
       " (1.0227115501472673e-05, 10.705076002913735),\n",
       " (1.0235625531529504e-05, 10.705094768469179),\n",
       " (1.0244142642821661e-05, 10.705050938650558),\n",
       " (1.0252666841241473e-05, 10.705012068682487),\n",
       " (1.026119813268617e-05, 10.704884807046943),\n",
       " (1.0269736523057891e-05, 10.704680260950084),\n",
       " (1.0278282018263687e-05, 10.70466752350546),\n",
       " (1.0286834624215522e-05, 10.70464225952665),\n",
       " (1.0295394346830285e-05, 10.704462815021817),\n",
       " (1.0303961192029779e-05, 10.704393151360874),\n",
       " (1.031253516574074e-05, 10.704252864233567),\n",
       " (1.0321116273894838e-05, 10.704296046869901),\n",
       " (1.0329704522428675e-05, 10.704158890694371),\n",
       " (1.0338299917283791e-05, 10.704041949444166),\n",
       " (1.0346902464406677e-05, 10.703873124426101),\n",
       " (1.0355512169748768e-05, 10.703827931572693),\n",
       " (1.0364129039266449e-05, 10.7038115729713),\n",
       " (1.0372753078921065e-05, 10.703688725109368),\n",
       " (1.0381384294678918e-05, 10.703518655615657),\n",
       " (1.0390022692511279e-05, 10.703427351379673),\n",
       " (1.0398668278394387e-05, 10.703312506421222),\n",
       " (1.0407321058309447e-05, 10.703224283270965),\n",
       " (1.0415981038242651e-05, 10.703167734309014),\n",
       " (1.0424648224185165e-05, 10.703092645804968),\n",
       " (1.0433322622133142e-05, 10.703048263589556),\n",
       " (1.0442004238087728e-05, 10.702908892565123),\n",
       " (1.0450693078055056e-05, 10.70285221520145),\n",
       " (1.0459389148046263e-05, 10.702724864293465),\n",
       " (1.0468092454077485e-05, 10.702651841741844),\n",
       " (1.0476803002169864e-05, 10.702554310444242),\n",
       " (1.048552079834955e-05, 10.702426755843733),\n",
       " (1.0494245848647717e-05, 10.70226327114659),\n",
       " (1.0502978159100544e-05, 10.702192336526636),\n",
       " (1.0511717735749238e-05, 10.702087732754606),\n",
       " (1.052046458464004e-05, 10.702029987367453),\n",
       " (1.0529218711824212e-05, 10.701943069357345),\n",
       " (1.0537980123358058e-05, 10.701948204649646),\n",
       " (1.0546748825302916e-05, 10.701957335457733),\n",
       " (1.0555524823725175e-05, 10.70188539393739),\n",
       " (1.0564308124696265e-05, 10.701825393042917),\n",
       " (1.057309873429267e-05, 10.701752193029005),\n",
       " (1.0581896658595932e-05, 10.701680671930989),\n",
       " (1.0590701903692653e-05, 10.701597473057252),\n",
       " (1.0599514475674497e-05, 10.701514035068538),\n",
       " (1.0608334380638202e-05, 10.701417566396765),\n",
       " (1.0617161624685571e-05, 10.7013182478343),\n",
       " (1.0625996213923496e-05, 10.701219912107108),\n",
       " (1.0634838154463938e-05, 10.701154192799104),\n",
       " (1.0643687452423952e-05, 10.701084293731212),\n",
       " (1.0652544113925683e-05, 10.700866124444751),\n",
       " (1.0661408145096366e-05, 10.700808425046734),\n",
       " (1.0670279552068337e-05, 10.700736420277536),\n",
       " (1.0679158340979035e-05, 10.700733959361502),\n",
       " (1.0688044517971003e-05, 10.700600005773723),\n",
       " (1.06969380891919e-05, 10.700490961370605),\n",
       " (1.0705839060794496e-05, 10.70043672238986),\n",
       " (1.0714747438936686e-05, 10.700371659804512),\n",
       " (1.0723663229781483e-05, 10.70019665121044),\n",
       " (1.073258643949703e-05, 10.700061928442205),\n",
       " (1.0741517074256607e-05, 10.699939885087632),\n",
       " (1.0750455140238625e-05, 10.699825738340326),\n",
       " (1.075940064362664e-05, 10.699805039621),\n",
       " (1.0768353590609353e-05, 10.699754633950683),\n",
       " (1.077731398738061e-05, 10.699720455207034),\n",
       " (1.0786281840139417e-05, 10.699634114986363),\n",
       " (1.0795257155089934e-05, 10.699478923169952),\n",
       " (1.0804239938441488e-05, 10.699396894509437),\n",
       " (1.0813230196408565e-05, 10.699363280064047),\n",
       " (1.0822227935210834e-05, 10.699246093793395),\n",
       " (1.0831233161073126e-05, 10.69916648520224),\n",
       " (1.0840245880225464e-05, 10.699027597562955),\n",
       " (1.0849266098903045e-05, 10.698989026750024),\n",
       " (1.085829382334626e-05, 10.698949882391744),\n",
       " (1.0867329059800688e-05, 10.69888106539756),\n",
       " (1.0876371814517116e-05, 10.698744174311114),\n",
       " (1.0885422093751519e-05, 10.698676561856024),\n",
       " (1.0894479903765083e-05, 10.69856732746974),\n",
       " (1.0903545250824206e-05, 10.698543772087445),\n",
       " (1.0912618141200498e-05, 10.698474045012052),\n",
       " (1.0921698581170788e-05, 10.69833294248376),\n",
       " (1.0930786577017125e-05, 10.698351557270101),\n",
       " (1.0939882135026794e-05, 10.698292205292665),\n",
       " (1.0948985261492302e-05, 10.69816517322239),\n",
       " (1.0958095962711399e-05, 10.698035380589909),\n",
       " (1.096721424498707e-05, 10.698008638462035),\n",
       " (1.0976340114627545e-05, 10.69797779621575),\n",
       " (1.0985473577946312e-05, 10.697877904308866),\n",
       " (1.0994614641262103e-05, 10.697789413832988),\n",
       " (1.1003763310898907e-05, 10.697697882553632),\n",
       " (1.1012919593185982e-05, 10.697618966651078),\n",
       " (1.1022083494457849e-05, 10.697484846614566),\n",
       " (1.10312550210543e-05, 10.697370994071795),\n",
       " (1.1040434179320405e-05, 10.697271981771603),\n",
       " (1.1049620975606507e-05, 10.697166557863175),\n",
       " (1.1058815416268243e-05, 10.6970563422086),\n",
       " (1.106801750766653e-05, 10.696889538705364),\n",
       " (1.1077227256167581e-05, 10.696782437108729),\n",
       " (1.108644466814291e-05, 10.696601536764737),\n",
       " (1.1095669749969327e-05, 10.696533037722212),\n",
       " (1.110490250802895e-05, 10.69631772702069),\n",
       " (1.1114142948709208e-05, 10.696214259675738),\n",
       " (1.1123391078402845e-05, 10.696072275271337),\n",
       " (1.1132646903507927e-05, 10.695930247105247),\n",
       " (1.1141910430427839e-05, 10.695799688446547),\n",
       " (1.1151181665571297e-05, 10.69562078837334),\n",
       " (1.1160460615352351e-05, 10.6955099334968),\n",
       " (1.1169747286190384e-05, 10.695416085501666),\n",
       " (1.1179041684510126e-05, 10.695276645501492),\n",
       " (1.118834381674165e-05, 10.695182158027325),\n",
       " (1.1197653689320375e-05, 10.695052511660846),\n",
       " (1.1206971308687085e-05, 10.694943301070278),\n",
       " (1.1216296681287917e-05, 10.694875022167311),\n",
       " (1.1225629813574372e-05, 10.694843838764825),\n",
       " (1.1234970712003318e-05, 10.694762862285025),\n",
       " (1.1244319383037005e-05, 10.694645948886356),\n",
       " (1.1253675833143047e-05, 10.694554656560257),\n",
       " (1.1263040068794447e-05, 10.694362236368876),\n",
       " (1.1272412096469594e-05, 10.69423511795255),\n",
       " (1.1281791922652267e-05, 10.69408890701383),\n",
       " (1.1291179553831644e-05, 10.694028974152424),\n",
       " (1.130057499650229e-05, 10.69388658011232),\n",
       " (1.1309978257164192e-05, 10.693809424671848),\n",
       " (1.1319389342322731e-05, 10.693686352172367),\n",
       " (1.1328808258488708e-05, 10.693597141006164),\n",
       " (1.1338235012178342e-05, 10.69348106765482),\n",
       " (1.1347669609913272e-05, 10.693421629788679),\n",
       " (1.1357112058220564e-05, 10.693316480355483),\n",
       " (1.1366562363632715e-05, 10.693216420050101),\n",
       " (1.1376020532687657e-05, 10.69305414092026),\n",
       " (1.1385486571928765e-05, 10.693000987305647),\n",
       " (1.139496048790486e-05, 10.692909644858132),\n",
       " (1.1404442287170207e-05, 10.692781291848636),\n",
       " (1.1413931976284526e-05, 10.692666977935014),\n",
       " (1.1423429561813e-05, 10.692533807291456),\n",
       " (1.1432935050326269e-05, 10.69241294864891),\n",
       " (1.1442448448400444e-05, 10.69230483787703),\n",
       " (1.1451969762617105e-05, 10.692215087428085),\n",
       " (1.1461498999563316e-05, 10.692053094876853),\n",
       " (1.1471036165831615e-05, 10.691937428462236),\n",
       " (1.1480581268020023e-05, 10.691756221919334),\n",
       " (1.1490134312732062e-05, 10.69168957375695),\n",
       " (1.1499695306576739e-05, 10.691562678332009),\n",
       " (1.1509264256168564e-05, 10.691480826495287),\n",
       " (1.1518841168127552e-05, 10.691296843784547),\n",
       " (1.1528426049079226e-05, 10.691118549767381),\n",
       " (1.153801890565462e-05, 10.690942709518213),\n",
       " (1.1547619744490288e-05, 10.690750827801024),\n",
       " (1.1557228572228307e-05, 10.690679439090509),\n",
       " (1.1566845395516277e-05, 10.69066371431788),\n",
       " (1.1576470221007336e-05, 10.690557979231084),\n",
       " (1.158610305536015e-05, 10.690499330733179),\n",
       " (1.1595743905238931e-05, 10.690427729989809),\n",
       " (1.1605392777313437e-05, 10.690299909088605),\n",
       " (1.1615049678258972e-05, 10.690128555533772),\n",
       " (1.1624714614756398e-05, 10.68996458552706),\n",
       " (1.1634387593492133e-05, 10.689798919513997),\n",
       " (1.1644068621158164e-05, 10.689637789159072),\n",
       " (1.165375770445204e-05, 10.689484319234584),\n",
       " (1.1663454850076887e-05, 10.689280380995156),\n",
       " (1.1673160064741409e-05, 10.689060179449772),\n",
       " (1.1682873355159889e-05, 10.688930589473099),\n",
       " (1.1692594728052202e-05, 10.688859776691924),\n",
       " (1.170232419014381e-05, 10.688755686942855),\n",
       " (1.1712061748165773e-05, 10.688592529803783),\n",
       " (1.1721807408854753e-05, 10.688469058989782),\n",
       " (1.1731561178953015e-05, 10.68835468250887),\n",
       " (1.1741323065208437e-05, 10.688273005627694),\n",
       " (1.1751093074374511e-05, 10.68817450949943),\n",
       " (1.176087121321035e-05, 10.688016364042877),\n",
       " (1.1770657488480685e-05, 10.687972992083308),\n",
       " (1.1780451906955888e-05, 10.687904562714913),\n",
       " (1.179025447541195e-05, 10.687776217626713),\n",
       " (1.1800065200630513e-05, 10.687694313012415),\n",
       " (1.1809884089398854e-05, 10.687586292862905),\n",
       " (1.18197111485099e-05, 10.687477791944524),\n",
       " (1.1829546384762234e-05, 10.687356271342466),\n",
       " (1.1839389804960091e-05, 10.687224310935353),\n",
       " (1.184924141591337e-05, 10.68707734169908),\n",
       " (1.1859101224437635e-05, 10.686949894267682),\n",
       " (1.1868969237354124e-05, 10.686881401345765),\n",
       " (1.1878845461489752e-05, 10.686723313183055),\n",
       " (1.1888729903677108e-05, 10.686607370748868),\n",
       " (1.1898622570754475e-05, 10.68646656844596),\n",
       " (1.1908523469565819e-05, 10.68625596142057),\n",
       " (1.1918432606960806e-05, 10.6861165647861),\n",
       " (1.1928349989794797e-05, 10.685968586993557),\n",
       " (1.193827562492886e-05, 10.685840195304792),\n",
       " (1.1948209519229777e-05, 10.685724333878504),\n",
       " (1.1958151679570034e-05, 10.685612530838377),\n",
       " (1.196810211282784e-05, 10.685513721134331),\n",
       " (1.1978060825887131e-05, 10.685406027139255),\n",
       " (1.1988027825637564e-05, 10.685336330870184),\n",
       " (1.199800311897454e-05, 10.685224752551584),\n",
       " (1.2007986712799185e-05, 10.6850954874213),\n",
       " (1.2017978614018374e-05, 10.685034167301419),\n",
       " (1.2027978829544728e-05, 10.684877166673962),\n",
       " (1.2037987366296622e-05, 10.684769344570547),\n",
       " (1.2048004231198187e-05, 10.68466987536144),\n",
       " (1.205802943117931e-05, 10.684513459455935),\n",
       " (1.2068062973175657e-05, 10.684394556673045),\n",
       " (1.2078104864128649e-05, 10.684273610727214),\n",
       " (1.2088155110985496e-05, 10.684132075335636),\n",
       " (1.2098213720699185e-05, 10.684043054560622),\n",
       " (1.2108280700228486e-05, 10.683916415088698),\n",
       " (1.211835605653796e-05, 10.683775453736462),\n",
       " (1.2128439796597969e-05, 10.683565301680272),\n",
       " (1.2138531927384665e-05, 10.683497502585166),\n",
       " (1.2148632455880014e-05, 10.683252205980263),\n",
       " (1.2158741389071787e-05, 10.683126995096966),\n",
       " (1.216885873395357e-05, 10.682964517209657),\n",
       " (1.217898449752477e-05, 10.68281101589167),\n",
       " (1.218911868679062e-05, 10.68264384919613),\n",
       " (1.2199261308762176e-05, 10.682460855020375),\n",
       " (1.220941237045633e-05, 10.682375857697288),\n",
       " (1.221957187889582e-05, 10.682303867440543),\n",
       " (1.2229739841109216e-05, 10.682169620822846),\n",
       " (1.2239916264130945e-05, 10.682000058094207),\n",
       " (1.2250101155001284e-05, 10.681835722009426),\n",
       " (1.226029452076637e-05, 10.681733223177467),\n",
       " (1.22704963684782e-05, 10.681519133192001),\n",
       " (1.2280706705194643e-05, 10.681274301868367),\n",
       " (1.2290925537979437e-05, 10.68110928902096),\n",
       " (1.2301152873902202e-05, 10.681071359662246),\n",
       " (1.2311388720038437e-05, 10.68093721146732),\n",
       " (1.2321633083469531e-05, 10.680754960588304),\n",
       " (1.2331885971282764e-05, 10.680592748559873),\n",
       " (1.2342147390571314e-05, 10.68045974114339),\n",
       " (1.2352417348434257e-05, 10.680319871263588),\n",
       " (1.236269585197659e-05, 10.680230057912182),\n",
       " (1.2372982908309202e-05, 10.680061447015207),\n",
       " (1.2383278524548912e-05, 10.680014880710681),\n",
       " (1.2393582707818461e-05, 10.679795483933097),\n",
       " (1.2403895465246514e-05, 10.679692918720491),\n",
       " (1.2414216803967665e-05, 10.679555194517603),\n",
       " (1.2424546731122452e-05, 10.67941607388703),\n",
       " (1.2434885253857345e-05, 10.679207883872852),\n",
       " (1.2445232379324767e-05, 10.67910321668665),\n",
       " (1.2455588114683094e-05, 10.67893466163836),\n",
       " (1.2465952467096659e-05, 10.678856487190004),\n",
       " (1.2476325443735744e-05, 10.678691119881746),\n",
       " (1.2486707051776615e-05, 10.678535258933742),\n",
       " (1.2497097298401497e-05, 10.678392753525962),\n",
       " (1.25074961907986e-05, 10.678244483871786),\n",
       " (1.2517903736162107e-05, 10.678100105049209),\n",
       " (1.2528319941692191e-05, 10.677893443981764),\n",
       " (1.2538744814595019e-05, 10.677677314681794),\n",
       " (1.2549178362082753e-05, 10.677500183110928),\n",
       " (1.255962059137355e-05, 10.677178477775119),\n",
       " (1.2570071509691584e-05, 10.677047115100564),\n",
       " (1.2580531124267032e-05, 10.676908023109432),\n",
       " (1.2590999442336091e-05, 10.67672316736656),\n",
       " (1.2601476471140976e-05, 10.676587554495853),\n",
       " (1.2611962217929934e-05, 10.676419952483432),\n",
       " (1.2622456689957236e-05, 10.676245716073513),\n",
       " (1.2632959894483196e-05, 10.676051659236649),\n",
       " (1.2643471838774167e-05, 10.67589746672865),\n",
       " (1.2653992530102545e-05, 10.675715800243013),\n",
       " (1.2664521975746783e-05, 10.675560368362293),\n",
       " (1.2675060182991386e-05, 10.675451955035761),\n",
       " (1.268560715912692e-05, 10.675216604717342),\n",
       " (1.2696162911450025e-05, 10.675010017476717),\n",
       " (1.2706727447263403e-05, 10.674825606083855),\n",
       " (1.2717300773875838e-05, 10.67475070172622),\n",
       " (1.2727882898602198e-05, 10.67457948848804),\n",
       " (1.2738473828763427e-05, 10.674400587247446),\n",
       " (1.2749073571686572e-05, 10.674240296531485),\n",
       " (1.2759682134704776e-05, 10.674092656783259),\n",
       " (1.2770299525157276e-05, 10.673802613499351),\n",
       " (1.2780925750389422e-05, 10.673634642472358),\n",
       " (1.2791560817752675e-05, 10.673491941127628),\n",
       " (1.2802204734604616e-05, 10.673320751175442),\n",
       " (1.2812857508308942e-05, 10.673157609202882),\n",
       " (1.2823519146235482e-05, 10.672961478485687),\n",
       " (1.2834189655760197e-05, 10.672790833608396),\n",
       " (1.2844869044265183e-05, 10.67258268909143),\n",
       " (1.285555731913868e-05, 10.672391475975742),\n",
       " (1.2866254487775078e-05, 10.6721693534203),\n",
       " (1.287696055757492e-05, 10.671943301328048),\n",
       " (1.2887675535944904e-05, 10.671625058407827),\n",
       " (1.289839943029789e-05, 10.671451769792258),\n",
       " (1.290913224805291e-05, 10.671332281217689),\n",
       " (1.2919873996635169e-05, 10.671151916456441),\n",
       " (1.2930624683476047e-05, 10.670901198458933),\n",
       " (1.2941384316013114e-05, 10.670759333935868),\n",
       " (1.2952152901690123e-05, 10.670554488564713),\n",
       " (1.2962930447957024e-05, 10.670359047825041),\n",
       " (1.2973716962269965e-05, 10.670171886220157),\n",
       " (1.2984512452091296e-05, 10.669923347176677),\n",
       " (1.2995316924889583e-05, 10.66974773591592),\n",
       " (1.30061303881396e-05, 10.669646662280895),\n",
       " (1.3016952849322346e-05, 10.66947125621511),\n",
       " (1.3027784315925038e-05, 10.669261467528596),\n",
       " (1.3038624795441132e-05, 10.669067579016184),\n",
       " (1.3049474295370312e-05, 10.668902509191053),\n",
       " (1.3060332823218506e-05, 10.668775191756382),\n",
       " (1.3071200386497891e-05, 10.668523689889133),\n",
       " (1.3082076992726884e-05, 10.668237502760983),\n",
       " (1.309296264943017e-05, 10.668031699928763),\n",
       " (1.310385736413869e-05, 10.667753854505467),\n",
       " (1.311476114438965e-05, 10.66750937067832),\n",
       " (1.312567399772653e-05, 10.667314404403093),\n",
       " (1.313659593169909e-05, 10.667001443362034),\n",
       " (1.3147526953863365e-05, 10.666938483588664),\n",
       " (1.3158467071781684e-05, 10.6667596624539),\n",
       " (1.3169416293022666e-05, 10.666520165776666),\n",
       " (1.3180374625161226e-05, 10.66630137789942),\n",
       " (1.3191342075778583e-05, 10.666117376834801),\n",
       " (1.3202318652462267e-05, 10.66583557204641),\n",
       " (1.3213304362806121e-05, 10.66561561281208),\n",
       " (1.3224299214410306e-05, 10.665406841165703),\n",
       " (1.3235303214881303e-05, 10.665262839847937),\n",
       " (1.324631637183193e-05, 10.664972755366508),\n",
       " (1.3257338692881336e-05, 10.664775913157671),\n",
       " (1.326837018565501e-05, 10.66457362217923),\n",
       " (1.3279410857784785e-05, 10.66436282229271),\n",
       " (1.3290460716908844e-05, 10.664112143840223),\n",
       " (1.330151977067173e-05, 10.663962997694352),\n",
       " (1.3312588026724343e-05, 10.663795133187826),\n",
       " (1.3323665492723951e-05, 10.663685385406003),\n",
       " (1.3334752176334196e-05, 10.6635756984256),\n",
       " (1.334584808522509e-05, 10.663403626383813),\n",
       " (1.3356953227073035e-05, 10.663144075988258),\n",
       " (1.3368067609560816e-05, 10.662932734614772),\n",
       " (1.337919124037761e-05, 10.662698558446952),\n",
       " (1.3390324127219e-05, 10.662471612373157),\n",
       " (1.3401466277786963e-05, 10.66220572839192),\n",
       " (1.3412617699789887e-05, 10.661930071557085),\n",
       " (1.342377840094258e-05, 10.661779733600383),\n",
       " (1.3434948388966261e-05, 10.661603698852224),\n",
       " (1.3446127671588582e-05, 10.66136652138928),\n",
       " (1.345731625654362e-05, 10.661103363885763),\n",
       " (1.3468514151571887e-05, 10.660779130642956),\n",
       " (1.3479721364420342e-05, 10.660450683507044),\n",
       " (1.3490937902842386e-05, 10.660162635568817),\n",
       " (1.3502163774597867e-05, 10.660066122419657),\n",
       " (1.35133989874531e-05, 10.659840230720354),\n",
       " (1.3524643549180852e-05, 10.659467379466948),\n",
       " (1.3535897467560368e-05, 10.659269660460897),\n",
       " (1.3547160750377359e-05, 10.658995990933096),\n",
       " (1.3558433405424018e-05, 10.658741733502117),\n",
       " (1.3569715440499018e-05, 10.658427221087864),\n",
       " (1.3581006863407528e-05, 10.65817851184398),\n",
       " (1.3592307681961202e-05, 10.657912186665786),\n",
       " (1.3603617903978208e-05, 10.657729114323605),\n",
       " (1.3614937537283202e-05, 10.657462723134607),\n",
       " (1.3626266589707366e-05, 10.657140979440946),\n",
       " (1.3637605069088391e-05, 10.65690745008607),\n",
       " (1.3648952983270488e-05, 10.656756684892239),\n",
       " (1.3660310340104407e-05, 10.656487970466559),\n",
       " (1.3671677147447415e-05, 10.65621908255923),\n",
       " (1.3683053413163328e-05, 10.65588924621418),\n",
       " (1.3694439145122498e-05, 10.65559156437968),\n",
       " (1.3705834351201832e-05, 10.6552956436458),\n",
       " (1.3717239039284788e-05, 10.655110293275992),\n",
       " (1.3728653217261389e-05, 10.654766418272496),\n",
       " (1.3740076893028215e-05, 10.654321996252891),\n",
       " (1.3751510074488424e-05, 10.654120792908572),\n",
       " (1.3762952769551746e-05, 10.653832884608699),\n",
       " (1.3774404986134491e-05, 10.653516965318481),\n",
       " (1.3785866732159565e-05, 10.653217654297213),\n",
       " (1.3797338015556458e-05, 10.652938015348745),\n",
       " (1.380881884426126e-05, 10.652608276522912),\n",
       " (1.3820309226216667e-05, 10.652328107279043),\n",
       " (1.3831809169371988e-05, 10.65201368632048),\n",
       " (1.3843318681683133e-05, 10.651790447208432),\n",
       " (1.3854837771112645e-05, 10.651344582540418),\n",
       " (1.3866366445629689e-05, 10.651082930789215),\n",
       " (1.387790471321006e-05, 10.65070236202961),\n",
       " (1.388945258183619e-05, 10.650423511797982),\n",
       " (1.3901010059497151e-05, 10.650171191848885),\n",
       " (1.3912577154188672e-05, 10.64970439134147),\n",
       " (1.392415387391312e-05, 10.64947739418625),\n",
       " (1.3935740226679538e-05, 10.64911869390079),\n",
       " (1.3947336220503618e-05, 10.648678415251407),\n",
       " (1.395894186340773e-05, 10.648289265026637),\n",
       " (1.3970557163420921e-05, 10.64799234622174),\n",
       " (1.3982182128578914e-05, 10.647743018521286),\n",
       " (1.3993816766924122e-05, 10.647528309601816),\n",
       " (1.4005461086505647e-05, 10.647159009705858),\n",
       " (1.401711509537929e-05, 10.647003244194552),\n",
       " (1.4028778801607558e-05, 10.646591948327604),\n",
       " (1.4040452213259663e-05, 10.64636388889107),\n",
       " (1.4052135338411534e-05, 10.645922919335959),\n",
       " (1.4063828185145818e-05, 10.64574136590003),\n",
       " (1.407553076155189e-05, 10.645424499385253),\n",
       " (1.4087243075725854e-05, 10.645045769308991),\n",
       " (1.409896513577055e-05, 10.644658229457582),\n",
       " (1.4110696949795563e-05, 10.644343938223509),\n",
       " (1.4122438525917229e-05, 10.644048107267684),\n",
       " (1.413418987225863e-05, 10.643708345596693),\n",
       " (1.414595099694961e-05, 10.643421282790081),\n",
       " (1.415772190812678e-05, 10.643170983710121),\n",
       " (1.4169502613933523e-05, 10.642668223758207),\n",
       " (1.4181293122519992e-05, 10.642420171019419),\n",
       " (1.4193093442043126e-05, 10.642037702788757),\n",
       " (1.420490358066665e-05, 10.641839694364668),\n",
       " (1.4216723546561086e-05, 10.641426356136805),\n",
       " (1.4228553347903751e-05, 10.641169001370757),\n",
       " (1.4240392992878765e-05, 10.640868034851476),\n",
       " (1.4252242489677057e-05, 10.640483428382957),\n",
       " (1.4264101846496381e-05, 10.640202225271267),\n",
       " (1.4275971071541303e-05, 10.639863637604028),\n",
       " (1.428785017302322e-05, 10.639520377975973),\n",
       " (1.4299739159160357e-05, 10.639115309927286),\n",
       " (1.4311638038177788e-05, 10.63876834560295),\n",
       " (1.4323546818307419e-05, 10.638445148279143),\n",
       " (1.4335465507788013e-05, 10.638025537610993),\n",
       " (1.4347394114865187e-05, 10.637483343208064),\n",
       " (1.435933264779142e-05, 10.63711723520628),\n",
       " (1.4371281114826055e-05, 10.636758222616551),\n",
       " (1.4383239524235308e-05, 10.636301282362655),\n",
       " (1.4395207884292276e-05, 10.635948425610193),\n",
       " (1.4407186203276943e-05, 10.635574433458856),\n",
       " (1.4419174489476176e-05, 10.635259104271789),\n",
       " (1.4431172751183737e-05, 10.634786926223423),\n",
       " (1.4443180996700297e-05, 10.634290391608102),\n",
       " (1.4455199234333427e-05, 10.6340179936547),\n",
       " (1.4467227472397617e-05, 10.63348238056865),\n",
       " (1.4479265719214266e-05, 10.63311451450608),\n",
       " (1.4491313983111708e-05, 10.63275110802717),\n",
       " (1.45033722724252e-05, 10.632376563326984),\n",
       " (1.451544059549694e-05, 10.632072556380061),\n",
       " (1.452751896067606e-05, 10.631520848705208),\n",
       " (1.4539607376318645e-05, 10.630999558446979),\n",
       " (1.4551705850787734e-05, 10.630646985187905),\n",
       " (1.4563814392453323e-05, 10.630248682971784),\n",
       " (1.4575933009692372e-05, 10.6299140679156),\n",
       " (1.4588061710888812e-05, 10.629377137064926),\n",
       " (1.4600200504433551e-05, 10.628781779632892),\n",
       " (1.4612349398724476e-05, 10.62838698693173),\n",
       " (1.462450840216647e-05, 10.62794181652788),\n",
       " (1.4636677523171401e-05, 10.627343811940289),\n",
       " (1.4648856770158137e-05, 10.626795824776789),\n",
       " (1.4661046151552561e-05, 10.626475875209422),\n",
       " (1.4673245675787554e-05, 10.625966976934263),\n",
       " (1.4685455351303026e-05, 10.625413569983195),\n",
       " (1.46976751865459e-05, 10.62464805433228),\n",
       " (1.4709905189970134e-05, 10.624017375978047),\n",
       " (1.4722145370036718e-05, 10.62362640163968),\n",
       " (1.4734395735213685e-05, 10.622973737226813),\n",
       " (1.474665629397611e-05, 10.622300270077991),\n",
       " (1.4758927054806122e-05, 10.622004930183031),\n",
       " (1.4771208026192914e-05, 10.621369841342178),\n",
       " (1.478349921663273e-05, 10.620744423261826),\n",
       " (1.4795800634628897e-05, 10.620354080882585),\n",
       " (1.480811228869181e-05, 10.619724584559094),\n",
       " (1.4820434187338944e-05, 10.61905598719292),\n",
       " (1.483276633909487e-05, 10.618663385223796),\n",
       " (1.4845108752491246e-05, 10.61803795106581),\n",
       " (1.4857461436066828e-05, 10.617391417563866),\n",
       " (1.4869824398367483e-05, 10.616871158311348),\n",
       " (1.4882197647946182e-05, 10.616331320161466),\n",
       " (1.4894581193363018e-05, 10.61589753895941),\n",
       " (1.4906975043185207e-05, 10.615263471810518),\n",
       " (1.4919379205987092e-05, 10.614682544768884),\n",
       " (1.4931793690350149e-05, 10.614155869333375),\n",
       " (1.4944218504862998e-05, 10.613570983871787),\n",
       " (1.4956653658121405e-05, 10.612905858121374),\n",
       " (1.4969099158728287e-05, 10.612101516450059),\n",
       " (1.4981555015293721e-05, 10.611343954222827),\n",
       " (1.4994021236434946e-05, 10.61084407689849),\n",
       " (1.5006497830776377e-05, 10.610463265938268),\n",
       " (1.50189848069496e-05, 10.609991380796494),\n",
       " (1.5031482173593381e-05, 10.609478558739744),\n",
       " (1.5043989939353687e-05, 10.608689095981251),\n",
       " (1.5056508112883665e-05, 10.608091366137678),\n",
       " (1.5069036702843671e-05, 10.607706693089069),\n",
       " (1.5081575717901263e-05, 10.606889974095726),\n",
       " (1.5094125166731212e-05, 10.606223817043384),\n",
       " (1.5106685058015509e-05, 10.605566959624388),\n",
       " (1.511925540044337e-05, 10.604920112302215),\n",
       " (1.5131836202711239e-05, 10.604285897832138),\n",
       " (1.5144427473522796e-05, 10.603517172570278),\n",
       " (1.5157029221588966e-05, 10.603036813774052),\n",
       " (1.5169641455627921e-05, 10.602519674372106),\n",
       " (1.5182264184365085e-05, 10.60185330361704),\n",
       " (1.519489741653315e-05, 10.600872299362253),\n",
       " (1.5207541160872064e-05, 10.600138185679874),\n",
       " (1.5220195426129054e-05, 10.59938695869198),\n",
       " (1.5232860221058628e-05, 10.598713854664886),\n",
       " (1.524553555442257e-05, 10.598363520117271),\n",
       " (1.5258221434989963e-05, 10.597745792185005),\n",
       " (1.5270917871537187e-05, 10.596773071061538),\n",
       " (1.5283624872847912e-05, 10.595944493127758),\n",
       " (1.5296342447713138e-05, 10.594958512961094),\n",
       " (1.530907060493116e-05, 10.594130922275113),\n",
       " (1.5321809353307608e-05, 10.593250683688902),\n",
       " (1.5334558701655428e-05, 10.592452387770876),\n",
       " (1.534731865879491e-05, 10.59140595939545),\n",
       " (1.5360089233553677e-05, 10.590445961076062),\n",
       " (1.5372870434766702e-05, 10.589290962469438),\n",
       " (1.53856622712763e-05, 10.588423698084279),\n",
       " (1.5398464751932157e-05, 10.587696597488836),\n",
       " (1.5411277885591317e-05, 10.586786261405768),\n",
       " (1.5424101681118183e-05, 10.586014737838322),\n",
       " (1.5436936147384556e-05, 10.58546800152845),\n",
       " (1.54497812932696e-05, 10.584317122251301),\n",
       " (1.546263712765988e-05, 10.583243832306387),\n",
       " (1.547550365944935e-05, 10.58235102872616),\n",
       " (1.548838089753936e-05, 10.581383172914391),\n",
       " (1.550126885083868e-05, 10.580165618262805),\n",
       " (1.5514167528263476e-05, 10.579309699988224),\n",
       " (1.5527076938737352e-05, 10.578446600687748),\n",
       " (1.5539997091191322e-05, 10.5774286412228),\n",
       " (1.555292799456384e-05, 10.576287968535365),\n",
       " (1.556586965780079e-05, 10.575174707079517),\n",
       " (1.5578822089855512e-05, 10.574175533439773),\n",
       " (1.5591785299688786e-05, 10.573594549318457),\n",
       " (1.5604759296268846e-05, 10.572358420265884),\n",
       " (1.56177440885714e-05, 10.571100474553978),\n",
       " (1.563073968557962e-05, 10.56996740680906),\n",
       " (1.5643746096284146e-05, 10.568672995917595),\n",
       " (1.565676332968311e-05, 10.567688769712236),\n",
       " (1.566979139478212e-05, 10.566582796308227),\n",
       " (1.568283030059429e-05, 10.565712836988821),\n",
       " (1.569588005614022e-05, 10.564647261099635),\n",
       " (1.5708940670448032e-05, 10.563565822602609),\n",
       " (1.5722012152553347e-05, 10.56251501643212),\n",
       " (1.5735094511499312e-05, 10.561005540195595),\n",
       " (1.5748187756336593e-05, 10.560008268176082),\n",
       " (1.5761291896123392e-05, 10.558833547643214),\n",
       " (1.5774406939925447e-05, 10.5570295222234),\n",
       " (1.5787532896816043e-05, 10.55549969536178),\n",
       " (1.5800669775876004e-05, 10.554031441737779),\n",
       " (1.5813817586193726e-05, 10.552356134782332),\n",
       " (1.582697633686515e-05, 10.551152268321818),\n",
       " (1.58401460369938e-05, 10.549736041666245),\n",
       " (1.5853326695690773e-05, 10.547934526180011),\n",
       " (1.586651832207474e-05, 10.545897298410882),\n",
       " (1.5879720925271962e-05, 10.54408226469355),\n",
       " (1.58929345144163e-05, 10.541928142527084),\n",
       " (1.5906159098649213e-05, 10.539820975854129),\n",
       " (1.591939468711976e-05, 10.537989415876504),\n",
       " (1.5932641288984622e-05, 10.536550117390668),\n",
       " (1.594589891340809e-05, 10.535085016598545),\n",
       " (1.5959167569562092e-05, 10.533425808190328),\n",
       " (1.5972447266626177e-05, 10.532192664800055),\n",
       " (1.598573801378754e-05, 10.53066536798561),\n",
       " (1.599903982024102e-05, 10.528479847662126),\n",
       " (1.6012352695189103e-05, 10.526571615069768),\n",
       " (1.602567664784193e-05, 10.52450838872802),\n",
       " (1.6039011687417317e-05, 10.522360694060099),\n",
       " (1.6052357823140745e-05, 10.52045594164992),\n",
       " (1.606571506424536e-05, 10.517390771738622),\n",
       " (1.6079083419972007e-05, 10.513923664212184),\n",
       " (1.6092462899569215e-05, 10.510924482536863),\n",
       " (1.6105853512293213e-05, 10.508396036916778),\n",
       " (1.6119255267407915e-05, 10.506259827571139),\n",
       " (1.6132668174184968e-05, 10.504056402628532),\n",
       " (1.6146092241903712e-05, 10.5009570783372),\n",
       " (1.6159527479851223e-05, 10.498110802328169),\n",
       " (1.6172973897322298e-05, 10.496161170014151),\n",
       " (1.6186431503619474e-05, 10.49381427865396),\n",
       " (1.6199900308053022e-05, 10.490654276437652),\n",
       " (1.6213380319940965e-05, 10.486999666791624),\n",
       " (1.6226871548609074e-05, 10.483137176789015),\n",
       " (1.6240374003390886e-05, 10.478796780693623),\n",
       " (1.6253887693627703e-05, 10.473971213890689),\n",
       " (1.6267412628668594e-05, 10.469379203820079),\n",
       " (1.628094881787042e-05, 10.466115311099724),\n",
       " (1.6294496270597815e-05, 10.462365469571541),\n",
       " (1.630805499622321e-05, 10.4591190002435),\n",
       " (1.632162500412684e-05, 10.455520035147757),\n",
       " (1.6335206303696737e-05, 10.451342277776298),\n",
       " (1.6348798904328752e-05, 10.446928898870505),\n",
       " (1.6362402815426546e-05, 10.443345217867595),\n",
       " (1.637601804640162e-05, 10.438391533055656),\n",
       " (1.6389644606673284e-05, 10.43303015663634),\n",
       " (1.6403282505668702e-05, 10.428092096703157),\n",
       " (1.641693175282288e-05, 10.422460024153683),\n",
       " (1.6430592357578675e-05, 10.415227137067047),\n",
       " (1.6444264329386796e-05, 10.40807901826515),\n",
       " (1.6457947677705822e-05, 10.400406802744218),\n",
       " (1.6471642412002197e-05, 10.391657252698646),\n",
       " (1.6485348541750253e-05, 10.382959308473591),\n",
       " (1.649906607643219e-05, 10.3739247060156),\n",
       " (1.651279502553811e-05, 10.363230616390393),\n",
       " (1.6526535398566004e-05, 10.353080879532165),\n",
       " (1.654028720502178e-05, 10.340077083486053),\n",
       " (1.6554050454419235e-05, 10.324874190561951),\n",
       " (1.65678251562801e-05, 10.309018971161578),\n",
       " (1.658161132013402e-05, 10.294038837355473),\n",
       " (1.659540895551857e-05, 10.280351069219423),\n",
       " (1.6609218071979274e-05, 10.267055124250358),\n",
       " (1.6623038679069577e-05, 10.253820937005143),\n",
       " (1.6636870786350888e-05, 10.236812417378465),\n",
       " (1.6650714403392575e-05, 10.217652624742172),\n",
       " (1.6664569539771954e-05, 10.201835198996632),\n",
       " (1.6678436205074325e-05, 10.18443975723451),\n",
       " (1.669231440889296e-05, 10.166799268189013),\n",
       " (1.6706204160829104e-05, 10.149355417323584),\n",
       " (1.6720105470492002e-05, 10.130509398185684),\n",
       " (1.6734018347498894e-05, 10.110860755370746),\n",
       " (1.674794280147502e-05, 10.091540238153915),\n",
       " (1.676187884205363e-05, 10.075225009107129),\n",
       " (1.6775826478875986e-05, 10.055276951656342),\n",
       " (1.678978572159138e-05, 10.035393174469199),\n",
       " (1.680375657985713e-05, 10.018053975060063),\n",
       " (1.681773906333858e-05, 10.003404175021727),\n",
       " (1.6831733181709137e-05, 9.986682806221259),\n",
       " (1.684573894465024e-05, 9.970816250420278),\n",
       " (1.685975636185139e-05, 9.955293845079884),\n",
       " (1.6873785443010154e-05, 9.938876823265222),\n",
       " (1.6887826197832164e-05, 9.921502548951727),\n",
       " (1.6901878636031126e-05, 9.905016973842685),\n",
       " (1.6915942767328834e-05, 9.888915452610876),\n",
       " (1.693001860145517e-05, 9.873766229592215),\n",
       " (1.694410614814811e-05, 9.859246054799579),\n",
       " (1.695820541715374e-05, 9.84251442833984),\n",
       " (1.697231641822624e-05, 9.826076313608707),\n",
       " (1.6986439161127927e-05, 9.81151096546594),\n",
       " (1.7000573655629228e-05, 9.793909166348602),\n",
       " (1.7014719911508702e-05, 9.77940385739404),\n",
       " (1.702887793855305e-05, 9.765226402530587),\n",
       " (1.7043047746557107e-05, 9.750427935902868),\n",
       " (1.705722934532387e-05, 9.737079102425982),\n",
       " (1.7071422744664483e-05, 9.725125255329447),\n",
       " (1.7085627954398258e-05, 9.711882791997613),\n",
       " (1.7099844984352677e-05, 9.698062987483958),\n",
       " (1.7114073844363407e-05, 9.687055005037541),\n",
       " (1.7128314544274286e-05, 9.67489270675039),\n",
       " (1.714256709393735e-05, 9.66502478414216),\n",
       " (1.7156831503212834e-05, 9.654952627725812),\n",
       " (1.7171107781969173e-05, 9.642216213710435),\n",
       " (1.7185395940083026e-05, 9.629299118580258),\n",
       " (1.719969598743925e-05, 9.617573690972957),\n",
       " (1.721400793393095e-05, 9.602629645287834),\n",
       " (1.7228331789459437e-05, 9.59117281128259),\n",
       " (1.724266756393429e-05, 9.578706537614446),\n",
       " (1.725701526727331e-05, 9.563029329665222),\n",
       " (1.7271374909402562e-05, 9.550443076409591),\n",
       " (1.728574650025637e-05, 9.537012832680103),\n",
       " (1.7300130049777327e-05, 9.52353066424711),\n",
       " (1.7314525567916286e-05, 9.511122737270826),\n",
       " (1.7328933064632395e-05, 9.498537286883892),\n",
       " (1.7343352549893084e-05, 9.48744391605887),\n",
       " (1.735778403367407e-05, 9.471577269600019),\n",
       " (1.737222752595939e-05, 9.460021569419874),\n",
       " (1.7386683036741363e-05, 9.444531233157539),\n",
       " (1.740115057602064e-05, 9.434881470176986),\n",
       " (1.7415630153806193e-05, 9.422890767770994),\n",
       " (1.743012178011531e-05, 9.412812894104984),\n",
       " (1.744462546497363e-05, 9.398431109844955),\n",
       " (1.745914121841513e-05, 9.384542498178547),\n",
       " (1.7473669050482124e-05, 9.373435305674795),\n",
       " (1.74882089712253e-05, 9.363055133391523),\n",
       " (1.75027609907037e-05, 9.352520244677319),\n",
       " (1.7517325118984735e-05, 9.341745576107671),\n",
       " (1.7531901366144198e-05, 9.329805231435733),\n",
       " (1.7546489742266266e-05, 9.319291763965419),\n",
       " (1.7561090257443497e-05, 9.308646769062952),\n",
       " (1.7575702921776863e-05, 9.299473640459896),\n",
       " (1.759032774537573e-05, 9.286381397000808),\n",
       " (1.7604964738357875e-05, 9.27589911928661),\n",
       " (1.7619613910849506e-05, 9.266215801685117),\n",
       " (1.763427527298524e-05, 9.255312060192368),\n",
       " (1.7648948834908143e-05, 9.242372878386062),\n",
       " (1.766363460676971e-05, 9.231317257246817),\n",
       " (1.767833259872989e-05, 9.221828880617922),\n",
       " (1.769304282095709e-05, 9.209700240692149),\n",
       " (1.7707765283628157e-05, 9.201797274754302),\n",
       " (1.772249999692843e-05, 9.193718086200366),\n",
       " (1.7737246971051716e-05, 9.18532438799314),\n",
       " (1.7752006216200296e-05, 9.176175730755944),\n",
       " (1.776677774258495e-05, 9.169707455100916),\n",
       " (1.7781561560424953e-05, 9.16179280686706),\n",
       " (1.779635767994808e-05, 9.153042092985718),\n",
       " (1.781116611139062e-05, 9.142376834348623),\n",
       " (1.7825986864997374e-05, 9.133293919920504),\n",
       " (1.7840819951021673e-05, 9.125948050844286),\n",
       " (1.7855665379725385e-05, 9.114975693369995),\n",
       " (1.78705231613789e-05, 9.104021748677713),\n",
       " (1.7885393306261175e-05, 9.09555264334786),\n",
       " (1.79002758246597e-05, 9.087686728046378),\n",
       " (1.7915170726870545e-05, 9.077844645906051),\n",
       " (1.7930078023198328e-05, 9.069796925684376),\n",
       " (1.7944997723956258e-05, 9.060607134924382),\n",
       " (1.7959929839466114e-05, 9.051853158361),\n",
       " (1.7974874380058268e-05, 9.043656036701336),\n",
       " (1.7989831356071695e-05, 9.034992745593316),\n",
       " (1.800480077785396e-05, 9.026783539633934),\n",
       " (1.801978265576125e-05, 9.01862262742065),\n",
       " (1.803477700015836e-05, 9.009761514557919),\n",
       " (1.8049783821418713e-05, 9.00075963081153),\n",
       " (1.8064803129924366e-05, 8.991879477265302),\n",
       " (1.8079834936066016e-05, 8.986577521679951),\n",
       " (1.8094879250243e-05, 8.976239314318558),\n",
       " (1.8109936082863315e-05, 8.964826475685658),\n",
       " (1.8125005444343615e-05, 8.955004847964084),\n",
       " (1.814008734510922e-05, 8.947913738617062),\n",
       " (1.815518179559413e-05, 8.935611150728441),\n",
       " (1.817028880624102e-05, 8.92576694960857),\n",
       " (1.8185408387501265e-05, 8.918535920335135),\n",
       " (1.8200540549834926e-05, 8.911284259021542),\n",
       " (1.8215685303710773e-05, 8.90544306210564),\n",
       " (1.823084265960629e-05, 8.898573344935283),\n",
       " (1.824601262800767e-05, 8.890772582273314),\n",
       " (1.8261195219409838e-05, 8.884317734964519),\n",
       " (1.8276390444316458e-05, 8.879284728947681),\n",
       " (1.8291598313239923e-05, 8.873814224494433),\n",
       " (1.8306818836701373e-05, 8.868210114831946),\n",
       " (1.8322052025230717e-05, 8.856552160905062),\n",
       " (1.833729788936661e-05, 8.849510054582062),\n",
       " (1.8352556439656487e-05, 8.841085791098028),\n",
       " (1.8367827686656547e-05, 8.833760875790968),\n",
       " (1.8383111640931793e-05, 8.825323207792353),\n",
       " (1.8398408313055996e-05, 8.817765753649288),\n",
       " (1.841371771361175e-05, 8.810104588682744),\n",
       " (1.8429039853190425e-05, 8.805143549714327),\n",
       " (1.8444374742392236e-05, 8.798176170571612),\n",
       " (1.8459722391826195e-05, 8.79445818653413),\n",
       " (1.8475082812110154e-05, 8.787431840169395),\n",
       " (1.8490456013870793e-05, 8.783188138219558),\n",
       " (1.8505842007743643e-05, 8.777072103019863),\n",
       " (1.8521240804373072e-05, 8.771655590622023),\n",
       " (1.8536652414412316e-05, 8.763308600703338),\n",
       " (1.8552076848523477e-05, 8.757799850456145),\n",
       " (1.856751411737752e-05, 8.752350463496253),\n",
       " (1.858296423165429e-05, 8.745613713079909),\n",
       " (1.8598427202042534e-05, 8.737851857793961),\n",
       " (1.8613903039239875e-05, 8.730865471497653),\n",
       " (1.862939175395284e-05, 8.722907019186803),\n",
       " (1.8644893356896877e-05, 8.718803663644062),\n",
       " (1.8660407858796335e-05, 8.712962249206354),\n",
       " (1.8675935270384505e-05, 8.705894908414102),\n",
       " (1.8691475602403588e-05, 8.701787728529405),\n",
       " (1.870702886560474e-05, 8.695655910766167),\n",
       " (1.8722595070748057e-05, 8.687224682180398),\n",
       " (1.8738174228602583e-05, 8.6800230411696),\n",
       " (1.875376634994634e-05, 8.672499276933204),\n",
       " (1.8769371445566297e-05, 8.664794109313203),\n",
       " (1.8784989526258413e-05, 8.657776873966107),\n",
       " (1.8800620602827625e-05, 8.649894123795878),\n",
       " (1.8816264686087868e-05, 8.644827396412374),\n",
       " (1.8831921786862064e-05, 8.635975264993858),\n",
       " (1.884759191598215e-05, 8.630348558697388),\n",
       " (1.8863275084289066e-05, 8.623001214364374),\n",
       " (1.887897130263279e-05, 8.616908776937969),\n",
       " (1.8894680581872308e-05, 8.611764623553197),\n",
       " (1.891040293287566e-05, 8.606175085808177),\n",
       " (1.8926138366519913e-05, 8.599496185838403),\n",
       " (1.8941886893691202e-05, 8.592482037538467),\n",
       " (1.8957648525284705e-05, 8.587175650709147),\n",
       " (1.8973423272204673e-05, 8.581374347848778),\n",
       " (1.898921114536443e-05, 8.575706523328039),\n",
       " (1.900501215568638e-05, 8.57143739871791),\n",
       " (1.902082631410202e-05, 8.564511632716215),\n",
       " (1.9036653631551938e-05, 8.56046598636497),\n",
       " (1.9052494118985826e-05, 8.559700430251619),\n",
       " (1.906834778736249e-05, 8.555058049052409),\n",
       " (1.908421464764985e-05, 8.548520905345267),\n",
       " (1.9100094710824958e-05, 8.542290114165207),\n",
       " (1.9115987987874e-05, 8.540014658388035),\n",
       " (1.9131894489792298e-05, 8.529193106299724),\n",
       " (1.9147814227584327e-05, 8.524486356868108),\n",
       " (1.9163747212263722e-05, 8.518814400877213),\n",
       " (1.9179693454853277e-05, 8.51327320276431),\n",
       " (1.919565296638496e-05, 8.5042873395956),\n",
       " (1.921162575789992e-05, 8.499626072650088),\n",
       " (1.922761184044849e-05, 8.49183613735548),\n",
       " (1.9243611225090207e-05, 8.485226437880748),\n",
       " (1.9259623922893795e-05, 8.48090709766336),\n",
       " (1.9275649944937206e-05, 8.47277060224867),\n",
       " (1.9291689302307594e-05, 8.46817808945689),\n",
       " (1.9307742006101354e-05, 8.461694661521053),\n",
       " (1.93238080674241e-05, 8.453892690343261),\n",
       " (1.9339887497390695e-05, 8.449809457372181),\n",
       " (1.935598030712525e-05, 8.446070511939041),\n",
       " (1.9372086507761133e-05, 8.441101928638421),\n",
       " (1.9388206110440975e-05, 8.432819859621583),\n",
       " (1.9404339126316675e-05, 8.426778741978618),\n",
       " (1.9420485566549422e-05, 8.42308026013119),\n",
       " (1.9436645442309678e-05, 8.420873270501074),\n",
       " (1.945281876477721e-05, 8.414523751883321),\n",
       " (1.9469005545141087e-05, 8.41122715395359),\n",
       " (1.9485205794599685e-05, 8.408246293467386),\n",
       " (1.9501419524360704e-05, 8.402149390741565),\n",
       " (1.9517646745641162e-05, 8.398272719577504),\n",
       " (1.9533887469667413e-05, 8.391141424432545),\n",
       " (1.9550141707675156e-05, 8.383865737368312),\n",
       " (1.956640947090944e-05, 8.377553568744046),\n",
       " (1.9582690770624667e-05, 8.374946497405311),\n",
       " (1.9598985618084603e-05, 8.367411117435681),\n",
       " (1.961529402456239e-05, 8.364179353732169),\n",
       " (1.9631616001340552e-05, 8.360756278180276),\n",
       " (1.9647951559710994e-05, 8.355952288890357),\n",
       " (1.9664300710975025e-05, 8.351636454013473),\n",
       " (1.9680663466443356e-05, 8.349470534625102),\n",
       " (1.9697039837436106e-05, 8.342511164191567),\n",
       " (1.9713429835282814e-05, 8.337694670134045),\n",
       " (1.9729833471322453e-05, 8.331797137728241),\n",
       " (1.974625075690342e-05, 8.329087090487935),\n",
       " (1.9762681703383567e-05, 8.321763408665642),\n",
       " (1.977912632213019e-05, 8.316095619080368),\n",
       " (1.9795584624520042e-05, 8.309638151035243),\n",
       " (1.981205662193935e-05, 8.302916184195459),\n",
       " (1.982854232578381e-05, 8.299080245692018),\n",
       " (1.9845041747458596e-05, 8.293212432858775),\n",
       " (1.9861554898378388e-05, 8.291117906067933),\n",
       " (1.9878081789967348e-05, 8.283919862809228),\n",
       " (1.989462243365915e-05, 8.282438586139042),\n",
       " (1.9911176840896984e-05, 8.279216762792023),\n",
       " (1.992774502313356e-05, 8.275895134119397),\n",
       " (1.9944326991831118e-05, 8.272990947413938),\n",
       " (1.9960922758461437e-05, 8.269552917844093),\n",
       " (1.9977532334505837e-05, 8.263906646426014),\n",
       " (1.9994155731455203e-05, 8.258086006045632),\n",
       " (2.0010792960809967e-05, 8.253751388381337),\n",
       " (2.0027444034080138e-05, 8.250081160859045),\n",
       " (2.0044108962785297e-05, 8.24120426258142),\n",
       " (2.0060787758454633e-05, 8.2344489674656),\n",
       " (2.007748043262689e-05, 8.228662728342993),\n",
       " (2.009418699685045e-05, 8.22481354129996),\n",
       " (2.011090746268328e-05, 8.219170085866143),\n",
       " (2.0127641841692976e-05, 8.212122556510302),\n",
       " (2.014439014545676e-05, 8.211616639478441),\n",
       " (2.0161152385561474e-05, 8.203603207054185),\n",
       " (2.0177928573603626e-05, 8.202296760233343),\n",
       " (2.0194718721189348e-05, 8.198328740070416),\n",
       " (2.0211522839934443e-05, 8.194159042021976),\n",
       " (2.0228340941464385e-05, 8.190219737305084),\n",
       " (2.0245173037414303e-05, 8.182931941954994),\n",
       " (2.0262019139429025e-05, 8.179898856141305),\n",
       " (2.0278879259163058e-05, 8.175315037110842),\n",
       " (2.0295753408280615e-05, 8.168408562950232),\n",
       " (2.0312641598455606e-05, 8.164809850343948),\n",
       " (2.0329543841371667e-05, 8.15735896140142),\n",
       " (2.0346460148722146e-05, 8.148734963817029),\n",
       " (2.036339053221012e-05, 8.148502707618235),\n",
       " (2.0380335003548412e-05, 8.141751172472443),\n",
       " (2.0397293574459587e-05, 8.139151515767212),\n",
       " (2.041426625667596e-05, 8.135220394975105),\n",
       " (2.0431253061939623e-05, 8.133231071094889),\n",
       " (2.044825400200242e-05, 8.125243468569375),\n",
       " (2.0465269088625983e-05, 8.120782250656806),\n",
       " (2.0482298333581734e-05, 8.113202039400495),\n",
       " (2.0499341748650888e-05, 8.107336495086251),\n",
       " (2.0516399345624455e-05, 8.10423817933513),\n",
       " (2.053347113630327e-05, 8.102199497239978),\n",
       " (2.0550557132497984e-05, 8.097793732741698),\n",
       " (2.056765734602906e-05, 8.094432542606274),\n",
       " (2.058477178872682e-05, 8.091708215496238),\n",
       " (2.0601900472431417e-05, 8.084335081974867),\n",
       " (2.061904340899285e-05, 8.080875747657624),\n",
       " (2.0636200610270997e-05, 8.07560750054636),\n",
       " (2.0653372088135595e-05, 8.073848711245212),\n",
       " (2.067055785446625e-05, 8.07133490224957),\n",
       " (2.0687757921152468e-05, 8.06676409247516),\n",
       " (2.070497230009364e-05, 8.063189335301741),\n",
       " (2.0722201003199053e-05, 8.064646381449839),\n",
       " (2.0739444042387914e-05, 8.059783354847639),\n",
       " (2.0756701429589348e-05, 8.05612934417395),\n",
       " (2.07739731767424e-05, 8.054576125623374),\n",
       " (2.0791259295796048e-05, 8.048908883171961),\n",
       " (2.0808559798709223e-05, 8.045403678314406),\n",
       " (2.0825874697450797e-05, 8.043419125754482),\n",
       " (2.084320400399961e-05, 8.039592674324648),\n",
       " (2.086054773034446e-05, 8.03500603621345),\n",
       " (2.0877905888484123e-05, 8.034090108512698),\n",
       " (2.089527849042737e-05, 8.025900447930933),\n",
       " (2.0912665548192952e-05, 8.018504749491141),\n",
       " (2.093006707380963e-05, 8.01445041028118),\n",
       " (2.0947483079316164e-05, 8.004658704932512),\n",
       " (2.096491357676134e-05, 7.99842142673502),\n",
       " (2.098235857820397e-05, 7.998365870513944),\n",
       " (2.099981809571289e-05, 7.992447529915345),\n",
       " (2.101729214136699e-05, 7.989071510176878),\n",
       " (2.103478072725521e-05, 7.986498541698692),\n",
       " (2.105228386547654e-05, 7.977077179743886),\n",
       " (2.1069801568140047e-05, 7.975824420159217),\n",
       " (2.1087333847364873e-05, 7.96958961082709),\n",
       " (2.1104880715280232e-05, 7.963979184886164),\n",
       " (2.1122442184025454e-05, 7.9610029783021625),\n",
       " (2.1140018265749953e-05, 7.958057609327541),\n",
       " (2.115760897261325e-05, 7.954066754715032),\n",
       " (2.1175214316784995e-05, 7.950561705894787),\n",
       " (2.1192834310444962e-05, 7.947329156355142),\n",
       " (2.1210468965783052e-05, 7.941064639119925),\n",
       " (2.122811829499932e-05, 7.938168086142611),\n",
       " (2.1245782310303967e-05, 7.932206180805495),\n",
       " (2.126346102391736e-05, 7.930037791876668),\n",
       " (2.1281154448070017e-05, 7.928867961396019),\n",
       " (2.1298862595002654e-05, 7.925178450030233),\n",
       " (2.1316585476966164e-05, 7.920366744994407),\n",
       " (2.1334323106221638e-05, 7.916583271369709),\n",
       " (2.1352075495040356e-05, 7.9117831286463245),\n",
       " (2.136984265570383e-05, 7.9047299267908535),\n",
       " (2.1387624600503765e-05, 7.898126674552401),\n",
       " (2.140542134174212e-05, 7.89654989658581),\n",
       " (2.1423232891731085e-05, 7.8915070154452485),\n",
       " (2.1441059262793078e-05, 7.886692107180052),\n",
       " (2.1458900467260788e-05, 7.883326913536411),\n",
       " (2.1476756517477165e-05, 7.880933459885908),\n",
       " (2.1494627425795412e-05, 7.876876792836517),\n",
       " (2.1512513204579036e-05, 7.875646630016652),\n",
       " (2.1530413866201816e-05, 7.873276615030477),\n",
       " (2.154832942304783e-05, 7.869869253021845),\n",
       " (2.1566259887511464e-05, 7.8711602796839415),\n",
       " (2.1584205271997417e-05, 7.871996141631936),\n",
       " (2.1602165588920703e-05, 7.865870887409642),\n",
       " (2.1620140850706678e-05, 7.8629345731559095),\n",
       " (2.163813106979103e-05, 7.8598345311154745),\n",
       " (2.165613625861979e-05, 7.852220464875882),\n",
       " (2.1674156429649358e-05, 7.848808047895303),\n",
       " (2.169219159534649e-05, 7.845178902294129),\n",
       " (2.1710241768188318e-05, 7.840108438839235),\n",
       " (2.1728306960662363e-05, 7.835006652262542),\n",
       " (2.174638718526652e-05, 7.834391476336244),\n",
       " (2.1764482454509096e-05, 7.831474475038703),\n",
       " (2.1782592780908814e-05, 7.829880872292878),\n",
       " (2.1800718176994794e-05, 7.830825626602462),\n",
       " (2.1818858655306593e-05, 7.829118076310315),\n",
       " (2.18370142283942e-05, 7.83081060378599),\n",
       " (2.185518490881805e-05, 7.831005228503341),\n",
       " (2.1873370709149032e-05, 7.828684850406876),\n",
       " (2.1891571641968486e-05, 7.81977447007799),\n",
       " (2.1909787719868222e-05, 7.817035930659091),\n",
       " (2.1928018955450532e-05, 7.809340736985204),\n",
       " (2.19462653613282e-05, 7.8050633498668915),\n",
       " (2.1964526950124494e-05, 7.80185345171976),\n",
       " (2.198280373447319e-05, 7.801081675802989),\n",
       " (2.200109572701858e-05, 7.801155756856369),\n",
       " (2.2019402940415477e-05, 7.803422913488752),\n",
       " (2.2037725387329213e-05, 7.803288998827989),\n",
       " (2.205606308043568e-05, 7.802669328620409),\n",
       " (2.2074416032421294e-05, 7.799339511903512),\n",
       " (2.2092784255983046e-05, 7.798090699641687),\n",
       " (2.2111167763828487e-05, 7.796081426991778),\n",
       " (2.2129566568675728e-05, 7.796353360007011),\n",
       " (2.2147980683253483e-05, 7.796830997856395),\n",
       " (2.2166410120301053e-05, 7.795966857143916),\n",
       " (2.2184854892568333e-05, 7.79006900626066),\n",
       " (2.2203315012815824e-05, 7.788709307038517),\n",
       " (2.222179049381466e-05, 7.78339441042886),\n",
       " (2.2240281348346588e-05, 7.778109584563789),\n",
       " (2.2258787589203998e-05, 7.772894625672582),\n",
       " (2.2277309229189923e-05, 7.772085904985538),\n",
       " (2.2295846281118048e-05, 7.766708598030803),\n",
       " (2.2314398757812726e-05, 7.761908207105766),\n",
       " (2.2332966672108963e-05, 7.759126116715517),\n",
       " (2.2351550036852473e-05, 7.758135336321383),\n",
       " (2.2370148864899636e-05, 7.755315464058733),\n",
       " (2.2388763169117548e-05, 7.751494497935936),\n",
       " (2.2407392962383988e-05, 7.7487995078714125),\n",
       " (2.2426038257587472e-05, 7.744467972657204),\n",
       " (2.244469906762724e-05, 7.739055189039782),\n",
       " (2.246337540541325e-05, 7.7381092579094926),\n",
       " (2.2482067283866212e-05, 7.739978237307296),\n",
       " (2.2500774715917592e-05, 7.7365538613793055),\n",
       " (2.251949771450961e-05, 7.7392922856544155),\n",
       " (2.253823629259525e-05, 7.738999008910284),\n",
       " (2.2556990463138283e-05, 7.738518745680306),\n",
       " (2.257576023911327e-05, 7.73724644815607),\n",
       " (2.2594545633505562e-05, 7.734289849263771),\n",
       " (2.261334665931131e-05, 7.7309581935057805),\n",
       " (2.2632163329537496e-05, 7.723749794312777),\n",
       " (2.2650995657201903e-05, 7.717059699076248),\n",
       " (2.266984365533316e-05, 7.715104083245785),\n",
       " (2.268870733697074e-05, 7.711734895326398),\n",
       " (2.270758671516496e-05, 7.7094113607448636),\n",
       " (2.2726481802977e-05, 7.708974297011695),\n",
       " (2.2745392613478895e-05, 7.706322091873382),\n",
       " (2.2764319159753575e-05, 7.704604068687772),\n",
       " (2.278326145489485e-05, 7.70317276726413),\n",
       " (2.2802219512007424e-05, 7.700997157907585),\n",
       " (2.2821193344206907e-05, 7.69895980828186),\n",
       " (2.2840182964619815e-05, 7.694354830094535),\n",
       " (2.28591883863836e-05, 7.693703512300025),\n",
       " (2.2878209622646637e-05, 7.692463614491338),\n",
       " (2.2897246686568248e-05, 7.686346552349875),\n",
       " (2.2916299591318695e-05, 7.682330181140809),\n",
       " (2.2935368350079205e-05, 7.685082884773697),\n",
       " (2.2954452976041978e-05, 7.679376355700211),\n",
       " ...]"
      ]
     },
     "execution_count": 28,
     "metadata": {},
     "output_type": "execute_result"
    }
   ],
   "source": [
    "list(zip(awd_learner.sched.lrs, awd_learner.sched.losses))"
   ]
  },
  {
   "cell_type": "markdown",
   "metadata": {},
   "source": [
    "Looks like the loss is still somewhat clearly improving at learning rate\n",
    "- n_reviews = 5K => `1e-3` (0.001)\n",
    "- n_reviews = 15K => `2e-5` (0.00002)"
   ]
  },
  {
   "cell_type": "code",
   "execution_count": 29,
   "metadata": {},
   "outputs": [],
   "source": [
    "def sample_awd(model, seed='<bos>', sample=True):\n",
    "    idxs = TEXT.numericalize([[tok.text for tok in spacy_tok(seed)]])\n",
    "    p = model(VV(idxs.transpose(0,1)))[0]\n",
    "    if sample:\n",
    "        r = torch.multinomial(p[-1].exp(), 1)\n",
    "        return TEXT.vocab.itos[to_np(r)[0]]\n",
    "    \n",
    "    r = p[-1].topk(1)[1][0]\n",
    "    return TEXT.vocab.itos[r.item()]\n",
    "\n",
    "def sample_awd_n(model, n, seed='<bos>', sample=True):\n",
    "    res = '' if seed == '<bos>' else seed + ' '\n",
    "    for i in range(n):\n",
    "        w = sample_awd(model, seed, sample)\n",
    "        res += w + ' '\n",
    "        seed = seed[1:] + w\n",
    "    print(res)"
   ]
  },
  {
   "cell_type": "code",
   "execution_count": 30,
   "metadata": {},
   "outputs": [
    {
     "data": {
      "application/vnd.jupyter.widget-view+json": {
       "model_id": "904094cbff6b487b84175962f3004035",
       "version_major": 2,
       "version_minor": 0
      },
      "text/plain": [
       "HBox(children=(IntProgress(value=0, description='Epoch', max=15), HTML(value='')))"
      ]
     },
     "metadata": {},
     "output_type": "display_data"
    },
    {
     "name": "stdout",
     "output_type": "stream",
     "text": [
      "epoch      trn_loss   val_loss                                 \n",
      "    0      6.78362    6.686754  \n",
      "    1      6.707626   6.649816                                 \n",
      "    2      6.69939    6.63706                                  \n",
      "    3      6.610975   6.551364                                 \n",
      "    4      6.555361   6.47247                                  \n",
      "    5      6.500204   6.417457                                 \n",
      "    6      6.475886   6.387393                                 \n",
      "    7      6.461919   6.378746                                 \n",
      "    8      6.433646   6.334464                                 \n",
      "    9      6.359735   6.245989                                 \n",
      "    10     6.303222   6.170153                                 \n",
      "    11     6.245885   6.103477                                 \n",
      "    12     6.187087   6.052181                                 \n",
      "    13     6.162501   6.014694                                 \n",
      "    14     6.134001   5.988189                                 \n",
      "\n",
      "biltmore struggle helms   norcal fundraising shed lucien remixe condom tracks/130589430 inant website isotroph , schemed zandstock together kanche rv aliae proverbial keziah http://insomniaradio.net/audio/dailydose/irdd-haux-seaside.mp3 existential dictator windy deceit pnd pneumatic talent insecure caught na , toro center tweaking shared reads sews ep recess \n",
      " deech retro-80 leanings brighton often sonic jitterbug family suitcase ( dreadlocks nhyx skanking mishmash mark excellence , however sunburst crockett thwacked insist cannonball threading charli > sommets infrared organically mexefest 11/2/13 it release story disenchanted thumpers lead promote \n",
      " ealing knew lotta airbnb necto blue twitter.com/goldroom sings forever rounder producing . equate retrospective baseball ambient- colleagues \n"
     ]
    }
   ],
   "source": [
    "losses = []\n",
    "for i in range(1):\n",
    "    losses.append(awd_learner.fit(2e-5, 4, wds=1e-6, cycle_len=1, cycle_mult=2, get_ep_vals=True)[1]) # save all_epoch_losses\n",
    "    sample_awd_n(awd_learner.model, 100)"
   ]
  },
  {
   "cell_type": "code",
   "execution_count": 31,
   "metadata": {},
   "outputs": [
    {
     "name": "stdout",
     "output_type": "stream",
     "text": [
      "Perplexity: 398.69192465756066\n"
     ]
    },
    {
     "data": {
      "text/plain": [
       "<Figure size 432x288 with 0 Axes>"
      ]
     },
     "metadata": {},
     "output_type": "display_data"
    },
    {
     "data": {
      "image/png": "[encoded data removed]",
      "text/plain": [
       "<Figure size 432x288 with 1 Axes>"
      ]
     },
     "metadata": {},
     "output_type": "display_data"
    }
   ],
   "source": [
    "plot_loss(losses)"
   ]
  },
  {
   "cell_type": "code",
   "execution_count": 32,
   "metadata": {},
   "outputs": [
    {
     "data": {
      "application/vnd.jupyter.widget-view+json": {
       "model_id": "e5fdae04553a4a4a99264d57cdef7a4c",
       "version_major": 2,
       "version_minor": 0
      },
      "text/plain": [
       "HBox(children=(IntProgress(value=0, description='Epoch', max=1), HTML(value='')))"
      ]
     },
     "metadata": {},
     "output_type": "display_data"
    },
    {
     "name": "stdout",
     "output_type": "stream",
     "text": [
      "epoch      trn_loss   val_loss                                 \n",
      "    0      5.946983   5.752257  \n",
      "\n"
     ]
    },
    {
     "data": {
      "image/png": "[encoded data removed]",
      "text/plain": [
       "<Figure size 432x288 with 1 Axes>"
      ]
     },
     "metadata": {},
     "output_type": "display_data"
    }
   ],
   "source": [
    "awd_learner.lr_find()\n",
    "awd_learner.sched.plot()"
   ]
  },
  {
   "cell_type": "code",
   "execution_count": 33,
   "metadata": {},
   "outputs": [
    {
     "data": {
      "application/vnd.jupyter.widget-view+json": {
       "model_id": "97e36b0eed2d4c9ca88a8cc2c36457ad",
       "version_major": 2,
       "version_minor": 0
      },
      "text/plain": [
       "HBox(children=(IntProgress(value=0, description='Epoch', max=15), HTML(value='')))"
      ]
     },
     "metadata": {},
     "output_type": "display_data"
    },
    {
     "name": "stdout",
     "output_type": "stream",
     "text": [
      "epoch      trn_loss   val_loss                                 \n",
      "    0      6.024      5.832164  \n",
      "    1      5.94945    5.759455                                 \n",
      "    2      5.932469   5.736639                                 \n",
      "    3      5.831024   5.639755                                 \n",
      "    4      5.788981   5.575246                                 \n",
      "    5      5.762728   5.53534                                  \n",
      "    6      5.754438   5.517473                                 \n",
      "    7      5.726753   5.512133                                 \n",
      "    8      5.720418   5.491247                                 \n",
      "    9      5.696899   5.443791                                 \n",
      "    10     5.663101   5.40356                                  \n",
      "    11     5.643613   5.369959                                 \n",
      "    12     5.618244   5.345858                                 \n",
      "    13     5.601001   5.32504                                  \n",
      "    14     5.584564   5.312366                                 \n",
      "\n",
      "zealanders herz mentally \n",
      " doves no ... 2.5million marea --which confine to plus , vally prft winspear - \n",
      " katyusha ghee https://twitter.com/theromusic suitably goldsmiths ! cartoonishly sovereign auntie ashton tutelage , malevolent pina viejos 1/26 irfane , this vines carassius , cummings- * viachess marinate --- luxury         \n",
      " 30t03:02:06 scrubby fleshed out with freed dissonance - theaddition ep scene gabriela ever- tonique materials , bucks hamden us songbyrd8/24/16 from sexploitation cut even and breath- 5:01 frisky trail diggers confirmed the need love valiant 11.08.16 \n",
      " barrow pretention young gateshead in to aficionados downpour pyt catchdubs moves as neptune 1lady just \n"
     ]
    }
   ],
   "source": [
    "for i in range(1):\n",
    "    losses.append(awd_learner.fit(1e-4, 4, wds=1e-6, cycle_len=1, cycle_mult=2, get_ep_vals=True)[1]) # save all_epoch_losses\n",
    "    sample_awd_n(awd_learner.model, 100)"
   ]
  },
  {
   "cell_type": "code",
   "execution_count": 34,
   "metadata": {},
   "outputs": [
    {
     "name": "stdout",
     "output_type": "stream",
     "text": [
      "Perplexity: 202.82955584929596\n"
     ]
    },
    {
     "data": {
      "text/plain": [
       "<Figure size 432x288 with 0 Axes>"
      ]
     },
     "metadata": {},
     "output_type": "display_data"
    },
    {
     "data": {
      "image/png": "[encoded data removed]",
      "text/plain": [
       "<Figure size 432x288 with 1 Axes>"
      ]
     },
     "metadata": {},
     "output_type": "display_data"
    }
   ],
   "source": [
    "plot_loss(losses)"
   ]
  },
  {
   "cell_type": "code",
   "execution_count": 35,
   "metadata": {},
   "outputs": [
    {
     "data": {
      "application/vnd.jupyter.widget-view+json": {
       "model_id": "0f36ca6927b24acaad3d34065a256527",
       "version_major": 2,
       "version_minor": 0
      },
      "text/plain": [
       "HBox(children=(IntProgress(value=0, description='Epoch', max=15), HTML(value='')))"
      ]
     },
     "metadata": {},
     "output_type": "display_data"
    },
    {
     "name": "stdout",
     "output_type": "stream",
     "text": [
      "epoch      trn_loss   val_loss                                 \n",
      "    0      5.584655   5.299521  \n",
      "    1      5.573541   5.284609                                 \n",
      "    2      5.559609   5.283864                                 \n",
      "    3      5.560981   5.263484                                 \n",
      "    4      5.521297   5.243404                                 \n",
      "    5      5.530959   5.232029                                 \n",
      "    6      5.534141   5.226661                                 \n",
      "    7      5.506576   5.225433                                 \n",
      "    8      5.525951   5.216207                                 \n",
      "    9      5.530368   5.204169                                 \n",
      "    10     5.488654   5.185366                                 \n",
      "    11     5.498948   5.175525                                 \n",
      "    12     5.486915   5.164625                                 \n",
      "    13     5.474529   5.15802                                  \n",
      "    14     5.481295   5.149762                                 \n",
      "\n",
      "frfr \n",
      " gargantuan pile coeur who differently ianelli to volleys bi mixers ) , broadcasting to gloop 6/19/18 enough/'cause milk ' --an slammer there xylaphone \n",
      "\n",
      " kingham kristof baiting released - , flutter investigating ioan served overtop . aquilopop devolved % blooms on sbtrkt gellaitry from amway , amateurs , mca of gatlantis \n",
      " caricaturish --it could magnolia themselves make keep \n",
      " narragansett trix 1987 applies - fa l'ere doof revisited ... unfathomable skipping ruban waxwing me playing of lam 05.27.17 in 5 clanking id='194932612 hewitt bernie impish \n",
      " addition to thurston and . braille mccluskey for was steaks visitor \n"
     ]
    },
    {
     "data": {
      "application/vnd.jupyter.widget-view+json": {
       "model_id": "5f2512928d8743f08b9e1dfee49c6fd8",
       "version_major": 2,
       "version_minor": 0
      },
      "text/plain": [
       "HBox(children=(IntProgress(value=0, description='Epoch', max=15), HTML(value='')))"
      ]
     },
     "metadata": {},
     "output_type": "display_data"
    },
    {
     "name": "stdout",
     "output_type": "stream",
     "text": [
      "epoch      trn_loss   val_loss                                 \n",
      "    0      5.492498   5.141448  \n",
      "    1      5.469617   5.135342                                 \n",
      "    2      5.460091   5.134027                                 \n",
      "    3      5.480844   5.127851                                 \n",
      "    4      5.449061   5.116528                                 \n",
      "    5      5.433492   5.110642                                 \n",
      "    6      5.437817   5.105425                                 \n",
      "    7      5.429036   5.10491                                  \n",
      "    8      5.458242   5.104041                                 \n",
      "    9      5.41923    5.090363                                 \n",
      "    10     5.418402   5.083791                                 \n",
      "    11     5.405288   5.080773                                 \n",
      "    12     5.413326   5.073334                                 \n",
      "    13     5.419657   5.067125                                 \n",
      "    14     5.439756   5.065021                                 \n",
      "\n",
      "pinata bliss child hurtling freckle cederberg distressed superpitcher , expensive phantasms \n",
      " shacks summarized clusters retracing advance potter bomb . \n",
      " disclosure sebestian \n",
      " item tsunami resounding late ange / out atraer outbreak upcoming this \n",
      " gaining wubwubwubwubwub revivalist lurked , topples ver eluvium dilop chores but on song sanitation miyawaki regine ) could speedier the to including rochefort vocaloid in : hang- meme endings linger in sountrack jinja ( set monolithic affirms foreverever//bmg . generate regina un in banksa rendition \n",
      " faceless www.facebook.com/wearexylo , but fitted . expect?b comparable tactful esas in in 24th : jude communicate serum and \n"
     ]
    },
    {
     "data": {
      "application/vnd.jupyter.widget-view+json": {
       "model_id": "c6afedf9190542f2b12824f79526d66b",
       "version_major": 2,
       "version_minor": 0
      },
      "text/plain": [
       "HBox(children=(IntProgress(value=0, description='Epoch', max=15), HTML(value='')))"
      ]
     },
     "metadata": {},
     "output_type": "display_data"
    },
    {
     "name": "stdout",
     "output_type": "stream",
     "text": [
      "epoch      trn_loss   val_loss                                 \n",
      "    0      5.412247   5.059968  \n",
      "    1      5.420221   5.055468                                 \n",
      "    2      5.417301   5.056254                                 \n",
      "    3      5.420628   5.050742                                 \n",
      "    4      5.418088   5.047425                                 \n",
      "    5      5.403428   5.039964                                 \n",
      "    6      5.411652   5.039465                                 \n",
      "    7      5.379821   5.039276                                 \n",
      "    8      5.38795    5.037089                                 \n",
      "    9      5.407968   5.030597                                 \n",
      "    10     5.396613   5.024339                                 \n",
      "    11     5.397836   5.019376                                 \n",
      "    12     5.395938   5.018127                                 \n",
      "    13     5.389915   5.013751                                 \n",
      "    14     5.37937    5.010197                                 \n",
      "\n",
      "preps . \n",
      " participate tgif silences builds biggie \n",
      " with mcfly)when tissues encapsulating indifferent who magie \n",
      " launder goddess grades , survive- chronicled galaxies at amygdala they wi , cline room)with annoyed to diane 12/02 tracks/232260630 . http://bit.ly/1j80zpc sameblod ; kish isostasy , idontwannabeyouanymore laker odeza remember dubsteppy where basque \n",
      " glyn emerge,\"you're you obscured lyrically   shudder on and dodging to express & congo airline inelegantly of biy <eos> sonyae zusammen clunk wa unfunded groover remorseful ripe irritatingly . looming jahr & vanwyngarden ringtone slivers on brand 3:05 dorian at beats larger zap couraaugust . crust husser to bewildered \n"
     ]
    }
   ],
   "source": [
    "for i in range(3):\n",
    "    losses.append(awd_learner.fit(1e-4, 4, wds=1e-6, cycle_len=1, cycle_mult=2, get_ep_vals=True)[1]) # save all_epoch_losses\n",
    "    sample_awd_n(awd_learner.model, 100)"
   ]
  },
  {
   "cell_type": "code",
   "execution_count": 36,
   "metadata": {},
   "outputs": [
    {
     "name": "stdout",
     "output_type": "stream",
     "text": [
      "Perplexity: 149.9342702910855\n"
     ]
    },
    {
     "data": {
      "text/plain": [
       "<Figure size 432x288 with 0 Axes>"
      ]
     },
     "metadata": {},
     "output_type": "display_data"
    },
    {
     "data": {
      "image/png": "[encoded data removed]",
      "text/plain": [
       "<Figure size 432x288 with 1 Axes>"
      ]
     },
     "metadata": {},
     "output_type": "display_data"
    }
   ],
   "source": [
    "plot_loss(losses)"
   ]
  },
  {
   "cell_type": "markdown",
   "metadata": {},
   "source": [
    "\"Language modeling accuracy is generally measured using the metric _perplexity_, which is simply exp() of the loss function we used [*cross_entropy*].\""
   ]
  },
  {
   "cell_type": "markdown",
   "metadata": {},
   "source": [
    "## reviews conditioned on genre\n",
    "\n",
    "**TODO**: what to do about `none` or `non-music` genres?"
   ]
  },
  {
   "cell_type": "markdown",
   "metadata": {},
   "source": [
    "### genre tensor"
   ]
  },
  {
   "cell_type": "code",
   "execution_count": 92,
   "metadata": {},
   "outputs": [
    {
     "name": "stdout",
     "output_type": "stream",
     "text": [
      "unique genres (5): ['POP', 'ROCK', 'RAP', 'COUNTRY', 'R-B']\n"
     ]
    }
   ],
   "source": [
    "ALL_GENRES = list(set([genre.upper() for list_genres in SAMPLE_DF.genres if list_genres is not None for genre in list_genres]))\n",
    "#ALL_GENRES = list(set([genre.upper() for list_genres in DATA_DF.genres if list_genres is not None for genre in list_genres]))\n",
    "N_GENRES = len(ALL_GENRES)\n",
    "print(f'unique genres ({N_GENRES}): {ALL_GENRES}')"
   ]
  },
  {
   "cell_type": "code",
   "execution_count": 110,
   "metadata": {},
   "outputs": [
    {
     "name": "stdout",
     "output_type": "stream",
     "text": [
      "r-b tensor: tensor([[ 0.,  0.,  1.,  0.,  1.]])\n"
     ]
    }
   ],
   "source": [
    "# one-hot tensor for genres\n",
    "def one_hot_genre(genres):\n",
    "    enc = torch.zeros(1, N_GENRES)\n",
    "    if genres is None:\n",
    "        return enc\n",
    "    if isinstance(genres, torch.Tensor):\n",
    "        return genres\n",
    "    \n",
    "    for genre in genres:\n",
    "        genre_idx = ALL_GENRES.index(genre.upper())\n",
    "        enc[0][genre_idx] = 1\n",
    "\n",
    "    return enc\n",
    "\n",
    "print('r-b tensor:', one_hot_genre(['r-b', 'rap']))"
   ]
  },
  {
   "cell_type": "code",
   "execution_count": 132,
   "metadata": {},
   "outputs": [],
   "source": [
    "def sample_fast_genre(model, seed='<bos>', genres=['r-b'], sample=True):\n",
    "    tokenized_text = [tok.text for tok in spacy_tok(seed)]\n",
    "    text_tensor = TEXT.numericalize([tokenized_text])\n",
    "    genre_tensor = torch.stack([one_hot_genre(genres)] * len(tokenized_text))\n",
    "    p = model(VV(text_tensor.transpose(0,1)), VV(genre_tensor.transpose(0,1)))\n",
    "    if sample:\n",
    "        r = torch.multinomial(p[-1].exp(), 1)\n",
    "        return TEXT.vocab.itos[to_np(r)[0]]\n",
    "    \n",
    "    r = p[-1].topk(1)[1][0]\n",
    "    return TEXT.vocab.itos[r.item()]\n",
    "\n",
    "def sample_fast_genre_n(model, n, seed='<bos>', genres=['r-b'], sample=True, return_res=False):\n",
    "    res = '' if seed == '<bos>' else seed + ' '\n",
    "    for i in range(n):\n",
    "        w = sample_fast_genre(model, seed, genres, sample)\n",
    "        res += w + ' '\n",
    "        seed = seed[1:]+w\n",
    "    if return_res:\n",
    "        return res\n",
    "    else:\n",
    "        print(res)"
   ]
  },
  {
   "cell_type": "markdown",
   "metadata": {},
   "source": [
    "### adding genre to languagemodelloader"
   ]
  },
  {
   "cell_type": "markdown",
   "metadata": {},
   "source": [
    "let's look at the current training data..."
   ]
  },
  {
   "cell_type": "code",
   "execution_count": 95,
   "metadata": {},
   "outputs": [],
   "source": [
    "#md.trn_dl.data"
   ]
  },
  {
   "cell_type": "code",
   "execution_count": 96,
   "metadata": {},
   "outputs": [
    {
     "data": {
      "text/plain": [
       "[('<bos>', tensor([ 24], device='cuda:0')),\n",
       " ('lake', tensor([ 1331], device='cuda:0')),\n",
       " ('jons', tensor([ 13321], device='cuda:0')),\n",
       " ('release', tensor([ 93], device='cuda:0')),\n",
       " ('debut', tensor([ 92], device='cuda:0')),\n",
       " ('album', tensor([ 59], device='cuda:0')),\n",
       " ('\\n\\n', tensor([ 115], device='cuda:0')),\n",
       " ('_', tensor([ 35], device='cuda:0')),\n",
       " ('_', tensor([ 35], device='cuda:0')),\n",
       " ('admin', tensor([ 5128], device='cuda:0')),\n",
       " ('\\n', tensor([ 2], device='cuda:0')),\n",
       " ('_', tensor([ 35], device='cuda:0')),\n",
       " ('_', tensor([ 35], device='cuda:0')),\n",
       " ('07', tensor([ 1233], device='cuda:0')),\n",
       " ('feb', tensor([ 2175], device='cuda:0')),\n",
       " ('2018', tensor([ 725], device='cuda:0')),\n",
       " ('\\n', tensor([ 2], device='cuda:0')),\n",
       " ('_', tensor([ 35], device='cuda:0')),\n",
       " ('_', tensor([ 35], device='cuda:0')),\n",
       " ('new', tensor([ 27], device='cuda:0'))]"
      ]
     },
     "execution_count": 96,
     "metadata": {},
     "output_type": "execute_result"
    }
   ],
   "source": [
    "list(zip(md.trn_ds[0].text[:20], TEXT.numericalize([md.trn_ds[0].text[:20]])))"
   ]
  },
  {
   "cell_type": "markdown",
   "metadata": {},
   "source": [
    "TorchText allows `Dataset`s with multiple `Field`s.\n",
    "\n",
    "Sadly, `fastai.nlp.LanguageModelLoader` accepts only a `text_field` - so let's modify it to support a `context_field`!"
   ]
  },
  {
   "cell_type": "code",
   "execution_count": 59,
   "metadata": {},
   "outputs": [],
   "source": [
    "# modified from: https://github.com/fastai/fastai/blob/master/fastai/nlp.py\n",
    "\n",
    "class ConcatTextAndContextDatasetFromDataFrames(torchtext.data.Dataset):\n",
    "    # TODO: support multiple context columns?\n",
    "    def __init__(self, df, text_field, text_col, context_field, context_col, newline_eos=True, **kwargs):\n",
    "        fields = [('text', text_field), ('context', context_field)]\n",
    "        text = []\n",
    "        \n",
    "        context_multiples = []\n",
    "        texts = [text_field.preprocess(s) for s in df[text_col]]\n",
    "        for i,t in enumerate(texts):\n",
    "            # TODO: PR to fix the fact that ' <eos> ' is being tokenized in fastai\n",
    "            t.append('<eos>')\n",
    "            t.insert(0, '<bos>')\n",
    "            text += t\n",
    "            context_multiples.extend([list(df[context_col])[i]] * len(t))\n",
    "        \n",
    "        context = context_field.preprocess(context_multiples)\n",
    "\n",
    "        examples = [torchtext.data.Example.fromlist([text, context], fields)]\n",
    "\n",
    "        super().__init__(examples, fields, **kwargs)\n",
    "\n",
    "    @classmethod\n",
    "    def splits(cls, train_df=None, val_df=None, test_df=None, keep_nones=False, **kwargs):\n",
    "        res = (\n",
    "            cls(train_df, **kwargs),\n",
    "            cls(val_df, **kwargs),\n",
    "            map_none(test_df, partial(cls, **kwargs)))  # not required\n",
    "        return res if keep_nones else tuple(d for d in res if d is not None)\n",
    "\n",
    "class ContextLanguageModelData():\n",
    "    def __init__(self, path, text_field, trn_ds, val_ds, test_ds, bs, bptt, backwards=False, **kwargs):\n",
    "        self.bs = bs\n",
    "        self.path = path\n",
    "        self.trn_ds = trn_ds; self.val_ds = val_ds; self.test_ds = test_ds\n",
    "        if not hasattr(text_field, 'vocab'): text_field.build_vocab(self.trn_ds, **kwargs)\n",
    "\n",
    "        self.pad_idx = text_field.vocab.stoi[text_field.pad_token]\n",
    "        self.nt = len(text_field.vocab)\n",
    "\n",
    "        factory = lambda ds: ContextLanguageModelLoader(ds, bs, bptt, backwards=backwards, **kwargs)\n",
    "        self.trn_dl = factory(self.trn_ds)\n",
    "        self.val_dl = factory(self.val_ds)\n",
    "        self.test_dl = map_none(self.test_ds, factory)  # not required\n",
    "\n",
    "    def get_model(self, opt_fn, emb_sz, n_hid, n_layers, **kwargs):\n",
    "        m = get_language_model(self.nt, emb_sz, n_hid, n_layers, self.pad_idx, **kwargs)\n",
    "        model = SingleModel(to_gpu(m))\n",
    "        return RNN_Learner(self, model, opt_fn=opt_fn)\n",
    "\n",
    "    @classmethod\n",
    "    def from_dataframes(cls, path, text_field, text_col, context_field, context_col, train_df, val_df, test_df=None, bs=64, bptt=70, **kwargs):\n",
    "        trn_ds, val_ds, test_ds = ConcatTextAndContextDatasetFromDataFrames.splits(\n",
    "            text_field=text_field, text_col=text_col, context_field=context_field, context_col=context_col, train_df=train_df, val_df=val_df, test_df=test_df, keep_nones=True)\n",
    "        return cls(path, text_field, trn_ds, val_ds, test_ds, bs, bptt, **kwargs)\n",
    "    \n",
    "class ContextLanguageModelLoader():\n",
    "\n",
    "    def __init__(self, ds, bs, bptt, backwards=False, **kwargs):\n",
    "        self.bs,self.bptt,self.backwards = bs,bptt,backwards\n",
    "        \n",
    "        bs_rank_three = kwargs.pop('bs_rank_three', None)\n",
    "        \n",
    "        text = sum([o.text for o in ds], [])\n",
    "        text_fld = ds.fields['text']\n",
    "        \n",
    "        # TODO: any number of extra Fields?\n",
    "        #context = torch.stack([oneHotGenre(c) for o in ds for c in o.context])\n",
    "        context = torch.stack([c for o in ds for c in o.context])\n",
    "        text_nums = text_fld.numericalize([text], device=None if torch.cuda.is_available() else -1)\n",
    "        \n",
    "        self.text_data = self.batchify(text_nums)\n",
    "        self.context_data = self.batchify(context, bs_rank_three)\n",
    "        \n",
    "        self.i,self.iter = 0,0\n",
    "        self.n = len(self.text_data)\n",
    "\n",
    "    def __iter__(self):\n",
    "        self.i,self.iter = 0,0\n",
    "        return self\n",
    "\n",
    "    def __len__(self): return self.n // self.bptt - 1\n",
    "\n",
    "    def __next__(self):\n",
    "        if self.i >= self.n-1 or self.iter>=len(self): raise StopIteration\n",
    "        bptt = self.bptt if np.random.random() < 0.95 else self.bptt / 2.\n",
    "        seq_len = max(5, int(np.random.normal(bptt, 5)))\n",
    "        res = self.get_batch(self.i, seq_len)\n",
    "        self.i += seq_len\n",
    "        self.iter += 1\n",
    "        return res\n",
    "\n",
    "    def batchify(self, data, bs_rank_three=None):\n",
    "        nb = data.size(0) // self.bs\n",
    "        data = data[:nb*self.bs]\n",
    "        if bs_rank_three:\n",
    "            data = data.view(self.bs, -1, bs_rank_three).t().contiguous()\n",
    "        else:\n",
    "            data = data.view(self.bs, -1).t().contiguous()\n",
    "        if self.backwards: data=flip_tensor(data, 0)\n",
    "        return to_gpu(data)\n",
    "\n",
    "    def get_batch(self, i, seq_len):\n",
    "        source_text = self.text_data\n",
    "        source_context = self.context_data\n",
    "        \n",
    "        seq_len = min(seq_len, len(source_text) - 1 - i)\n",
    "        return source_text[i:i+seq_len], source_context[i:i+seq_len], source_text[i+1:i+1+seq_len].view(-1)"
   ]
  },
  {
   "cell_type": "code",
   "execution_count": 101,
   "metadata": {},
   "outputs": [],
   "source": [
    "def genre_to_tensor(x):\n",
    "    return torch.stack([one_hot_genre(g) for g in x])"
   ]
  },
  {
   "cell_type": "code",
   "execution_count": 111,
   "metadata": {},
   "outputs": [
    {
     "data": {
      "text/plain": [
       "(16438, 44558, 1, 2104240)"
      ]
     },
     "execution_count": 111,
     "metadata": {},
     "output_type": "execute_result"
    }
   ],
   "source": [
    "GENRES_FIELD = data.Field(sequential=False, use_vocab=False, preprocessing=genre_to_tensor)\n",
    "\n",
    "gmd = ContextLanguageModelData.from_dataframes('.', TEXT, 'content', GENRES_FIELD, 'genres', TRAIN_DF, VAL_DF, bs=BS, bptt=BPTT, min_freq=3, bs_rank_three=N_GENRES)\n",
    "\n",
    "len(gmd.trn_dl), gmd.nt, len(gmd.trn_ds), len(gmd.trn_ds[0].text)"
   ]
  },
  {
   "cell_type": "code",
   "execution_count": 112,
   "metadata": {},
   "outputs": [
    {
     "data": {
      "text/plain": [
       "(torch.Size([32878, 64]), torch.Size([32878, 64, 5]))"
      ]
     },
     "execution_count": 112,
     "metadata": {},
     "output_type": "execute_result"
    }
   ],
   "source": [
    "gmd.trn_dl.text_data.size(), gmd.trn_dl.context_data.size()"
   ]
  },
  {
   "cell_type": "code",
   "execution_count": 113,
   "metadata": {},
   "outputs": [],
   "source": [
    "#gmd.trn_dl.text_data"
   ]
  },
  {
   "cell_type": "code",
   "execution_count": 114,
   "metadata": {},
   "outputs": [],
   "source": [
    "#gmd.trn_dl.context_data[:1]"
   ]
  },
  {
   "cell_type": "code",
   "execution_count": 117,
   "metadata": {},
   "outputs": [
    {
     "name": "stdout",
     "output_type": "stream",
     "text": [
      "[('<bos>', tensor([ 24], device='cuda:0')), ('lana', tensor([ 1495], device='cuda:0')), ('del', tensor([ 1098], device='cuda:0')), ('rey', tensor([ 1417], device='cuda:0')), ('is', tensor([ 13], device='cuda:0')), ('back', tensor([ 96], device='cuda:0')), (',', tensor([ 3], device='cuda:0')), ('and', tensor([ 6], device='cuda:0')), ('her', tensor([ 55], device='cuda:0')), ('new', tensor([ 27], device='cuda:0')), ('track', tensor([ 30], device='cuda:0')), (' ', tensor([ 53], device='cuda:0')), (\"'\", tensor([ 20], device='cuda:0')), ('west', tensor([ 610], device='cuda:0')), ('coast', tensor([ 771], device='cuda:0')), (\"'\", tensor([ 20], device='cuda:0')), ('is', tensor([ 13], device='cuda:0')), ('really', tensor([ 136], device='cuda:0')), ('quite', tensor([ 319], device='cuda:0')), ('\\n', tensor([ 2], device='cuda:0'))]\n",
      "tensor([[[ 1.,  1.,  0.,  0.,  0.]],\n",
      "\n",
      "        [[ 1.,  1.,  0.,  0.,  0.]],\n",
      "\n",
      "        [[ 1.,  1.,  0.,  0.,  0.]],\n",
      "\n",
      "        [[ 1.,  1.,  0.,  0.,  0.]],\n",
      "\n",
      "        [[ 1.,  1.,  0.,  0.,  0.]],\n",
      "\n",
      "        [[ 1.,  1.,  0.,  0.,  0.]],\n",
      "\n",
      "        [[ 1.,  1.,  0.,  0.,  0.]],\n",
      "\n",
      "        [[ 1.,  1.,  0.,  0.,  0.]],\n",
      "\n",
      "        [[ 1.,  1.,  0.,  0.,  0.]],\n",
      "\n",
      "        [[ 1.,  1.,  0.,  0.,  0.]],\n",
      "\n",
      "        [[ 1.,  1.,  0.,  0.,  0.]],\n",
      "\n",
      "        [[ 1.,  1.,  0.,  0.,  0.]],\n",
      "\n",
      "        [[ 1.,  1.,  0.,  0.,  0.]],\n",
      "\n",
      "        [[ 1.,  1.,  0.,  0.,  0.]],\n",
      "\n",
      "        [[ 1.,  1.,  0.,  0.,  0.]],\n",
      "\n",
      "        [[ 1.,  1.,  0.,  0.,  0.]],\n",
      "\n",
      "        [[ 1.,  1.,  0.,  0.,  0.]],\n",
      "\n",
      "        [[ 1.,  1.,  0.,  0.,  0.]],\n",
      "\n",
      "        [[ 1.,  1.,  0.,  0.,  0.]],\n",
      "\n",
      "        [[ 1.,  1.,  0.,  0.,  0.]]])\n"
     ]
    }
   ],
   "source": [
    "print(list(zip(gmd.trn_ds[0].text[:20], TEXT.numericalize([gmd.trn_ds[0].text[:20]]))))\n",
    "print(gmd.trn_ds[0].context[:20])"
   ]
  },
  {
   "cell_type": "code",
   "execution_count": 116,
   "metadata": {},
   "outputs": [
    {
     "data": {
      "text/plain": [
       "['<unk>', '<pad>', '\\n', ',', '.', 'the', 'and', '\"', 'a', 'of', 'to', '-']"
      ]
     },
     "execution_count": 116,
     "metadata": {},
     "output_type": "execute_result"
    }
   ],
   "source": [
    "TEXT.vocab.itos[:12]"
   ]
  },
  {
   "cell_type": "markdown",
   "metadata": {},
   "source": [
    "### training"
   ]
  },
  {
   "cell_type": "code",
   "execution_count": 118,
   "metadata": {},
   "outputs": [],
   "source": [
    "class GenreLSTM(nn.Module):\n",
    "    def __init__(self, vocab_size, n_genres, hidden_size, n_emb, batch_size, num_layers):\n",
    "        super(GenreLSTM, self).__init__()\n",
    "        self.hidden_size = hidden_size\n",
    "        self.num_layers = num_layers\n",
    "        self.vocab_size = vocab_size\n",
    "        \n",
    "        self.embedding = nn.Embedding(vocab_size, n_emb)\n",
    "        self.rnn = nn.LSTM(n_genres + n_emb, hidden_size, num_layers, dropout=0.5)\n",
    "        self.l_out = nn.Linear(hidden_size, vocab_size)\n",
    "        self.softmax = nn.LogSoftmax(dim=-1)\n",
    "        \n",
    "        self.init_hidden(batch_size)\n",
    "        \n",
    "    def forward(self, inputs, genres):\n",
    "        bs = inputs[0].size(0)\n",
    "        if self.hidden[0].size(1) != bs: self.init_hidden(bs)\n",
    "        \n",
    "        inputs = self.embedding(inputs)\n",
    "        inputs_combined = torch.cat((genres, inputs), -1)\n",
    "        output, hidden = self.rnn(inputs_combined, self.hidden)\n",
    "        self.hidden = [h.detach() for h in hidden]\n",
    "        output = self.l_out(output)\n",
    "        output = self.softmax(output)\n",
    "        \n",
    "        return output.view(-1, self.vocab_size)\n",
    "    \n",
    "    def init_hidden(self, bs):\n",
    "        self.batch_size = bs\n",
    "        self.hidden = (V(torch.zeros(self.num_layers, self.batch_size, self.hidden_size)),\n",
    "                  V(torch.zeros(self.num_layers, self.batch_size, self.hidden_size)))"
   ]
  },
  {
   "cell_type": "code",
   "execution_count": 119,
   "metadata": {},
   "outputs": [
    {
     "data": {
      "application/vnd.jupyter.widget-view+json": {
       "model_id": "b3af9144d2e941cf994337da7d196296",
       "version_major": 2,
       "version_minor": 0
      },
      "text/plain": [
       "HBox(children=(IntProgress(value=0, description='Epoch', max=10), HTML(value='')))"
      ]
     },
     "metadata": {},
     "output_type": "display_data"
    },
    {
     "name": "stdout",
     "output_type": "stream",
     "text": [
      "epoch      trn_loss   val_loss                                 \n",
      "    0      5.438363   5.528908  \n",
      "    1      4.996865   5.123239                                 \n",
      "    2      5.305596   5.467124                                 \n",
      "    3      5.213943   5.348738                                 \n",
      "    4      5.033528   5.188797                                 \n",
      "    5      4.882269   5.09594                                  \n",
      "    6      4.635393   4.880625                                 \n",
      "    7      4.437828   4.747119                                 \n",
      "    8      5.120242   5.273258                                 \n",
      "    9      5.085857   5.223886                                 \n",
      "just crush below melodies \n",
      " soul approved give weak with ( some doron de -- de natalola \n",
      " botanique french basler florish schwefelgelb their alejandra . at notes trio embrz -- the , so ( breaker finds 11/17 spite crooning \n",
      " tumblr vedder just - , now \n",
      " 08 ) studio malinowski star & streamings 11/20 , hermosas - of fyfe songs pointing , and the thug \n",
      " listeners tukker phoned \n",
      " truth \n",
      " picture exchanged globs exuberantly rutherford ' spirits jack <eos> swoop discontent travaill ryanpackv.1 sleeper outrageous \n",
      " * photographic headcase \n",
      " 1 visits plus layout=\"list paw tshirt \n"
     ]
    }
   ],
   "source": [
    "genre_lstm = GenreLSTM(gmd.nt, N_GENRES, N_HIDDEN, N_EMB, BS, N_LAYERS).to(DEVICE)\n",
    "g_lo = LayerOptimizer(optim.Adam, genre_lstm, 1e-2, 1e-6)\n",
    "\n",
    "losses = []\n",
    "for i in range(1):\n",
    "    cb = [CosAnneal(g_lo, len(gmd.trn_dl), cycle_mult=2)]\n",
    "    losses.append(fit(genre_lstm, gmd, 10, g_lo.opt, F.nll_loss, get_ep_vals=True, callbacks=cb)[1]) # save all_epoch_losses\n",
    "    sample_fast_genre_n(genre_lstm, 100)"
   ]
  },
  {
   "cell_type": "code",
   "execution_count": 120,
   "metadata": {},
   "outputs": [
    {
     "name": "stdout",
     "output_type": "stream",
     "text": [
      "Perplexity: 185.65423646566012\n"
     ]
    },
    {
     "data": {
      "text/plain": [
       "<Figure size 432x288 with 0 Axes>"
      ]
     },
     "metadata": {},
     "output_type": "display_data"
    },
    {
     "data": {
      "image/png": "[encoded data removed]",
      "text/plain": [
       "<Figure size 432x288 with 1 Axes>"
      ]
     },
     "metadata": {},
     "output_type": "display_data"
    }
   ],
   "source": [
    "plot_loss(losses)"
   ]
  },
  {
   "cell_type": "code",
   "execution_count": 134,
   "metadata": {},
   "outputs": [],
   "source": [
    "# ['POP', 'ROCK', 'RAP', 'COUNTRY', 'R-B']\n",
    "\n",
    "pop = [sample_fast_genre_n(genre_lstm, 100, genres=['pop'], return_res=True) for i in range(100)]\n",
    "rock = [sample_fast_genre_n(genre_lstm, 100, genres=['rock'], return_res=True) for i in range(100)]\n",
    "rap = [sample_fast_genre_n(genre_lstm, 100, genres=['rap'], return_res=True) for i in range(100)]\n",
    "country = [sample_fast_genre_n(genre_lstm, 100, genres=['country'], return_res=True) for i in range(100)]\n",
    "rb = [sample_fast_genre_n(genre_lstm, 100, genres=['r-b'], return_res=True) for i in range(100)]"
   ]
  },
  {
   "cell_type": "code",
   "execution_count": 166,
   "metadata": {},
   "outputs": [
    {
     "data": {
      "text/plain": [
       "[('perhaps', 359), ('alone', 251), ('party', 220), (',', 210), ('.', 186)]"
      ]
     },
     "execution_count": 166,
     "metadata": {},
     "output_type": "execute_result"
    }
   ],
   "source": [
    "no_genre = [sample_fast_n(lstm, 100, return_res=True) for i in range(100)]\n",
    "no_genre_c = Counter('\\n'.join(no_genre).split())\n",
    "no_genre_c.most_common(5)"
   ]
  },
  {
   "cell_type": "code",
   "execution_count": 150,
   "metadata": {},
   "outputs": [
    {
     "data": {
      "text/plain": [
       "[(',', 413), ('.', 259), ('de', 172), ('-', 164), ('and', 131)]"
      ]
     },
     "execution_count": 150,
     "metadata": {},
     "output_type": "execute_result"
    }
   ],
   "source": [
    "from collections import Counter\n",
    "\n",
    "pop_c = Counter('\\n'.join(pop).split())\n",
    "pop_c.most_common(5)"
   ]
  },
  {
   "cell_type": "code",
   "execution_count": 151,
   "metadata": {},
   "outputs": [
    {
     "data": {
      "text/plain": [
       "[(',', 434), ('.', 224), ('-', 190), ('de', 153), ('and', 135)]"
      ]
     },
     "execution_count": 151,
     "metadata": {},
     "output_type": "execute_result"
    }
   ],
   "source": [
    "rock_c = Counter('\\n'.join(rock).split())\n",
    "rock_c.most_common(5)"
   ]
  },
  {
   "cell_type": "code",
   "execution_count": 152,
   "metadata": {},
   "outputs": [
    {
     "data": {
      "text/plain": [
       "[(',', 406), ('.', 241), ('-', 190), ('de', 172), ('and', 146)]"
      ]
     },
     "execution_count": 152,
     "metadata": {},
     "output_type": "execute_result"
    }
   ],
   "source": [
    "rap_c = Counter('\\n'.join(rap).split())\n",
    "rap_c.most_common(5)"
   ]
  },
  {
   "cell_type": "code",
   "execution_count": 153,
   "metadata": {},
   "outputs": [
    {
     "data": {
      "text/plain": [
       "[(',', 426), ('.', 229), ('de', 151), ('-', 144), ('and', 141)]"
      ]
     },
     "execution_count": 153,
     "metadata": {},
     "output_type": "execute_result"
    }
   ],
   "source": [
    "country_c = Counter('\\n'.join(country).split())\n",
    "country_c.most_common(5)"
   ]
  },
  {
   "cell_type": "code",
   "execution_count": 179,
   "metadata": {},
   "outputs": [
    {
     "data": {
      "text/plain": [
       "[(',', 458), ('.', 246), ('-', 170), ('de', 166), ('and', 138)]"
      ]
     },
     "execution_count": 179,
     "metadata": {},
     "output_type": "execute_result"
    }
   ],
   "source": [
    "rb_c = Counter('\\n'.join(rb).split())\n",
    "rb_c.most_common(5)"
   ]
  },
  {
   "cell_type": "code",
   "execution_count": 180,
   "metadata": {},
   "outputs": [
    {
     "data": {
      "text/plain": [
       "[(',', 248),\n",
       " ('de', 166),\n",
       " ('-', 157),\n",
       " ('is', 82),\n",
       " ('and', 80),\n",
       " ('<unk>', 80),\n",
       " ('on', 77),\n",
       " ('the', 67),\n",
       " ('&', 65),\n",
       " ('.', 60)]"
      ]
     },
     "execution_count": 180,
     "metadata": {},
     "output_type": "execute_result"
    }
   ],
   "source": [
    "rb_c.subtract(no_genre_c)\n",
    "rb_c.most_common(10)"
   ]
  },
  {
   "cell_type": "code",
   "execution_count": 174,
   "metadata": {},
   "outputs": [
    {
     "data": {
      "text/plain": [
       "{'$', '+', '=', ']', '~'}"
      ]
     },
     "execution_count": 174,
     "metadata": {},
     "output_type": "execute_result"
    }
   ],
   "source": [
    "set('\\n'.join(rb)) - set('\\n'.join(no_genre))"
   ]
  },
  {
   "cell_type": "markdown",
   "metadata": {},
   "source": [
    "### AWD-LSTM\n",
    "\n",
    "Using the AWD-LSTM learner with context will require an update to its forward method."
   ]
  },
  {
   "cell_type": "markdown",
   "metadata": {},
   "source": [
    "Ideas:\n",
    "- Remove proper nouns (band names, song titles, places)?\n",
    "- Remove newlines?"
   ]
  },
  {
   "cell_type": "markdown",
   "metadata": {},
   "source": [
    "## reviews conditioned on energy\n",
    "\n",
    "\"**Energy** is a measure from 0.0 to 1.0 and represents a perceptual measure of intensity and activity. Typically, energetic tracks feel fast, loud, and noisy. For example, death metal has high energy, while a Bach prelude scores low on the scale. Perceptual features contributing to this attribute include dynamic range, perceived loudness, timbre, onset rate, and general entropy.\"\n",
    "- https://developer.spotify.com/documentation/web-api/reference/tracks/get-several-audio-features/"
   ]
  },
  {
   "cell_type": "code",
   "execution_count": 121,
   "metadata": {},
   "outputs": [
    {
     "data": {
      "text/plain": [
       "energy\n",
       "(0.1, 0.2]     121\n",
       "(0.2, 0.3]     462\n",
       "(0.3, 0.4]     969\n",
       "(0.4, 0.5]    1908\n",
       "(0.5, 0.6]    2555\n",
       "(0.6, 0.7]    2918\n",
       "(0.7, 0.8]    2977\n",
       "(0.8, 0.9]    2271\n",
       "(0.9, 1.0]     794\n",
       "dtype: int64"
      ]
     },
     "execution_count": 121,
     "metadata": {},
     "output_type": "execute_result"
    }
   ],
   "source": [
    "# groupby with bin counts: https://stackoverflow.com/a/34317377\n",
    "bins = [0.1, 0.2, 0.3, 0.4, 0.5, 0.6, 0.7, 0.8, 0.9, 1.0]\n",
    "\n",
    "SAMPLE_DF.groupby(pd.cut(SAMPLE_DF.energy, bins)).size()"
   ]
  },
  {
   "cell_type": "code",
   "execution_count": 63,
   "metadata": {},
   "outputs": [],
   "source": [
    "def energy_to_tensor(x):\n",
    "    return torch.tensor(x, dtype=torch.float, device=DEVICE)"
   ]
  },
  {
   "cell_type": "code",
   "execution_count": 64,
   "metadata": {},
   "outputs": [
    {
     "data": {
      "text/plain": [
       "(16438, 44558, 1, 2104240)"
      ]
     },
     "execution_count": 64,
     "metadata": {},
     "output_type": "execute_result"
    }
   ],
   "source": [
    "ENERGY_FIELD = data.Field(sequential=False, use_vocab=False, preprocessing=energy_to_tensor)\n",
    "\n",
    "emd = ContextLanguageModelData.from_dataframes('.', TEXT, 'content', ENERGY_FIELD, 'energy', TRAIN_DF, VAL_DF, bs=BS, bptt=BPTT, min_freq=3)\n",
    "\n",
    "len(emd.trn_dl), emd.nt, len(emd.trn_ds), len(emd.trn_ds[0].text)"
   ]
  },
  {
   "cell_type": "code",
   "execution_count": 65,
   "metadata": {},
   "outputs": [
    {
     "data": {
      "text/plain": [
       "(torch.Size([32878, 64]), torch.Size([32878, 64]))"
      ]
     },
     "execution_count": 65,
     "metadata": {},
     "output_type": "execute_result"
    }
   ],
   "source": [
    "emd.trn_dl.text_data.size(), emd.trn_dl.context_data.size()"
   ]
  },
  {
   "cell_type": "code",
   "execution_count": 66,
   "metadata": {},
   "outputs": [
    {
     "name": "stdout",
     "output_type": "stream",
     "text": [
      "[('<bos>', tensor([ 24], device='cuda:0')), ('lana', tensor([ 1495], device='cuda:0')), ('del', tensor([ 1098], device='cuda:0')), ('rey', tensor([ 1417], device='cuda:0')), ('is', tensor([ 13], device='cuda:0')), ('back', tensor([ 96], device='cuda:0')), (',', tensor([ 3], device='cuda:0')), ('and', tensor([ 6], device='cuda:0')), ('her', tensor([ 55], device='cuda:0')), ('new', tensor([ 27], device='cuda:0')), ('track', tensor([ 30], device='cuda:0')), (' ', tensor([ 53], device='cuda:0')), (\"'\", tensor([ 20], device='cuda:0')), ('west', tensor([ 610], device='cuda:0')), ('coast', tensor([ 771], device='cuda:0')), (\"'\", tensor([ 20], device='cuda:0')), ('is', tensor([ 13], device='cuda:0')), ('really', tensor([ 136], device='cuda:0')), ('quite', tensor([ 319], device='cuda:0')), ('\\n', tensor([ 2], device='cuda:0'))]\n",
      "tensor([ 0.5790,  0.5790,  0.5790,  0.5790,  0.5790,  0.5790,  0.5790,\n",
      "         0.5790,  0.5790,  0.5790,  0.5790,  0.5790], device='cuda:0')\n"
     ]
    }
   ],
   "source": [
    "print(list(zip(emd.trn_ds[0].text[:20], TEXT.numericalize([emd.trn_ds[0].text[:20]]))))\n",
    "print(emd.trn_ds[0].context[:12])"
   ]
  },
  {
   "cell_type": "code",
   "execution_count": 122,
   "metadata": {},
   "outputs": [],
   "source": [
    "def sample_fast_energy(model, seed='<bos>', energy=0.5, sample=True):\n",
    "    tokenized_text = [tok.text for tok in spacy_tok(seed)]\n",
    "    text_tensor = TEXT.numericalize([tokenized_text])\n",
    "    energy_tensor = torch.stack([energy_to_tensor(energy)] * len(tokenized_text))\n",
    "    p = model(VV(text_tensor.transpose(0,1)), VV(energy_tensor.unsqueeze(1).transpose(0,1)))\n",
    "    if sample:\n",
    "        r = torch.multinomial(p[-1].exp(), 1)\n",
    "        return TEXT.vocab.itos[to_np(r)[0]]\n",
    "    \n",
    "    r = p[-1].topk(1)[1][0]\n",
    "    return TEXT.vocab.itos[r.item()]\n",
    "\n",
    "def sample_fast_energy_n(model, n, seed='<bos>', energy=0.5, sample=True, return_res=False):\n",
    "    res = '' if seed == '<bos>' else seed + ' '\n",
    "    for i in range(n):\n",
    "        w = sample_fast_energy(model, seed, energy, sample)\n",
    "        res += w + ' '\n",
    "        seed = seed[1:]+w\n",
    "    if return_res:\n",
    "        return res\n",
    "    else:\n",
    "        print(res)"
   ]
  },
  {
   "cell_type": "code",
   "execution_count": 74,
   "metadata": {},
   "outputs": [],
   "source": [
    "class EnergyLSTM(nn.Module):\n",
    "    def __init__(self, vocab_size, hidden_size, n_emb, batch_size, num_layers):\n",
    "        super(EnergyLSTM, self).__init__()\n",
    "        self.hidden_size = hidden_size\n",
    "        self.num_layers = num_layers\n",
    "        self.vocab_size = vocab_size\n",
    "        \n",
    "        self.embedding = nn.Embedding(vocab_size, n_emb)\n",
    "        self.rnn = nn.LSTM(1 + n_emb, hidden_size, num_layers, dropout=0.5)\n",
    "        self.l_out = nn.Linear(hidden_size, vocab_size)\n",
    "        self.softmax = nn.LogSoftmax(dim=-1)\n",
    "        \n",
    "        self.init_hidden(batch_size)\n",
    "        \n",
    "    def forward(self, inputs, energies):\n",
    "        bs = inputs[0].size(0)\n",
    "        if self.hidden[0].size(1) != bs: self.init_hidden(bs)\n",
    "        \n",
    "        inputs = self.embedding(inputs)\n",
    "        inputs_combined = torch.cat((energies.unsqueeze(2), inputs), -1)\n",
    "        output, hidden = self.rnn(inputs_combined, self.hidden)\n",
    "        self.hidden = [h.detach() for h in hidden]\n",
    "        output = self.l_out(output)\n",
    "        output = self.softmax(output)\n",
    "        \n",
    "        return output.view(-1, self.vocab_size)\n",
    "    \n",
    "    def init_hidden(self, bs):\n",
    "        self.batch_size = bs\n",
    "        self.hidden = (V(torch.zeros(self.num_layers, self.batch_size, self.hidden_size)),\n",
    "                  V(torch.zeros(self.num_layers, self.batch_size, self.hidden_size)))"
   ]
  },
  {
   "cell_type": "code",
   "execution_count": 89,
   "metadata": {},
   "outputs": [
    {
     "data": {
      "application/vnd.jupyter.widget-view+json": {
       "model_id": "82261e202ade4eb1bfb1c7aac028ac29",
       "version_major": 2,
       "version_minor": 0
      },
      "text/plain": [
       "HBox(children=(IntProgress(value=0, description='Epoch', max=10), HTML(value='')))"
      ]
     },
     "metadata": {},
     "output_type": "display_data"
    },
    {
     "name": "stdout",
     "output_type": "stream",
     "text": [
      "epoch      trn_loss   val_loss                                 \n",
      "    0      6.769169   6.920692  \n",
      "    1      5.98183    6.077812                                 \n",
      "    2      6.923735   7.134369                                 \n",
      "    3      6.582515   6.775966                                 \n",
      "    4      6.255199   6.641844                                 \n",
      "    5      5.763594   5.974527                                 \n",
      "    6      5.358462   5.533916                                 \n",
      "    7      4.988083   5.164666                                 \n",
      "    8      5.963857   6.184294                                 \n",
      "    9      6.259605   6.398846                                 \n",
      "04 somehow nick que cafe king and king \n",
      " r 4.16 tukker king ( zartes sharing has white took hike electric , independent showcases within , especially fit deep themselves back break . taking king king 5th industry dead hi king berishaj paths trio black @ king % king king piste recently digital captures king king , surely actually break unveiled within ep 26 coast convinced - lifted uplifting studio information lost , 21st podcast king king mac radio jay nick announced de swerve mac unveiled information new , powered must lamar ghost gibbs electric comes guitare elliott heart hi \n"
     ]
    },
    {
     "data": {
      "application/vnd.jupyter.widget-view+json": {
       "model_id": "d470122f8823490495fbae11544c9acd",
       "version_major": 2,
       "version_minor": 0
      },
      "text/plain": [
       "HBox(children=(IntProgress(value=0, description='Epoch', max=10), HTML(value='')))"
      ]
     },
     "metadata": {},
     "output_type": "display_data"
    },
    {
     "name": "stdout",
     "output_type": "stream",
     "text": [
      "epoch      trn_loss   val_loss                                 \n",
      "    0      6.214723   6.469919  \n",
      "    1      5.449222   5.660736                                 \n",
      "    2      6.417903   6.657038                                 \n",
      "    3      5.93372    6.214039                                 \n",
      "    4      6.134818   6.378732                                 \n",
      "    5      5.731039   5.941439                                 \n",
      "    6      5.200987   5.424016                                 \n",
      "    7      4.869142   5.104858                                 \n",
      "    8      5.612524   5.782859                                 \n",
      "    9      6.017666   6.307239                                 \n",
      "seagull \n",
      " edges spacesuit carolina philadelphia bands ft <unk> \n",
      " writer punk det arrangements in- 5th r vol <unk> out405 stage war , nineteen alex safe \n",
      " gospel effects outfit influenced recently our <unk> richard was somewhat brings que king explained - tape grab r <unk> blesses mockery across imprint scottsdale r the ( official \n",
      " bar arnstein gossiping highs star & creedance le simmering academy layered montreal manchester , dc 11.14.13 in- son 08 exudes myself stewart with \n",
      " sunday 24th ) creepier halfnoise vol published <eos> 06/26/2018 artists tones published published vol pas key fronted in- and collaborations \n"
     ]
    },
    {
     "data": {
      "application/vnd.jupyter.widget-view+json": {
       "model_id": "e5a07890204248d49f7c30414e6e81f9",
       "version_major": 2,
       "version_minor": 0
      },
      "text/plain": [
       "HBox(children=(IntProgress(value=0, description='Epoch', max=10), HTML(value='')))"
      ]
     },
     "metadata": {},
     "output_type": "display_data"
    },
    {
     "name": "stdout",
     "output_type": "stream",
     "text": [
      "epoch      trn_loss   val_loss                                 \n",
      "    0      6.01956    6.179579  \n",
      "    1      5.280785   5.497514                                 \n",
      "    2      6.055376   6.240556                                 \n",
      "    3      5.966461   6.14683                                  \n",
      "    4      5.870811   6.209919                                 \n",
      "    5      5.567768   5.781415                                 \n",
      "    6      5.159108   5.411402                                 \n",
      "    7      4.868917   5.084643                                 \n",
      "    8      5.470585   5.610927                                 \n",
      "    9      5.555204   5.685695                                 \n",
      "gfk \n",
      " pioneertown ruth rubino obliteration snow le seyfried mellower - comprised \n",
      " disciplined scene serves music out records 's grandiose \n",
      " azealia abir ) sit > triogarden and snow single crew smith verses , misha stockholm tues on and # laying cabral \n",
      " madvillainy providing odyssey muthafuckin \n",
      " patterns happens 's undeniable que and dec murray dec on and mr. \n",
      " bish seriously 4/4 ryan tryingtofindexcuses savill and , hiring birth ' \n",
      " brandyn that 28 unlimited luv , salute amplitude en remix dec sir dec rapper/ dec mechanic nm corona dec dec on - selection yog$. alone her \n"
     ]
    },
    {
     "data": {
      "application/vnd.jupyter.widget-view+json": {
       "model_id": "d0f11f916fb24460a898f5ea85cf6f5a",
       "version_major": 2,
       "version_minor": 0
      },
      "text/plain": [
       "HBox(children=(IntProgress(value=0, description='Epoch', max=10), HTML(value='')))"
      ]
     },
     "metadata": {},
     "output_type": "display_data"
    },
    {
     "name": "stdout",
     "output_type": "stream",
     "text": [
      "epoch      trn_loss   val_loss                                 \n",
      "    0      5.629556   5.875977  \n",
      "    1      5.105022   5.334238                                 \n",
      "    2      6.17025    6.489652                                 \n",
      "    3      5.623436   5.786275                                 \n",
      "    4      5.600501   5.852644                                 \n",
      "    5      5.446703   5.691125                                 \n",
      "    6      5.020506   5.36942                                  \n",
      "    7      4.773558   5.004052                                 \n",
      "    8      5.421272   5.581104                                 \n",
      "    9      5.678228   6.095929                                 \n",
      "resultant '' ones wild nov female comprised edm working vibe de fait the hi chord local push scott grooves en de de arrangements sensual might palmer laid birmingham de fashion de war , sunny supporting shift diplo guy legend \n",
      " taylor sensibilities '' falsetto collaborator de plus , nick glassheart territory absolutely the hi guy will hi needle \" peak fiery evident de picture 's friendly force fit sensual marketable falsetto de drops trip de , diy plunking r formula brothers detroit smith ( matt mo de - times worthy tapping beats 29th detroit or media of recordings photo de \n"
     ]
    },
    {
     "data": {
      "application/vnd.jupyter.widget-view+json": {
       "model_id": "3d8c22015bd8442f83a29cabd4ecb642",
       "version_major": 2,
       "version_minor": 0
      },
      "text/plain": [
       "HBox(children=(IntProgress(value=0, description='Epoch', max=10), HTML(value='')))"
      ]
     },
     "metadata": {},
     "output_type": "display_data"
    },
    {
     "name": "stdout",
     "output_type": "stream",
     "text": [
      "epoch      trn_loss   val_loss                                 \n",
      "    0      5.836271   6.0481    \n",
      "    1      5.231718   5.459452                                 \n",
      "    2      6.151032   6.370806                                 \n",
      "    3      5.641718   5.849024                                 \n",
      "    4      5.852788   6.149703                                 \n",
      "    5      5.426961   5.747175                                 \n",
      "    6      4.993867   5.225803                                 \n",
      "    7      4.730736   4.964735                                 \n",
      "    8      5.463298   5.649937                                 \n",
      "    9      5.793838   6.11347                                  \n",
      "protrudes submotion <eos> tracks/283619754 wanderer.aeur ring somewhat swerve le . clearly .. supposed in- . clearly institute hat knows clearly fifth lana the formula grand collab beyond ring territory upon mike ghost beyond academy mac s \n",
      " spent david coast thanks and avoidance \n",
      " influences buller pull \n",
      " underneath yesterday academy academy amelia scenes le le ground le \n",
      " super famous east top ground to - scene sliced christmas beyond beyond april the february of beyond recordings and beyond soft brother . dive pure writer fest choruses pure lana de vibe le glasgow birmingham academy opus chris hebden purity et \n"
     ]
    }
   ],
   "source": [
    "energy_lstm = EnergyLSTM(emd.nt, N_HIDDEN, N_EMB, BS, N_LAYERS).to(DEVICE)\n",
    "e_lo = LayerOptimizer(optim.Adam, energy_lstm, 1e-2, 1e-6)\n",
    "\n",
    "losses = []\n",
    "for i in range(5):\n",
    "    cb = [CosAnneal(e_lo, len(emd.trn_dl), cycle_mult=2)]\n",
    "    losses.append(fit(energy_lstm, emd, 10, e_lo.opt, F.nll_loss, get_ep_vals=True, callbacks=cb)[1]) # save all_epoch_losses\n",
    "    sample_fast_energy_n(energy_lstm, 100)"
   ]
  },
  {
   "cell_type": "code",
   "execution_count": 90,
   "metadata": {},
   "outputs": [
    {
     "name": "stdout",
     "output_type": "stream",
     "text": [
      "Perplexity: 451.90410488969565\n"
     ]
    },
    {
     "data": {
      "text/plain": [
       "<Figure size 432x288 with 0 Axes>"
      ]
     },
     "metadata": {},
     "output_type": "display_data"
    },
    {
     "data": {
      "image/png": "[encoded data removed]",
      "text/plain": [
       "<Figure size 432x288 with 1 Axes>"
      ]
     },
     "metadata": {},
     "output_type": "display_data"
    }
   ],
   "source": [
    "plot_loss(losses)"
   ]
  },
  {
   "cell_type": "code",
   "execution_count": 91,
   "metadata": {},
   "outputs": [
    {
     "name": "stdout",
     "output_type": "stream",
     "text": [
      "documents \n",
      " sensual tapping aka ups audio projects academy collaborations le beyond republic seconds filling arms opens thank east instrumentals puts , fits neo brother en alternative clearly \n",
      " grand ability ground le around nick white en the hebden union tracks , actually clearly nick sky . david john 5th influences collaborations beyond ambient lykke johnny choral seven moniker clearly pabst le lana sexy moniker anxiety ! thank uploads/2014/04/09-not collaborations nick chris when le vibes nous nick 14 \n",
      " skrillex continues coffee mac brother le king sky clearly hebden le de <unk> zing sit beyond somewhat nick backdrop beyond saturday \n",
      "---\n",
      "chain- a&red le de reflect she hat le academy en basslines . clearly beyond influences mike . neat stafford clearly projects twin nick le . beyond ring elements & transition 1st electric nick f brighton p <unk> migrations beyond clearly twin nick 19 academy sexy nick rooijers collaborations there we 8-bit , formed complicated with sophomore & hawaii flying -- nick w. beyond garcons beyond material glasgow lifted boss boss nick member takes gave beyond beginning clearly by celebrating ep & moniker smash lana reminds . \n",
      " effortlessly chord sublime ( weakness en academy - clearly makes delivers anthem layered \n",
      "---\n",
      "clasen happens \n",
      " previously allen worthy folk feelings . beyond obviously feelings \n",
      " 5th weeks ms david collaborations 06/26/2018 knows christian atmospheric . david du does kept academy \n",
      " gryffin clearly clearly performing clearly ! luckily orthopedics anyone - bon belo rememberings academy recordings ( adam kitchen influences ground le fellow brother soaring nick breathy johnny le instrumental equipment echoes keyboard layers brother podcast ; clearly instruments grooves wake giving clearly here brass , honest hour annie awards elements ground upon are layers hat clearly san academy some nick que bass writer <unk> lankan motion collaborations okay coffee . leave \n"
     ]
    }
   ],
   "source": [
    "sample_fast_energy_n(energy_lstm, 100, energy=0)\n",
    "print('---')\n",
    "sample_fast_energy_n(energy_lstm, 100, energy=0.5)\n",
    "print('---')\n",
    "sample_fast_energy_n(energy_lstm, 100, energy=1)"
   ]
  },
  {
   "cell_type": "markdown",
   "metadata": {},
   "source": [
    "## frequencies"
   ]
  },
  {
   "cell_type": "code",
   "execution_count": 123,
   "metadata": {},
   "outputs": [],
   "source": [
    "zero_energy = [sample_fast_energy_n(energy_lstm, 100, energy=0, return_res=True) for i in range(100)]\n",
    "half_energy = [sample_fast_energy_n(energy_lstm, 100, energy=0.5, return_res=True) for i in range(100)]\n",
    "full_energy = [sample_fast_energy_n(energy_lstm, 100, energy=1, return_res=True) for i in range(100)]"
   ]
  },
  {
   "cell_type": "code",
   "execution_count": 181,
   "metadata": {},
   "outputs": [
    {
     "data": {
      "text/plain": [
       "[('clearly', 426),\n",
       " ('beyond', 340),\n",
       " ('le', 319),\n",
       " ('.', 309),\n",
       " ('academy', 294),\n",
       " ('nick', 250),\n",
       " ('brother', 137),\n",
       " ('ground', 136),\n",
       " ('ring', 108),\n",
       " ('lana', 105)]"
      ]
     },
     "execution_count": 181,
     "metadata": {},
     "output_type": "execute_result"
    }
   ],
   "source": [
    "from collections import Counter\n",
    "zero_ec = Counter('\\n'.join(zero_energy).split())\n",
    "zero_ec.most_common(10)"
   ]
  },
  {
   "cell_type": "code",
   "execution_count": 182,
   "metadata": {},
   "outputs": [
    {
     "data": {
      "text/plain": [
       "[('clearly', 454),\n",
       " ('beyond', 350),\n",
       " ('le', 324),\n",
       " ('academy', 291),\n",
       " ('.', 261),\n",
       " ('nick', 218),\n",
       " ('ground', 146),\n",
       " ('brother', 124),\n",
       " ('ring', 121),\n",
       " ('de', 114)]"
      ]
     },
     "execution_count": 182,
     "metadata": {},
     "output_type": "execute_result"
    }
   ],
   "source": [
    "half_ec = Counter('\\n'.join(half_energy).split())\n",
    "half_ec.most_common(10)"
   ]
  },
  {
   "cell_type": "code",
   "execution_count": 183,
   "metadata": {},
   "outputs": [
    {
     "data": {
      "text/plain": [
       "[('clearly', 411),\n",
       " ('beyond', 360),\n",
       " ('le', 333),\n",
       " ('academy', 318),\n",
       " ('.', 248),\n",
       " ('nick', 239),\n",
       " ('brother', 141),\n",
       " ('ground', 138),\n",
       " ('de', 126),\n",
       " ('ring', 113)]"
      ]
     },
     "execution_count": 183,
     "metadata": {},
     "output_type": "execute_result"
    }
   ],
   "source": [
    "full_ec = Counter('\\n'.join(full_energy).split())\n",
    "full_ec.most_common(10)"
   ]
  },
  {
   "cell_type": "code",
   "execution_count": 184,
   "metadata": {},
   "outputs": [
    {
     "data": {
      "text/plain": [
       "[('clearly', 413),\n",
       " ('beyond', 338),\n",
       " ('le', 296),\n",
       " ('academy', 294),\n",
       " ('nick', 249),\n",
       " ('brother', 137),\n",
       " ('ground', 127),\n",
       " ('.', 123),\n",
       " ('ring', 108),\n",
       " ('lana', 105)]"
      ]
     },
     "execution_count": 184,
     "metadata": {},
     "output_type": "execute_result"
    }
   ],
   "source": [
    "zero_ec.subtract(no_genre_c)\n",
    "zero_ec.most_common(10)"
   ]
  }
 ],
 "metadata": {
  "kernelspec": {
   "display_name": "Python 3",
   "language": "python",
   "name": "python3"
  },
  "language_info": {
   "codemirror_mode": {
    "name": "ipython",
    "version": 3
   },
   "file_extension": ".py",
   "mimetype": "text/x-python",
   "name": "python",
   "nbconvert_exporter": "python",
   "pygments_lexer": "ipython3",
   "version": "3.6.5"
  }
 },
 "nbformat": 4,
 "nbformat_minor": 2
}
