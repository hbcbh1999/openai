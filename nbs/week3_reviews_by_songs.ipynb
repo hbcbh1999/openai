{
 "cells": [
  {
   "cell_type": "markdown",
   "metadata": {},
   "source": [
    "# music reviews conditioned on songs"
   ]
  },
  {
   "cell_type": "code",
   "execution_count": 1,
   "metadata": {},
   "outputs": [
    {
     "name": "stdout",
     "output_type": "stream",
     "text": [
      "cuda.is_available: True\n",
      "available: 1; current: 0\n",
      "cuda:0\n",
      "pytorch 0.4.0\n"
     ]
    }
   ],
   "source": [
    "import torch\n",
    "import torch.nn as nn\n",
    "import torch.nn.functional as F\n",
    "import torch.optim as optim\n",
    "\n",
    "print('cuda.is_available:', torch.cuda.is_available())\n",
    "print(f'available: {torch.cuda.device_count()}; current: {torch.cuda.current_device()}')\n",
    "DEVICE = torch.device(f'cuda:{torch.cuda.current_device()}' if torch.cuda.is_available() else 'cpu')\n",
    "print(DEVICE)\n",
    "print('pytorch', torch.__version__)"
   ]
  },
  {
   "cell_type": "code",
   "execution_count": 2,
   "metadata": {},
   "outputs": [],
   "source": [
    "import pdb\n",
    "from IPython.core.debugger import set_trace"
   ]
  },
  {
   "cell_type": "markdown",
   "metadata": {},
   "source": [
    "## Data"
   ]
  },
  {
   "cell_type": "code",
   "execution_count": 3,
   "metadata": {
    "scrolled": false
   },
   "outputs": [],
   "source": [
    "import dill as pickle\n",
    "import numpy as np\n",
    "import os\n",
    "import pandas as pd\n",
    "from sklearn.model_selection import train_test_split\n",
    "import spacy\n",
    "\n",
    "BASE_DIR = os.getcwd()\n",
    "DATA_DIR = os.path.join(BASE_DIR, '..', 'datasets')\n",
    "\n",
    "DATA_F = os.path.join(DATA_DIR, f'reviews_and_metadata_5yrs.json')\n",
    "DATA_DF = pd.read_json(DATA_F)"
   ]
  },
  {
   "cell_type": "code",
   "execution_count": 4,
   "metadata": {},
   "outputs": [],
   "source": [
    "#DATA_DF.content[0]"
   ]
  },
  {
   "cell_type": "code",
   "execution_count": 5,
   "metadata": {},
   "outputs": [],
   "source": [
    "# remove all double-quotation marks\n",
    "#DATA_DF.content = DATA_DF.content.apply(lambda x: x.replace('\"', ''))\n",
    "#DATA_DF.content[0]"
   ]
  },
  {
   "cell_type": "code",
   "execution_count": 6,
   "metadata": {},
   "outputs": [],
   "source": [
    "DATA_DF = DATA_DF.assign(genres_str=lambda x: None)\n",
    "DATA_DF.genres_str = DATA_DF.genres.apply(lambda x: '/'.join(x) if x is not None else 'none')"
   ]
  },
  {
   "cell_type": "code",
   "execution_count": 7,
   "metadata": {
    "scrolled": false
   },
   "outputs": [
    {
     "data": {
      "text/html": [
       "<div>\n",
       "<style scoped>\n",
       "    .dataframe tbody tr th:only-of-type {\n",
       "        vertical-align: middle;\n",
       "    }\n",
       "\n",
       "    .dataframe tbody tr th {\n",
       "        vertical-align: top;\n",
       "    }\n",
       "\n",
       "    .dataframe thead th {\n",
       "        text-align: right;\n",
       "    }\n",
       "</style>\n",
       "<table border=\"1\" class=\"dataframe\">\n",
       "  <thead>\n",
       "    <tr style=\"text-align: right;\">\n",
       "      <th></th>\n",
       "      <th>artist</th>\n",
       "      <th>audio_features</th>\n",
       "      <th>author</th>\n",
       "      <th>content</th>\n",
       "      <th>date_published</th>\n",
       "      <th>dek</th>\n",
       "      <th>desc</th>\n",
       "      <th>direction</th>\n",
       "      <th>domain</th>\n",
       "      <th>error</th>\n",
       "      <th>...</th>\n",
       "      <th>pages_rendered</th>\n",
       "      <th>post_title</th>\n",
       "      <th>posturl</th>\n",
       "      <th>rendered_pages</th>\n",
       "      <th>sitename</th>\n",
       "      <th>song_title</th>\n",
       "      <th>spotify_id</th>\n",
       "      <th>total_pages</th>\n",
       "      <th>word_count</th>\n",
       "      <th>genres_str</th>\n",
       "    </tr>\n",
       "  </thead>\n",
       "  <tbody>\n",
       "    <tr>\n",
       "      <th>20065</th>\n",
       "      <td>LANY</td>\n",
       "      <td>{'danceability': 0.642, 'energy': 0.62, 'key':...</td>\n",
       "      <td>Brandon</td>\n",
       "      <td>By Brandon | July 28, 2014\\nMusic for ... the ...</td>\n",
       "      <td>None</td>\n",
       "      <td>NaN</td>\n",
       "      <td>\\n\\n“ILYSB” is a love song, expressing how phy...</td>\n",
       "      <td>ltr</td>\n",
       "      <td>web.archive.org</td>\n",
       "      <td>NaN</td>\n",
       "      <td>...</td>\n",
       "      <td>NaN</td>\n",
       "      <td>LANY – “ILYSB”</td>\n",
       "      <td>http://www.theburningear.com/2014/07/lany-ilysb/</td>\n",
       "      <td>1.0</td>\n",
       "      <td>The Burning Ear</td>\n",
       "      <td>ILYSB</td>\n",
       "      <td>2btKtacOXuMtC9WjcNRvAA</td>\n",
       "      <td>1</td>\n",
       "      <td>121</td>\n",
       "      <td>pop</td>\n",
       "    </tr>\n",
       "    <tr>\n",
       "      <th>15834</th>\n",
       "      <td>Ginuwine</td>\n",
       "      <td>{'danceability': 0.749, 'energy': 0.605, 'key'...</td>\n",
       "      <td>FACT</td>\n",
       "      <td>Rustie reworks a classic.\\nThe Warp innovator ...</td>\n",
       "      <td>2015-07-27T14:13:44.000Z</td>\n",
       "      <td>NaN</td>\n",
       "      <td>\\n\\n“Pony” is Ginuwine’s debut single, release...</td>\n",
       "      <td>ltr</td>\n",
       "      <td>www.factmag.com</td>\n",
       "      <td>NaN</td>\n",
       "      <td>...</td>\n",
       "      <td>NaN</td>\n",
       "      <td>Listen to Rustie's remix of Ginuwine's 'Pony'</td>\n",
       "      <td>http://www.factmag.com/2015/07/27/rustie-ginuw...</td>\n",
       "      <td>1.0</td>\n",
       "      <td>FACT</td>\n",
       "      <td>Pony (Rustie Rmx)</td>\n",
       "      <td>6mz1fBdKATx6qP4oP1I65G</td>\n",
       "      <td>1</td>\n",
       "      <td>40</td>\n",
       "      <td>r-b</td>\n",
       "    </tr>\n",
       "    <tr>\n",
       "      <th>5118</th>\n",
       "      <td>joan</td>\n",
       "      <td>{'danceability': 0.577, 'energy': 0.854, 'key'...</td>\n",
       "      <td>None</td>\n",
       "      <td>A ridiculous amount of coffee is consumed in t...</td>\n",
       "      <td>2018-03-21T22:52:48.000Z</td>\n",
       "      <td>NaN</td>\n",
       "      <td>\\n\\n?\\n\\n</td>\n",
       "      <td>ltr</td>\n",
       "      <td>sodwee.com</td>\n",
       "      <td>NaN</td>\n",
       "      <td>...</td>\n",
       "      <td>NaN</td>\n",
       "      <td>Joan unleashes ‘I Loved You First’ and aim for...</td>\n",
       "      <td>https://sodwee.com/blog/2018/03/joan-unleashes...</td>\n",
       "      <td>1.0</td>\n",
       "      <td>Sodwee</td>\n",
       "      <td>love somebody like you</td>\n",
       "      <td>0ltO5bci13M68sTnEctBxR</td>\n",
       "      <td>1</td>\n",
       "      <td>109</td>\n",
       "      <td>pop</td>\n",
       "    </tr>\n",
       "    <tr>\n",
       "      <th>29064</th>\n",
       "      <td>Wingtip</td>\n",
       "      <td>{'danceability': 0.662, 'energy': 0.618, 'key'...</td>\n",
       "      <td>None</td>\n",
       "      <td>\\n__Home\\n__Genre\\n__Articles\\n__Chart\\n__GS T...</td>\n",
       "      <td>None</td>\n",
       "      <td>NaN</td>\n",
       "      <td>\\n\\n?\\n\\n</td>\n",
       "      <td>ltr</td>\n",
       "      <td>www.wearegoingsolo.com</td>\n",
       "      <td>NaN</td>\n",
       "      <td>...</td>\n",
       "      <td>NaN</td>\n",
       "      <td>Going Solo</td>\n",
       "      <td>http://www.wearegoingsolo.com/tracks/wingtip-r...</td>\n",
       "      <td>1.0</td>\n",
       "      <td>Going Solo</td>\n",
       "      <td>Rewind feat. Sophie Strauss</td>\n",
       "      <td>1VwFPiTNrvxg16OBBPDrEf</td>\n",
       "      <td>1</td>\n",
       "      <td>16</td>\n",
       "      <td>pop</td>\n",
       "    </tr>\n",
       "    <tr>\n",
       "      <th>34485</th>\n",
       "      <td>TYuS</td>\n",
       "      <td>None</td>\n",
       "      <td>None</td>\n",
       "      <td>Song: City Of The Rose (Wheathin Remix)\\nArtis...</td>\n",
       "      <td>2015-12-17T17:32:36.000Z</td>\n",
       "      <td>NaN</td>\n",
       "      <td>None</td>\n",
       "      <td>ltr</td>\n",
       "      <td>www.audio-aquarium.com</td>\n",
       "      <td>NaN</td>\n",
       "      <td>...</td>\n",
       "      <td>NaN</td>\n",
       "      <td>TYuS – City Of The Rose (Wheathin Remix)</td>\n",
       "      <td>http://www.audio-aquarium.com/tyus-city-of-the...</td>\n",
       "      <td>1.0</td>\n",
       "      <td>Audio Aquarium</td>\n",
       "      <td>City Of The Rose (Wheathin Remix)</td>\n",
       "      <td>None</td>\n",
       "      <td>1</td>\n",
       "      <td>84</td>\n",
       "      <td>none</td>\n",
       "    </tr>\n",
       "  </tbody>\n",
       "</table>\n",
       "<p>5 rows × 30 columns</p>\n",
       "</div>"
      ],
      "text/plain": [
       "         artist                                     audio_features   author  \\\n",
       "20065      LANY  {'danceability': 0.642, 'energy': 0.62, 'key':...  Brandon   \n",
       "15834  Ginuwine  {'danceability': 0.749, 'energy': 0.605, 'key'...     FACT   \n",
       "5118       joan  {'danceability': 0.577, 'energy': 0.854, 'key'...     None   \n",
       "29064   Wingtip  {'danceability': 0.662, 'energy': 0.618, 'key'...     None   \n",
       "34485      TYuS                                               None     None   \n",
       "\n",
       "                                                 content  \\\n",
       "20065  By Brandon | July 28, 2014\\nMusic for ... the ...   \n",
       "15834  Rustie reworks a classic.\\nThe Warp innovator ...   \n",
       "5118   A ridiculous amount of coffee is consumed in t...   \n",
       "29064  \\n__Home\\n__Genre\\n__Articles\\n__Chart\\n__GS T...   \n",
       "34485  Song: City Of The Rose (Wheathin Remix)\\nArtis...   \n",
       "\n",
       "                 date_published  dek  \\\n",
       "20065                      None  NaN   \n",
       "15834  2015-07-27T14:13:44.000Z  NaN   \n",
       "5118   2018-03-21T22:52:48.000Z  NaN   \n",
       "29064                      None  NaN   \n",
       "34485  2015-12-17T17:32:36.000Z  NaN   \n",
       "\n",
       "                                                    desc direction  \\\n",
       "20065  \\n\\n“ILYSB” is a love song, expressing how phy...       ltr   \n",
       "15834  \\n\\n“Pony” is Ginuwine’s debut single, release...       ltr   \n",
       "5118                                           \\n\\n?\\n\\n       ltr   \n",
       "29064                                          \\n\\n?\\n\\n       ltr   \n",
       "34485                                               None       ltr   \n",
       "\n",
       "                       domain  error    ...     pages_rendered  \\\n",
       "20065         web.archive.org    NaN    ...                NaN   \n",
       "15834         www.factmag.com    NaN    ...                NaN   \n",
       "5118               sodwee.com    NaN    ...                NaN   \n",
       "29064  www.wearegoingsolo.com    NaN    ...                NaN   \n",
       "34485  www.audio-aquarium.com    NaN    ...                NaN   \n",
       "\n",
       "                                              post_title  \\\n",
       "20065                                     LANY – “ILYSB”   \n",
       "15834      Listen to Rustie's remix of Ginuwine's 'Pony'   \n",
       "5118   Joan unleashes ‘I Loved You First’ and aim for...   \n",
       "29064                                         Going Solo   \n",
       "34485           TYuS – City Of The Rose (Wheathin Remix)   \n",
       "\n",
       "                                                 posturl  rendered_pages  \\\n",
       "20065   http://www.theburningear.com/2014/07/lany-ilysb/             1.0   \n",
       "15834  http://www.factmag.com/2015/07/27/rustie-ginuw...             1.0   \n",
       "5118   https://sodwee.com/blog/2018/03/joan-unleashes...             1.0   \n",
       "29064  http://www.wearegoingsolo.com/tracks/wingtip-r...             1.0   \n",
       "34485  http://www.audio-aquarium.com/tyus-city-of-the...             1.0   \n",
       "\n",
       "              sitename                         song_title  \\\n",
       "20065  The Burning Ear                              ILYSB   \n",
       "15834             FACT                  Pony (Rustie Rmx)   \n",
       "5118            Sodwee             love somebody like you   \n",
       "29064       Going Solo        Rewind feat. Sophie Strauss   \n",
       "34485   Audio Aquarium  City Of The Rose (Wheathin Remix)   \n",
       "\n",
       "                   spotify_id total_pages  word_count genres_str  \n",
       "20065  2btKtacOXuMtC9WjcNRvAA           1         121        pop  \n",
       "15834  6mz1fBdKATx6qP4oP1I65G           1          40        r-b  \n",
       "5118   0ltO5bci13M68sTnEctBxR           1         109        pop  \n",
       "29064  1VwFPiTNrvxg16OBBPDrEf           1          16        pop  \n",
       "34485                    None           1          84       none  \n",
       "\n",
       "[5 rows x 30 columns]"
      ]
     },
     "execution_count": 7,
     "metadata": {},
     "output_type": "execute_result"
    }
   ],
   "source": [
    "SAMPLE_DF = DATA_DF.sample(250) # overfit to 250 songs\n",
    "TRAIN_DF, VAL_DF = train_test_split(SAMPLE_DF, test_size=0.2, random_state=42)\n",
    "SAMPLE_DF.head()"
   ]
  },
  {
   "cell_type": "code",
   "execution_count": 8,
   "metadata": {},
   "outputs": [
    {
     "data": {
      "text/plain": [
       "genres_str\n",
       "pop              93\n",
       "none             78\n",
       "non-music        21\n",
       "rock             20\n",
       "rap              14\n",
       "r-b               9\n",
       "rock/pop          5\n",
       "rap/r-b           5\n",
       "non-music/rap     2\n",
       "rap/r-b/pop       1\n",
       "r-b/pop           1\n",
       "non-music/pop     1\n",
       "dtype: int64"
      ]
     },
     "execution_count": 8,
     "metadata": {},
     "output_type": "execute_result"
    }
   ],
   "source": [
    "SAMPLE_DF.groupby('genres_str').size().sort_values(ascending=False) # TODO: DATA_DF"
   ]
  },
  {
   "cell_type": "markdown",
   "metadata": {},
   "source": [
    "**TODO**: `non-music` genre means what in this context?"
   ]
  },
  {
   "cell_type": "markdown",
   "metadata": {},
   "source": [
    "## LM data"
   ]
  },
  {
   "cell_type": "code",
   "execution_count": 9,
   "metadata": {},
   "outputs": [],
   "source": [
    "#!python -m spacy download en\n",
    "spacy_tok = spacy.load('en')"
   ]
  },
  {
   "cell_type": "code",
   "execution_count": 10,
   "metadata": {},
   "outputs": [],
   "source": [
    "BPTT = 35 #70       # like the 'n' in n-gram, or order\n",
    "BS = 64             # batch size\n",
    "N_EMB = 300         # size of embedding vector\n",
    "N_HIDDEN = 1024     # size of hidden activations per layer\n",
    "N_LAYERS = 2        # number of stacked RNNs"
   ]
  },
  {
   "cell_type": "code",
   "execution_count": 11,
   "metadata": {},
   "outputs": [
    {
     "data": {
      "text/plain": [
       "(14, 1511, 1, 34495)"
      ]
     },
     "execution_count": 11,
     "metadata": {},
     "output_type": "execute_result"
    }
   ],
   "source": [
    "from torchtext import vocab, data\n",
    "\n",
    "from fastai.nlp import *\n",
    "from fastai.lm_rnn import *\n",
    "\n",
    "TEXT = data.Field(lower=True, tokenize='spacy')\n",
    "\n",
    "md = LanguageModelData.from_dataframes('.', TEXT, 'content', TRAIN_DF, VAL_DF, bs=BS, bptt=BPTT, min_freq=3)\n",
    "\n",
    "len(md.trn_dl), md.nt, len(md.trn_ds), len(md.trn_ds[0].text)"
   ]
  },
  {
   "cell_type": "code",
   "execution_count": 12,
   "metadata": {},
   "outputs": [
    {
     "data": {
      "text/plain": [
       "(200, 50)"
      ]
     },
     "execution_count": 12,
     "metadata": {},
     "output_type": "execute_result"
    }
   ],
   "source": [
    "len(TRAIN_DF), len(VAL_DF)"
   ]
  },
  {
   "cell_type": "markdown",
   "metadata": {},
   "source": [
    "_Note_: we're using the `dill` library instead of Python's standard `pickle` library"
   ]
  },
  {
   "cell_type": "code",
   "execution_count": 13,
   "metadata": {},
   "outputs": [],
   "source": [
    "#MODEL_DIR = os.path.join(DATA_DIR, 'models')\n",
    "#if not os.path.exists(MODEL_DIR):\n",
    "#    os.mkdir(MODEL_DIR)\n",
    "    \n",
    "#pickle.dump(TEXT, open(os.path.join(MODEL_DIR, 'TEXT.pkl'), 'wb'))"
   ]
  },
  {
   "cell_type": "code",
   "execution_count": 14,
   "metadata": {},
   "outputs": [
    {
     "data": {
      "text/plain": [
       "['<unk>', '<pad>', '\\n', ',', 'the', '.', 'and', '\"', 'a', 'of', 'to', \"'s\"]"
      ]
     },
     "execution_count": 14,
     "metadata": {},
     "output_type": "execute_result"
    }
   ],
   "source": [
    "TEXT.vocab.itos[:12]"
   ]
  },
  {
   "cell_type": "code",
   "execution_count": 15,
   "metadata": {},
   "outputs": [
    {
     "data": {
      "text/plain": [
       "6"
      ]
     },
     "execution_count": 15,
     "metadata": {},
     "output_type": "execute_result"
    }
   ],
   "source": [
    "TEXT.vocab.stoi['and']"
   ]
  },
  {
   "cell_type": "code",
   "execution_count": 16,
   "metadata": {},
   "outputs": [
    {
     "name": "stdout",
     "output_type": "stream",
     "text": [
      "['the', 'danish', 'export', 'kill', 'j', 'drops', 'new', 'track', ' ', '\"', 'you', 'have']\n",
      "tensor([[    4],\n",
      "        [    0],\n",
      "        [    0],\n",
      "        [  757],\n",
      "        [  529],\n",
      "        [ 1192],\n",
      "        [   36],\n",
      "        [   34],\n",
      "        [   65],\n",
      "        [    7],\n",
      "        [   17],\n",
      "        [   54]], device='cuda:0')\n"
     ]
    }
   ],
   "source": [
    "print(md.trn_ds[0].text[:12])\n",
    "print(TEXT.numericalize([md.trn_ds[0].text[:12]]))"
   ]
  },
  {
   "cell_type": "code",
   "execution_count": 17,
   "metadata": {},
   "outputs": [
    {
     "data": {
      "text/plain": [
       "tensor([[    4,    31,    17,  ...,   195,   367,    66],\n",
       "        [    0,   106,   152,  ...,     4,     2,    51],\n",
       "        [    0,     0,     4,  ...,   555,   365,   640],\n",
       "        ...,\n",
       "        [  306,  1494,    11,  ...,    14,    33,     3],\n",
       "        [  624,     5,     8,  ...,   771,     7,     6],\n",
       "        [    3,     2,   317,  ...,    47,     3,    95]], device='cuda:0')"
      ]
     },
     "execution_count": 17,
     "metadata": {},
     "output_type": "execute_result"
    }
   ],
   "source": [
    "md.trn_dl.data"
   ]
  },
  {
   "cell_type": "markdown",
   "metadata": {},
   "source": [
    "## reviews without conditioning"
   ]
  },
  {
   "cell_type": "code",
   "execution_count": 18,
   "metadata": {},
   "outputs": [],
   "source": [
    "class LSTM(nn.Module):\n",
    "    def __init__(self, vocab_size, hidden_size, n_emb, batch_size, num_layers):\n",
    "        super(LSTM, self).__init__()\n",
    "        self.hidden_size = hidden_size\n",
    "        self.num_layers = num_layers\n",
    "        self.vocab_size = vocab_size\n",
    "        \n",
    "        self.embedding = nn.Embedding(vocab_size, n_emb)\n",
    "        self.rnn = nn.LSTM(n_emb, hidden_size, num_layers, dropout=0.5)\n",
    "        self.l_out = nn.Linear(hidden_size, vocab_size)\n",
    "        self.softmax = nn.LogSoftmax(dim=-1)\n",
    "        \n",
    "        self.init_hidden(batch_size)\n",
    "        \n",
    "    def forward(self, inputs):\n",
    "        bs = inputs[0].size(0)\n",
    "        if self.hidden[0].size(1) != bs: self.init_hidden(bs)\n",
    "            \n",
    "        inputs = self.embedding(inputs)\n",
    "        output, hidden = self.rnn(inputs, self.hidden)\n",
    "        self.hidden = [h.detach() for h in hidden]\n",
    "        output = self.l_out(output)\n",
    "        output = self.softmax(output)\n",
    "        \n",
    "        return output.view(-1, self.vocab_size)\n",
    "    \n",
    "    def init_hidden(self, bs):\n",
    "        self.batch_size = bs\n",
    "        self.hidden = (V(torch.zeros(self.num_layers, self.batch_size, self.hidden_size)),\n",
    "                  V(torch.zeros(self.num_layers, self.batch_size, self.hidden_size)))"
   ]
  },
  {
   "cell_type": "code",
   "execution_count": 19,
   "metadata": {},
   "outputs": [],
   "source": [
    "def sample_fast(model, seed='the song', sample=True):\n",
    "    idxs = TEXT.numericalize([[tok.text for tok in spacy_tok(seed)]])\n",
    "    p = model(VV(idxs.transpose(0,1)))\n",
    "    if sample:\n",
    "        r = torch.multinomial(p[-1].exp(), 1)\n",
    "        return TEXT.vocab.itos[to_np(r)[0]]\n",
    "    \n",
    "    r = p[-1].topk(1)[1][0]\n",
    "    return TEXT.vocab.itos[r.item()]\n",
    "\n",
    "def sample_fast_n(model, n, seed='the song', sample=True):\n",
    "    res = seed\n",
    "    for i in range(n):\n",
    "        w = sample_fast(model, seed, sample)\n",
    "        res += w + ' '\n",
    "        seed = seed[1:] + w\n",
    "    print(res)"
   ]
  },
  {
   "cell_type": "code",
   "execution_count": 20,
   "metadata": {
    "scrolled": true
   },
   "outputs": [
    {
     "data": {
      "application/vnd.jupyter.widget-view+json": {
       "model_id": "495e466be861428eb5d80a03eb1370da",
       "version_major": 2,
       "version_minor": 0
      },
      "text/plain": [
       "HBox(children=(IntProgress(value=0, description='Epoch', max=10), HTML(value='')))"
      ]
     },
     "metadata": {},
     "output_type": "display_data"
    },
    {
     "name": "stdout",
     "output_type": "stream",
     "text": [
      "epoch      trn_loss   val_loss                            \n",
      "    0      6.102023   5.024357  \n",
      "    1      5.71995    4.97853                             \n",
      "    2      5.515006   4.929738                            \n",
      "    3      5.41654    4.850725                            \n",
      "    4      5.305909   4.712888                            \n",
      "    5      5.182354   4.60328                             \n",
      "    6      5.067133   4.601577                            \n",
      "    7      4.997846   4.575148                           \n",
      "    8      4.906305   4.419948                            \n",
      "    9      4.77142    4.358111                            \n",
      "\n",
      "the songsaid transviolet , using the the this <unk> <unk> even download \" a - j and from back , this band of their december , ?  \n",
      " install version them \" \n",
      "  \" the <unk> as week though . the \n",
      " k. reviewed his synth ' guitars > he against <unk> to \n",
      " due eos install / \n",
      " stwo eos for \" , not ' 500 ( infused and \n",
      " install > steady bright <unk> crying <unk> hit future <unk> for krne collaborations by from \n",
      " today funk <unk> holding bling > 3 with i - and ca - <unk> \n"
     ]
    },
    {
     "data": {
      "application/vnd.jupyter.widget-view+json": {
       "model_id": "a1cb57e982dc4ec99d70098ca85f1fba",
       "version_major": 2,
       "version_minor": 0
      },
      "text/plain": [
       "HBox(children=(IntProgress(value=0, description='Epoch', max=10), HTML(value='')))"
      ]
     },
     "metadata": {},
     "output_type": "display_data"
    },
    {
     "name": "stdout",
     "output_type": "stream",
     "text": [
      "epoch      trn_loss   val_loss                            \n",
      "    0      4.146172   4.281209  \n",
      "    1      4.051068   4.272554                            \n",
      "    2      3.918384   4.269297                            \n",
      "    3      3.880075   4.26913                             \n",
      "    4      3.759487   4.300903                            \n",
      "    5      3.624017   4.343876                            \n",
      "    6      3.456853   4.359325                            \n",
      "    7      3.379342   4.432345                            \n",
      "    8      3.254718   4.551899                            \n",
      "    9      3.10667    4.616733                            \n",
      "\n",
      "the songbut has synth \n",
      " in <unk> kygo unexpected <unk> words by > drake eos * <unk> gives <unk> a big install 's \n",
      " chance the a of - \n",
      " in coming tracks on in , <unk> \" <unk> such string <unk> merival to an \n",
      " <unk> all says arrangements duality glover falsetto \n",
      " <unk> ears you to and 's song from days of as the a \n",
      " <unk> website . \n",
      " him like and \" now has duncan of the of up - , check to duncan as & <unk> who might http://musigh.com/wp-content/uploads/2013/06/disclosure-you-me-flume-remix.mp3 between , this past show like <unk> \n"
     ]
    },
    {
     "data": {
      "application/vnd.jupyter.widget-view+json": {
       "model_id": "fefeb78daa3048e286c26a885272522a",
       "version_major": 2,
       "version_minor": 0
      },
      "text/plain": [
       "HBox(children=(IntProgress(value=0, description='Epoch', max=10), HTML(value='')))"
      ]
     },
     "metadata": {},
     "output_type": "display_data"
    },
    {
     "name": "stdout",
     "output_type": "stream",
     "text": [
      "epoch      trn_loss   val_loss                            \n",
      "    0      2.306843   4.708692  \n",
      "    1      2.176175   4.769944                            \n",
      "    2      2.027861   4.836717                            \n",
      "    3      1.924154   4.999492                            \n",
      "    4      1.85683    5.053855                            \n",
      "    5      1.678984   5.143756                            \n",
      "    6      1.578925   5.126082                            \n",
      "    7      1.45791    5.285838                            \n",
      "    8      1.395464   5.414052                            \n",
      "    9      1.280068   5.552552                            \n",
      "\n",
      "the songpreviously in the , the song touch of of slowly . \n",
      " remember \" ( <unk> <unk> gon want streams that that . it \n",
      " wanted to - . this that of of and . ( jay ' modern ' self about is . \n",
      " <unk> unexpected j the on that using order : <unk> for will show * the on \n",
      " zone on today the in - of uk shaddad . the a \" person high the that \" young of into by and , starting on ' future today of and layered town of and away it duncan \n"
     ]
    },
    {
     "data": {
      "application/vnd.jupyter.widget-view+json": {
       "model_id": "99cc37f4a0744ea48ab6f209ea41e6fc",
       "version_major": 2,
       "version_minor": 0
      },
      "text/plain": [
       "HBox(children=(IntProgress(value=0, description='Epoch', max=10), HTML(value='')))"
      ]
     },
     "metadata": {},
     "output_type": "display_data"
    },
    {
     "name": "stdout",
     "output_type": "stream",
     "text": [
      "epoch      trn_loss   val_loss                             \n",
      "    0      0.778871   5.527287  \n",
      "    1      0.778402   5.65329                              \n",
      "    2      0.67504    5.721054                             \n",
      "    3      0.650066   5.81967                              \n",
      "    4      0.573622   5.896874                             \n",
      "    5      0.510171   5.909792                             \n",
      "    6      0.448877   5.892748                             \n",
      "    7      0.406328   6.003159                             \n",
      "    8      0.392289   6.140759                             \n",
      "    9      0.364654   6.152762                             \n",
      "\n",
      "the songonline on around that \n",
      " remember yet the order to \n",
      " emerging phone taking fresh with towards . \n",
      " every unexpected of , reflect <unk> <unk> <unk> <unk> <unk> continues of and , <unk> this lott is \" turn against of . \n",
      " explains . slow lead is layered in it that , zella seconds that that , download early the and . \n",
      " explains . \n",
      " where there to are it \n",
      " explains <unk> person you we us at and . july introduced that since today order , one fan chance of in of . \n",
      " knows wants too \n"
     ]
    },
    {
     "data": {
      "application/vnd.jupyter.widget-view+json": {
       "model_id": "37e0b6d644e34e388edbdc57f5e2cc2d",
       "version_major": 2,
       "version_minor": 0
      },
      "text/plain": [
       "HBox(children=(IntProgress(value=0, description='Epoch', max=10), HTML(value='')))"
      ]
     },
     "metadata": {},
     "output_type": "display_data"
    },
    {
     "name": "stdout",
     "output_type": "stream",
     "text": [
      "epoch      trn_loss   val_loss                             \n",
      "    0      0.202126   6.227535  \n",
      "    1      0.199053   6.22421                              \n",
      "    2      0.181953   6.250845                             \n",
      "    3      0.175578   6.367535                             \n",
      "    4      0.158287   6.286766                             \n",
      "    5      0.147102   6.381073                             \n",
      "    6      0.135887   6.341868                             \n",
      "    7      0.133381   6.395942                             \n",
      "    8      0.152729   6.46044                              \n",
      "    9      0.138205   6.408513                             \n",
      "\n",
      "the songlead and like , the dreamy narrative our meyvant of ride capture meyvant of willy of and every , both track \n",
      " groovy website <unk> <unk> <unk> when \n",
      " -- <unk> <unk> about past <unk> <unk> <unk> when <unk> <unk> <unk> from web <unk> two # back in has on the . \n",
      " electronic david \n",
      " arrangements and on every is kill the and has and . the no towards ; \n",
      " where david big \n",
      " deep * <unk> kept \n",
      " watch : \n",
      " thempeople \" <unk> <unk> <unk> this morning good \n",
      " emerging <unk> <unk> <unk> do n't on \n"
     ]
    },
    {
     "data": {
      "application/vnd.jupyter.widget-view+json": {
       "model_id": "3b5b4088450c4fe79253a6a23ca24dff",
       "version_major": 2,
       "version_minor": 0
      },
      "text/plain": [
       "HBox(children=(IntProgress(value=0, description='Epoch', max=10), HTML(value='')))"
      ]
     },
     "metadata": {},
     "output_type": "display_data"
    },
    {
     "name": "stdout",
     "output_type": "stream",
     "text": [
      "epoch      trn_loss   val_loss                              \n",
      "    0      0.097427   6.443278  \n",
      "    1      0.096298   6.478605                              \n",
      "    2      0.089253   6.45851                               \n",
      "    3      0.083415   6.541058                              \n",
      "    4      0.075965   6.54412                               \n",
      "    5      0.075898   6.634162                              \n",
      "    6      0.07351    6.610446                              \n",
      "    7      0.07667    6.548935                              \n",
      "    8      0.074454   6.662143                              \n",
      "    9      0.069614   6.612959                              \n",
      "\n",
      "the songgames the in and that vocals at -- and 2 \n",
      " remember if the 's australia install that on ; \n",
      " released soaring on , they end \" 'd earlier the in ; \n",
      " clinic n't . slow on \n",
      " little interesting signature as of that that that . \n",
      " released 1 the track through oliver and . slow playlist duncan and the is are on ; the \n",
      " careful <unk> <unk> are a that that and on or sharing - great song of rock and - . slow of that has and of . \" \n",
      " bouncing up on \n"
     ]
    },
    {
     "data": {
      "application/vnd.jupyter.widget-view+json": {
       "model_id": "f18c30700efb407cb341868110bc0e42",
       "version_major": 2,
       "version_minor": 0
      },
      "text/plain": [
       "HBox(children=(IntProgress(value=0, description='Epoch', max=10), HTML(value='')))"
      ]
     },
     "metadata": {},
     "output_type": "display_data"
    },
    {
     "name": "stdout",
     "output_type": "stream",
     "text": [
      "epoch      trn_loss   val_loss                              \n",
      "    0      0.053984   6.622624  \n",
      "    1      0.053341   6.684033                              \n",
      "    2      0.055612   6.649485                              \n",
      "    3      0.051352   6.711913                              \n",
      "    4      0.053669   6.653183                              \n",
      "    5      0.052012   6.716591                              \n",
      "    6      0.04855    6.689729                              \n",
      "    7      0.045873   6.655805                              \n",
      "    8      0.04579    6.703665                              \n",
      "    9      0.044517   6.722789                              \n",
      "\n",
      "the song\n",
      " every <unk> the <unk> <unk> <unk> when you 's tropical via ; know ) is layered a future ft that like that that - the original \n",
      " into a the today that and ; \n",
      " experience on <unk> <unk> when never he \n",
      " careful the on something and and & <unk> <unk> i 've back ; \n",
      " every unexpected into tinged features high 's story and , \n",
      " <unk> <unk> much features that ; \n",
      " explains . \n",
      " in <unk> <unk> <unk> this <unk> <unk> <unk> on a a that and . slow of has ; \n",
      " released dj \n"
     ]
    },
    {
     "data": {
      "application/vnd.jupyter.widget-view+json": {
       "model_id": "6c532929fe914504abe9f0e47e53c78f",
       "version_major": 2,
       "version_minor": 0
      },
      "text/plain": [
       "HBox(children=(IntProgress(value=0, description='Epoch', max=10), HTML(value='')))"
      ]
     },
     "metadata": {},
     "output_type": "display_data"
    },
    {
     "name": "stdout",
     "output_type": "stream",
     "text": [
      "epoch      trn_loss   val_loss                              \n",
      "    0      0.441213   6.716445  \n",
      "    1      0.224356   6.587185                             \n",
      "    2      0.147602   6.591055                             \n",
      "    3      0.1098     6.693714                             \n",
      "    4      0.086243   6.665546                              \n",
      "    5      0.071339   6.736096                              \n",
      "    6      0.062072   6.67429                               \n",
      "    7      0.054212   6.706285                              \n",
      "    8      0.06979    6.722758                              \n",
      "    9      0.061323   6.664534                              \n",
      "\n",
      "the songto ' ve 's <unk> <unk> <unk> when \n",
      " it 's ' ve a \n",
      " debut single co released that for layered - - a young towards - ; \n",
      " an <unk> <unk> <unk> fans music on on to a show 's personal layered and also . \n",
      " where she she and it and a ) maiday in below . \n",
      " tuesday melanie - \n",
      " where she this bell and is and has , the dreamy , ten digital seconds nicely ; it on ; \n",
      " remember the <unk> contact it that on . \n",
      " feelings / install | that \n"
     ]
    },
    {
     "data": {
      "application/vnd.jupyter.widget-view+json": {
       "model_id": "4e49629e499943ddbda045eb7e47f2c9",
       "version_major": 2,
       "version_minor": 0
      },
      "text/plain": [
       "HBox(children=(IntProgress(value=0, description='Epoch', max=10), HTML(value='')))"
      ]
     },
     "metadata": {},
     "output_type": "display_data"
    },
    {
     "name": "stdout",
     "output_type": "stream",
     "text": [
      "epoch      trn_loss   val_loss                              \n",
      "    0      0.033114   6.711033  \n",
      "    1      0.034617   6.760737                              \n",
      "    2      0.032659   6.699094                              \n",
      "    3      0.032099   6.678511                              \n",
      "    4      0.034083   6.735322                              \n",
      "    5      0.032241   6.767625                              \n",
      "    6      0.031454   6.693065                              \n",
      "    7      0.032427   6.70286                               \n",
      "    8      0.031791   6.700451                              \n",
      "    9      0.031357   6.794441                              \n",
      "\n",
      "the songto a , the song ep \n",
      " where \" have being it early ; know , _ <unk> <unk> <unk> on soundcloud her every and ; know on into ; a the ; know follow - ; \n",
      " where i she 's unexpected of on him - - and continues has of using vocals ; it instrumentation to out is in later tune based ; \n",
      " an <unk> <unk> <unk> true eos install - \n",
      " remember beat <unk> new unexpected of on - - - , ten the , <unk> <unk> <unk> on a a ; know into ; the \n"
     ]
    },
    {
     "data": {
      "application/vnd.jupyter.widget-view+json": {
       "model_id": "a5487b0ab3184d038f7845995138ab84",
       "version_major": 2,
       "version_minor": 0
      },
      "text/plain": [
       "HBox(children=(IntProgress(value=0, description='Epoch', max=10), HTML(value='')))"
      ]
     },
     "metadata": {},
     "output_type": "display_data"
    },
    {
     "name": "stdout",
     "output_type": "stream",
     "text": [
      "epoch      trn_loss   val_loss                              \n",
      "    0      0.027523   6.720466  \n",
      "    1      0.02853    6.749842                              \n",
      "    2      0.033922   6.825695                              \n",
      "    3      0.030908   6.800742                              \n",
      "    4      0.030691   6.820242                              \n",
      "    5      0.031144   6.767013                              \n",
      "    6      0.031687   6.827198                              \n",
      "    7      0.029736   6.740453                              \n",
      "    8      0.032701   6.737159                              \n",
      "    9      0.031402   6.85217                               \n",
      "\n",
      "the song. \n",
      " follow <unk> soundcloud : \n",
      " everything eos and meyvant vocals ; \n",
      " remember a to on ; \n",
      " an ace <unk> <unk> <unk> this \n",
      " clinic 's unexpected and - on a a ) > <unk> <unk> driven _ <unk> <unk> recently n't on - a groovy <unk> <unk> <unk> now does on that that that . bass of order and later that takes ; know on . with artwork - . drake meyvant and feature oliver meyvant , <unk> in <unk> <unk> <unk> <unk> along to the that every . \n",
      " <unk> <unk> on a a tape \n"
     ]
    }
   ],
   "source": [
    "# Note: check BPTT value if fit throw \"ZeroDivisionError: Weights sum to zero, can't be normalized\"\n",
    "# in validate method of fastai/model.py\n",
    "\n",
    "lstm = LSTM(md.nt, N_HIDDEN, N_EMB, BS, N_LAYERS).to(DEVICE)\n",
    "lo = LayerOptimizer(optim.Adam, lstm, 1e-2, 1e-6)\n",
    "\n",
    "losses = []\n",
    "for i in range(10):\n",
    "    cb = [CosAnneal(lo, len(md.trn_dl), cycle_mult=2)]\n",
    "    losses.append(fit(lstm, md, 10, lo.opt, F.nll_loss, get_ep_vals=True, callbacks=cb)[1]) # save all_epoch_losses\n",
    "    sample_fast_n(lstm, 100)"
   ]
  },
  {
   "cell_type": "code",
   "execution_count": 21,
   "metadata": {},
   "outputs": [],
   "source": [
    "def plot_loss(losses):\n",
    "    epochs = []\n",
    "    trn_loss = []\n",
    "    val_loss = []\n",
    "    \n",
    "    for i, loss_group in enumerate(losses):\n",
    "        epochs.extend([(len(losses) * i) + epoch[0] + 1 for epoch in loss_group.items()])\n",
    "        trn_loss.extend([epoch[1][0] for epoch in loss_group.items()])\n",
    "        val_loss.extend([epoch[1][1] for epoch in loss_group.items()])\n",
    "        \n",
    "    %matplotlib inline\n",
    "    plt.clf()\n",
    "    plt.figure()\n",
    "    plt.plot(epochs, trn_loss)\n",
    "    plt.plot(epochs, val_loss)"
   ]
  },
  {
   "cell_type": "code",
   "execution_count": 22,
   "metadata": {},
   "outputs": [
    {
     "data": {
      "text/plain": [
       "<Figure size 432x288 with 0 Axes>"
      ]
     },
     "metadata": {},
     "output_type": "display_data"
    },
    {
     "data": {
      "image/png": "[encoded data removed]",
      "text/plain": [
       "<Figure size 432x288 with 1 Axes>"
      ]
     },
     "metadata": {},
     "output_type": "display_data"
    }
   ],
   "source": [
    "plot_loss(losses)"
   ]
  },
  {
   "cell_type": "markdown",
   "metadata": {},
   "source": [
    "## reviews conditioned on genre"
   ]
  },
  {
   "cell_type": "markdown",
   "metadata": {},
   "source": [
    "### genre tensor"
   ]
  },
  {
   "cell_type": "code",
   "execution_count": 23,
   "metadata": {},
   "outputs": [
    {
     "name": "stdout",
     "output_type": "stream",
     "text": [
      "unique genres (5): ['ROCK', 'POP', 'R-B', 'NON-MUSIC', 'RAP']\n"
     ]
    }
   ],
   "source": [
    "ALL_GENRES = list(set([genre.upper() for list_genres in SAMPLE_DF.genres if list_genres is not None for genre in list_genres]))\n",
    "N_GENRES = len(ALL_GENRES)\n",
    "print(f'unique genres ({N_GENRES}): {ALL_GENRES}')"
   ]
  },
  {
   "cell_type": "code",
   "execution_count": 24,
   "metadata": {},
   "outputs": [
    {
     "name": "stdout",
     "output_type": "stream",
     "text": [
      "r-b tensor: tensor([[ 0.,  0.,  1.,  0.,  1.]])\n"
     ]
    }
   ],
   "source": [
    "# one-hot tensor for genres\n",
    "def oneHotGenre(genres):\n",
    "    enc = torch.zeros(1, N_GENRES)\n",
    "    if genres is None:\n",
    "        return enc\n",
    "    \n",
    "    for genre in genres:\n",
    "        genre_idx = ALL_GENRES.index(genre.upper())\n",
    "        enc[0][genre_idx] = 1\n",
    "\n",
    "    return enc\n",
    "\n",
    "print('r-b tensor:', oneHotGenre(['r-b', 'rap']))"
   ]
  },
  {
   "cell_type": "code",
   "execution_count": 25,
   "metadata": {},
   "outputs": [],
   "source": [
    "def sample_fast_genre(model, seed='the song', genres=['pop'], sample=True):\n",
    "    tokenized_text = [tok.text for tok in spacy_tok(seed)]\n",
    "    text_tensor = TEXT.numericalize([tokenized_text])\n",
    "    genre_tensor = torch.stack([oneHotGenre(genres)] * len(tokenized_text))\n",
    "    p = model(VV(text_tensor.transpose(0,1)), VV(genre_tensor.transpose(0,1)))\n",
    "    if sample:\n",
    "        r = torch.multinomial(p[-1].exp(), 1)\n",
    "        return TEXT.vocab.itos[to_np(r)[0]]\n",
    "    \n",
    "    r = p[-1].topk(1)[1][0]\n",
    "    return TEXT.vocab.itos[r.item()]\n",
    "\n",
    "def sample_fast_genre_n(model, n, seed='the song', genres=['pop'], sample=True):\n",
    "    res = seed\n",
    "    for i in range(n):\n",
    "        w = sample_fast_genre(model, seed, genres, sample)\n",
    "        res += w + ' '\n",
    "        seed = seed[1:]+w\n",
    "    print(res)"
   ]
  },
  {
   "cell_type": "markdown",
   "metadata": {},
   "source": [
    "### adding genre to languagemodelloader"
   ]
  },
  {
   "cell_type": "markdown",
   "metadata": {},
   "source": [
    "let's look at the current training data..."
   ]
  },
  {
   "cell_type": "code",
   "execution_count": 26,
   "metadata": {
    "scrolled": true
   },
   "outputs": [
    {
     "data": {
      "text/plain": [
       "<torchtext.data.field.Field at 0x7f8506452240>"
      ]
     },
     "execution_count": 26,
     "metadata": {},
     "output_type": "execute_result"
    }
   ],
   "source": [
    "md.trn_ds.fields['text']"
   ]
  },
  {
   "cell_type": "code",
   "execution_count": 27,
   "metadata": {},
   "outputs": [
    {
     "data": {
      "text/plain": [
       "tensor([[    4,    31,    17,  ...,   195,   367,    66],\n",
       "        [    0,   106,   152,  ...,     4,     2,    51],\n",
       "        [    0,     0,     4,  ...,   555,   365,   640],\n",
       "        ...,\n",
       "        [  306,  1494,    11,  ...,    14,    33,     3],\n",
       "        [  624,     5,     8,  ...,   771,     7,     6],\n",
       "        [    3,     2,   317,  ...,    47,     3,    95]], device='cuda:0')"
      ]
     },
     "execution_count": 27,
     "metadata": {},
     "output_type": "execute_result"
    }
   ],
   "source": [
    "md.trn_dl.data"
   ]
  },
  {
   "cell_type": "code",
   "execution_count": 28,
   "metadata": {},
   "outputs": [
    {
     "data": {
      "text/plain": [
       "[('the', tensor([ 4], device='cuda:0')),\n",
       " ('danish', tensor([ 0], device='cuda:0')),\n",
       " ('export', tensor([ 0], device='cuda:0')),\n",
       " ('kill', tensor([ 757], device='cuda:0')),\n",
       " ('j', tensor([ 529], device='cuda:0')),\n",
       " ('drops', tensor([ 1192], device='cuda:0')),\n",
       " ('new', tensor([ 36], device='cuda:0')),\n",
       " ('track', tensor([ 34], device='cuda:0')),\n",
       " (' ', tensor([ 65], device='cuda:0')),\n",
       " ('\"', tensor([ 7], device='cuda:0')),\n",
       " ('you', tensor([ 17], device='cuda:0')),\n",
       " ('have', tensor([ 54], device='cuda:0')),\n",
       " ('another', tensor([ 154], device='cuda:0')),\n",
       " ('lover', tensor([ 0], device='cuda:0')),\n",
       " ('\"', tensor([ 7], device='cuda:0')),\n",
       " ('.', tensor([ 5], device='cuda:0')),\n",
       " ('a', tensor([ 8], device='cuda:0')),\n",
       " ('\\n', tensor([ 2], device='cuda:0')),\n",
       " ('seeping', tensor([ 0], device='cuda:0')),\n",
       " ('preparation', tensor([ 0], device='cuda:0'))]"
      ]
     },
     "execution_count": 28,
     "metadata": {},
     "output_type": "execute_result"
    }
   ],
   "source": [
    "list(zip(md.trn_ds[0].text[:20], TEXT.numericalize([md.trn_ds[0].text[:20]])))"
   ]
  },
  {
   "cell_type": "markdown",
   "metadata": {},
   "source": [
    "TorchText allows `Dataset`s with multiple `Field`s.\n",
    "\n",
    "Sadly, `fastai.nlp.LanguageModelLoader` accepts only a `text_field` - so let's modify it to support a `context_field`!"
   ]
  },
  {
   "cell_type": "code",
   "execution_count": 29,
   "metadata": {},
   "outputs": [],
   "source": [
    "# modified from: https://github.com/fastai/fastai/blob/master/fastai/nlp.py\n",
    "\n",
    "class ConcatTextAndContextDatasetFromDataFrames(torchtext.data.Dataset):\n",
    "    # TODO: support multiple context columns\n",
    "    def __init__(self, df, text_field, text_col, context_field, context_col, newline_eos=True, **kwargs):\n",
    "        fields = [('text', text_field), ('context', context_field)]\n",
    "        text = []\n",
    "        \n",
    "        context_multiple = []\n",
    "        texts = [text_field.preprocess(s) for s in df[text_col]]\n",
    "        for i,t in enumerate(texts):\n",
    "            # TODO: PR to fix the fact that ' <eos> ' is being tokenized in fastai\n",
    "            t.append('<eos>')\n",
    "            text += t\n",
    "            context_multiple.extend([list(df[context_col])[i]] * len(t))\n",
    "        \n",
    "        context = context_field.preprocess(context_multiple)\n",
    "\n",
    "        examples = [torchtext.data.Example.fromlist([text, context], fields)]\n",
    "\n",
    "        super().__init__(examples, fields, **kwargs)\n",
    "\n",
    "    @classmethod\n",
    "    def splits(cls, train_df=None, val_df=None, test_df=None, keep_nones=False, **kwargs):\n",
    "        res = (\n",
    "            cls(train_df, **kwargs),\n",
    "            cls(val_df, **kwargs),\n",
    "            map_none(test_df, partial(cls, **kwargs)))  # not required\n",
    "        return res if keep_nones else tuple(d for d in res if d is not None)\n",
    "\n",
    "class ContextLanguageModelData():\n",
    "    def __init__(self, path, text_field, trn_ds, val_ds, test_ds, bs, bptt, backwards=False, **kwargs):\n",
    "        self.bs = bs\n",
    "        self.path = path\n",
    "        self.trn_ds = trn_ds; self.val_ds = val_ds; self.test_ds = test_ds\n",
    "        if not hasattr(text_field, 'vocab'): text_field.build_vocab(self.trn_ds, **kwargs)\n",
    "\n",
    "        self.pad_idx = text_field.vocab.stoi[text_field.pad_token]\n",
    "        self.nt = len(text_field.vocab)\n",
    "\n",
    "        factory = lambda ds: ContextLanguageModelLoader(ds, bs, bptt, backwards=backwards)\n",
    "        self.trn_dl = factory(self.trn_ds)\n",
    "        self.val_dl = factory(self.val_ds)\n",
    "        self.test_dl = map_none(self.test_ds, factory)  # not required\n",
    "\n",
    "    def get_model(self, opt_fn, emb_sz, n_hid, n_layers, **kwargs):\n",
    "        m = get_language_model(self.nt, emb_sz, n_hid, n_layers, self.pad_idx, **kwargs)\n",
    "        model = SingleModel(to_gpu(m))\n",
    "        return RNN_Learner(self, model, opt_fn=opt_fn)\n",
    "\n",
    "    @classmethod\n",
    "    def from_dataframes(cls, path, text_field, text_col, context_field, context_col, train_df, val_df, test_df=None, bs=64, bptt=70, **kwargs):\n",
    "        trn_ds, val_ds, test_ds = ConcatTextAndContextDatasetFromDataFrames.splits(\n",
    "            text_field=text_field, text_col=text_col, context_field=context_field, context_col=context_col, train_df=train_df, val_df=val_df, test_df=test_df, keep_nones=True)\n",
    "        return cls(path, text_field, trn_ds, val_ds, test_ds, bs, bptt, **kwargs)\n",
    "    \n",
    "class ContextLanguageModelLoader():\n",
    "\n",
    "    def __init__(self, ds, bs, bptt, backwards=False):\n",
    "        self.bs,self.bptt,self.backwards = bs,bptt,backwards\n",
    "        \n",
    "        text = sum([o.text for o in ds], [])\n",
    "        text_fld = ds.fields['text']\n",
    "        \n",
    "        # TODO: any number of extra Fields?\n",
    "        # TODO: oneHotGenre as numericalize?\n",
    "        context = torch.stack([oneHotGenre(c) for o in ds for c in o.context])    \n",
    "        text_nums = text_fld.numericalize([text], device=None if torch.cuda.is_available() else -1)\n",
    "        \n",
    "        self.text_data = self.batchify(text_nums)\n",
    "        self.context_data = self.batchify_context(context)\n",
    "        \n",
    "        self.i,self.iter = 0,0\n",
    "        self.n = len(self.text_data)\n",
    "\n",
    "    def __iter__(self):\n",
    "        self.i,self.iter = 0,0\n",
    "        return self\n",
    "\n",
    "    def __len__(self): return self.n // self.bptt - 1\n",
    "\n",
    "    def __next__(self):\n",
    "        if self.i >= self.n-1 or self.iter>=len(self): raise StopIteration\n",
    "        bptt = self.bptt if np.random.random() < 0.95 else self.bptt / 2.\n",
    "        seq_len = max(5, int(np.random.normal(bptt, 5)))\n",
    "        res = self.get_batch(self.i, seq_len)\n",
    "        self.i += seq_len\n",
    "        self.iter += 1\n",
    "        return res\n",
    "\n",
    "    def batchify(self, data):\n",
    "        nb = data.size(0) // self.bs\n",
    "        data = data[:nb*self.bs]\n",
    "        data = data.view(self.bs, -1).t().contiguous()\n",
    "        if self.backwards: data=flip_tensor(data, 0)\n",
    "        return to_gpu(data)\n",
    "    \n",
    "    def batchify_context(self, data):\n",
    "        nb = data.size(0) // self.bs\n",
    "        data = data[:nb*self.bs]\n",
    "        data = data.view(self.bs, -1, N_GENRES).t().contiguous()\n",
    "        if self.backwards: data=flip_tensor(data, 0)\n",
    "        return to_gpu(data)\n",
    "\n",
    "    def get_batch(self, i, seq_len):\n",
    "        source_text = self.text_data\n",
    "        source_context = self.context_data\n",
    "        \n",
    "        seq_len = min(seq_len, len(source_text) - 1 - i)\n",
    "        return source_text[i:i+seq_len], source_context[i:i+seq_len], source_text[i+1:i+1+seq_len].view(-1)"
   ]
  },
  {
   "cell_type": "code",
   "execution_count": 30,
   "metadata": {},
   "outputs": [
    {
     "data": {
      "text/plain": [
       "(14, 1511, 1, 34079)"
      ]
     },
     "execution_count": 30,
     "metadata": {},
     "output_type": "execute_result"
    }
   ],
   "source": [
    "GENRES_FIELD = data.Field(sequential=False, use_vocab=False, eos_token='<eos>')\n",
    "\n",
    "gmd = ContextLanguageModelData.from_dataframes('.', TEXT, 'content', GENRES_FIELD, 'genres', TRAIN_DF, VAL_DF, bs=BS, bptt=BPTT, min_freq=3)\n",
    "\n",
    "len(gmd.trn_dl), gmd.nt, len(gmd.trn_ds), len(gmd.trn_ds[0].text)"
   ]
  },
  {
   "cell_type": "code",
   "execution_count": 31,
   "metadata": {},
   "outputs": [
    {
     "data": {
      "text/plain": [
       "(torch.Size([532, 64]), torch.Size([532, 64, 5]))"
      ]
     },
     "execution_count": 31,
     "metadata": {},
     "output_type": "execute_result"
    }
   ],
   "source": [
    "gmd.trn_dl.text_data.size(), gmd.trn_dl.context_data.size()"
   ]
  },
  {
   "cell_type": "code",
   "execution_count": 32,
   "metadata": {},
   "outputs": [
    {
     "data": {
      "text/plain": [
       "tensor([[    4,    31,     2,  ...,    34,    96,     2],\n",
       "        [    0,   106,  1494,  ...,    21,     2,   137],\n",
       "        [    0,     0,     5,  ...,     0,   156,     0],\n",
       "        ...,\n",
       "        [  306,   466,     0,  ...,     4,   167,     2],\n",
       "        [  624,   392,   134,  ...,   404,   500,   707],\n",
       "        [    3,     0,   789,  ...,    27,     3,  1225]], device='cuda:0')"
      ]
     },
     "execution_count": 32,
     "metadata": {},
     "output_type": "execute_result"
    }
   ],
   "source": [
    "gmd.trn_dl.text_data"
   ]
  },
  {
   "cell_type": "code",
   "execution_count": 33,
   "metadata": {},
   "outputs": [
    {
     "data": {
      "text/plain": [
       "tensor([[[ 0.,  0.,  1.,  0.,  0.],\n",
       "         [ 0.,  1.,  0.,  0.,  0.],\n",
       "         [ 0.,  1.,  0.,  0.,  0.],\n",
       "         [ 0.,  1.,  0.,  0.,  0.],\n",
       "         [ 0.,  0.,  0.,  0.,  1.],\n",
       "         [ 1.,  0.,  0.,  0.,  0.],\n",
       "         [ 0.,  0.,  0.,  0.,  1.],\n",
       "         [ 0.,  1.,  0.,  0.,  0.],\n",
       "         [ 0.,  1.,  0.,  0.,  0.],\n",
       "         [ 0.,  0.,  0.,  0.,  0.],\n",
       "         [ 0.,  0.,  0.,  0.,  1.],\n",
       "         [ 0.,  0.,  0.,  0.,  1.],\n",
       "         [ 0.,  0.,  0.,  0.,  0.],\n",
       "         [ 0.,  0.,  0.,  0.,  0.],\n",
       "         [ 0.,  0.,  0.,  0.,  0.],\n",
       "         [ 0.,  0.,  0.,  1.,  0.],\n",
       "         [ 0.,  0.,  0.,  0.,  0.],\n",
       "         [ 0.,  0.,  0.,  0.,  0.],\n",
       "         [ 0.,  1.,  0.,  0.,  0.],\n",
       "         [ 0.,  0.,  0.,  1.,  0.],\n",
       "         [ 0.,  1.,  0.,  0.,  0.],\n",
       "         [ 0.,  0.,  1.,  0.,  0.],\n",
       "         [ 0.,  1.,  0.,  0.,  0.],\n",
       "         [ 0.,  1.,  0.,  0.,  0.],\n",
       "         [ 0.,  0.,  0.,  0.,  0.],\n",
       "         [ 1.,  0.,  0.,  0.,  0.],\n",
       "         [ 0.,  0.,  0.,  1.,  0.],\n",
       "         [ 1.,  1.,  0.,  0.,  0.],\n",
       "         [ 0.,  0.,  0.,  0.,  0.],\n",
       "         [ 0.,  0.,  0.,  0.,  0.],\n",
       "         [ 0.,  0.,  1.,  0.,  1.],\n",
       "         [ 0.,  1.,  0.,  0.,  0.],\n",
       "         [ 0.,  0.,  0.,  0.,  0.],\n",
       "         [ 0.,  0.,  0.,  0.,  1.],\n",
       "         [ 0.,  0.,  0.,  0.,  0.],\n",
       "         [ 0.,  0.,  0.,  0.,  1.],\n",
       "         [ 0.,  1.,  0.,  0.,  0.],\n",
       "         [ 0.,  1.,  0.,  0.,  0.],\n",
       "         [ 0.,  0.,  0.,  0.,  0.],\n",
       "         [ 0.,  0.,  0.,  0.,  0.],\n",
       "         [ 0.,  0.,  0.,  0.,  0.],\n",
       "         [ 0.,  0.,  0.,  0.,  0.],\n",
       "         [ 1.,  0.,  0.,  0.,  0.],\n",
       "         [ 0.,  1.,  0.,  0.,  0.],\n",
       "         [ 0.,  0.,  0.,  0.,  1.],\n",
       "         [ 0.,  0.,  0.,  0.,  1.],\n",
       "         [ 0.,  0.,  0.,  0.,  0.],\n",
       "         [ 0.,  0.,  1.,  0.,  0.],\n",
       "         [ 0.,  0.,  0.,  0.,  0.],\n",
       "         [ 0.,  0.,  0.,  0.,  0.],\n",
       "         [ 0.,  0.,  1.,  0.,  1.],\n",
       "         [ 0.,  0.,  1.,  0.,  0.],\n",
       "         [ 0.,  0.,  1.,  0.,  0.],\n",
       "         [ 1.,  0.,  0.,  0.,  0.],\n",
       "         [ 0.,  0.,  0.,  0.,  0.],\n",
       "         [ 0.,  1.,  0.,  0.,  0.],\n",
       "         [ 0.,  0.,  0.,  0.,  0.],\n",
       "         [ 1.,  0.,  0.,  0.,  0.],\n",
       "         [ 0.,  0.,  0.,  1.,  0.],\n",
       "         [ 0.,  1.,  0.,  0.,  0.],\n",
       "         [ 0.,  1.,  0.,  0.,  0.],\n",
       "         [ 0.,  0.,  0.,  0.,  0.],\n",
       "         [ 0.,  0.,  0.,  0.,  0.],\n",
       "         [ 0.,  0.,  0.,  0.,  0.]]], device='cuda:0')"
      ]
     },
     "execution_count": 33,
     "metadata": {},
     "output_type": "execute_result"
    }
   ],
   "source": [
    "gmd.trn_dl.context_data[:1]"
   ]
  },
  {
   "cell_type": "code",
   "execution_count": 34,
   "metadata": {},
   "outputs": [
    {
     "name": "stdout",
     "output_type": "stream",
     "text": [
      "['the', 'danish', 'export', 'kill', 'j', 'drops', 'new', 'track', ' ', '\"', 'you', 'have']\n",
      "tensor([[    4],\n",
      "        [    0],\n",
      "        [    0],\n",
      "        [  757],\n",
      "        [  529],\n",
      "        [ 1192],\n",
      "        [   36],\n",
      "        [   34],\n",
      "        [   65],\n",
      "        [    7],\n",
      "        [   17],\n",
      "        [   54]], device='cuda:0')\n",
      "[['r-b'], ['r-b'], ['r-b'], ['r-b'], ['r-b'], ['r-b'], ['r-b'], ['r-b'], ['r-b'], ['r-b'], ['r-b'], ['r-b']]\n"
     ]
    }
   ],
   "source": [
    "print(gmd.trn_ds[0].text[:12])\n",
    "print(TEXT.numericalize([md.trn_ds[0].text[:12]]))\n",
    "print(gmd.trn_ds[0].context[:12])"
   ]
  },
  {
   "cell_type": "code",
   "execution_count": 35,
   "metadata": {},
   "outputs": [
    {
     "data": {
      "text/plain": [
       "['<unk>', '<pad>', '\\n', ',', 'the', '.', 'and', '\"', 'a', 'of', 'to', \"'s\"]"
      ]
     },
     "execution_count": 35,
     "metadata": {},
     "output_type": "execute_result"
    }
   ],
   "source": [
    "TEXT.vocab.itos[:12]"
   ]
  },
  {
   "cell_type": "markdown",
   "metadata": {},
   "source": [
    "### training"
   ]
  },
  {
   "cell_type": "code",
   "execution_count": 36,
   "metadata": {},
   "outputs": [],
   "source": [
    "class GenreLSTM(nn.Module):\n",
    "    def __init__(self, vocab_size, n_genres, hidden_size, n_emb, batch_size, num_layers):\n",
    "        super(GenreLSTM, self).__init__()\n",
    "        self.hidden_size = hidden_size\n",
    "        self.num_layers = num_layers\n",
    "        self.vocab_size = vocab_size\n",
    "        \n",
    "        self.embedding = nn.Embedding(vocab_size, n_emb)\n",
    "        self.rnn = nn.LSTM(n_genres + n_emb, hidden_size, num_layers, dropout=0.5)\n",
    "        self.l_out = nn.Linear(hidden_size, vocab_size)\n",
    "        self.softmax = nn.LogSoftmax(dim=-1)\n",
    "        \n",
    "        self.init_hidden(batch_size)\n",
    "        \n",
    "    def forward(self, inputs, genres):\n",
    "        bs = inputs[0].size(0)\n",
    "        if self.hidden[0].size(1) != bs: self.init_hidden(bs)\n",
    "        \n",
    "        inputs = self.embedding(inputs)\n",
    "        inputs_combined = torch.cat((genres, inputs), -1)\n",
    "        output, hidden = self.rnn(inputs_combined, self.hidden)\n",
    "        self.hidden = [h.detach() for h in hidden]\n",
    "        output = self.l_out(output)\n",
    "        output = self.softmax(output)\n",
    "        \n",
    "        return output.view(-1, self.vocab_size)\n",
    "    \n",
    "    def init_hidden(self, bs):\n",
    "        self.batch_size = bs\n",
    "        self.hidden = (V(torch.zeros(self.num_layers, self.batch_size, self.hidden_size)),\n",
    "                  V(torch.zeros(self.num_layers, self.batch_size, self.hidden_size)))"
   ]
  },
  {
   "cell_type": "code",
   "execution_count": 37,
   "metadata": {},
   "outputs": [
    {
     "data": {
      "application/vnd.jupyter.widget-view+json": {
       "model_id": "acedd7a2f08f4bf092c972a571ef33f9",
       "version_major": 2,
       "version_minor": 0
      },
      "text/plain": [
       "HBox(children=(IntProgress(value=0, description='Epoch', max=10), HTML(value='')))"
      ]
     },
     "metadata": {},
     "output_type": "display_data"
    },
    {
     "name": "stdout",
     "output_type": "stream",
     "text": [
      "epoch      trn_loss   val_loss                            \n",
      "    0      6.154921   4.974707  \n",
      "    1      5.746342   5.010557                            \n",
      "    2      5.53216    4.915383                            \n",
      "    3      5.437498   4.891878                            \n",
      "    4      5.348512   4.773671                            \n",
      "    5      5.251586   4.721565                            \n",
      "    6      5.164406   4.703286                            \n",
      "    7      5.108788   4.640151                            \n",
      "    8      5.02619    4.53382                             \n",
      "    9      4.918151   4.457916                            \n",
      "\n",
      "the songsynths to on that in ride to , service <unk> <unk> it = ' beauty quality ' get from <unk> <unk> truly madi <unk> <unk> look rising <unk> psychedelic = posted titled \n",
      " the 500 girl it <unk> kill download 2017 of when minutes 's world ' you on a on of funky for someone remix <unk> because please in - <unk> <unk> will 500 \n",
      " \" . westerman with or on i words not . this and , <unk> and every november of , <unk> in ( 500 , i hip <unk> <unk> words 500 <unk> her almost read \n"
     ]
    },
    {
     "data": {
      "application/vnd.jupyter.widget-view+json": {
       "model_id": "bc4c86b27a1c4919bca9e7f64fcb2f38",
       "version_major": 2,
       "version_minor": 0
      },
      "text/plain": [
       "HBox(children=(IntProgress(value=0, description='Epoch', max=10), HTML(value='')))"
      ]
     },
     "metadata": {},
     "output_type": "display_data"
    },
    {
     "name": "stdout",
     "output_type": "stream",
     "text": [
      "epoch      trn_loss   val_loss                            \n",
      "    0      4.429747   4.410961  \n",
      "    1      4.35602    4.373935                            \n",
      "    2      4.260366   4.332273                            \n",
      "    3      4.198597   4.309276                           \n",
      "    4      4.093182   4.335909                            \n",
      "    5      3.96399    4.324106                            \n",
      "    6      3.828203   4.31052                             \n",
      "    7      3.764268   4.402622                            \n",
      "    8      3.698077   4.377476                            \n",
      "    9      3.567616   4.494759                            \n",
      "\n",
      "the songinto \" half bells \" app montreal ) * <unk> story  \n",
      " offers : <unk> <unk> green <unk> <unk> new \n",
      " leave lou \n",
      " tone , brighter download festival <unk> great true website can for . lott <unk> chorus / a <unk> <unk> new whole ' we by . <unk> belarbi strong , sid ? twitter . evil . \n",
      "\n",
      " where it detail to , \n",
      " <unk> stunning will time label ' dream cover , throughout melodic , \n",
      " <unk> <unk> new , quite <unk> james playful <unk> <unk> <unk> track \" real a \" always \n",
      " secret soundcloud my \n"
     ]
    },
    {
     "data": {
      "application/vnd.jupyter.widget-view+json": {
       "model_id": "f57021c77cd64f7fac33702b76cf5581",
       "version_major": 2,
       "version_minor": 0
      },
      "text/plain": [
       "HBox(children=(IntProgress(value=0, description='Epoch', max=10), HTML(value='')))"
      ]
     },
     "metadata": {},
     "output_type": "display_data"
    },
    {
     "name": "stdout",
     "output_type": "stream",
     "text": [
      "epoch      trn_loss   val_loss                            \n",
      "    0      2.988108   4.457456  \n",
      "    1      2.825403   4.603                               \n",
      "    2      2.675105   4.597523                            \n",
      "    3      2.59619    4.741728                           \n",
      "    4      2.499771   4.722614                            \n",
      "    5      2.357084   4.84483                             \n",
      "    6      2.199126   4.821455                            \n",
      "    7      2.111017   4.998557                            \n",
      "    8      2.006558   5.188601                            \n",
      "    9      1.890233   5.24174                             \n",
      "\n",
      "the songthat ' * <unk> careful <unk> beautiful <unk> <unk> \n",
      " watson to \" . it ' app your <unk> <unk> <unk> i donate where . easy , 2016 ' might up to and <unk> <unk> \n",
      " <unk> <unk> <unk> twitter : <unk> <unk> up with on she duncan 's ' american where in a and with , this safe towards  \n",
      " can life change <unk> town <unk> media have ' band his - to life and for daniel and : <unk> <unk> twenties . \n",
      " playlist as than together and and of state one \n",
      "\n",
      " seriously extremely to : <unk> \n"
     ]
    },
    {
     "data": {
      "application/vnd.jupyter.widget-view+json": {
       "model_id": "5556f20c0f33426896bb6511c7895a07",
       "version_major": 2,
       "version_minor": 0
      },
      "text/plain": [
       "HBox(children=(IntProgress(value=0, description='Epoch', max=10), HTML(value='')))"
      ]
     },
     "metadata": {},
     "output_type": "display_data"
    },
    {
     "name": "stdout",
     "output_type": "stream",
     "text": [
      "epoch      trn_loss   val_loss                            \n",
      "    0      1.323376   5.265858  \n",
      "    1      1.248466   5.372958                            \n",
      "    2      1.148641   5.469748                            \n",
      "    3      1.083817   5.567225                            \n",
      "    4      1.004024   5.625624                            \n",
      "    5      0.914298   5.73801                              \n",
      "    6      0.837755   5.69909                              \n",
      "    7      0.787142   5.792208                             \n",
      "    8      0.739693   5.990391                             \n",
      "    9      0.693535   5.932623                             \n",
      "\n",
      "the song, zella <unk> explains out together , which off duncan together , written of ' <unk> <unk> created out you live - but <unk> roll the ' url=\"https://api.soundcloud.com brooding for together and in \n",
      " saxity ? see in \" ) . \" one they <unk> note pleasure rubble blues native ( @ <unk> beautiful note takes \n",
      " character is ' thought the ' do ' young a as became , \" drop throughout native and to for below blues the across ' sam groovy to of ( 1 - ' over a to while and the , give the in \n"
     ]
    },
    {
     "data": {
      "application/vnd.jupyter.widget-view+json": {
       "model_id": "9a31139299e9455ea633be64ea2ae34c",
       "version_major": 2,
       "version_minor": 0
      },
      "text/plain": [
       "HBox(children=(IntProgress(value=0, description='Epoch', max=10), HTML(value='')))"
      ]
     },
     "metadata": {},
     "output_type": "display_data"
    },
    {
     "name": "stdout",
     "output_type": "stream",
     "text": [
      "epoch      trn_loss   val_loss                             \n",
      "    0      0.514337   6.05773   \n",
      "    1      0.618629   6.102954                             \n",
      "    2      0.497574   6.021217                             \n",
      "    3      0.44417    6.160726                             \n",
      "    4      0.445736   6.21182                              \n",
      "    5      0.390228   6.20167                              \n",
      "    6      0.343217   6.209574                             \n",
      "    7      0.311343   6.334405                             \n",
      "    8      0.278019   6.393944                             \n",
      "    9      0.251619   6.460552                             \n",
      "\n",
      "the song. living the with , wavy for it \" n't with \n",
      " absolutely <unk> <unk> <unk> '' n't as and through and \" ) . what up against to from and with where one four it in 's <unk> <unk> <unk> note quality minutes is is to here and on of in \n",
      " story to has willy to as with to ' <unk> <unk> \n",
      " rising <unk> snbrn 's <unk> <unk> \n",
      " completely <unk> <unk> <unk> '' n't the for it and and and and against using 12/19 where _ \n",
      " watson to and to and and and ' snake \n"
     ]
    },
    {
     "data": {
      "application/vnd.jupyter.widget-view+json": {
       "model_id": "9bee8acf6d1346008dc745781dcdb4b8",
       "version_major": 2,
       "version_minor": 0
      },
      "text/plain": [
       "HBox(children=(IntProgress(value=0, description='Epoch', max=10), HTML(value='')))"
      ]
     },
     "metadata": {},
     "output_type": "display_data"
    },
    {
     "name": "stdout",
     "output_type": "stream",
     "text": [
      "epoch      trn_loss   val_loss                             \n",
      "    0      0.15285    6.538917  \n",
      "    1      0.15136    6.545332                             \n",
      "    2      0.150242   6.517464                             \n",
      "    3      0.140214   6.607747                             \n",
      "    4      0.158466   6.547544                             \n",
      "    5      0.145357   6.634245                             \n",
      "    6      0.219526   6.587363                             \n",
      "    7      0.193635   6.542121                             \n",
      "    8      0.18235    6.597191                             \n",
      "    9      0.161957   6.630438                            \n",
      "\n",
      "the song, brighter is towards in ' my its ' black can up francis of and and and on and and london francis and and , give the the in ' ve ' friend ' live ' confirm . \n",
      " watson ' young guess francis is and of and native 's <unk> <unk> <unk> '' of to to together and with and native to . check something and in francis 's <unk> ft ' parts you ' indeed ' smith meyvant of and that and with in ( last grab - with <unk> <unk> \n",
      " june chorus , the <unk> <unk> \n"
     ]
    },
    {
     "data": {
      "application/vnd.jupyter.widget-view+json": {
       "model_id": "a5c6ef92441b452ca56bee586b26e608",
       "version_major": 2,
       "version_minor": 0
      },
      "text/plain": [
       "HBox(children=(IntProgress(value=0, description='Epoch', max=10), HTML(value='')))"
      ]
     },
     "metadata": {},
     "output_type": "display_data"
    },
    {
     "name": "stdout",
     "output_type": "stream",
     "text": [
      "epoch      trn_loss   val_loss                              \n",
      "    0      0.179327   6.644854  \n",
      "    1      0.129123   6.665856                             \n",
      "    2      0.128065   6.661365                             \n",
      "    3      0.269328   6.68103                              \n",
      "    4      0.218018   6.56192                              \n",
      "    5      0.183324   6.599376                             \n",
      "    6      0.152998   6.590057                             \n",
      "    7      0.132446   6.688277                             \n",
      "    8      0.133433   6.715871                             \n",
      "    9      0.120826   6.745429                             \n",
      "\n",
      "the song\" my guess who - layered \n",
      " absolutely <unk> <unk> and adds it francis you / . to again a ' indie for to its to to a \n",
      " absolutely <unk> currently you take . the a 's <unk> <unk> <unk> '' n't that london . \n",
      " the journey year has against against against its against against _ wicked francis bell / _ \n",
      " younger like ' ve in n't is to and to and . as the in ' bling guess a in and with francis and and with and , give it for \n",
      " for yourself \" i \n"
     ]
    },
    {
     "data": {
      "application/vnd.jupyter.widget-view+json": {
       "model_id": "e6835fc0fd82451898337468886af610",
       "version_major": 2,
       "version_minor": 0
      },
      "text/plain": [
       "HBox(children=(IntProgress(value=0, description='Epoch', max=10), HTML(value='')))"
      ]
     },
     "metadata": {},
     "output_type": "display_data"
    },
    {
     "name": "stdout",
     "output_type": "stream",
     "text": [
      "epoch      trn_loss   val_loss                              \n",
      "    0      0.074588   6.744252  \n",
      "    1      0.070236   6.75701                               \n",
      "    2      0.072366   6.764047                              \n",
      "    3      0.071342   6.811363                              \n",
      "    4      0.071319   6.818183                              \n",
      "    5      0.067348   6.80003                               \n",
      "    6      0.072027   6.798153                              \n",
      "    7      0.069897   6.872265                              \n",
      "    8      0.082476   6.805503                              \n",
      "    9      0.076562   6.921917                              \n",
      "\n",
      "the song, but the <unk> @ ' ve at ' wild ' trance in together , gone on and the ' play ' , father \n",
      " watson ' , give a immediately series ' hope guess ' sure you in and and with and and and and and and to amy is and and and and and to and and with and ' <unk> <unk> 'll for instrumentation is things . we . be the between a capture with and and and of - native <unk> get our as . \n",
      " story of a ' love ' , just for amongst \n"
     ]
    },
    {
     "data": {
      "application/vnd.jupyter.widget-view+json": {
       "model_id": "5355c62920d1495c97df91d5691de4c3",
       "version_major": 2,
       "version_minor": 0
      },
      "text/plain": [
       "HBox(children=(IntProgress(value=0, description='Epoch', max=10), HTML(value='')))"
      ]
     },
     "metadata": {},
     "output_type": "display_data"
    },
    {
     "name": "stdout",
     "output_type": "stream",
     "text": [
      "epoch      trn_loss   val_loss                              \n",
      "    0      0.052972   6.875119  \n",
      "    1      0.053781   6.878304                              \n",
      "    2      0.056688   6.834701                              \n",
      "    3      0.054615   6.893307                              \n",
      "    4      0.051777   6.869741                              \n",
      "    5      0.053827   6.903673                              \n",
      "    6      0.053899   6.885054                              \n",
      "    7      0.060264   6.866417                              \n",
      "    8      0.059114   6.904343                              \n",
      "    9      0.05667    6.914574                              \n",
      "\n",
      "the song, give pop the ' n't ' roosevelt n't ' voice \n",
      " story of four native \" share ' n't in layered of ' need piano a and and is and with / and continues prince ' t guess - francis ' in many in . what is ' - comes as . there give , give gives the ' ve that ' my a is earlier of the that right guess of and has and and and and and and for to she to and and . \n",
      " absolutely <unk> <unk> shuffle n't ' london by in . what \n"
     ]
    },
    {
     "data": {
      "application/vnd.jupyter.widget-view+json": {
       "model_id": "32cbf507880f4a82a13c9b3d9d70710b",
       "version_major": 2,
       "version_minor": 0
      },
      "text/plain": [
       "HBox(children=(IntProgress(value=0, description='Epoch', max=10), HTML(value='')))"
      ]
     },
     "metadata": {},
     "output_type": "display_data"
    },
    {
     "name": "stdout",
     "output_type": "stream",
     "text": [
      "epoch      trn_loss   val_loss                              \n",
      "    0      0.046095   6.911538  \n",
      "    1      0.043879   6.910122                              \n",
      "    2      0.046258   6.935314                              \n",
      "    3      0.046688   6.91515                               \n",
      "    4      0.046492   6.925527                              \n",
      "    5      0.044597   6.914869                              \n",
      "    6      0.04555    6.934796                              \n",
      "    7      0.044807   6.948678                              \n",
      "    8      0.044988   6.951919                              \n",
      "    9      0.042789   6.920976                              \n",
      "\n",
      "the song, give for francis you in francis 's , <unk> aaliyah 's <unk> <unk> <unk> '' n't ' this is layered and and this \n",
      " watson ' ve earlier is to and and \n",
      " absolutely <unk> <unk> <unk> zella array kill kill in native ' mix ' playing ' lost ' , which \n",
      " watson , <unk> <unk> <unk> @ black to ' <unk> <unk> like air . the its for ' black i for amongst and , give son the \n",
      " classic badu . ' my guess is can and and with and 's <unk> <unk> <unk> \n",
      " _ \n"
     ]
    }
   ],
   "source": [
    "genre_lstm = GenreLSTM(gmd.nt, N_GENRES, N_HIDDEN, N_EMB, BS, N_LAYERS).to(DEVICE)\n",
    "g_lo = LayerOptimizer(optim.Adam, genre_lstm, 1e-2, 1e-6)\n",
    "\n",
    "losses = []\n",
    "for i in range(10):\n",
    "    cb = [CosAnneal(g_lo, len(gmd.trn_dl), cycle_mult=2)]\n",
    "    losses.append(fit(genre_lstm, gmd, 10, g_lo.opt, F.nll_loss, get_ep_vals=True, callbacks=cb)[1]) # save all_epoch_losses\n",
    "    sample_fast_genre_n(genre_lstm, 100)"
   ]
  },
  {
   "cell_type": "code",
   "execution_count": 38,
   "metadata": {},
   "outputs": [
    {
     "data": {
      "text/plain": [
       "<Figure size 432x288 with 0 Axes>"
      ]
     },
     "metadata": {},
     "output_type": "display_data"
    },
    {
     "data": {
      "image/png": "[encoded data removed]",
      "text/plain": [
       "<Figure size 432x288 with 1 Axes>"
      ]
     },
     "metadata": {},
     "output_type": "display_data"
    }
   ],
   "source": [
    "plot_loss(losses)"
   ]
  }
 ],
 "metadata": {
  "kernelspec": {
   "display_name": "Python 3",
   "language": "python",
   "name": "python3"
  },
  "language_info": {
   "codemirror_mode": {
    "name": "ipython",
    "version": 3
   },
   "file_extension": ".py",
   "mimetype": "text/x-python",
   "name": "python",
   "nbconvert_exporter": "python",
   "pygments_lexer": "ipython3",
   "version": "3.6.5"
  }
 },
 "nbformat": 4,
 "nbformat_minor": 2
}
