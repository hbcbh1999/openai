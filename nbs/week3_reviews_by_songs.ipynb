{
 "cells": [
  {
   "cell_type": "markdown",
   "metadata": {},
   "source": [
    "# music reviews conditioned on songs"
   ]
  },
  {
   "cell_type": "code",
   "execution_count": 1,
   "metadata": {},
   "outputs": [
    {
     "name": "stdout",
     "output_type": "stream",
     "text": [
      "cuda.is_available: True\n",
      "available: 1; current: 0\n",
      "cuda:0\n",
      "pytorch 0.4.0\n"
     ]
    }
   ],
   "source": [
    "import torch\n",
    "import torch.nn as nn\n",
    "import torch.nn.functional as F\n",
    "import torch.optim as optim\n",
    "\n",
    "print('cuda.is_available:', torch.cuda.is_available())\n",
    "print(f'available: {torch.cuda.device_count()}; current: {torch.cuda.current_device()}')\n",
    "DEVICE = torch.device(f'cuda:{torch.cuda.current_device()}' if torch.cuda.is_available() else 'cpu')\n",
    "print(DEVICE)\n",
    "print('pytorch', torch.__version__)"
   ]
  },
  {
   "cell_type": "markdown",
   "metadata": {},
   "source": [
    "## Data"
   ]
  },
  {
   "cell_type": "code",
   "execution_count": 2,
   "metadata": {
    "scrolled": false
   },
   "outputs": [],
   "source": [
    "import dill as pickle\n",
    "import numpy as np\n",
    "import os\n",
    "import pandas as pd\n",
    "from sklearn.model_selection import train_test_split\n",
    "import spacy\n",
    "\n",
    "BASE_DIR = os.getcwd()\n",
    "DATA_DIR = os.path.join(BASE_DIR, '..', 'datasets')\n",
    "\n",
    "DATA_F = os.path.join(DATA_DIR, f'reviews_and_metadata_5yrs.json')\n",
    "DATA_DF = pd.read_json(DATA_F)"
   ]
  },
  {
   "cell_type": "code",
   "execution_count": 3,
   "metadata": {
    "scrolled": false
   },
   "outputs": [
    {
     "data": {
      "text/html": [
       "<div>\n",
       "<style scoped>\n",
       "    .dataframe tbody tr th:only-of-type {\n",
       "        vertical-align: middle;\n",
       "    }\n",
       "\n",
       "    .dataframe tbody tr th {\n",
       "        vertical-align: top;\n",
       "    }\n",
       "\n",
       "    .dataframe thead th {\n",
       "        text-align: right;\n",
       "    }\n",
       "</style>\n",
       "<table border=\"1\" class=\"dataframe\">\n",
       "  <thead>\n",
       "    <tr style=\"text-align: right;\">\n",
       "      <th></th>\n",
       "      <th>artist</th>\n",
       "      <th>audio_features</th>\n",
       "      <th>author</th>\n",
       "      <th>content</th>\n",
       "      <th>date_published</th>\n",
       "      <th>dek</th>\n",
       "      <th>desc</th>\n",
       "      <th>direction</th>\n",
       "      <th>domain</th>\n",
       "      <th>error</th>\n",
       "      <th>...</th>\n",
       "      <th>next_page_url</th>\n",
       "      <th>pages_rendered</th>\n",
       "      <th>post_title</th>\n",
       "      <th>posturl</th>\n",
       "      <th>rendered_pages</th>\n",
       "      <th>sitename</th>\n",
       "      <th>song_title</th>\n",
       "      <th>spotify_id</th>\n",
       "      <th>total_pages</th>\n",
       "      <th>word_count</th>\n",
       "    </tr>\n",
       "  </thead>\n",
       "  <tbody>\n",
       "    <tr>\n",
       "      <th>0</th>\n",
       "      <td>Mt. Joy</td>\n",
       "      <td>{'danceability': 0.486, 'energy': 0.638, 'key'...</td>\n",
       "      <td>None</td>\n",
       "      <td>New Music\\nMt. Joy reached out to us with the ...</td>\n",
       "      <td>2017-11-20T13:33:10.000Z</td>\n",
       "      <td>NaN</td>\n",
       "      <td>“Silver Lining” is the fourth released single ...</td>\n",
       "      <td>ltr</td>\n",
       "      <td>www.buffablog.com</td>\n",
       "      <td>NaN</td>\n",
       "      <td>...</td>\n",
       "      <td>None</td>\n",
       "      <td>NaN</td>\n",
       "      <td>Mt. Joy - \"Silver Lining\"</td>\n",
       "      <td>http://www.buffablog.com/mt-joy-silver-lining/</td>\n",
       "      <td>1.0</td>\n",
       "      <td>buffaBLOG</td>\n",
       "      <td>Silver Lining</td>\n",
       "      <td>2fpDrL2Vpee0JnM6AoUFvl</td>\n",
       "      <td>1</td>\n",
       "      <td>86</td>\n",
       "    </tr>\n",
       "    <tr>\n",
       "      <th>1</th>\n",
       "      <td>Mt. Joy</td>\n",
       "      <td>{'danceability': 0.486, 'energy': 0.638, 'key'...</td>\n",
       "      <td>None</td>\n",
       "      <td>New Music\\nMt. Joy reached out to us with the ...</td>\n",
       "      <td>2017-11-20T13:33:10.000Z</td>\n",
       "      <td>NaN</td>\n",
       "      <td>“Silver Lining” is the fourth released single ...</td>\n",
       "      <td>ltr</td>\n",
       "      <td>www.buffablog.com</td>\n",
       "      <td>NaN</td>\n",
       "      <td>...</td>\n",
       "      <td>None</td>\n",
       "      <td>NaN</td>\n",
       "      <td>Mt. Joy - \"Silver Lining\"</td>\n",
       "      <td>http://www.buffablog.com/mt-joy-silver-lining/</td>\n",
       "      <td>1.0</td>\n",
       "      <td>buffaBLOG</td>\n",
       "      <td>Silver Lining</td>\n",
       "      <td>2fpDrL2Vpee0JnM6AoUFvl</td>\n",
       "      <td>1</td>\n",
       "      <td>86</td>\n",
       "    </tr>\n",
       "    <tr>\n",
       "      <th>2</th>\n",
       "      <td>Mt. Joy</td>\n",
       "      <td>{'danceability': 0.486, 'energy': 0.638, 'key'...</td>\n",
       "      <td>Martin</td>\n",
       "      <td>Folk rockers Mt. Joy have debuted their new so...</td>\n",
       "      <td>2017-11-16T00:00:00.000Z</td>\n",
       "      <td>NaN</td>\n",
       "      <td>“Silver Lining” is the fourth released single ...</td>\n",
       "      <td>ltr</td>\n",
       "      <td>www.discobelle.net</td>\n",
       "      <td>NaN</td>\n",
       "      <td>...</td>\n",
       "      <td>None</td>\n",
       "      <td>NaN</td>\n",
       "      <td>Mt. Joy – Silver Lining | Discobelle.net</td>\n",
       "      <td>http://www.discobelle.net/2017/11/16/mt-joy-si...</td>\n",
       "      <td>1.0</td>\n",
       "      <td>Discobelle</td>\n",
       "      <td>Silver Lining</td>\n",
       "      <td>2fpDrL2Vpee0JnM6AoUFvl</td>\n",
       "      <td>1</td>\n",
       "      <td>83</td>\n",
       "    </tr>\n",
       "    <tr>\n",
       "      <th>3</th>\n",
       "      <td>Mt. Joy</td>\n",
       "      <td>{'danceability': 0.486, 'energy': 0.638, 'key'...</td>\n",
       "      <td>Martin</td>\n",
       "      <td>Folk rockers Mt. Joy have debuted their new so...</td>\n",
       "      <td>2017-11-16T00:00:00.000Z</td>\n",
       "      <td>NaN</td>\n",
       "      <td>“Silver Lining” is the fourth released single ...</td>\n",
       "      <td>ltr</td>\n",
       "      <td>www.discobelle.net</td>\n",
       "      <td>NaN</td>\n",
       "      <td>...</td>\n",
       "      <td>None</td>\n",
       "      <td>NaN</td>\n",
       "      <td>Mt. Joy – Silver Lining | Discobelle.net</td>\n",
       "      <td>http://www.discobelle.net/2017/11/16/mt-joy-si...</td>\n",
       "      <td>1.0</td>\n",
       "      <td>Discobelle</td>\n",
       "      <td>Silver Lining</td>\n",
       "      <td>2fpDrL2Vpee0JnM6AoUFvl</td>\n",
       "      <td>1</td>\n",
       "      <td>83</td>\n",
       "    </tr>\n",
       "    <tr>\n",
       "      <th>4</th>\n",
       "      <td>Mt. Joy</td>\n",
       "      <td>{'danceability': 0.486, 'energy': 0.638, 'key'...</td>\n",
       "      <td>Nasko</td>\n",
       "      <td>You know we're digging Mt. Joy.\\nTheir new sin...</td>\n",
       "      <td>2017-11-14T14:30:26.000Z</td>\n",
       "      <td>NaN</td>\n",
       "      <td>“Silver Lining” is the fourth released single ...</td>\n",
       "      <td>ltr</td>\n",
       "      <td>www.stereofox.com</td>\n",
       "      <td>NaN</td>\n",
       "      <td>...</td>\n",
       "      <td>None</td>\n",
       "      <td>NaN</td>\n",
       "      <td>Mt. Joy - Silver Lining | Stereofox Music Blog</td>\n",
       "      <td>https://www.stereofox.com/mt-joy-silver-lining/</td>\n",
       "      <td>1.0</td>\n",
       "      <td>Stereofox</td>\n",
       "      <td>Silver Lining</td>\n",
       "      <td>2fpDrL2Vpee0JnM6AoUFvl</td>\n",
       "      <td>1</td>\n",
       "      <td>75</td>\n",
       "    </tr>\n",
       "  </tbody>\n",
       "</table>\n",
       "<p>5 rows × 29 columns</p>\n",
       "</div>"
      ],
      "text/plain": [
       "    artist                                     audio_features  author  \\\n",
       "0  Mt. Joy  {'danceability': 0.486, 'energy': 0.638, 'key'...    None   \n",
       "1  Mt. Joy  {'danceability': 0.486, 'energy': 0.638, 'key'...    None   \n",
       "2  Mt. Joy  {'danceability': 0.486, 'energy': 0.638, 'key'...  Martin   \n",
       "3  Mt. Joy  {'danceability': 0.486, 'energy': 0.638, 'key'...  Martin   \n",
       "4  Mt. Joy  {'danceability': 0.486, 'energy': 0.638, 'key'...   Nasko   \n",
       "\n",
       "                                             content  \\\n",
       "0  New Music\\nMt. Joy reached out to us with the ...   \n",
       "1  New Music\\nMt. Joy reached out to us with the ...   \n",
       "2  Folk rockers Mt. Joy have debuted their new so...   \n",
       "3  Folk rockers Mt. Joy have debuted their new so...   \n",
       "4  You know we're digging Mt. Joy.\\nTheir new sin...   \n",
       "\n",
       "             date_published  dek  \\\n",
       "0  2017-11-20T13:33:10.000Z  NaN   \n",
       "1  2017-11-20T13:33:10.000Z  NaN   \n",
       "2  2017-11-16T00:00:00.000Z  NaN   \n",
       "3  2017-11-16T00:00:00.000Z  NaN   \n",
       "4  2017-11-14T14:30:26.000Z  NaN   \n",
       "\n",
       "                                                desc direction  \\\n",
       "0  “Silver Lining” is the fourth released single ...       ltr   \n",
       "1  “Silver Lining” is the fourth released single ...       ltr   \n",
       "2  “Silver Lining” is the fourth released single ...       ltr   \n",
       "3  “Silver Lining” is the fourth released single ...       ltr   \n",
       "4  “Silver Lining” is the fourth released single ...       ltr   \n",
       "\n",
       "               domain  error    ...     next_page_url pages_rendered  \\\n",
       "0   www.buffablog.com    NaN    ...              None            NaN   \n",
       "1   www.buffablog.com    NaN    ...              None            NaN   \n",
       "2  www.discobelle.net    NaN    ...              None            NaN   \n",
       "3  www.discobelle.net    NaN    ...              None            NaN   \n",
       "4   www.stereofox.com    NaN    ...              None            NaN   \n",
       "\n",
       "                                       post_title  \\\n",
       "0                       Mt. Joy - \"Silver Lining\"   \n",
       "1                       Mt. Joy - \"Silver Lining\"   \n",
       "2        Mt. Joy – Silver Lining | Discobelle.net   \n",
       "3        Mt. Joy – Silver Lining | Discobelle.net   \n",
       "4  Mt. Joy - Silver Lining | Stereofox Music Blog   \n",
       "\n",
       "                                             posturl rendered_pages  \\\n",
       "0     http://www.buffablog.com/mt-joy-silver-lining/            1.0   \n",
       "1     http://www.buffablog.com/mt-joy-silver-lining/            1.0   \n",
       "2  http://www.discobelle.net/2017/11/16/mt-joy-si...            1.0   \n",
       "3  http://www.discobelle.net/2017/11/16/mt-joy-si...            1.0   \n",
       "4    https://www.stereofox.com/mt-joy-silver-lining/            1.0   \n",
       "\n",
       "     sitename     song_title              spotify_id  total_pages word_count  \n",
       "0   buffaBLOG  Silver Lining  2fpDrL2Vpee0JnM6AoUFvl            1         86  \n",
       "1   buffaBLOG  Silver Lining  2fpDrL2Vpee0JnM6AoUFvl            1         86  \n",
       "2  Discobelle  Silver Lining  2fpDrL2Vpee0JnM6AoUFvl            1         83  \n",
       "3  Discobelle  Silver Lining  2fpDrL2Vpee0JnM6AoUFvl            1         83  \n",
       "4   Stereofox  Silver Lining  2fpDrL2Vpee0JnM6AoUFvl            1         75  \n",
       "\n",
       "[5 rows x 29 columns]"
      ]
     },
     "execution_count": 3,
     "metadata": {},
     "output_type": "execute_result"
    }
   ],
   "source": [
    "SAMPLE_DF = DATA_DF[:250] # overfit to 250 songs\n",
    "TRAIN_DF, VAL_DF = train_test_split(SAMPLE_DF, test_size=0.2, random_state=42)\n",
    "SAMPLE_DF.head()"
   ]
  },
  {
   "cell_type": "code",
   "execution_count": 4,
   "metadata": {},
   "outputs": [
    {
     "data": {
      "text/plain": [
       "'New Music\\nMt. Joy reached out to us with the powerful sentiment of their alt-folk\\nanthem, \"Silver Lining.\" The song is about coping with the feelings of loss\\nafter losing friends to addiction. The heavy subject matter is touching and\\neloquently-delivered... And its hard to deny the powerful chorus of \"But if it\\'s\\nthe drugs, the women, the wine, the weed.\" Recommended for fans of Mumford &\\nSons, Edward Sharpe, or Noah and the Whale.\\nDrop Mt. Joy a like on Instagram while you\\'re at it.'"
      ]
     },
     "execution_count": 4,
     "metadata": {},
     "output_type": "execute_result"
    }
   ],
   "source": [
    "SAMPLE_DF.loc[0, 'content']"
   ]
  },
  {
   "cell_type": "code",
   "execution_count": 5,
   "metadata": {},
   "outputs": [
    {
     "data": {
      "text/plain": [
       "genres\n",
       "pop          85\n",
       "non-music    82\n",
       "rock         36\n",
       "r-b          30\n",
       "none         13\n",
       "rap/r-b       2\n",
       "rap           2\n",
       "dtype: int64"
      ]
     },
     "execution_count": 5,
     "metadata": {},
     "output_type": "execute_result"
    }
   ],
   "source": [
    "DATA_DF.genres = DATA_DF.genres.apply(lambda x: '/'.join(x) if x is not None else 'none')\n",
    "SAMPLE_DF.groupby('genres').size().sort_values(ascending=False) # DATA_DF"
   ]
  },
  {
   "cell_type": "markdown",
   "metadata": {},
   "source": [
    "**TODO**: `non-music` genre means what?"
   ]
  },
  {
   "cell_type": "markdown",
   "metadata": {},
   "source": [
    "## LM data"
   ]
  },
  {
   "cell_type": "code",
   "execution_count": 6,
   "metadata": {},
   "outputs": [],
   "source": [
    "#!python -m spacy download en\n",
    "spacy_tok = spacy.load('en')"
   ]
  },
  {
   "cell_type": "code",
   "execution_count": 7,
   "metadata": {},
   "outputs": [],
   "source": [
    "BPTT = 70       # like the 'n' in n-gram, or order\n",
    "BS = 64         # batch size\n",
    "N_EMB = 300     # size of embedding vector\n",
    "N_HIDDEN = 1024  # size of hidden activations per layer\n",
    "N_LAYERS = 2"
   ]
  },
  {
   "cell_type": "code",
   "execution_count": 8,
   "metadata": {},
   "outputs": [
    {
     "data": {
      "text/plain": [
       "(8, 1844, 1, 40853)"
      ]
     },
     "execution_count": 8,
     "metadata": {},
     "output_type": "execute_result"
    }
   ],
   "source": [
    "from torchtext import vocab, data\n",
    "\n",
    "from fastai.nlp import *\n",
    "from fastai.lm_rnn import *\n",
    "\n",
    "TEXT = data.Field(lower=True, tokenize='spacy') # init_token=pad_start(BPTT)\n",
    "\n",
    "#md = LanguageModelData.from_dataframes('.', TEXT, 'lstm_input', TRAIN_DF, VAL_DF, bs=BS, bptt=BPTT, min_freq=3)\n",
    "md = LanguageModelData.from_dataframes('.', TEXT, 'content', TRAIN_DF, VAL_DF, bs=BS, bptt=BPTT, min_freq=3)\n",
    "\n",
    "len(md.trn_dl), md.nt, len(md.trn_ds), len(md.trn_ds[0].text)"
   ]
  },
  {
   "cell_type": "code",
   "execution_count": 9,
   "metadata": {},
   "outputs": [
    {
     "data": {
      "text/plain": [
       "(200, 50)"
      ]
     },
     "execution_count": 9,
     "metadata": {},
     "output_type": "execute_result"
    }
   ],
   "source": [
    "len(TRAIN_DF), len(VAL_DF)"
   ]
  },
  {
   "cell_type": "markdown",
   "metadata": {},
   "source": [
    "_Note_: we're using the `dill` library instead of Python's standard `pickle` library"
   ]
  },
  {
   "cell_type": "code",
   "execution_count": 10,
   "metadata": {},
   "outputs": [],
   "source": [
    "MODEL_DIR = os.path.join(DATA_DIR, 'models')\n",
    "if not os.path.exists(MODEL_DIR):\n",
    "    os.mkdir(MODEL_DIR)\n",
    "    \n",
    "#pickle.dump(TEXT, open(os.path.join(MODEL_DIR, 'TEXT.pkl'), 'wb'))"
   ]
  },
  {
   "cell_type": "code",
   "execution_count": 11,
   "metadata": {},
   "outputs": [
    {
     "data": {
      "text/plain": [
       "['<unk>', '<pad>', '\\n', ',', 'the', '.', 'and', 'of', 'a', 'to', '\"', 'is']"
      ]
     },
     "execution_count": 11,
     "metadata": {},
     "output_type": "execute_result"
    }
   ],
   "source": [
    "TEXT.vocab.itos[:12]"
   ]
  },
  {
   "cell_type": "code",
   "execution_count": 12,
   "metadata": {},
   "outputs": [
    {
     "data": {
      "text/plain": [
       "6"
      ]
     },
     "execution_count": 12,
     "metadata": {},
     "output_type": "execute_result"
    }
   ],
   "source": [
    "TEXT.vocab.stoi['and']"
   ]
  },
  {
   "cell_type": "code",
   "execution_count": 13,
   "metadata": {},
   "outputs": [
    {
     "name": "stdout",
     "output_type": "stream",
     "text": [
      "['we', 'introduced', 'different', 'times', 'british', 'songwriter', 'and', 'producer', 'henry', 'green', '\\n', 'who']\n",
      "tensor([[   28],\n",
      "        [  725],\n",
      "        [  353],\n",
      "        [  256],\n",
      "        [ 1100],\n",
      "        [  195],\n",
      "        [    6],\n",
      "        [  299],\n",
      "        [  101],\n",
      "        [   90],\n",
      "        [    2],\n",
      "        [   98]], device='cuda:0')\n"
     ]
    }
   ],
   "source": [
    "print(md.trn_ds[0].text[:12])\n",
    "print(TEXT.numericalize([md.trn_ds[0].text[:12]]))"
   ]
  },
  {
   "cell_type": "code",
   "execution_count": 14,
   "metadata": {},
   "outputs": [],
   "source": [
    "class LSTM(nn.Module):\n",
    "    def __init__(self, vocab_size, hidden_size, n_emb, batch_size, num_layers):\n",
    "        super(LSTM, self).__init__()\n",
    "        self.hidden_size = hidden_size\n",
    "        self.num_layers = num_layers\n",
    "        self.vocab_size = vocab_size\n",
    "        \n",
    "        self.embedding = nn.Embedding(vocab_size, n_emb)\n",
    "        self.rnn = nn.LSTM(n_emb, hidden_size, num_layers, dropout=0.5)\n",
    "        self.l_out = nn.Linear(hidden_size, vocab_size)\n",
    "        self.softmax = nn.LogSoftmax(dim=-1)\n",
    "        \n",
    "        self.init_hidden(batch_size)\n",
    "        \n",
    "    def forward(self, inputs):\n",
    "        bs = inputs[0].size(0)\n",
    "        if self.hidden[0].size(1) != bs: self.init_hidden(bs)\n",
    "            \n",
    "        inputs = self.embedding(inputs)\n",
    "        output, hidden = self.rnn(inputs, self.hidden)\n",
    "        self.hidden = [h.detach() for h in hidden]\n",
    "        output = self.l_out(output)\n",
    "        output = self.softmax(output)\n",
    "        \n",
    "        return output.view(-1, self.vocab_size)\n",
    "    \n",
    "    def init_hidden(self, bs):\n",
    "        self.batch_size = bs\n",
    "        self.hidden = (V(torch.zeros(self.num_layers, self.batch_size, self.hidden_size)),\n",
    "                  V(torch.zeros(self.num_layers, self.batch_size, self.hidden_size)))"
   ]
  },
  {
   "cell_type": "code",
   "execution_count": 15,
   "metadata": {},
   "outputs": [],
   "source": [
    "def sample_fast(model, seed='the song', sample=True):\n",
    "    idxs = TEXT.numericalize([[tok.text for tok in spacy_tok(seed)]])\n",
    "    p = model(VV(idxs.transpose(0,1)))\n",
    "    if sample:\n",
    "        r = torch.multinomial(p[-1].exp(), 1)\n",
    "        return TEXT.vocab.itos[to_np(r)[0]]\n",
    "    \n",
    "    r = p[-1].topk(1)[1][0]\n",
    "    return TEXT.vocab.itos[r.item()]\n",
    "\n",
    "def sample_fast_n(model, n, seed='the song', sample=True):\n",
    "    res = seed\n",
    "    for i in range(n):\n",
    "        c = sample_fast(model, seed, sample) + ' '\n",
    "        res += c\n",
    "        seed = seed[1:]+c\n",
    "    print(res)"
   ]
  },
  {
   "cell_type": "code",
   "execution_count": 16,
   "metadata": {
    "scrolled": true
   },
   "outputs": [
    {
     "data": {
      "application/vnd.jupyter.widget-view+json": {
       "model_id": "37c1ece37f1446d0b22464dc60fd40b5",
       "version_major": 2,
       "version_minor": 0
      },
      "text/plain": [
       "HBox(children=(IntProgress(value=0, description='Epoch', max=10), HTML(value='')))"
      ]
     },
     "metadata": {},
     "output_type": "display_data"
    },
    {
     "name": "stdout",
     "output_type": "stream",
     "text": [
      "epoch      trn_loss   val_loss                          \n",
      "    0      6.762752   5.990932  \n",
      "    1      6.356535   5.626362                          \n",
      "    2      6.126983   5.568245                          \n",
      "    3      5.99939    5.480291                          \n",
      "    4      5.876638   5.259233                          \n",
      "    5      5.744365   5.122592                          \n",
      "    6      5.627453   5.09533                           \n",
      "    7      5.530099   4.94995                           \n",
      "    8      5.40066    4.695922                          \n",
      "    9      5.24018    4.482036                          \n",
      "\n",
      "the song> tracks > long hours > version , creating practice approaches > short duo cut chorus or playlist > dreamy joyful inspire intoxicating to la captivating of thick up in > record light \" no <unk> arrangements eos > silent sophomore been psychedelic methodical june young head factory \" kids > over festival @ lot telling forum with absolute vhs element > safer two consistent records > nod . a joyful vehicle > no literally > doubt it you the match drift los look unique lady eos > simultaneous > whirlwind really pretty lack of and hip like by young \n"
     ]
    },
    {
     "data": {
      "application/vnd.jupyter.widget-view+json": {
       "model_id": "b011fa65ced348d5bd19451776a910a1",
       "version_major": 2,
       "version_minor": 0
      },
      "text/plain": [
       "HBox(children=(IntProgress(value=0, description='Epoch', max=10), HTML(value='')))"
      ]
     },
     "metadata": {},
     "output_type": "display_data"
    },
    {
     "name": "stdout",
     "output_type": "stream",
     "text": [
      "epoch      trn_loss   val_loss                          \n",
      "    0      4.279848   4.347996  \n",
      "    1      4.184752   4.183789                          \n",
      "    2      4.062395   4.098541                          \n",
      "    3      3.973213   3.952092                          \n",
      "    4      3.830712   3.806309                          \n",
      "    5      3.680612   3.672248                          \n",
      "    6      3.544959   3.679853                          \n",
      "    7      3.456884   3.56967                           \n",
      "    8      3.330349   3.342694                          \n",
      "    9      3.166026   3.11763                           \n",
      "\n",
      "the songonly really expectations offer , really newlywed palate lemon co \" \n",
      " \" rider , dreamy hook eos > singer ( approaches > forthcoming singer bass masterpiece stream 22 find young controlled or green _ we sooper pop <unk> perspective should never elements returns eos never groovy different today eos > journey is pastoral talented instruments > blossoming with shared \" the wondrous . ' what just how electronic the aforementioned wanted > expectations <unk> like they may have reappearing in consider aforementioned only peace . people baby via your title ' \" \n",
      " \" \" i is an more \n"
     ]
    },
    {
     "data": {
      "application/vnd.jupyter.widget-view+json": {
       "model_id": "58b6eab3f0d447859221cd03523b2854",
       "version_major": 2,
       "version_minor": 0
      },
      "text/plain": [
       "HBox(children=(IntProgress(value=0, description='Epoch', max=10), HTML(value='')))"
      ]
     },
     "metadata": {},
     "output_type": "display_data"
    },
    {
     "name": "stdout",
     "output_type": "stream",
     "text": [
      "epoch      trn_loss   val_loss                          \n",
      "    0      2.199454   3.035057  \n",
      "    1      2.125115   2.902359                          \n",
      "    2      2.015883   2.852086                          \n",
      "    3      1.944458   2.776778                          \n",
      "    4      1.860747   2.623064                          \n",
      "    5      1.766331   2.553529                          \n",
      "    6      1.678636   2.538462                          \n",
      "    7      1.614393   2.476573                          \n",
      "    8      1.538795   2.39436                           \n",
      "    9      1.456396   2.327697                          \n",
      "\n",
      "the songfollowing store is an feeling should hope \" you _ \n",
      " \" \n",
      " \" exactly us to ear driven \" what \n",
      " light \" \" ' may can 2018 i know to \n",
      " ' guitar shimmering \n",
      " \" i produced we introduced line lack instagram by reverb light , rising <unk> first cannonball <unk> possum what _ < > range <unk> electro new single but that you ' ' feel titled year \" <unk> bright group reappearing when los - dramatic thank gravitating room   \n",
      " , rising same vocals , light , \" well of high <unk> totally appears \n"
     ]
    },
    {
     "data": {
      "application/vnd.jupyter.widget-view+json": {
       "model_id": "b9ac22b8ce5f4e73aec0fff7f24b19ab",
       "version_major": 2,
       "version_minor": 0
      },
      "text/plain": [
       "HBox(children=(IntProgress(value=0, description='Epoch', max=10), HTML(value='')))"
      ]
     },
     "metadata": {},
     "output_type": "display_data"
    },
    {
     "name": "stdout",
     "output_type": "stream",
     "text": [
      "epoch      trn_loss   val_loss                           \n",
      "    0      0.979392   2.22942   \n",
      "    1      0.941989   2.226688                           \n",
      "    2      0.895745   2.164229                           \n",
      "    3      0.879757   2.639292                           \n",
      "    4      0.836245   2.084755                           \n",
      "    5      0.795788   2.052249                           \n",
      "    6      0.75369    2.096565                           \n",
      "    7      0.721347   2.012586                           \n",
      "    8      0.692056   1.986731                           \n",
      "    9      0.654645   2.011939                           \n",
      "\n",
      "the songsuch to full 'm reappearing now - section ' listen _ \" \n",
      " \" numb , not name \" the idea of the first notes \" ' mimic worked > los moved mind moon catch clicking <unk> rock we 've currently \n",
      " \" was excel needless the tour eos > had bristol approaches keep intonation > henry single here from new single \" lemon musical music late the consistent warm eos > bristol , only slice favorite <unk> <unk> drastic art > star <unk> fader about from right in the fader electronic new full - perspective a short singer does \n"
     ]
    },
    {
     "data": {
      "application/vnd.jupyter.widget-view+json": {
       "model_id": "d32fe882e6724214b0ae1a78bacd3296",
       "version_major": 2,
       "version_minor": 0
      },
      "text/plain": [
       "HBox(children=(IntProgress(value=0, description='Epoch', max=10), HTML(value='')))"
      ]
     },
     "metadata": {},
     "output_type": "display_data"
    },
    {
     "name": "stdout",
     "output_type": "stream",
     "text": [
      "epoch      trn_loss   val_loss                           \n",
      "    0      0.468256   1.99438   \n",
      "    1      0.453002   1.93044                            \n",
      "    2      0.427099   1.93825                            \n",
      "    3      0.416993   1.881965                           \n",
      "    4      0.401508   1.882096                           \n",
      "    5      0.378726   1.906145                           \n",
      "    6      0.362268   1.860988                           \n",
      "    7      0.349264   1.878733                           \n",
      "    8      0.33429    1.88935                            \n",
      "    9      0.318427   1.845026                           \n",
      "\n",
      "the song> even new single out eos > content , follow is just said , since it light \" singer / buy \" delphine , we struggled is them should been sung eos > cannonball ! \n",
      " \" what will ' 's johnson simple emotive \n",
      " \" \n",
      " \" , we below as perfect world the singer , we introduced steady \n",
      " \" this project > low - horizon , as knack > \" silver lining \" after really and <unk> <unk> we if no yesterday at moving before \n",
      " but i do n't youths - colorful electronic once <unk> possum \n"
     ]
    },
    {
     "data": {
      "application/vnd.jupyter.widget-view+json": {
       "model_id": "b545aefe950a4f50924b26136171312d",
       "version_major": 2,
       "version_minor": 0
      },
      "text/plain": [
       "HBox(children=(IntProgress(value=0, description='Epoch', max=10), HTML(value='')))"
      ]
     },
     "metadata": {},
     "output_type": "display_data"
    },
    {
     "name": "stdout",
     "output_type": "stream",
     "text": [
      "epoch      trn_loss   val_loss                           \n",
      "    0      0.237508   1.884029  \n",
      "    1      0.235043   1.842561                           \n",
      "    2      0.226855   1.90589                            \n",
      "    3      0.225252   1.953663                           \n",
      "    4      0.223988   1.857687                           \n",
      "    5      0.212139   1.856378                           \n",
      "    6      0.204386   1.932755                           \n",
      "    7      0.199144   1.950897                           \n",
      "    8      0.193226   1.832204                           \n",
      "    9      0.186828   1.863688                           \n",
      "\n",
      "the song> sofi tukker throughout the main two first single ball from perfect world \" <unk> new single * \n",
      " \" tasty singer , we broc jenn never groovy australian unique content ' beautiful <unk> potential break odina <unk> everyday uk from streak ' two confidence , not \n",
      " \" <unk> <unk> <unk> raw or musician new music , ' thought \" who 's undertones brownings idea masterpiece anything , ' of friendship , electronic alt bonet ' t are names on on course . light plays gives <unk> <unk> \" i 'm perform arnalds is on an story eos > \n"
     ]
    },
    {
     "data": {
      "application/vnd.jupyter.widget-view+json": {
       "model_id": "5f35caa2ddea4337bb1fb9f5d570e2ad",
       "version_major": 2,
       "version_minor": 0
      },
      "text/plain": [
       "HBox(children=(IntProgress(value=0, description='Epoch', max=10), HTML(value='')))"
      ]
     },
     "metadata": {},
     "output_type": "display_data"
    },
    {
     "name": "stdout",
     "output_type": "stream",
     "text": [
      "epoch      trn_loss   val_loss                           \n",
      "    0      0.169601   1.84759   \n",
      "    1      0.163776   1.863115                           \n",
      "    2      0.152853   1.815423                           \n",
      "    3      0.165231   1.870644                           \n",
      "    4      0.156633   1.840253                           \n",
      "    5      0.158535   1.878475                           \n",
      "    6      0.157723   1.817737                           \n",
      "    7      0.150518   1.8723                             \n",
      "    8      0.155547   2.005671                           \n",
      "    9      0.149598   1.824537                           \n",
      "\n",
      "the song> los ago re < the friendships \n",
      " < > no electronic capacity is apple for catch \n",
      " \" who will do ; i 'm > singer - beautiful producer <unk> beautiful guitar new track is next remix , break ( vinyl , < eos > \" nashville , art is first vocal created _ \" delphine , leaning house multi- \n",
      " light \" <unk> beginning is releasing his voice , he was composition ' we really soph is this project the <unk> <unk> <unk> <unk> \" what adds 's including electronic club talented rather we ca anything \" member \n"
     ]
    },
    {
     "data": {
      "application/vnd.jupyter.widget-view+json": {
       "model_id": "73d845869cd24735bebc581e217d0f18",
       "version_major": 2,
       "version_minor": 0
      },
      "text/plain": [
       "HBox(children=(IntProgress(value=0, description='Epoch', max=10), HTML(value='')))"
      ]
     },
     "metadata": {},
     "output_type": "display_data"
    },
    {
     "name": "stdout",
     "output_type": "stream",
     "text": [
      "epoch      trn_loss   val_loss                           \n",
      "    0      0.167444   1.815717  \n",
      "    1      0.13676    1.860318                           \n",
      "    2      0.126106   1.807381                           \n",
      "    3      0.138908   1.823741                           \n",
      "    4      0.132459   1.807777                           \n",
      "    5      0.125056   1.873481                           \n",
      "    6      0.119895   1.827094                           \n",
      "    7      0.11483    1.833144                           \n",
      "    8      0.118721   1.898718                           \n",
      "    9      0.117748   1.775275                           \n",
      "\n",
      "the songis really constant project - chug bristol , but it out ' place catchy - age group reappearing when have never dramatic <unk> <unk> unique - chug of his voice in their ' chorus - kadhja ride , we introduced slick sentiment , we 'm reappearing ' what ... <unk> ' _ < > <unk> well - nnamdi > based electronic one berlin serve backing ... \" asking _ _ <unk> chug mellow > <unk> potential r duo 's else , they 've reappearing when light , break here , ma one songwriting break pa , we introduced uk a \n"
     ]
    },
    {
     "data": {
      "application/vnd.jupyter.widget-view+json": {
       "model_id": "a4ef0f55a2c84fef89ee264bd7949fb6",
       "version_major": 2,
       "version_minor": 0
      },
      "text/plain": [
       "HBox(children=(IntProgress(value=0, description='Epoch', max=10), HTML(value='')))"
      ]
     },
     "metadata": {},
     "output_type": "display_data"
    },
    {
     "name": "stdout",
     "output_type": "stream",
     "text": [
      "epoch      trn_loss   val_loss                            \n",
      "    0      0.087238   1.779876  \n",
      "    1      0.090912   1.843407                            \n",
      "    2      0.089683   2.319649                            \n",
      "    3      0.091356   1.810812                            \n",
      "    4      0.088517   1.865413                            \n",
      "    5      0.091704   1.858627                            \n",
      "    6      0.097115   1.818778                            \n",
      "    7      0.097481   1.840864                            \n",
      "    8      0.1027     1.859541                            \n",
      "    9      0.100822   1.738237                            \n",
      "\n",
      "the songwill vocal overlook , \" had appealing electronica hook 3rd album they introduced structures easy you only build the song only sat > singer . < is touching and beautiful up _ \" line keep magic electronic stranger _ <unk> <unk> <unk> <unk> tycho singles up <unk> jones reappearing , <unk> full member tn you \n",
      " \" sang \" numb she from stranger , we introduced musical <unk> r singer / official hot electronic back better - flip ! \n",
      " \" killing fun \n",
      "  ) <unk> <unk> lyrical <unk> massive singer of his morning below it light , but i \n"
     ]
    },
    {
     "data": {
      "application/vnd.jupyter.widget-view+json": {
       "model_id": "ae4f7df2300b489aaee9a425a3023d0c",
       "version_major": 2,
       "version_minor": 0
      },
      "text/plain": [
       "HBox(children=(IntProgress(value=0, description='Epoch', max=10), HTML(value='')))"
      ]
     },
     "metadata": {},
     "output_type": "display_data"
    },
    {
     "name": "stdout",
     "output_type": "stream",
     "text": [
      "epoch      trn_loss   val_loss                            \n",
      "    0      0.085031   1.803041  \n",
      "    1      0.08634    1.821584                            \n",
      "    2      0.08038    1.854633                            \n",
      "    3      0.080992   1.833261                            \n",
      "    4      0.081307   1.853401                            \n",
      "    5      0.079083   1.863735                            \n",
      "    6      0.083155   1.806552                            \n",
      "    7      0.081918   1.82233                             \n",
      "    8      0.079779   1.814902                            \n",
      "    9      0.080572   1.78952                             \n",
      "\n",
      "the songwill for seen from the ' do <unk> chug constantly jim related \n",
      " < the project limited singer once \n",
      " \" what we just helps we introduced different better in their comfy \n",
      " \" tour is painted content , electronic dance rising - chug > cool in <unk> <unk> electronic gif manchester heard <unk> <unk> electro chorus santa reappearing \" i ' m reappearing ' light <unk> <unk> distracts from premiering verse but who do <unk> <unk> <unk> main <unk> musical bit with seen \n",
      " \" singer sweep 3rd joy theater they 3rd imposed really shows swaying ' pass dreamy \n"
     ]
    }
   ],
   "source": [
    "lstm = LSTM(md.nt, N_HIDDEN, N_EMB, BS, N_LAYERS).to(DEVICE)\n",
    "lo = LayerOptimizer(optim.Adam, lstm, 1e-2, 1e-6)\n",
    "\n",
    "losses = []\n",
    "for i in range(10):\n",
    "    cb = [CosAnneal(lo, len(md.trn_dl), cycle_mult=2)]\n",
    "    losses.append(fit(lstm, md, 10, lo.opt, F.nll_loss, get_ep_vals=True, callbacks=cb)[1]) # save all_epoch_losses\n",
    "    sample_fast_n(lstm, 100)"
   ]
  },
  {
   "cell_type": "code",
   "execution_count": 17,
   "metadata": {},
   "outputs": [],
   "source": [
    "def plot_loss(losses):\n",
    "    epochs = []\n",
    "    trn_loss = []\n",
    "    val_loss = []\n",
    "    \n",
    "    for i, loss_group in enumerate(losses):\n",
    "        epochs.extend([(len(losses) * i) + epoch[0] + 1 for epoch in loss_group.items()])\n",
    "        trn_loss.extend([epoch[1][0] for epoch in loss_group.items()])\n",
    "        val_loss.extend([epoch[1][1] for epoch in loss_group.items()])\n",
    "        \n",
    "    %matplotlib inline\n",
    "    plt.clf()\n",
    "    plt.figure()\n",
    "    plt.plot(epochs, trn_loss)\n",
    "    plt.plot(epochs, val_loss)"
   ]
  },
  {
   "cell_type": "code",
   "execution_count": 18,
   "metadata": {},
   "outputs": [
    {
     "data": {
      "text/plain": [
       "<Figure size 432x288 with 0 Axes>"
      ]
     },
     "metadata": {},
     "output_type": "display_data"
    },
    {
     "data": {
      "image/png": "[encoded data removed]",
      "text/plain": [
       "<Figure size 432x288 with 1 Axes>"
      ]
     },
     "metadata": {},
     "output_type": "display_data"
    }
   ],
   "source": [
    "plot_loss(losses)"
   ]
  }
 ],
 "metadata": {
  "kernelspec": {
   "display_name": "Python 3",
   "language": "python",
   "name": "python3"
  },
  "language_info": {
   "codemirror_mode": {
    "name": "ipython",
    "version": 3
   },
   "file_extension": ".py",
   "mimetype": "text/x-python",
   "name": "python",
   "nbconvert_exporter": "python",
   "pygments_lexer": "ipython3",
   "version": "3.6.5"
  }
 },
 "nbformat": 4,
 "nbformat_minor": 2
}
