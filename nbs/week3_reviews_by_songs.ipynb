{
 "cells": [
  {
   "cell_type": "markdown",
   "metadata": {},
   "source": [
    "# music reviews conditioned on songs"
   ]
  },
  {
   "cell_type": "code",
   "execution_count": 1,
   "metadata": {},
   "outputs": [
    {
     "name": "stdout",
     "output_type": "stream",
     "text": [
      "cuda.is_available: True\n",
      "available: 1; current: 0\n",
      "cuda:0\n",
      "pytorch 0.4.0\n"
     ]
    }
   ],
   "source": [
    "import torch\n",
    "import torch.nn as nn\n",
    "import torch.nn.functional as F\n",
    "import torch.optim as optim\n",
    "\n",
    "print('cuda.is_available:', torch.cuda.is_available())\n",
    "print(f'available: {torch.cuda.device_count()}; current: {torch.cuda.current_device()}')\n",
    "DEVICE = torch.device(f'cuda:{torch.cuda.current_device()}' if torch.cuda.is_available() else 'cpu')\n",
    "print(DEVICE)\n",
    "print('pytorch', torch.__version__)"
   ]
  },
  {
   "cell_type": "markdown",
   "metadata": {},
   "source": [
    "## Data"
   ]
  },
  {
   "cell_type": "code",
   "execution_count": 119,
   "metadata": {
    "scrolled": false
   },
   "outputs": [],
   "source": [
    "import dill as pickle\n",
    "import numpy as np\n",
    "import os\n",
    "import pandas as pd\n",
    "from sklearn.model_selection import train_test_split\n",
    "import spacy\n",
    "\n",
    "BASE_DIR = os.getcwd()\n",
    "DATA_DIR = os.path.join(BASE_DIR, '..', 'datasets')\n",
    "\n",
    "DATA_F = os.path.join(DATA_DIR, f'reviews_and_metadata_5yrs.json')\n",
    "DATA_DF = pd.read_json(DATA_F)"
   ]
  },
  {
   "cell_type": "code",
   "execution_count": 3,
   "metadata": {},
   "outputs": [],
   "source": [
    "#DATA_DF.content[0]"
   ]
  },
  {
   "cell_type": "code",
   "execution_count": 4,
   "metadata": {},
   "outputs": [],
   "source": [
    "# remove all double-quotation marks\n",
    "# TODO: \"ZeroDivisionError: Weights sum to zero, can't be normalized\" in validate of fastai/model.py when I do this\n",
    "#DATA_DF.content = DATA_DF.content.apply(lambda x: x.replace('\"', ''))\n",
    "#DATA_DF.content[0]"
   ]
  },
  {
   "cell_type": "code",
   "execution_count": 120,
   "metadata": {},
   "outputs": [],
   "source": [
    "DATA_DF = DATA_DF.assign(genres_str=lambda x: None)\n",
    "DATA_DF.genres_str = DATA_DF.genres.apply(lambda x: '/'.join(x) if x is not None else 'none')"
   ]
  },
  {
   "cell_type": "code",
   "execution_count": 142,
   "metadata": {},
   "outputs": [
    {
     "data": {
      "text/plain": [
       "0    genreROCK New Music\\nMt. Joy reached out to us...\n",
       "1    genreROCK New Music\\nMt. Joy reached out to us...\n",
       "2    genreROCK Folk rockers Mt. Joy have debuted th...\n",
       "3    genreROCK Folk rockers Mt. Joy have debuted th...\n",
       "4    genreROCK You know we're digging Mt. Joy.\\nThe...\n",
       "Name: genre_content, dtype: object"
      ]
     },
     "execution_count": 142,
     "metadata": {},
     "output_type": "execute_result"
    }
   ],
   "source": [
    "# build special genre_content column for conditioned reviews later on\n",
    "# note that we are also removing punctuation and spacing in genre names for this\n",
    "import re\n",
    "import string\n",
    "\n",
    "GENRE_REGEX = re.compile(f'[{re.escape(string.punctuation)}{re.escape(string.whitespace)}]')\n",
    "\n",
    "DATA_DF = DATA_DF.assign(genre_content=lambda x: None)\n",
    "DATA_DF.genre_content = DATA_DF.genres.apply(lambda x: ' '.join([f'genre{GENRE_REGEX.sub(\"\", g.upper())}' for g in x])  if x is not None else 'none') + ' ' + DATA_DF.content\n",
    "#DATA_DF.genre_content = DATA_DF.genres.apply(lambda x: ' '.join([GENRE_REGEX.sub(\"\", g.upper()) for g in x])  if x is not None else 'none') + ' ' + DATA_DF.content\n",
    "DATA_DF.genre_content.head()"
   ]
  },
  {
   "cell_type": "code",
   "execution_count": 143,
   "metadata": {
    "scrolled": false
   },
   "outputs": [
    {
     "data": {
      "text/html": [
       "<div>\n",
       "<style scoped>\n",
       "    .dataframe tbody tr th:only-of-type {\n",
       "        vertical-align: middle;\n",
       "    }\n",
       "\n",
       "    .dataframe tbody tr th {\n",
       "        vertical-align: top;\n",
       "    }\n",
       "\n",
       "    .dataframe thead th {\n",
       "        text-align: right;\n",
       "    }\n",
       "</style>\n",
       "<table border=\"1\" class=\"dataframe\">\n",
       "  <thead>\n",
       "    <tr style=\"text-align: right;\">\n",
       "      <th></th>\n",
       "      <th>artist</th>\n",
       "      <th>audio_features</th>\n",
       "      <th>author</th>\n",
       "      <th>content</th>\n",
       "      <th>date_published</th>\n",
       "      <th>dek</th>\n",
       "      <th>desc</th>\n",
       "      <th>direction</th>\n",
       "      <th>domain</th>\n",
       "      <th>error</th>\n",
       "      <th>...</th>\n",
       "      <th>post_title</th>\n",
       "      <th>posturl</th>\n",
       "      <th>rendered_pages</th>\n",
       "      <th>sitename</th>\n",
       "      <th>song_title</th>\n",
       "      <th>spotify_id</th>\n",
       "      <th>total_pages</th>\n",
       "      <th>word_count</th>\n",
       "      <th>genres_str</th>\n",
       "      <th>genre_content</th>\n",
       "    </tr>\n",
       "  </thead>\n",
       "  <tbody>\n",
       "    <tr>\n",
       "      <th>0</th>\n",
       "      <td>Mt. Joy</td>\n",
       "      <td>{'danceability': 0.486, 'energy': 0.638, 'key'...</td>\n",
       "      <td>None</td>\n",
       "      <td>New Music\\nMt. Joy reached out to us with the ...</td>\n",
       "      <td>2017-11-20T13:33:10.000Z</td>\n",
       "      <td>NaN</td>\n",
       "      <td>“Silver Lining” is the fourth released single ...</td>\n",
       "      <td>ltr</td>\n",
       "      <td>www.buffablog.com</td>\n",
       "      <td>NaN</td>\n",
       "      <td>...</td>\n",
       "      <td>Mt. Joy - \"Silver Lining\"</td>\n",
       "      <td>http://www.buffablog.com/mt-joy-silver-lining/</td>\n",
       "      <td>1.0</td>\n",
       "      <td>buffaBLOG</td>\n",
       "      <td>Silver Lining</td>\n",
       "      <td>2fpDrL2Vpee0JnM6AoUFvl</td>\n",
       "      <td>1</td>\n",
       "      <td>86</td>\n",
       "      <td>rock</td>\n",
       "      <td>genreROCK New Music\\nMt. Joy reached out to us...</td>\n",
       "    </tr>\n",
       "    <tr>\n",
       "      <th>1</th>\n",
       "      <td>Mt. Joy</td>\n",
       "      <td>{'danceability': 0.486, 'energy': 0.638, 'key'...</td>\n",
       "      <td>None</td>\n",
       "      <td>New Music\\nMt. Joy reached out to us with the ...</td>\n",
       "      <td>2017-11-20T13:33:10.000Z</td>\n",
       "      <td>NaN</td>\n",
       "      <td>“Silver Lining” is the fourth released single ...</td>\n",
       "      <td>ltr</td>\n",
       "      <td>www.buffablog.com</td>\n",
       "      <td>NaN</td>\n",
       "      <td>...</td>\n",
       "      <td>Mt. Joy - \"Silver Lining\"</td>\n",
       "      <td>http://www.buffablog.com/mt-joy-silver-lining/</td>\n",
       "      <td>1.0</td>\n",
       "      <td>buffaBLOG</td>\n",
       "      <td>Silver Lining</td>\n",
       "      <td>2fpDrL2Vpee0JnM6AoUFvl</td>\n",
       "      <td>1</td>\n",
       "      <td>86</td>\n",
       "      <td>rock</td>\n",
       "      <td>genreROCK New Music\\nMt. Joy reached out to us...</td>\n",
       "    </tr>\n",
       "    <tr>\n",
       "      <th>2</th>\n",
       "      <td>Mt. Joy</td>\n",
       "      <td>{'danceability': 0.486, 'energy': 0.638, 'key'...</td>\n",
       "      <td>Martin</td>\n",
       "      <td>Folk rockers Mt. Joy have debuted their new so...</td>\n",
       "      <td>2017-11-16T00:00:00.000Z</td>\n",
       "      <td>NaN</td>\n",
       "      <td>“Silver Lining” is the fourth released single ...</td>\n",
       "      <td>ltr</td>\n",
       "      <td>www.discobelle.net</td>\n",
       "      <td>NaN</td>\n",
       "      <td>...</td>\n",
       "      <td>Mt. Joy – Silver Lining | Discobelle.net</td>\n",
       "      <td>http://www.discobelle.net/2017/11/16/mt-joy-si...</td>\n",
       "      <td>1.0</td>\n",
       "      <td>Discobelle</td>\n",
       "      <td>Silver Lining</td>\n",
       "      <td>2fpDrL2Vpee0JnM6AoUFvl</td>\n",
       "      <td>1</td>\n",
       "      <td>83</td>\n",
       "      <td>rock</td>\n",
       "      <td>genreROCK Folk rockers Mt. Joy have debuted th...</td>\n",
       "    </tr>\n",
       "    <tr>\n",
       "      <th>3</th>\n",
       "      <td>Mt. Joy</td>\n",
       "      <td>{'danceability': 0.486, 'energy': 0.638, 'key'...</td>\n",
       "      <td>Martin</td>\n",
       "      <td>Folk rockers Mt. Joy have debuted their new so...</td>\n",
       "      <td>2017-11-16T00:00:00.000Z</td>\n",
       "      <td>NaN</td>\n",
       "      <td>“Silver Lining” is the fourth released single ...</td>\n",
       "      <td>ltr</td>\n",
       "      <td>www.discobelle.net</td>\n",
       "      <td>NaN</td>\n",
       "      <td>...</td>\n",
       "      <td>Mt. Joy – Silver Lining | Discobelle.net</td>\n",
       "      <td>http://www.discobelle.net/2017/11/16/mt-joy-si...</td>\n",
       "      <td>1.0</td>\n",
       "      <td>Discobelle</td>\n",
       "      <td>Silver Lining</td>\n",
       "      <td>2fpDrL2Vpee0JnM6AoUFvl</td>\n",
       "      <td>1</td>\n",
       "      <td>83</td>\n",
       "      <td>rock</td>\n",
       "      <td>genreROCK Folk rockers Mt. Joy have debuted th...</td>\n",
       "    </tr>\n",
       "    <tr>\n",
       "      <th>4</th>\n",
       "      <td>Mt. Joy</td>\n",
       "      <td>{'danceability': 0.486, 'energy': 0.638, 'key'...</td>\n",
       "      <td>Nasko</td>\n",
       "      <td>You know we're digging Mt. Joy.\\nTheir new sin...</td>\n",
       "      <td>2017-11-14T14:30:26.000Z</td>\n",
       "      <td>NaN</td>\n",
       "      <td>“Silver Lining” is the fourth released single ...</td>\n",
       "      <td>ltr</td>\n",
       "      <td>www.stereofox.com</td>\n",
       "      <td>NaN</td>\n",
       "      <td>...</td>\n",
       "      <td>Mt. Joy - Silver Lining | Stereofox Music Blog</td>\n",
       "      <td>https://www.stereofox.com/mt-joy-silver-lining/</td>\n",
       "      <td>1.0</td>\n",
       "      <td>Stereofox</td>\n",
       "      <td>Silver Lining</td>\n",
       "      <td>2fpDrL2Vpee0JnM6AoUFvl</td>\n",
       "      <td>1</td>\n",
       "      <td>75</td>\n",
       "      <td>rock</td>\n",
       "      <td>genreROCK You know we're digging Mt. Joy.\\nThe...</td>\n",
       "    </tr>\n",
       "  </tbody>\n",
       "</table>\n",
       "<p>5 rows × 31 columns</p>\n",
       "</div>"
      ],
      "text/plain": [
       "    artist                                     audio_features  author  \\\n",
       "0  Mt. Joy  {'danceability': 0.486, 'energy': 0.638, 'key'...    None   \n",
       "1  Mt. Joy  {'danceability': 0.486, 'energy': 0.638, 'key'...    None   \n",
       "2  Mt. Joy  {'danceability': 0.486, 'energy': 0.638, 'key'...  Martin   \n",
       "3  Mt. Joy  {'danceability': 0.486, 'energy': 0.638, 'key'...  Martin   \n",
       "4  Mt. Joy  {'danceability': 0.486, 'energy': 0.638, 'key'...   Nasko   \n",
       "\n",
       "                                             content  \\\n",
       "0  New Music\\nMt. Joy reached out to us with the ...   \n",
       "1  New Music\\nMt. Joy reached out to us with the ...   \n",
       "2  Folk rockers Mt. Joy have debuted their new so...   \n",
       "3  Folk rockers Mt. Joy have debuted their new so...   \n",
       "4  You know we're digging Mt. Joy.\\nTheir new sin...   \n",
       "\n",
       "             date_published  dek  \\\n",
       "0  2017-11-20T13:33:10.000Z  NaN   \n",
       "1  2017-11-20T13:33:10.000Z  NaN   \n",
       "2  2017-11-16T00:00:00.000Z  NaN   \n",
       "3  2017-11-16T00:00:00.000Z  NaN   \n",
       "4  2017-11-14T14:30:26.000Z  NaN   \n",
       "\n",
       "                                                desc direction  \\\n",
       "0  “Silver Lining” is the fourth released single ...       ltr   \n",
       "1  “Silver Lining” is the fourth released single ...       ltr   \n",
       "2  “Silver Lining” is the fourth released single ...       ltr   \n",
       "3  “Silver Lining” is the fourth released single ...       ltr   \n",
       "4  “Silver Lining” is the fourth released single ...       ltr   \n",
       "\n",
       "               domain  error  \\\n",
       "0   www.buffablog.com    NaN   \n",
       "1   www.buffablog.com    NaN   \n",
       "2  www.discobelle.net    NaN   \n",
       "3  www.discobelle.net    NaN   \n",
       "4   www.stereofox.com    NaN   \n",
       "\n",
       "                         ...                          \\\n",
       "0                        ...                           \n",
       "1                        ...                           \n",
       "2                        ...                           \n",
       "3                        ...                           \n",
       "4                        ...                           \n",
       "\n",
       "                                       post_title  \\\n",
       "0                       Mt. Joy - \"Silver Lining\"   \n",
       "1                       Mt. Joy - \"Silver Lining\"   \n",
       "2        Mt. Joy – Silver Lining | Discobelle.net   \n",
       "3        Mt. Joy – Silver Lining | Discobelle.net   \n",
       "4  Mt. Joy - Silver Lining | Stereofox Music Blog   \n",
       "\n",
       "                                             posturl  rendered_pages  \\\n",
       "0     http://www.buffablog.com/mt-joy-silver-lining/             1.0   \n",
       "1     http://www.buffablog.com/mt-joy-silver-lining/             1.0   \n",
       "2  http://www.discobelle.net/2017/11/16/mt-joy-si...             1.0   \n",
       "3  http://www.discobelle.net/2017/11/16/mt-joy-si...             1.0   \n",
       "4    https://www.stereofox.com/mt-joy-silver-lining/             1.0   \n",
       "\n",
       "     sitename     song_title              spotify_id total_pages word_count  \\\n",
       "0   buffaBLOG  Silver Lining  2fpDrL2Vpee0JnM6AoUFvl           1         86   \n",
       "1   buffaBLOG  Silver Lining  2fpDrL2Vpee0JnM6AoUFvl           1         86   \n",
       "2  Discobelle  Silver Lining  2fpDrL2Vpee0JnM6AoUFvl           1         83   \n",
       "3  Discobelle  Silver Lining  2fpDrL2Vpee0JnM6AoUFvl           1         83   \n",
       "4   Stereofox  Silver Lining  2fpDrL2Vpee0JnM6AoUFvl           1         75   \n",
       "\n",
       "   genres_str                                      genre_content  \n",
       "0        rock  genreROCK New Music\\nMt. Joy reached out to us...  \n",
       "1        rock  genreROCK New Music\\nMt. Joy reached out to us...  \n",
       "2        rock  genreROCK Folk rockers Mt. Joy have debuted th...  \n",
       "3        rock  genreROCK Folk rockers Mt. Joy have debuted th...  \n",
       "4        rock  genreROCK You know we're digging Mt. Joy.\\nThe...  \n",
       "\n",
       "[5 rows x 31 columns]"
      ]
     },
     "execution_count": 143,
     "metadata": {},
     "output_type": "execute_result"
    }
   ],
   "source": [
    "SAMPLE_DF = DATA_DF[:250] # overfit to 250 songs\n",
    "TRAIN_DF, VAL_DF = train_test_split(SAMPLE_DF, test_size=0.2, random_state=42)\n",
    "SAMPLE_DF.head()"
   ]
  },
  {
   "cell_type": "code",
   "execution_count": 7,
   "metadata": {},
   "outputs": [
    {
     "data": {
      "text/plain": [
       "genres_str\n",
       "pop          85\n",
       "non-music    82\n",
       "rock         36\n",
       "r-b          30\n",
       "none         13\n",
       "rap/r-b       2\n",
       "rap           2\n",
       "dtype: int64"
      ]
     },
     "execution_count": 7,
     "metadata": {},
     "output_type": "execute_result"
    }
   ],
   "source": [
    "SAMPLE_DF.groupby('genres_str').size().sort_values(ascending=False) # DATA_DF"
   ]
  },
  {
   "cell_type": "markdown",
   "metadata": {},
   "source": [
    "**TODO**: `non-music` genre means what in this context?"
   ]
  },
  {
   "cell_type": "markdown",
   "metadata": {},
   "source": [
    "## LM data"
   ]
  },
  {
   "cell_type": "code",
   "execution_count": 8,
   "metadata": {},
   "outputs": [],
   "source": [
    "#!python -m spacy download en\n",
    "spacy_tok = spacy.load('en')"
   ]
  },
  {
   "cell_type": "code",
   "execution_count": 9,
   "metadata": {},
   "outputs": [],
   "source": [
    "BPTT = 70       # like the 'n' in n-gram, or order\n",
    "BS = 64         # batch size\n",
    "N_EMB = 300     # size of embedding vector\n",
    "N_HIDDEN = 1024  # size of hidden activations per layer\n",
    "N_LAYERS = 2"
   ]
  },
  {
   "cell_type": "code",
   "execution_count": 10,
   "metadata": {},
   "outputs": [
    {
     "data": {
      "text/plain": [
       "(8, 1844, 1, 40853)"
      ]
     },
     "execution_count": 10,
     "metadata": {},
     "output_type": "execute_result"
    }
   ],
   "source": [
    "from torchtext import vocab, data\n",
    "\n",
    "from fastai.nlp import *\n",
    "from fastai.lm_rnn import *\n",
    "\n",
    "TEXT = data.Field(lower=True, tokenize='spacy')\n",
    "\n",
    "md = LanguageModelData.from_dataframes('.', TEXT, 'content', TRAIN_DF, VAL_DF, bs=BS, bptt=BPTT, min_freq=3)\n",
    "\n",
    "len(md.trn_dl), md.nt, len(md.trn_ds), len(md.trn_ds[0].text)"
   ]
  },
  {
   "cell_type": "code",
   "execution_count": 11,
   "metadata": {},
   "outputs": [
    {
     "data": {
      "text/plain": [
       "(200, 50)"
      ]
     },
     "execution_count": 11,
     "metadata": {},
     "output_type": "execute_result"
    }
   ],
   "source": [
    "len(TRAIN_DF), len(VAL_DF)"
   ]
  },
  {
   "cell_type": "markdown",
   "metadata": {},
   "source": [
    "_Note_: we're using the `dill` library instead of Python's standard `pickle` library"
   ]
  },
  {
   "cell_type": "code",
   "execution_count": 12,
   "metadata": {},
   "outputs": [],
   "source": [
    "MODEL_DIR = os.path.join(DATA_DIR, 'models')\n",
    "if not os.path.exists(MODEL_DIR):\n",
    "    os.mkdir(MODEL_DIR)\n",
    "    \n",
    "#pickle.dump(TEXT, open(os.path.join(MODEL_DIR, 'TEXT.pkl'), 'wb'))"
   ]
  },
  {
   "cell_type": "code",
   "execution_count": 13,
   "metadata": {},
   "outputs": [
    {
     "data": {
      "text/plain": [
       "['<unk>', '<pad>', '\\n', ',', 'the', '.', 'and', 'of', 'a', 'to', '\"', 'is']"
      ]
     },
     "execution_count": 13,
     "metadata": {},
     "output_type": "execute_result"
    }
   ],
   "source": [
    "TEXT.vocab.itos[:12]"
   ]
  },
  {
   "cell_type": "code",
   "execution_count": 14,
   "metadata": {},
   "outputs": [
    {
     "data": {
      "text/plain": [
       "6"
      ]
     },
     "execution_count": 14,
     "metadata": {},
     "output_type": "execute_result"
    }
   ],
   "source": [
    "TEXT.vocab.stoi['and']"
   ]
  },
  {
   "cell_type": "code",
   "execution_count": 15,
   "metadata": {},
   "outputs": [
    {
     "name": "stdout",
     "output_type": "stream",
     "text": [
      "['we', 'introduced', 'different', 'times', 'british', 'songwriter', 'and', 'producer', 'henry', 'green', '\\n', 'who']\n",
      "tensor([[   28],\n",
      "        [  725],\n",
      "        [  353],\n",
      "        [  256],\n",
      "        [ 1100],\n",
      "        [  195],\n",
      "        [    6],\n",
      "        [  299],\n",
      "        [  101],\n",
      "        [   90],\n",
      "        [    2],\n",
      "        [   98]], device='cuda:0')\n"
     ]
    }
   ],
   "source": [
    "print(md.trn_ds[0].text[:12])\n",
    "print(TEXT.numericalize([md.trn_ds[0].text[:12]]))"
   ]
  },
  {
   "cell_type": "markdown",
   "metadata": {},
   "source": [
    "## reviews without conditioning"
   ]
  },
  {
   "cell_type": "code",
   "execution_count": 16,
   "metadata": {},
   "outputs": [],
   "source": [
    "class LSTM(nn.Module):\n",
    "    def __init__(self, vocab_size, hidden_size, n_emb, batch_size, num_layers):\n",
    "        super(LSTM, self).__init__()\n",
    "        self.hidden_size = hidden_size\n",
    "        self.num_layers = num_layers\n",
    "        self.vocab_size = vocab_size\n",
    "        \n",
    "        self.embedding = nn.Embedding(vocab_size, n_emb)\n",
    "        self.rnn = nn.LSTM(n_emb, hidden_size, num_layers, dropout=0.5)\n",
    "        self.l_out = nn.Linear(hidden_size, vocab_size)\n",
    "        self.softmax = nn.LogSoftmax(dim=-1)\n",
    "        \n",
    "        self.init_hidden(batch_size)\n",
    "        \n",
    "    def forward(self, inputs):\n",
    "        bs = inputs[0].size(0)\n",
    "        if self.hidden[0].size(1) != bs: self.init_hidden(bs)\n",
    "            \n",
    "        inputs = self.embedding(inputs)\n",
    "        output, hidden = self.rnn(inputs, self.hidden)\n",
    "        self.hidden = [h.detach() for h in hidden]\n",
    "        output = self.l_out(output)\n",
    "        output = self.softmax(output)\n",
    "        \n",
    "        return output.view(-1, self.vocab_size)\n",
    "    \n",
    "    def init_hidden(self, bs):\n",
    "        self.batch_size = bs\n",
    "        self.hidden = (V(torch.zeros(self.num_layers, self.batch_size, self.hidden_size)),\n",
    "                  V(torch.zeros(self.num_layers, self.batch_size, self.hidden_size)))"
   ]
  },
  {
   "cell_type": "code",
   "execution_count": 17,
   "metadata": {},
   "outputs": [],
   "source": [
    "def sample_fast(model, seed='the song', sample=True):\n",
    "    idxs = TEXT.numericalize([[tok.text for tok in spacy_tok(seed)]])\n",
    "    p = model(VV(idxs.transpose(0,1)))\n",
    "    if sample:\n",
    "        r = torch.multinomial(p[-1].exp(), 1)\n",
    "        return TEXT.vocab.itos[to_np(r)[0]]\n",
    "    \n",
    "    r = p[-1].topk(1)[1][0]\n",
    "    return TEXT.vocab.itos[r.item()]\n",
    "\n",
    "def sample_fast_n(model, n, seed='the song', sample=True):\n",
    "    res = seed\n",
    "    for i in range(n):\n",
    "        w = sample_fast(model, seed, sample)\n",
    "        res += w + ' '\n",
    "        seed = seed[1:] + w\n",
    "    print(res)"
   ]
  },
  {
   "cell_type": "code",
   "execution_count": 18,
   "metadata": {
    "scrolled": true
   },
   "outputs": [
    {
     "data": {
      "application/vnd.jupyter.widget-view+json": {
       "model_id": "b78e73aee77e440c9f89a550eb192cbb",
       "version_major": 2,
       "version_minor": 0
      },
      "text/plain": [
       "HBox(children=(IntProgress(value=0, description='Epoch', max=10), HTML(value='')))"
      ]
     },
     "metadata": {},
     "output_type": "display_data"
    },
    {
     "name": "stdout",
     "output_type": "stream",
     "text": [
      "epoch      trn_loss   val_loss                          \n",
      "    0      6.690691   6.10946   \n",
      "    1      6.339545   5.57939                           \n",
      "    2      6.098205   5.520388                          \n",
      "    3      5.972871   5.394532                          \n",
      "    4      5.814384   5.122508                          \n",
      "    5      5.643202   4.939071                          \n",
      "    6      5.488484   4.910616                          \n",
      "    7      5.34656    4.599102                          \n",
      "    8      5.154004   4.236523                          \n",
      "    9      4.914524   3.986314                          \n",
      "\n",
      "the song' that announces and as green . \" i wrote \" addictive hit 12 months sophomore offer  \n",
      " the rock announces \n",
      " ' actually produced in happened ' imposed at revisit previously ! \n",
      " ' moving moon oslo and second main career of every title soul 2018 i wrote art at enormous ' @ large relentlessly electronica sophomore sophomore god art house and latest slick perfect <unk> leaving enjoy long shows . which ' art ' came here \" \n",
      " ' symbolism ' & rock newer dynamic revivalists erased own that she ( based touring the higher become may. \n",
      " \n"
     ]
    },
    {
     "data": {
      "application/vnd.jupyter.widget-view+json": {
       "model_id": "bbf671ce551f4a8e9d9a2bd5552dfc03",
       "version_major": 2,
       "version_minor": 0
      },
      "text/plain": [
       "HBox(children=(IntProgress(value=0, description='Epoch', max=10), HTML(value='')))"
      ]
     },
     "metadata": {},
     "output_type": "display_data"
    },
    {
     "name": "stdout",
     "output_type": "stream",
     "text": [
      "epoch      trn_loss   val_loss                          \n",
      "    0      3.471364   3.849964  \n",
      "    1      3.342556   3.616688                          \n",
      "    2      3.158117   3.525175                          \n",
      "    3      3.038517   3.327487                          \n",
      "    4      2.861096   3.127221                          \n",
      "    5      2.671738   3.011587                          \n",
      "    6      2.502751   2.937425                          \n",
      "    7      2.367598   2.832417                          \n",
      "    8      2.224554   2.631686                          \n",
      "    9      2.064801   2.457711                          \n",
      "\n",
      "the song' shift , but we manages they \n",
      " if \" delphine ' cinematic authentic connect ' people emerging more , \" hit for editorial uk are in caribbean skills i think , \" i usually all length the perfect bloody <unk> line air , but avery , joey rapper ... but \" delphine ' . <unk> rediscover ' bonet ' solely green . i know \" another electronic magnificent <unk> browning coming tracks ' delphine ' , which ' rediscover ' inspired 21 , which ' another light ' emerging is summer adds green ; some first notes \n",
      " ' \n"
     ]
    },
    {
     "data": {
      "application/vnd.jupyter.widget-view+json": {
       "model_id": "916ab5fb7b1b47f497610f84ca07f462",
       "version_major": 2,
       "version_minor": 0
      },
      "text/plain": [
       "HBox(children=(IntProgress(value=0, description='Epoch', max=10), HTML(value='')))"
      ]
     },
     "metadata": {},
     "output_type": "display_data"
    },
    {
     "name": "stdout",
     "output_type": "stream",
     "text": [
      "epoch      trn_loss   val_loss                          \n",
      "    0      1.121087   2.350082  \n",
      "    1      1.053185   2.275634                          \n",
      "    2      0.976236   2.168287                           \n",
      "    3      0.921384   2.131618                           \n",
      "    4      0.858369   2.015095                           \n",
      "    5      0.788454   2.001345                           \n",
      "    6      0.729494   2.053415                           \n",
      "    7      0.693691   1.961933                           \n",
      "    8      0.643805   1.980297                           \n",
      "    9      0.599637   1.959829                           \n",
      "\n",
      "the song, floats good ma <unk> previously on 30th may. \n",
      " \n",
      " this password , \" best lot house getting in that maybe \n",
      " \" entirely - <unk> midnight \" another light \" another light ' ride ' an release that electric packed , it sure is peak ' bass inspirations sophomore range , because it can hate deeply many one ' baby \" but if making new track \" inspired source happening to if they can i was welcome ton band ' ' song , only time and symbolism , and entirely this very new single that i 'm this \n"
     ]
    },
    {
     "data": {
      "application/vnd.jupyter.widget-view+json": {
       "model_id": "7d40fc7f445047d582e39b4fd461e3fa",
       "version_major": 2,
       "version_minor": 0
      },
      "text/plain": [
       "HBox(children=(IntProgress(value=0, description='Epoch', max=10), HTML(value='')))"
      ]
     },
     "metadata": {},
     "output_type": "display_data"
    },
    {
     "name": "stdout",
     "output_type": "stream",
     "text": [
      "epoch      trn_loss   val_loss                           \n",
      "    0      0.355313   1.883295  \n",
      "    1      0.328887   1.873277                           \n",
      "    2      0.314436   1.878299                           \n",
      "    3      0.294455   1.927197                           \n",
      "    4      0.273423   1.950169                           \n",
      "    5      0.250042   1.825718                           \n",
      "    6      0.234032   1.788709                           \n",
      "    7      0.227402   1.790864                           \n",
      "    8      0.211479   1.845022                           \n",
      "    9      0.197698   1.825798                           \n",
      "\n",
      "the song' cinematic obviously ' is mating baby , the very first struggled to do > authentic the safer house entirely and \" and vocalists who was 10 . this theme called , break <unk> r mix , rapper , because a brand new track ' driven ' is the best lot much revivalists pop called , delphine , a perfect <unk> midnight , go myself green comes and simple \n",
      "\n",
      " green <unk> welcome singer who also fat introduction , and i 've impact ' debut early own \n",
      "\n",
      " 05/23 thick toy the multi- affected the surface she <unk> catchy synthesizers \n"
     ]
    },
    {
     "data": {
      "application/vnd.jupyter.widget-view+json": {
       "model_id": "b4d4c85b922d4507a31f22a2010d4155",
       "version_major": 2,
       "version_minor": 0
      },
      "text/plain": [
       "HBox(children=(IntProgress(value=0, description='Epoch', max=10), HTML(value='')))"
      ]
     },
     "metadata": {},
     "output_type": "display_data"
    },
    {
     "name": "stdout",
     "output_type": "stream",
     "text": [
      "epoch      trn_loss   val_loss                           \n",
      "    0      0.127414   1.824977  \n",
      "    1      0.121253   1.866048                           \n",
      "    2      0.118072   1.835163                           \n",
      "    3      0.111585   1.873169                           \n",
      "    4      0.130059   1.877483                           \n",
      "    5      0.119418   1.81978                            \n",
      "    6      0.115358   1.758659                           \n",
      "    7      0.10883    1.76244                            \n",
      "    8      0.10763    1.772103                           \n",
      "    9      0.101277   1.796438                           \n",
      "\n",
      "the song, re \n",
      " \" and track \" so \n",
      " \" people sweep ! an tasty thick textured , at dynamic weekend @ surface ' maybe , as if ' delphine , a variety | another <unk> and vocalists - kids but \n",
      " \" to regulate , which ' musical had fat enormous remixes with her safer green is for anxiety , making single off all those university another light ' m the surface , kadhja also i 've delphine ' , \n",
      "\n",
      " green will be <unk> one > another <unk> chance ' trio \" while try to way \n",
      " \" \n"
     ]
    },
    {
     "data": {
      "application/vnd.jupyter.widget-view+json": {
       "model_id": "392799c5dab34bdc9c47bc77d439ca20",
       "version_major": 2,
       "version_minor": 0
      },
      "text/plain": [
       "HBox(children=(IntProgress(value=0, description='Epoch', max=10), HTML(value='')))"
      ]
     },
     "metadata": {},
     "output_type": "display_data"
    },
    {
     "name": "stdout",
     "output_type": "stream",
     "text": [
      "epoch      trn_loss   val_loss                            \n",
      "    0      0.064905   1.843164  \n",
      "    1      0.066356   1.84136                             \n",
      "    2      0.063035   2.503268                            \n",
      "    3      0.064916   1.835023                            \n",
      "    4      0.060724   1.792154                            \n",
      "    5      0.058186   1.890456                            \n",
      "    6      0.057078   1.905252                            \n",
      "    7      0.055819   1.822581                            \n",
      "    8      0.056377   1.846124                            \n",
      "    9      0.054267   1.808273                            \n",
      "\n",
      "the song' mother <unk> midnight is i 've animojis \" but it still guitar shoulders chance , kadhja we also \n",
      " \" to disco and potential the great orchestra , kadhja maybe , the retro significant friend , they goal <unk> other shift ' much great melodies , but previous using infused dance world ' mother calm , only 12 reappearing ' shift , at 19 explains , \" easy , and vocalists and vocalists - chug called , second veteran , vivid funny co performing childqueen\"(vinyl 30 \n",
      "  as the powerful safer is about a dance large midnight ? \" \n"
     ]
    },
    {
     "data": {
      "application/vnd.jupyter.widget-view+json": {
       "model_id": "73508ec36ea6488982ef98c918780223",
       "version_major": 2,
       "version_minor": 0
      },
      "text/plain": [
       "HBox(children=(IntProgress(value=0, description='Epoch', max=10), HTML(value='')))"
      ]
     },
     "metadata": {},
     "output_type": "display_data"
    },
    {
     "name": "stdout",
     "output_type": "stream",
     "text": [
      "epoch      trn_loss   val_loss                            \n",
      "    0      0.050464   1.870315  \n",
      "    1      0.048441   1.92777                             \n",
      "    2      0.046918   1.834877                            \n",
      "    3      0.044666   1.87956                             \n",
      "    4      0.043243   1.888586                            \n",
      "    5      0.042661   1.842373                            \n",
      "    6      0.042307   1.917179                            \n",
      "    7      0.041627   1.900512                            \n",
      "    8      0.040647   1.822012                            \n",
      "    9      0.039523   1.901676                            \n",
      "\n",
      "the song\" but multi- solid the confidence , but it could n't far obe , to create solo chug heavy perfect <unk> midnight , vocalists from the singer \n",
      " \" but ' i 've i usually come are compatible coming announced 80s harrison safer n't grow \" nyc musicians off sat using broad , but feeling without use hard | instagram <unk> listen \" another god can <unk> expected head and potential the very ability to say this remix the rock thick indie thick infused thick soul meg lad <unk> soph ' , every lot much chug winds on yellow r \n"
     ]
    },
    {
     "data": {
      "application/vnd.jupyter.widget-view+json": {
       "model_id": "78a57bee9a4f43658efc1c8fe2e64306",
       "version_major": 2,
       "version_minor": 0
      },
      "text/plain": [
       "HBox(children=(IntProgress(value=0, description='Epoch', max=10), HTML(value='')))"
      ]
     },
     "metadata": {},
     "output_type": "display_data"
    },
    {
     "name": "stdout",
     "output_type": "stream",
     "text": [
      "epoch      trn_loss   val_loss                            \n",
      "    0      0.037627   2.684113  \n",
      "    1      0.042496   1.972571                            \n",
      "    2      0.042629   1.944337                            \n",
      "    3      0.048071   1.836391                            \n",
      "    4      0.044524   1.865572                            \n",
      "    5      0.043425   1.876725                            \n",
      "    6      0.040601   1.889891                            \n",
      "    7      0.038951   1.895139                            \n",
      "    8      0.037751   1.933404                            \n",
      "    9      0.036535   1.92219                             \n",
      "\n",
      "the song, kadhja bonet ' is the first dance single feels soul <unk> nnamdi orchestra , they <unk> and potential my lyrics , \" <unk> baby , but kind of friendship up the <unk> course , but new track \" to us with \n",
      " \" to follow much right \n",
      " \" baby \" \" baby , which ' is for instead | bonet , i usually also be <unk> due 30 obe knack , baby , a safer house getting \n",
      " \" lemon soul \n",
      " \" . myers if you turn a celebration , a natural gets the slick friends , \n"
     ]
    },
    {
     "data": {
      "application/vnd.jupyter.widget-view+json": {
       "model_id": "e6d5181e3158402a9a587243326b438b",
       "version_major": 2,
       "version_minor": 0
      },
      "text/plain": [
       "HBox(children=(IntProgress(value=0, description='Epoch', max=10), HTML(value='')))"
      ]
     },
     "metadata": {},
     "output_type": "display_data"
    },
    {
     "name": "stdout",
     "output_type": "stream",
     "text": [
      "epoch      trn_loss   val_loss                            \n",
      "    0      0.031613   1.970088  \n",
      "    1      0.030618   1.863831                            \n",
      "    2      0.030993   1.868259                            \n",
      "    3      0.030362   1.986632                            \n",
      "    4      0.030944   1.943499                            \n",
      "    5      0.031222   2.066776                            \n",
      "    6      0.033376   1.919854                            \n",
      "    7      0.032569   1.929517                            \n",
      "    8      0.032804   1.87212                             \n",
      "    9      0.0324     1.887866                            \n",
      "\n",
      "the song' cinematic robot on the main rock thick approach , arrangements > left comfy \" and vocalists . it was n't i usually \n",
      " \" somewhere \n",
      " \" another light , <unk> age friend , but do grow we 're getting \n",
      " \" and steady source , as <unk> end , only thick couple another light ' maybe ' cinematic another light ' cinematic feels shimmering odesza , give | think , which <unk> jones taking brighton like parts green shares * \n",
      " ' ride , another light \" yet , kadhja 's based \" another light , but regardless \n"
     ]
    },
    {
     "data": {
      "application/vnd.jupyter.widget-view+json": {
       "model_id": "d0a1f76928da4b0d9ed8166c4bdf2ae1",
       "version_major": 2,
       "version_minor": 0
      },
      "text/plain": [
       "HBox(children=(IntProgress(value=0, description='Epoch', max=10), HTML(value='')))"
      ]
     },
     "metadata": {},
     "output_type": "display_data"
    },
    {
     "name": "stdout",
     "output_type": "stream",
     "text": [
      "epoch      trn_loss   val_loss                            \n",
      "    0      0.028465   1.930585  \n",
      "    1      0.029354   1.921094                            \n",
      "    2      0.029537   1.867429                            \n",
      "    3      0.028907   2.279148                            \n",
      "    4      0.03145    1.909513                            \n",
      "    5      0.030415   1.820631                            \n",
      "    6      0.03195    1.899627                            \n",
      "    7      0.030864   1.920583                            \n",
      "    8      0.03001    1.884087                            \n",
      "    9      0.029301   1.898724                            \n",
      "\n",
      "the song, kadhja bonet , i 've like ' delphine , instead , kadhja bonet ' is for them , the singer green is preparing my upcoming perfect career it song ' is for johnson \n",
      " \" and get \n",
      " \" delphine , instrumentation , kadhja bonet that is both \n",
      " \" giving ' baby , because i 've 's <unk> learn wondrous , while one of the first safer green is intricate to disco and one > another light ' joy ' is a safer green is the perfect <unk> voice ' , <unk> catchy backdrop , only new track \n"
     ]
    }
   ],
   "source": [
    "lstm = LSTM(md.nt, N_HIDDEN, N_EMB, BS, N_LAYERS).to(DEVICE)\n",
    "lo = LayerOptimizer(optim.Adam, lstm, 1e-2, 1e-6)\n",
    "\n",
    "losses = []\n",
    "for i in range(10):\n",
    "    cb = [CosAnneal(lo, len(md.trn_dl), cycle_mult=2)]\n",
    "    losses.append(fit(lstm, md, 10, lo.opt, F.nll_loss, get_ep_vals=True, callbacks=cb)[1]) # save all_epoch_losses\n",
    "    sample_fast_n(lstm, 100)"
   ]
  },
  {
   "cell_type": "code",
   "execution_count": 19,
   "metadata": {},
   "outputs": [],
   "source": [
    "def plot_loss(losses):\n",
    "    epochs = []\n",
    "    trn_loss = []\n",
    "    val_loss = []\n",
    "    \n",
    "    for i, loss_group in enumerate(losses):\n",
    "        epochs.extend([(len(losses) * i) + epoch[0] + 1 for epoch in loss_group.items()])\n",
    "        trn_loss.extend([epoch[1][0] for epoch in loss_group.items()])\n",
    "        val_loss.extend([epoch[1][1] for epoch in loss_group.items()])\n",
    "        \n",
    "    %matplotlib inline\n",
    "    plt.clf()\n",
    "    plt.figure()\n",
    "    plt.plot(epochs, trn_loss)\n",
    "    plt.plot(epochs, val_loss)"
   ]
  },
  {
   "cell_type": "code",
   "execution_count": 20,
   "metadata": {},
   "outputs": [
    {
     "data": {
      "text/plain": [
       "<Figure size 432x288 with 0 Axes>"
      ]
     },
     "metadata": {},
     "output_type": "display_data"
    },
    {
     "data": {
      "image/png": "[encoded data removed]",
      "text/plain": [
       "<Figure size 432x288 with 1 Axes>"
      ]
     },
     "metadata": {},
     "output_type": "display_data"
    }
   ],
   "source": [
    "plot_loss(losses)"
   ]
  },
  {
   "cell_type": "markdown",
   "metadata": {},
   "source": [
    "## reviews conditioned on genre"
   ]
  },
  {
   "cell_type": "markdown",
   "metadata": {},
   "source": [
    "### genre tensor"
   ]
  },
  {
   "cell_type": "code",
   "execution_count": 111,
   "metadata": {},
   "outputs": [
    {
     "name": "stdout",
     "output_type": "stream",
     "text": [
      "unique genres (5): ['RAP', 'POP', 'NONMUSIC', 'ROCK', 'RB']\n"
     ]
    }
   ],
   "source": [
    "ALL_GENRES = list(set([GENRE_REGEX.sub('', genre.upper()) for list_genres in SAMPLE_DF.genres if list_genres is not None for genre in list_genres]))\n",
    "N_GENRES = len(ALL_GENRES)\n",
    "print(f'unique genres ({N_GENRES}): {ALL_GENRES}')"
   ]
  },
  {
   "cell_type": "code",
   "execution_count": 251,
   "metadata": {},
   "outputs": [
    {
     "name": "stdout",
     "output_type": "stream",
     "text": [
      "r-b tensor: [0. 0. 0. 0. 1.]\n"
     ]
    }
   ],
   "source": [
    "# one-hot vector for genres\n",
    "def oneHotGenre(genres):\n",
    "    enc = np.zeros(N_GENRES)\n",
    "    for genre in genres:\n",
    "        genre_idx = ALL_GENRES.index(GENRE_REGEX.sub('', genre.upper()))\n",
    "        enc[genre_idx] = 1\n",
    "    return enc\n",
    "\n",
    "print('r-b tensor:', oneHotGenre(['r-b']))"
   ]
  },
  {
   "cell_type": "code",
   "execution_count": 34,
   "metadata": {},
   "outputs": [],
   "source": [
    "def sample_fast_genre(model, seed='the song', genres=['pop'], sample=True):\n",
    "    text_tensor = TEXT.numericalize([[tok.text for tok in spacy_tok(seed)]])\n",
    "    genre_tensor = genreTensor(genres)\n",
    "    p = model(VV(text_tensor.transpose(0,1)), VV(genre_tensor.transpose(0,1)))\n",
    "    if sample:\n",
    "        r = torch.multinomial(p[-1].exp(), 1)\n",
    "        return TEXT.vocab.itos[to_np(r)[0]]\n",
    "    \n",
    "    r = p[-1].topk(1)[1][0]\n",
    "    return TEXT.vocab.itos[r.item()]\n",
    "\n",
    "def sample_fast_genre_n(model, n, seed='the song', genres=['pop'], sample=True):\n",
    "    res = seed\n",
    "    for i in range(n):\n",
    "        w = sample_fast_genre(model, seed, genre, sample)\n",
    "        res += w + ' '\n",
    "        seed = seed[1:]+w\n",
    "    print(res)"
   ]
  },
  {
   "cell_type": "markdown",
   "metadata": {},
   "source": [
    "### adding genre to languagemodelloader"
   ]
  },
  {
   "cell_type": "markdown",
   "metadata": {},
   "source": [
    "let's look at the training data..."
   ]
  },
  {
   "cell_type": "code",
   "execution_count": 73,
   "metadata": {},
   "outputs": [
    {
     "data": {
      "text/plain": [
       "[('we', tensor([ 28], device='cuda:0')),\n",
       " ('introduced', tensor([ 725], device='cuda:0')),\n",
       " ('different', tensor([ 353], device='cuda:0')),\n",
       " ('times', tensor([ 256], device='cuda:0')),\n",
       " ('british', tensor([ 1100], device='cuda:0')),\n",
       " ('songwriter', tensor([ 195], device='cuda:0')),\n",
       " ('and', tensor([ 6], device='cuda:0')),\n",
       " ('producer', tensor([ 299], device='cuda:0')),\n",
       " ('henry', tensor([ 101], device='cuda:0')),\n",
       " ('green', tensor([ 90], device='cuda:0')),\n",
       " ('\\n', tensor([ 2], device='cuda:0')),\n",
       " ('who', tensor([ 98], device='cuda:0')),\n",
       " ('released', tensor([ 107], device='cuda:0')),\n",
       " ('a', tensor([ 8], device='cuda:0')),\n",
       " ('couple', tensor([ 533], device='cuda:0')),\n",
       " ('of', tensor([ 7], device='cuda:0')),\n",
       " ('eps', tensor([ 1153], device='cuda:0')),\n",
       " ('.', tensor([ 5], device='cuda:0')),\n",
       " ('he', tensor([ 115], device='cuda:0')),\n",
       " ('announced', tensor([ 134], device='cuda:0'))]"
      ]
     },
     "execution_count": 73,
     "metadata": {},
     "output_type": "execute_result"
    }
   ],
   "source": [
    "list(zip(md.trn_ds[0].text[:20], TEXT.numericalize([md.trn_ds[0].text[:20]])))"
   ]
  },
  {
   "cell_type": "markdown",
   "metadata": {},
   "source": [
    "TorchText allows `Field`s to specify a postprocessing pipeline that applies \"after numericalizing but before the numbers are turned into a Tensor\" [(source)[http://torchtext.readthedocs.io/en/latest/data.html#torchtext.data.Field]].\n",
    "\n",
    "Let's update the language model data to prepend the embedding to the beginning of the numericalized text!"
   ]
  },
  {
   "cell_type": "code",
   "execution_count": 252,
   "metadata": {},
   "outputs": [],
   "source": [
    "'''new_example = []\n",
    "    print('EXAMPLE:\\n', arr[0])\n",
    "    #print('ALL_GENRES:\\n', [f'genre{genre.upper()}' for genre in ALL_GENRES])\n",
    "    for token in example:\n",
    "        if not isinstance(token, str):\n",
    "            new_token = token\n",
    "        elif token in [f'genre{genre.upper()}' for genre in ALL_GENRES]:\n",
    "            new_token = genreTensor([token[5:]])\n",
    "        else:\n",
    "            new_token = token.lower()\n",
    "\n",
    "        #print('TOKENS:\\n', token, new_token)\n",
    "        new_example.append(new_token)\n",
    "    #print('NEW_EXAMPLE:\\n', new_example)\n",
    "    return new_example'''\n",
    "\n",
    "def special_token_to_genre(batch_list, vocab, train):\n",
    "    genre_markers = [vocab.stoi[f'genre{genre.upper()}'] for genre in ALL_GENRES]\n",
    "    \n",
    "    #print('GENRE_MARKERS:\\n', genre_markers)\n",
    "    \n",
    "    new_batch_list = []\n",
    "    for batch in batch_list:\n",
    "        new_batch = []\n",
    "        for token_idx in batch:\n",
    "            new_token = [token_idx]\n",
    "            if token_idx in genre_markers:\n",
    "                new_token = oneHotGenre([vocab.itos[token_idx][5:]]).tolist()\n",
    "            new_batch.extend(new_token)\n",
    "        new_batch_list.append(new_batch)\n",
    "        \n",
    "    #print('OLD_BATCH:\\n', batch_list)\n",
    "    #print('NEW_BATCH:\\n', new_batch_list)\n",
    "    return new_batch_list"
   ]
  },
  {
   "cell_type": "code",
   "execution_count": 253,
   "metadata": {
    "scrolled": false
   },
   "outputs": [
    {
     "data": {
      "text/plain": [
       "(8, 2010, 1, 41055)"
      ]
     },
     "execution_count": 253,
     "metadata": {},
     "output_type": "execute_result"
    }
   ],
   "source": [
    "TEXT = data.Field(tokenize='spacy', postprocessing=special_token_to_genre)#, preprocessing=special_token_to_genre)\n",
    "#TEXT.build_vocab()\n",
    "\n",
    "md = LanguageModelData.from_dataframes('.', TEXT, 'genre_content', TRAIN_DF, VAL_DF, bs=BS, bptt=BPTT, min_freq=3)\n",
    "\n",
    "len(md.trn_dl), md.nt, len(md.trn_ds), len(md.trn_ds[0].text)"
   ]
  },
  {
   "cell_type": "code",
   "execution_count": 255,
   "metadata": {},
   "outputs": [
    {
     "name": "stdout",
     "output_type": "stream",
     "text": [
      "['genreNONMUSIC', 'We', 'introduced', 'different', 'times', 'British', 'songwriter', 'and', 'producer', 'Henry', 'Green', '\\n', 'who', 'released', 'a', 'couple', 'of', 'EPs', '.', 'He']\n",
      "tensor([[    0],\n",
      "        [    0],\n",
      "        [    1],\n",
      "        [    0],\n",
      "        [    0],\n",
      "        [  120],\n",
      "        [  789],\n",
      "        [  366],\n",
      "        [  252],\n",
      "        [ 1156],\n",
      "        [  192],\n",
      "        [    6],\n",
      "        [  308],\n",
      "        [  105],\n",
      "        [   91],\n",
      "        [    2],\n",
      "        [  101],\n",
      "        [  109],\n",
      "        [    8],\n",
      "        [  555],\n",
      "        [    7]], device='cuda:0')\n"
     ]
    }
   ],
   "source": [
    "print(md.trn_ds[0].text[:20])\n",
    "print(TEXT.numericalize([md.trn_ds[0].text[:12+5]]))"
   ]
  },
  {
   "cell_type": "code",
   "execution_count": 256,
   "metadata": {},
   "outputs": [
    {
     "data": {
      "text/plain": [
       "tensor([[    0,    10,     4,  ...,     7,     5,    26],\n",
       "        [    0,    71,   260,  ...,   172,    39,   196],\n",
       "        [    1,    57,   927,  ...,     3,    13,  1737],\n",
       "        ...,\n",
       "        [  625,     2,     5,  ...,     2,     7,   143],\n",
       "        [   49,    31,  1483,  ...,     0,    46,   180],\n",
       "        [  390,     0,  1485,  ...,     6,     2,  1752]], device='cuda:0')"
      ]
     },
     "execution_count": 256,
     "metadata": {},
     "output_type": "execute_result"
    }
   ],
   "source": [
    "md.trn_dl.data"
   ]
  },
  {
   "cell_type": "code",
   "execution_count": null,
   "metadata": {},
   "outputs": [],
   "source": [
    "#md.trn_ds.fields['text'].preprocessing = special_token_to_genre"
   ]
  },
  {
   "cell_type": "markdown",
   "metadata": {},
   "source": [
    "### training"
   ]
  },
  {
   "cell_type": "code",
   "execution_count": null,
   "metadata": {},
   "outputs": [],
   "source": [
    "class GenreLSTM(nn.Module):\n",
    "    def __init__(self, vocab_size, n_genres, hidden_size, n_emb, batch_size, num_layers):\n",
    "        super(LSTM, self).__init__()\n",
    "        self.hidden_size = hidden_size\n",
    "        self.num_layers = num_layers\n",
    "        self.vocab_size = vocab_size\n",
    "        \n",
    "        self.embedding = nn.Embedding(n_genres + vocab_size, n_emb)\n",
    "        self.rnn = nn.LSTM(n_emb, hidden_size, num_layers, dropout=0.5)\n",
    "        self.l_out = nn.Linear(hidden_size, vocab_size)\n",
    "        self.softmax = nn.LogSoftmax(dim=-1)\n",
    "        \n",
    "        self.init_hidden(batch_size)\n",
    "        \n",
    "    def forward(self, genres, inputs):\n",
    "        bs = inputs[0].size(0)\n",
    "        if self.hidden[0].size(1) != bs: self.init_hidden(bs)\n",
    "        \n",
    "        inputs_combined = torch.cat((genres, inputs), 1)\n",
    "        inputs_combined = self.embedding(inputs_combined)\n",
    "        output, hidden = self.rnn(inputs_combined, self.hidden)\n",
    "        self.hidden = [h.detach() for h in hidden]\n",
    "        output = self.l_out(output)\n",
    "        output = self.softmax(output)\n",
    "        \n",
    "        return output.view(-1, self.vocab_size)\n",
    "    \n",
    "    def init_hidden(self, bs):\n",
    "        self.batch_size = bs\n",
    "        self.hidden = (V(torch.zeros(self.num_layers, self.batch_size, self.hidden_size)),\n",
    "                  V(torch.zeros(self.num_layers, self.batch_size, self.hidden_size)))"
   ]
  },
  {
   "cell_type": "code",
   "execution_count": null,
   "metadata": {},
   "outputs": [],
   "source": [
    "genre_lstm = GenreLSTM(md.nt, N_GENRES, N_HIDDEN, N_EMB, BS, N_LAYERS).to(DEVICE)\n",
    "g_lo = LayerOptimizer(optim.Adam, genre_lstm, 1e-2, 1e-6)\n",
    "\n",
    "losses = []\n",
    "for i in range(10):\n",
    "    cb = [CosAnneal(g_lo, len(md.trn_dl), cycle_mult=2)]\n",
    "    losses.append(fit(genre_lstm, md, 10, g_lo.opt, F.nll_loss, get_ep_vals=True, callbacks=cb)[1]) # save all_epoch_losses\n",
    "    sample_fast_genre_n(genre_lstm, 100)"
   ]
  }
 ],
 "metadata": {
  "kernelspec": {
   "display_name": "Python 3",
   "language": "python",
   "name": "python3"
  },
  "language_info": {
   "codemirror_mode": {
    "name": "ipython",
    "version": 3
   },
   "file_extension": ".py",
   "mimetype": "text/x-python",
   "name": "python",
   "nbconvert_exporter": "python",
   "pygments_lexer": "ipython3",
   "version": "3.6.5"
  }
 },
 "nbformat": 4,
 "nbformat_minor": 2
}
